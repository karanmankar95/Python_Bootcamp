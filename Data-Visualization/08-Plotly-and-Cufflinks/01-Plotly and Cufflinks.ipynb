{
 "cells": [
  {
   "cell_type": "markdown",
   "metadata": {},
   "source": [
    "___\n",
    "\n",
    "<a href='http://www.pieriandata.com'> <img src='../Pierian_Data_Logo.png' /></a>\n",
    "___\n",
    "# Plotly and Cufflinks"
   ]
  },
  {
   "cell_type": "markdown",
   "metadata": {},
   "source": [
    "Plotly is a library that allows you to create interactive plots that you can use in dashboards or websites (you can save them as html files or static images).\n",
    "\n",
    "## Installation\n",
    "\n",
    "In order for this all to work, you'll need to install plotly and cufflinks to call plots directly off of a pandas dataframe. These libraries are not currently available through **conda** but are available through **pip**. Install the libraries at your command line/terminal using:\n",
    "\n",
    "    pip install plotly\n",
    "    pip install cufflinks\n",
    "\n",
    "** NOTE: Make sure you only have one installation of Python on your computer when you do this, otherwise the installation may not work. **\n",
    "\n",
    "## Imports and Set-up"
   ]
  },
  {
   "cell_type": "code",
   "execution_count": 1,
   "metadata": {},
   "outputs": [],
   "source": [
    "import pandas as pd\n",
    "import numpy as np\n",
    "%matplotlib inline"
   ]
  },
  {
   "cell_type": "code",
   "execution_count": 3,
   "metadata": {},
   "outputs": [
    {
     "name": "stdout",
     "output_type": "stream",
     "text": [
      "4.12.0\n"
     ]
    }
   ],
   "source": [
    "from plotly import __version__\n",
    "from plotly.offline import download_plotlyjs, init_notebook_mode, plot, iplot\n",
    "\n",
    "print(__version__) # requires version >= 1.9.0"
   ]
  },
  {
   "cell_type": "code",
   "execution_count": 4,
   "metadata": {},
   "outputs": [],
   "source": [
    "import cufflinks as cf"
   ]
  },
  {
   "cell_type": "code",
   "execution_count": 5,
   "metadata": {},
   "outputs": [
    {
     "data": {
      "text/html": [
       "        <script type=\"text/javascript\">\n",
       "        window.PlotlyConfig = {MathJaxConfig: 'local'};\n",
       "        if (window.MathJax) {MathJax.Hub.Config({SVG: {font: \"STIX-Web\"}});}\n",
       "        if (typeof require !== 'undefined') {\n",
       "        require.undef(\"plotly\");\n",
       "        requirejs.config({\n",
       "            paths: {\n",
       "                'plotly': ['https://cdn.plot.ly/plotly-latest.min']\n",
       "            }\n",
       "        });\n",
       "        require(['plotly'], function(Plotly) {\n",
       "            window._Plotly = Plotly;\n",
       "        });\n",
       "        }\n",
       "        </script>\n",
       "        "
      ]
     },
     "metadata": {},
     "output_type": "display_data"
    }
   ],
   "source": [
    "# For Notebooks\n",
    "init_notebook_mode(connected=True)"
   ]
  },
  {
   "cell_type": "code",
   "execution_count": 6,
   "metadata": {},
   "outputs": [
    {
     "data": {
      "text/html": [
       "        <script type=\"text/javascript\">\n",
       "        window.PlotlyConfig = {MathJaxConfig: 'local'};\n",
       "        if (window.MathJax) {MathJax.Hub.Config({SVG: {font: \"STIX-Web\"}});}\n",
       "        if (typeof require !== 'undefined') {\n",
       "        require.undef(\"plotly\");\n",
       "        requirejs.config({\n",
       "            paths: {\n",
       "                'plotly': ['https://cdn.plot.ly/plotly-latest.min']\n",
       "            }\n",
       "        });\n",
       "        require(['plotly'], function(Plotly) {\n",
       "            window._Plotly = Plotly;\n",
       "        });\n",
       "        }\n",
       "        </script>\n",
       "        "
      ]
     },
     "metadata": {},
     "output_type": "display_data"
    }
   ],
   "source": [
    "# For offline use\n",
    "cf.go_offline()"
   ]
  },
  {
   "cell_type": "markdown",
   "metadata": {},
   "source": [
    "### Fake Data"
   ]
  },
  {
   "cell_type": "code",
   "execution_count": 7,
   "metadata": {},
   "outputs": [],
   "source": [
    "df = pd.DataFrame(np.random.randn(100,4),columns='A B C D'.split())"
   ]
  },
  {
   "cell_type": "code",
   "execution_count": 8,
   "metadata": {},
   "outputs": [
    {
     "data": {
      "text/html": [
       "<div>\n",
       "<style scoped>\n",
       "    .dataframe tbody tr th:only-of-type {\n",
       "        vertical-align: middle;\n",
       "    }\n",
       "\n",
       "    .dataframe tbody tr th {\n",
       "        vertical-align: top;\n",
       "    }\n",
       "\n",
       "    .dataframe thead th {\n",
       "        text-align: right;\n",
       "    }\n",
       "</style>\n",
       "<table border=\"1\" class=\"dataframe\">\n",
       "  <thead>\n",
       "    <tr style=\"text-align: right;\">\n",
       "      <th></th>\n",
       "      <th>A</th>\n",
       "      <th>B</th>\n",
       "      <th>C</th>\n",
       "      <th>D</th>\n",
       "    </tr>\n",
       "  </thead>\n",
       "  <tbody>\n",
       "    <tr>\n",
       "      <td>0</td>\n",
       "      <td>-1.516522</td>\n",
       "      <td>-0.834557</td>\n",
       "      <td>0.737773</td>\n",
       "      <td>-1.780824</td>\n",
       "    </tr>\n",
       "    <tr>\n",
       "      <td>1</td>\n",
       "      <td>1.238529</td>\n",
       "      <td>0.386939</td>\n",
       "      <td>-1.103039</td>\n",
       "      <td>0.460259</td>\n",
       "    </tr>\n",
       "    <tr>\n",
       "      <td>2</td>\n",
       "      <td>0.186754</td>\n",
       "      <td>0.077829</td>\n",
       "      <td>1.475193</td>\n",
       "      <td>-0.770952</td>\n",
       "    </tr>\n",
       "    <tr>\n",
       "      <td>3</td>\n",
       "      <td>-0.494042</td>\n",
       "      <td>1.189912</td>\n",
       "      <td>0.716328</td>\n",
       "      <td>-0.121338</td>\n",
       "    </tr>\n",
       "    <tr>\n",
       "      <td>4</td>\n",
       "      <td>0.963878</td>\n",
       "      <td>2.411823</td>\n",
       "      <td>-0.187935</td>\n",
       "      <td>0.590212</td>\n",
       "    </tr>\n",
       "  </tbody>\n",
       "</table>\n",
       "</div>"
      ],
      "text/plain": [
       "          A         B         C         D\n",
       "0 -1.516522 -0.834557  0.737773 -1.780824\n",
       "1  1.238529  0.386939 -1.103039  0.460259\n",
       "2  0.186754  0.077829  1.475193 -0.770952\n",
       "3 -0.494042  1.189912  0.716328 -0.121338\n",
       "4  0.963878  2.411823 -0.187935  0.590212"
      ]
     },
     "execution_count": 8,
     "metadata": {},
     "output_type": "execute_result"
    }
   ],
   "source": [
    "df.head()"
   ]
  },
  {
   "cell_type": "code",
   "execution_count": 9,
   "metadata": {},
   "outputs": [],
   "source": [
    "df2 = pd.DataFrame({'Category':['A','B','C'],'Values':[32,43,50]})"
   ]
  },
  {
   "cell_type": "code",
   "execution_count": 10,
   "metadata": {},
   "outputs": [
    {
     "data": {
      "text/html": [
       "<div>\n",
       "<style scoped>\n",
       "    .dataframe tbody tr th:only-of-type {\n",
       "        vertical-align: middle;\n",
       "    }\n",
       "\n",
       "    .dataframe tbody tr th {\n",
       "        vertical-align: top;\n",
       "    }\n",
       "\n",
       "    .dataframe thead th {\n",
       "        text-align: right;\n",
       "    }\n",
       "</style>\n",
       "<table border=\"1\" class=\"dataframe\">\n",
       "  <thead>\n",
       "    <tr style=\"text-align: right;\">\n",
       "      <th></th>\n",
       "      <th>Category</th>\n",
       "      <th>Values</th>\n",
       "    </tr>\n",
       "  </thead>\n",
       "  <tbody>\n",
       "    <tr>\n",
       "      <td>0</td>\n",
       "      <td>A</td>\n",
       "      <td>32</td>\n",
       "    </tr>\n",
       "    <tr>\n",
       "      <td>1</td>\n",
       "      <td>B</td>\n",
       "      <td>43</td>\n",
       "    </tr>\n",
       "    <tr>\n",
       "      <td>2</td>\n",
       "      <td>C</td>\n",
       "      <td>50</td>\n",
       "    </tr>\n",
       "  </tbody>\n",
       "</table>\n",
       "</div>"
      ],
      "text/plain": [
       "  Category  Values\n",
       "0        A      32\n",
       "1        B      43\n",
       "2        C      50"
      ]
     },
     "execution_count": 10,
     "metadata": {},
     "output_type": "execute_result"
    }
   ],
   "source": [
    "df2.head()"
   ]
  },
  {
   "cell_type": "markdown",
   "metadata": {},
   "source": [
    "## Using Cufflinks and iplot()\n",
    "\n",
    "* scatter\n",
    "* bar\n",
    "* box\n",
    "* spread\n",
    "* ratio\n",
    "* heatmap\n",
    "* surface\n",
    "* histogram\n",
    "* bubble"
   ]
  },
  {
   "cell_type": "markdown",
   "metadata": {},
   "source": [
    "## Scatter"
   ]
  },
  {
   "cell_type": "code",
   "execution_count": 11,
   "metadata": {},
   "outputs": [
    {
     "data": {
      "application/vnd.plotly.v1+json": {
       "config": {
        "linkText": "Export to plot.ly",
        "plotlyServerURL": "https://plot.ly",
        "showLink": true
       },
       "data": [
        {
         "line": {
          "color": "rgba(255, 153, 51, 1.0)",
          "dash": "solid",
          "shape": "linear",
          "width": 1.3
         },
         "marker": {
          "size": 10,
          "symbol": "circle"
         },
         "mode": "markers",
         "name": "B",
         "text": "",
         "type": "scatter",
         "x": [
          -1.5165215335635371,
          1.2385294899836377,
          0.18675435261297058,
          -0.49404178733345255,
          0.9638783524597756,
          -1.1032901032155455,
          0.8489612205492174,
          0.9903890863731017,
          -1.3703522449279018,
          -0.5776566150555577,
          -0.31321057904966493,
          -1.62657976260777,
          -1.006701588728278,
          1.1360103276196873,
          0.6096235839787069,
          -1.3807990089203603,
          -0.36237146775748713,
          -0.5950154460828271,
          1.3888123369070282,
          -1.3629622910143322,
          -1.1038735970945992,
          1.337348295283731,
          1.1667957765059276,
          -1.2086935425656429,
          0.24972766483940562,
          0.29999954775204385,
          1.0667440982430194,
          -0.1741452761097413,
          0.29560646351069414,
          1.2851980496441235,
          -1.5822045088416392,
          0.2332157433742438,
          -0.8216180482229304,
          0.36846289942020066,
          1.6914889255493009,
          0.05294197198387387,
          1.6522250061531598,
          0.3806122062538394,
          0.2281787015714965,
          0.13943357370996548,
          0.7737513704163842,
          1.2632113994240495,
          -2.0723185151193118,
          0.3148357541550536,
          0.9775459023887758,
          0.4890519952231019,
          0.019788575261866545,
          0.5255271325555345,
          1.6814084764377233,
          0.5767167314074976,
          0.20677363770809085,
          0.1860110033699774,
          0.21407497739434397,
          0.7365607951031639,
          -0.7857728014462609,
          0.009524836979279003,
          0.38612916910565903,
          0.1502359587507458,
          0.9892286676253292,
          0.39444327636869897,
          1.120472350623712,
          2.572635263308814,
          0.16353567449977097,
          -0.3413603098431363,
          0.11982063910290328,
          -1.3444523091154967,
          -1.0451078274259888,
          0.7804874333757548,
          -0.10032354166879094,
          1.7827722897587395,
          -1.0946905294595737,
          -0.2510276890016824,
          0.9673217921938824,
          -1.0165640371463203,
          0.0690990527382664,
          -0.8510879315244121,
          0.43904889330463176,
          -1.337878368147962,
          0.09750269879021287,
          1.1447728728037032,
          -0.39997693269254425,
          0.5229998031018618,
          -0.4292225098792032,
          0.9378316216532356,
          -0.7677501218695141,
          1.9137196189172991,
          0.5216008014414507,
          -1.0851954812245894,
          0.5878201563359909,
          0.6262055363577997,
          1.0657701838435691,
          -0.5129968730608664,
          1.2712310563424316,
          1.0526472276252596,
          2.007007712904021,
          -1.2458742116352368,
          -0.3561372960571573,
          -0.09014992621817493,
          0.7230413885756098,
          1.4489088916499433
         ],
         "y": [
          -0.8345574062307446,
          0.3869389335155712,
          0.07782933474576627,
          1.1899116450030662,
          2.4118231293099672,
          -0.7517168932626798,
          0.04236231146362457,
          0.07190511226430284,
          1.6380670778590334,
          2.0602606596455915,
          -2.163922132520172,
          -0.4433154616526229,
          -0.04538211676815623,
          -0.9165373914796289,
          0.22401956064621992,
          0.0003599773765519304,
          -1.563708728474769,
          -1.5376343933124736,
          -0.7870693396201344,
          0.33457351738130175,
          -1.7354039335286253,
          1.7113719623174346,
          -0.8120715211093109,
          0.3253747617458604,
          -0.31843112066991935,
          -1.7196215520469333,
          1.0739113471545714,
          -0.893491898851701,
          -1.6629737232258517,
          -1.0306910440740462,
          0.9726511881554111,
          0.5494664293783664,
          -0.7708942552672302,
          0.192978809265206,
          -0.7348978845939232,
          -1.3345561541206306,
          0.5165025336657605,
          0.31478413024677826,
          0.6355748238320479,
          0.8652446833342713,
          -2.6658532132036394,
          0.2961008150075696,
          -0.9156752032343806,
          -2.350156615366018,
          0.459285791821168,
          -0.30922541782709606,
          -0.1428120757566868,
          -1.2332716277002955,
          -1.3161739795186747,
          1.2495199734510636,
          0.12846392054830044,
          -0.2417375476858517,
          -1.30909234945247,
          -1.2082763653082,
          1.1683596205889433,
          1.910262362641669,
          -0.3319716068998639,
          0.6369101856685699,
          1.2305627181044516,
          0.009236607765067436,
          -1.1610611529835455,
          -0.5951460041814716,
          -0.3859309436973199,
          1.2772343202778578,
          0.45105331684170763,
          0.8913310278045682,
          2.2461724357778765,
          0.8671611404274941,
          -0.9084679347963178,
          -0.42009634182682365,
          -0.18027132005244065,
          0.6850421902521037,
          -1.1601568758024055,
          -0.8886966875641397,
          -0.1593881395933613,
          0.6257031728894613,
          -0.39633640033302586,
          -0.2575710590884075,
          -0.24936745256303702,
          -1.5120328205355116,
          1.1544613291944308,
          0.01973290602766408,
          -0.38296802691344484,
          -0.4313977587137235,
          1.8662596009811432,
          0.04260450444009576,
          -1.4220661594762694,
          -1.685356777380281,
          -1.1270456077765143,
          -0.38721209138365925,
          0.259167116705802,
          -0.22316627067425593,
          1.635084328005414,
          -2.9583463144626703,
          -0.08181424856774482,
          -0.13510674116356763,
          0.47366256715334687,
          1.1763788631291294,
          -1.8896419059732144,
          0.007836036763666107
         ]
        }
       ],
       "layout": {
        "legend": {
         "bgcolor": "#F5F6F9",
         "font": {
          "color": "#4D5663"
         }
        },
        "paper_bgcolor": "#F5F6F9",
        "plot_bgcolor": "#F5F6F9",
        "template": {
         "data": {
          "bar": [
           {
            "error_x": {
             "color": "#2a3f5f"
            },
            "error_y": {
             "color": "#2a3f5f"
            },
            "marker": {
             "line": {
              "color": "#E5ECF6",
              "width": 0.5
             }
            },
            "type": "bar"
           }
          ],
          "barpolar": [
           {
            "marker": {
             "line": {
              "color": "#E5ECF6",
              "width": 0.5
             }
            },
            "type": "barpolar"
           }
          ],
          "carpet": [
           {
            "aaxis": {
             "endlinecolor": "#2a3f5f",
             "gridcolor": "white",
             "linecolor": "white",
             "minorgridcolor": "white",
             "startlinecolor": "#2a3f5f"
            },
            "baxis": {
             "endlinecolor": "#2a3f5f",
             "gridcolor": "white",
             "linecolor": "white",
             "minorgridcolor": "white",
             "startlinecolor": "#2a3f5f"
            },
            "type": "carpet"
           }
          ],
          "choropleth": [
           {
            "colorbar": {
             "outlinewidth": 0,
             "ticks": ""
            },
            "type": "choropleth"
           }
          ],
          "contour": [
           {
            "colorbar": {
             "outlinewidth": 0,
             "ticks": ""
            },
            "colorscale": [
             [
              0,
              "#0d0887"
             ],
             [
              0.1111111111111111,
              "#46039f"
             ],
             [
              0.2222222222222222,
              "#7201a8"
             ],
             [
              0.3333333333333333,
              "#9c179e"
             ],
             [
              0.4444444444444444,
              "#bd3786"
             ],
             [
              0.5555555555555556,
              "#d8576b"
             ],
             [
              0.6666666666666666,
              "#ed7953"
             ],
             [
              0.7777777777777778,
              "#fb9f3a"
             ],
             [
              0.8888888888888888,
              "#fdca26"
             ],
             [
              1,
              "#f0f921"
             ]
            ],
            "type": "contour"
           }
          ],
          "contourcarpet": [
           {
            "colorbar": {
             "outlinewidth": 0,
             "ticks": ""
            },
            "type": "contourcarpet"
           }
          ],
          "heatmap": [
           {
            "colorbar": {
             "outlinewidth": 0,
             "ticks": ""
            },
            "colorscale": [
             [
              0,
              "#0d0887"
             ],
             [
              0.1111111111111111,
              "#46039f"
             ],
             [
              0.2222222222222222,
              "#7201a8"
             ],
             [
              0.3333333333333333,
              "#9c179e"
             ],
             [
              0.4444444444444444,
              "#bd3786"
             ],
             [
              0.5555555555555556,
              "#d8576b"
             ],
             [
              0.6666666666666666,
              "#ed7953"
             ],
             [
              0.7777777777777778,
              "#fb9f3a"
             ],
             [
              0.8888888888888888,
              "#fdca26"
             ],
             [
              1,
              "#f0f921"
             ]
            ],
            "type": "heatmap"
           }
          ],
          "heatmapgl": [
           {
            "colorbar": {
             "outlinewidth": 0,
             "ticks": ""
            },
            "colorscale": [
             [
              0,
              "#0d0887"
             ],
             [
              0.1111111111111111,
              "#46039f"
             ],
             [
              0.2222222222222222,
              "#7201a8"
             ],
             [
              0.3333333333333333,
              "#9c179e"
             ],
             [
              0.4444444444444444,
              "#bd3786"
             ],
             [
              0.5555555555555556,
              "#d8576b"
             ],
             [
              0.6666666666666666,
              "#ed7953"
             ],
             [
              0.7777777777777778,
              "#fb9f3a"
             ],
             [
              0.8888888888888888,
              "#fdca26"
             ],
             [
              1,
              "#f0f921"
             ]
            ],
            "type": "heatmapgl"
           }
          ],
          "histogram": [
           {
            "marker": {
             "colorbar": {
              "outlinewidth": 0,
              "ticks": ""
             }
            },
            "type": "histogram"
           }
          ],
          "histogram2d": [
           {
            "colorbar": {
             "outlinewidth": 0,
             "ticks": ""
            },
            "colorscale": [
             [
              0,
              "#0d0887"
             ],
             [
              0.1111111111111111,
              "#46039f"
             ],
             [
              0.2222222222222222,
              "#7201a8"
             ],
             [
              0.3333333333333333,
              "#9c179e"
             ],
             [
              0.4444444444444444,
              "#bd3786"
             ],
             [
              0.5555555555555556,
              "#d8576b"
             ],
             [
              0.6666666666666666,
              "#ed7953"
             ],
             [
              0.7777777777777778,
              "#fb9f3a"
             ],
             [
              0.8888888888888888,
              "#fdca26"
             ],
             [
              1,
              "#f0f921"
             ]
            ],
            "type": "histogram2d"
           }
          ],
          "histogram2dcontour": [
           {
            "colorbar": {
             "outlinewidth": 0,
             "ticks": ""
            },
            "colorscale": [
             [
              0,
              "#0d0887"
             ],
             [
              0.1111111111111111,
              "#46039f"
             ],
             [
              0.2222222222222222,
              "#7201a8"
             ],
             [
              0.3333333333333333,
              "#9c179e"
             ],
             [
              0.4444444444444444,
              "#bd3786"
             ],
             [
              0.5555555555555556,
              "#d8576b"
             ],
             [
              0.6666666666666666,
              "#ed7953"
             ],
             [
              0.7777777777777778,
              "#fb9f3a"
             ],
             [
              0.8888888888888888,
              "#fdca26"
             ],
             [
              1,
              "#f0f921"
             ]
            ],
            "type": "histogram2dcontour"
           }
          ],
          "mesh3d": [
           {
            "colorbar": {
             "outlinewidth": 0,
             "ticks": ""
            },
            "type": "mesh3d"
           }
          ],
          "parcoords": [
           {
            "line": {
             "colorbar": {
              "outlinewidth": 0,
              "ticks": ""
             }
            },
            "type": "parcoords"
           }
          ],
          "pie": [
           {
            "automargin": true,
            "type": "pie"
           }
          ],
          "scatter": [
           {
            "marker": {
             "colorbar": {
              "outlinewidth": 0,
              "ticks": ""
             }
            },
            "type": "scatter"
           }
          ],
          "scatter3d": [
           {
            "line": {
             "colorbar": {
              "outlinewidth": 0,
              "ticks": ""
             }
            },
            "marker": {
             "colorbar": {
              "outlinewidth": 0,
              "ticks": ""
             }
            },
            "type": "scatter3d"
           }
          ],
          "scattercarpet": [
           {
            "marker": {
             "colorbar": {
              "outlinewidth": 0,
              "ticks": ""
             }
            },
            "type": "scattercarpet"
           }
          ],
          "scattergeo": [
           {
            "marker": {
             "colorbar": {
              "outlinewidth": 0,
              "ticks": ""
             }
            },
            "type": "scattergeo"
           }
          ],
          "scattergl": [
           {
            "marker": {
             "colorbar": {
              "outlinewidth": 0,
              "ticks": ""
             }
            },
            "type": "scattergl"
           }
          ],
          "scattermapbox": [
           {
            "marker": {
             "colorbar": {
              "outlinewidth": 0,
              "ticks": ""
             }
            },
            "type": "scattermapbox"
           }
          ],
          "scatterpolar": [
           {
            "marker": {
             "colorbar": {
              "outlinewidth": 0,
              "ticks": ""
             }
            },
            "type": "scatterpolar"
           }
          ],
          "scatterpolargl": [
           {
            "marker": {
             "colorbar": {
              "outlinewidth": 0,
              "ticks": ""
             }
            },
            "type": "scatterpolargl"
           }
          ],
          "scatterternary": [
           {
            "marker": {
             "colorbar": {
              "outlinewidth": 0,
              "ticks": ""
             }
            },
            "type": "scatterternary"
           }
          ],
          "surface": [
           {
            "colorbar": {
             "outlinewidth": 0,
             "ticks": ""
            },
            "colorscale": [
             [
              0,
              "#0d0887"
             ],
             [
              0.1111111111111111,
              "#46039f"
             ],
             [
              0.2222222222222222,
              "#7201a8"
             ],
             [
              0.3333333333333333,
              "#9c179e"
             ],
             [
              0.4444444444444444,
              "#bd3786"
             ],
             [
              0.5555555555555556,
              "#d8576b"
             ],
             [
              0.6666666666666666,
              "#ed7953"
             ],
             [
              0.7777777777777778,
              "#fb9f3a"
             ],
             [
              0.8888888888888888,
              "#fdca26"
             ],
             [
              1,
              "#f0f921"
             ]
            ],
            "type": "surface"
           }
          ],
          "table": [
           {
            "cells": {
             "fill": {
              "color": "#EBF0F8"
             },
             "line": {
              "color": "white"
             }
            },
            "header": {
             "fill": {
              "color": "#C8D4E3"
             },
             "line": {
              "color": "white"
             }
            },
            "type": "table"
           }
          ]
         },
         "layout": {
          "annotationdefaults": {
           "arrowcolor": "#2a3f5f",
           "arrowhead": 0,
           "arrowwidth": 1
          },
          "coloraxis": {
           "colorbar": {
            "outlinewidth": 0,
            "ticks": ""
           }
          },
          "colorscale": {
           "diverging": [
            [
             0,
             "#8e0152"
            ],
            [
             0.1,
             "#c51b7d"
            ],
            [
             0.2,
             "#de77ae"
            ],
            [
             0.3,
             "#f1b6da"
            ],
            [
             0.4,
             "#fde0ef"
            ],
            [
             0.5,
             "#f7f7f7"
            ],
            [
             0.6,
             "#e6f5d0"
            ],
            [
             0.7,
             "#b8e186"
            ],
            [
             0.8,
             "#7fbc41"
            ],
            [
             0.9,
             "#4d9221"
            ],
            [
             1,
             "#276419"
            ]
           ],
           "sequential": [
            [
             0,
             "#0d0887"
            ],
            [
             0.1111111111111111,
             "#46039f"
            ],
            [
             0.2222222222222222,
             "#7201a8"
            ],
            [
             0.3333333333333333,
             "#9c179e"
            ],
            [
             0.4444444444444444,
             "#bd3786"
            ],
            [
             0.5555555555555556,
             "#d8576b"
            ],
            [
             0.6666666666666666,
             "#ed7953"
            ],
            [
             0.7777777777777778,
             "#fb9f3a"
            ],
            [
             0.8888888888888888,
             "#fdca26"
            ],
            [
             1,
             "#f0f921"
            ]
           ],
           "sequentialminus": [
            [
             0,
             "#0d0887"
            ],
            [
             0.1111111111111111,
             "#46039f"
            ],
            [
             0.2222222222222222,
             "#7201a8"
            ],
            [
             0.3333333333333333,
             "#9c179e"
            ],
            [
             0.4444444444444444,
             "#bd3786"
            ],
            [
             0.5555555555555556,
             "#d8576b"
            ],
            [
             0.6666666666666666,
             "#ed7953"
            ],
            [
             0.7777777777777778,
             "#fb9f3a"
            ],
            [
             0.8888888888888888,
             "#fdca26"
            ],
            [
             1,
             "#f0f921"
            ]
           ]
          },
          "colorway": [
           "#636efa",
           "#EF553B",
           "#00cc96",
           "#ab63fa",
           "#FFA15A",
           "#19d3f3",
           "#FF6692",
           "#B6E880",
           "#FF97FF",
           "#FECB52"
          ],
          "font": {
           "color": "#2a3f5f"
          },
          "geo": {
           "bgcolor": "white",
           "lakecolor": "white",
           "landcolor": "#E5ECF6",
           "showlakes": true,
           "showland": true,
           "subunitcolor": "white"
          },
          "hoverlabel": {
           "align": "left"
          },
          "hovermode": "closest",
          "mapbox": {
           "style": "light"
          },
          "paper_bgcolor": "white",
          "plot_bgcolor": "#E5ECF6",
          "polar": {
           "angularaxis": {
            "gridcolor": "white",
            "linecolor": "white",
            "ticks": ""
           },
           "bgcolor": "#E5ECF6",
           "radialaxis": {
            "gridcolor": "white",
            "linecolor": "white",
            "ticks": ""
           }
          },
          "scene": {
           "xaxis": {
            "backgroundcolor": "#E5ECF6",
            "gridcolor": "white",
            "gridwidth": 2,
            "linecolor": "white",
            "showbackground": true,
            "ticks": "",
            "zerolinecolor": "white"
           },
           "yaxis": {
            "backgroundcolor": "#E5ECF6",
            "gridcolor": "white",
            "gridwidth": 2,
            "linecolor": "white",
            "showbackground": true,
            "ticks": "",
            "zerolinecolor": "white"
           },
           "zaxis": {
            "backgroundcolor": "#E5ECF6",
            "gridcolor": "white",
            "gridwidth": 2,
            "linecolor": "white",
            "showbackground": true,
            "ticks": "",
            "zerolinecolor": "white"
           }
          },
          "shapedefaults": {
           "line": {
            "color": "#2a3f5f"
           }
          },
          "ternary": {
           "aaxis": {
            "gridcolor": "white",
            "linecolor": "white",
            "ticks": ""
           },
           "baxis": {
            "gridcolor": "white",
            "linecolor": "white",
            "ticks": ""
           },
           "bgcolor": "#E5ECF6",
           "caxis": {
            "gridcolor": "white",
            "linecolor": "white",
            "ticks": ""
           }
          },
          "title": {
           "x": 0.05
          },
          "xaxis": {
           "automargin": true,
           "gridcolor": "white",
           "linecolor": "white",
           "ticks": "",
           "title": {
            "standoff": 15
           },
           "zerolinecolor": "white",
           "zerolinewidth": 2
          },
          "yaxis": {
           "automargin": true,
           "gridcolor": "white",
           "linecolor": "white",
           "ticks": "",
           "title": {
            "standoff": 15
           },
           "zerolinecolor": "white",
           "zerolinewidth": 2
          }
         }
        },
        "title": {
         "font": {
          "color": "#4D5663"
         }
        },
        "xaxis": {
         "gridcolor": "#E1E5ED",
         "showgrid": true,
         "tickfont": {
          "color": "#4D5663"
         },
         "title": {
          "font": {
           "color": "#4D5663"
          },
          "text": ""
         },
         "zerolinecolor": "#E1E5ED"
        },
        "yaxis": {
         "gridcolor": "#E1E5ED",
         "showgrid": true,
         "tickfont": {
          "color": "#4D5663"
         },
         "title": {
          "font": {
           "color": "#4D5663"
          },
          "text": ""
         },
         "zerolinecolor": "#E1E5ED"
        }
       }
      },
      "text/html": [
       "<div>                            <div id=\"3c5382dd-708a-4fdd-bf68-ae8a1f508333\" class=\"plotly-graph-div\" style=\"height:525px; width:100%;\"></div>            <script type=\"text/javascript\">                require([\"plotly\"], function(Plotly) {                    window.PLOTLYENV=window.PLOTLYENV || {};\n",
       "                    window.PLOTLYENV.BASE_URL='https://plot.ly';                                    if (document.getElementById(\"3c5382dd-708a-4fdd-bf68-ae8a1f508333\")) {                    Plotly.newPlot(                        \"3c5382dd-708a-4fdd-bf68-ae8a1f508333\",                        [{\"line\": {\"color\": \"rgba(255, 153, 51, 1.0)\", \"dash\": \"solid\", \"shape\": \"linear\", \"width\": 1.3}, \"marker\": {\"size\": 10, \"symbol\": \"circle\"}, \"mode\": \"markers\", \"name\": \"B\", \"text\": \"\", \"type\": \"scatter\", \"x\": [-1.5165215335635371, 1.2385294899836377, 0.18675435261297058, -0.49404178733345255, 0.9638783524597756, -1.1032901032155455, 0.8489612205492174, 0.9903890863731017, -1.3703522449279018, -0.5776566150555577, -0.31321057904966493, -1.62657976260777, -1.006701588728278, 1.1360103276196873, 0.6096235839787069, -1.3807990089203603, -0.36237146775748713, -0.5950154460828271, 1.3888123369070282, -1.3629622910143322, -1.1038735970945992, 1.337348295283731, 1.1667957765059276, -1.2086935425656429, 0.24972766483940562, 0.29999954775204385, 1.0667440982430194, -0.1741452761097413, 0.29560646351069414, 1.2851980496441235, -1.5822045088416392, 0.2332157433742438, -0.8216180482229304, 0.36846289942020066, 1.6914889255493009, 0.05294197198387387, 1.6522250061531598, 0.3806122062538394, 0.2281787015714965, 0.13943357370996548, 0.7737513704163842, 1.2632113994240495, -2.0723185151193118, 0.3148357541550536, 0.9775459023887758, 0.4890519952231019, 0.019788575261866545, 0.5255271325555345, 1.6814084764377233, 0.5767167314074976, 0.20677363770809085, 0.1860110033699774, 0.21407497739434397, 0.7365607951031639, -0.7857728014462609, 0.009524836979279003, 0.38612916910565903, 0.1502359587507458, 0.9892286676253292, 0.39444327636869897, 1.120472350623712, 2.572635263308814, 0.16353567449977097, -0.3413603098431363, 0.11982063910290328, -1.3444523091154967, -1.0451078274259888, 0.7804874333757548, -0.10032354166879094, 1.7827722897587395, -1.0946905294595737, -0.2510276890016824, 0.9673217921938824, -1.0165640371463203, 0.0690990527382664, -0.8510879315244121, 0.43904889330463176, -1.337878368147962, 0.09750269879021287, 1.1447728728037032, -0.39997693269254425, 0.5229998031018618, -0.4292225098792032, 0.9378316216532356, -0.7677501218695141, 1.9137196189172991, 0.5216008014414507, -1.0851954812245894, 0.5878201563359909, 0.6262055363577997, 1.0657701838435691, -0.5129968730608664, 1.2712310563424316, 1.0526472276252596, 2.007007712904021, -1.2458742116352368, -0.3561372960571573, -0.09014992621817493, 0.7230413885756098, 1.4489088916499433], \"y\": [-0.8345574062307446, 0.3869389335155712, 0.07782933474576627, 1.1899116450030662, 2.4118231293099672, -0.7517168932626798, 0.04236231146362457, 0.07190511226430284, 1.6380670778590334, 2.0602606596455915, -2.163922132520172, -0.4433154616526229, -0.04538211676815623, -0.9165373914796289, 0.22401956064621992, 0.0003599773765519304, -1.563708728474769, -1.5376343933124736, -0.7870693396201344, 0.33457351738130175, -1.7354039335286253, 1.7113719623174346, -0.8120715211093109, 0.3253747617458604, -0.31843112066991935, -1.7196215520469333, 1.0739113471545714, -0.893491898851701, -1.6629737232258517, -1.0306910440740462, 0.9726511881554111, 0.5494664293783664, -0.7708942552672302, 0.192978809265206, -0.7348978845939232, -1.3345561541206306, 0.5165025336657605, 0.31478413024677826, 0.6355748238320479, 0.8652446833342713, -2.6658532132036394, 0.2961008150075696, -0.9156752032343806, -2.350156615366018, 0.459285791821168, -0.30922541782709606, -0.1428120757566868, -1.2332716277002955, -1.3161739795186747, 1.2495199734510636, 0.12846392054830044, -0.2417375476858517, -1.30909234945247, -1.2082763653082, 1.1683596205889433, 1.910262362641669, -0.3319716068998639, 0.6369101856685699, 1.2305627181044516, 0.009236607765067436, -1.1610611529835455, -0.5951460041814716, -0.3859309436973199, 1.2772343202778578, 0.45105331684170763, 0.8913310278045682, 2.2461724357778765, 0.8671611404274941, -0.9084679347963178, -0.42009634182682365, -0.18027132005244065, 0.6850421902521037, -1.1601568758024055, -0.8886966875641397, -0.1593881395933613, 0.6257031728894613, -0.39633640033302586, -0.2575710590884075, -0.24936745256303702, -1.5120328205355116, 1.1544613291944308, 0.01973290602766408, -0.38296802691344484, -0.4313977587137235, 1.8662596009811432, 0.04260450444009576, -1.4220661594762694, -1.685356777380281, -1.1270456077765143, -0.38721209138365925, 0.259167116705802, -0.22316627067425593, 1.635084328005414, -2.9583463144626703, -0.08181424856774482, -0.13510674116356763, 0.47366256715334687, 1.1763788631291294, -1.8896419059732144, 0.007836036763666107]}],                        {\"legend\": {\"bgcolor\": \"#F5F6F9\", \"font\": {\"color\": \"#4D5663\"}}, \"paper_bgcolor\": \"#F5F6F9\", \"plot_bgcolor\": \"#F5F6F9\", \"template\": {\"data\": {\"bar\": [{\"error_x\": {\"color\": \"#2a3f5f\"}, \"error_y\": {\"color\": \"#2a3f5f\"}, \"marker\": {\"line\": {\"color\": \"#E5ECF6\", \"width\": 0.5}}, \"type\": \"bar\"}], \"barpolar\": [{\"marker\": {\"line\": {\"color\": \"#E5ECF6\", \"width\": 0.5}}, \"type\": \"barpolar\"}], \"carpet\": [{\"aaxis\": {\"endlinecolor\": \"#2a3f5f\", \"gridcolor\": \"white\", \"linecolor\": \"white\", \"minorgridcolor\": \"white\", \"startlinecolor\": \"#2a3f5f\"}, \"baxis\": {\"endlinecolor\": \"#2a3f5f\", \"gridcolor\": \"white\", \"linecolor\": \"white\", \"minorgridcolor\": \"white\", \"startlinecolor\": \"#2a3f5f\"}, \"type\": \"carpet\"}], \"choropleth\": [{\"colorbar\": {\"outlinewidth\": 0, \"ticks\": \"\"}, \"type\": \"choropleth\"}], \"contour\": [{\"colorbar\": {\"outlinewidth\": 0, \"ticks\": \"\"}, \"colorscale\": [[0.0, \"#0d0887\"], [0.1111111111111111, \"#46039f\"], [0.2222222222222222, \"#7201a8\"], [0.3333333333333333, \"#9c179e\"], [0.4444444444444444, \"#bd3786\"], [0.5555555555555556, \"#d8576b\"], [0.6666666666666666, \"#ed7953\"], [0.7777777777777778, \"#fb9f3a\"], [0.8888888888888888, \"#fdca26\"], [1.0, \"#f0f921\"]], \"type\": \"contour\"}], \"contourcarpet\": [{\"colorbar\": {\"outlinewidth\": 0, \"ticks\": \"\"}, \"type\": \"contourcarpet\"}], \"heatmap\": [{\"colorbar\": {\"outlinewidth\": 0, \"ticks\": \"\"}, \"colorscale\": [[0.0, \"#0d0887\"], [0.1111111111111111, \"#46039f\"], [0.2222222222222222, \"#7201a8\"], [0.3333333333333333, \"#9c179e\"], [0.4444444444444444, \"#bd3786\"], [0.5555555555555556, \"#d8576b\"], [0.6666666666666666, \"#ed7953\"], [0.7777777777777778, \"#fb9f3a\"], [0.8888888888888888, \"#fdca26\"], [1.0, \"#f0f921\"]], \"type\": \"heatmap\"}], \"heatmapgl\": [{\"colorbar\": {\"outlinewidth\": 0, \"ticks\": \"\"}, \"colorscale\": [[0.0, \"#0d0887\"], [0.1111111111111111, \"#46039f\"], [0.2222222222222222, \"#7201a8\"], [0.3333333333333333, \"#9c179e\"], [0.4444444444444444, \"#bd3786\"], [0.5555555555555556, \"#d8576b\"], [0.6666666666666666, \"#ed7953\"], [0.7777777777777778, \"#fb9f3a\"], [0.8888888888888888, \"#fdca26\"], [1.0, \"#f0f921\"]], \"type\": \"heatmapgl\"}], \"histogram\": [{\"marker\": {\"colorbar\": {\"outlinewidth\": 0, \"ticks\": \"\"}}, \"type\": \"histogram\"}], \"histogram2d\": [{\"colorbar\": {\"outlinewidth\": 0, \"ticks\": \"\"}, \"colorscale\": [[0.0, \"#0d0887\"], [0.1111111111111111, \"#46039f\"], [0.2222222222222222, \"#7201a8\"], [0.3333333333333333, \"#9c179e\"], [0.4444444444444444, \"#bd3786\"], [0.5555555555555556, \"#d8576b\"], [0.6666666666666666, \"#ed7953\"], [0.7777777777777778, \"#fb9f3a\"], [0.8888888888888888, \"#fdca26\"], [1.0, \"#f0f921\"]], \"type\": \"histogram2d\"}], \"histogram2dcontour\": [{\"colorbar\": {\"outlinewidth\": 0, \"ticks\": \"\"}, \"colorscale\": [[0.0, \"#0d0887\"], [0.1111111111111111, \"#46039f\"], [0.2222222222222222, \"#7201a8\"], [0.3333333333333333, \"#9c179e\"], [0.4444444444444444, \"#bd3786\"], [0.5555555555555556, \"#d8576b\"], [0.6666666666666666, \"#ed7953\"], [0.7777777777777778, \"#fb9f3a\"], [0.8888888888888888, \"#fdca26\"], [1.0, \"#f0f921\"]], \"type\": \"histogram2dcontour\"}], \"mesh3d\": [{\"colorbar\": {\"outlinewidth\": 0, \"ticks\": \"\"}, \"type\": \"mesh3d\"}], \"parcoords\": [{\"line\": {\"colorbar\": {\"outlinewidth\": 0, \"ticks\": \"\"}}, \"type\": \"parcoords\"}], \"pie\": [{\"automargin\": true, \"type\": \"pie\"}], \"scatter\": [{\"marker\": {\"colorbar\": {\"outlinewidth\": 0, \"ticks\": \"\"}}, \"type\": \"scatter\"}], \"scatter3d\": [{\"line\": {\"colorbar\": {\"outlinewidth\": 0, \"ticks\": \"\"}}, \"marker\": {\"colorbar\": {\"outlinewidth\": 0, \"ticks\": \"\"}}, \"type\": \"scatter3d\"}], \"scattercarpet\": [{\"marker\": {\"colorbar\": {\"outlinewidth\": 0, \"ticks\": \"\"}}, \"type\": \"scattercarpet\"}], \"scattergeo\": [{\"marker\": {\"colorbar\": {\"outlinewidth\": 0, \"ticks\": \"\"}}, \"type\": \"scattergeo\"}], \"scattergl\": [{\"marker\": {\"colorbar\": {\"outlinewidth\": 0, \"ticks\": \"\"}}, \"type\": \"scattergl\"}], \"scattermapbox\": [{\"marker\": {\"colorbar\": {\"outlinewidth\": 0, \"ticks\": \"\"}}, \"type\": \"scattermapbox\"}], \"scatterpolar\": [{\"marker\": {\"colorbar\": {\"outlinewidth\": 0, \"ticks\": \"\"}}, \"type\": \"scatterpolar\"}], \"scatterpolargl\": [{\"marker\": {\"colorbar\": {\"outlinewidth\": 0, \"ticks\": \"\"}}, \"type\": \"scatterpolargl\"}], \"scatterternary\": [{\"marker\": {\"colorbar\": {\"outlinewidth\": 0, \"ticks\": \"\"}}, \"type\": \"scatterternary\"}], \"surface\": [{\"colorbar\": {\"outlinewidth\": 0, \"ticks\": \"\"}, \"colorscale\": [[0.0, \"#0d0887\"], [0.1111111111111111, \"#46039f\"], [0.2222222222222222, \"#7201a8\"], [0.3333333333333333, \"#9c179e\"], [0.4444444444444444, \"#bd3786\"], [0.5555555555555556, \"#d8576b\"], [0.6666666666666666, \"#ed7953\"], [0.7777777777777778, \"#fb9f3a\"], [0.8888888888888888, \"#fdca26\"], [1.0, \"#f0f921\"]], \"type\": \"surface\"}], \"table\": [{\"cells\": {\"fill\": {\"color\": \"#EBF0F8\"}, \"line\": {\"color\": \"white\"}}, \"header\": {\"fill\": {\"color\": \"#C8D4E3\"}, \"line\": {\"color\": \"white\"}}, \"type\": \"table\"}]}, \"layout\": {\"annotationdefaults\": {\"arrowcolor\": \"#2a3f5f\", \"arrowhead\": 0, \"arrowwidth\": 1}, \"coloraxis\": {\"colorbar\": {\"outlinewidth\": 0, \"ticks\": \"\"}}, \"colorscale\": {\"diverging\": [[0, \"#8e0152\"], [0.1, \"#c51b7d\"], [0.2, \"#de77ae\"], [0.3, \"#f1b6da\"], [0.4, \"#fde0ef\"], [0.5, \"#f7f7f7\"], [0.6, \"#e6f5d0\"], [0.7, \"#b8e186\"], [0.8, \"#7fbc41\"], [0.9, \"#4d9221\"], [1, \"#276419\"]], \"sequential\": [[0.0, \"#0d0887\"], [0.1111111111111111, \"#46039f\"], [0.2222222222222222, \"#7201a8\"], [0.3333333333333333, \"#9c179e\"], [0.4444444444444444, \"#bd3786\"], [0.5555555555555556, \"#d8576b\"], [0.6666666666666666, \"#ed7953\"], [0.7777777777777778, \"#fb9f3a\"], [0.8888888888888888, \"#fdca26\"], [1.0, \"#f0f921\"]], \"sequentialminus\": [[0.0, \"#0d0887\"], [0.1111111111111111, \"#46039f\"], [0.2222222222222222, \"#7201a8\"], [0.3333333333333333, \"#9c179e\"], [0.4444444444444444, \"#bd3786\"], [0.5555555555555556, \"#d8576b\"], [0.6666666666666666, \"#ed7953\"], [0.7777777777777778, \"#fb9f3a\"], [0.8888888888888888, \"#fdca26\"], [1.0, \"#f0f921\"]]}, \"colorway\": [\"#636efa\", \"#EF553B\", \"#00cc96\", \"#ab63fa\", \"#FFA15A\", \"#19d3f3\", \"#FF6692\", \"#B6E880\", \"#FF97FF\", \"#FECB52\"], \"font\": {\"color\": \"#2a3f5f\"}, \"geo\": {\"bgcolor\": \"white\", \"lakecolor\": \"white\", \"landcolor\": \"#E5ECF6\", \"showlakes\": true, \"showland\": true, \"subunitcolor\": \"white\"}, \"hoverlabel\": {\"align\": \"left\"}, \"hovermode\": \"closest\", \"mapbox\": {\"style\": \"light\"}, \"paper_bgcolor\": \"white\", \"plot_bgcolor\": \"#E5ECF6\", \"polar\": {\"angularaxis\": {\"gridcolor\": \"white\", \"linecolor\": \"white\", \"ticks\": \"\"}, \"bgcolor\": \"#E5ECF6\", \"radialaxis\": {\"gridcolor\": \"white\", \"linecolor\": \"white\", \"ticks\": \"\"}}, \"scene\": {\"xaxis\": {\"backgroundcolor\": \"#E5ECF6\", \"gridcolor\": \"white\", \"gridwidth\": 2, \"linecolor\": \"white\", \"showbackground\": true, \"ticks\": \"\", \"zerolinecolor\": \"white\"}, \"yaxis\": {\"backgroundcolor\": \"#E5ECF6\", \"gridcolor\": \"white\", \"gridwidth\": 2, \"linecolor\": \"white\", \"showbackground\": true, \"ticks\": \"\", \"zerolinecolor\": \"white\"}, \"zaxis\": {\"backgroundcolor\": \"#E5ECF6\", \"gridcolor\": \"white\", \"gridwidth\": 2, \"linecolor\": \"white\", \"showbackground\": true, \"ticks\": \"\", \"zerolinecolor\": \"white\"}}, \"shapedefaults\": {\"line\": {\"color\": \"#2a3f5f\"}}, \"ternary\": {\"aaxis\": {\"gridcolor\": \"white\", \"linecolor\": \"white\", \"ticks\": \"\"}, \"baxis\": {\"gridcolor\": \"white\", \"linecolor\": \"white\", \"ticks\": \"\"}, \"bgcolor\": \"#E5ECF6\", \"caxis\": {\"gridcolor\": \"white\", \"linecolor\": \"white\", \"ticks\": \"\"}}, \"title\": {\"x\": 0.05}, \"xaxis\": {\"automargin\": true, \"gridcolor\": \"white\", \"linecolor\": \"white\", \"ticks\": \"\", \"title\": {\"standoff\": 15}, \"zerolinecolor\": \"white\", \"zerolinewidth\": 2}, \"yaxis\": {\"automargin\": true, \"gridcolor\": \"white\", \"linecolor\": \"white\", \"ticks\": \"\", \"title\": {\"standoff\": 15}, \"zerolinecolor\": \"white\", \"zerolinewidth\": 2}}}, \"title\": {\"font\": {\"color\": \"#4D5663\"}}, \"xaxis\": {\"gridcolor\": \"#E1E5ED\", \"showgrid\": true, \"tickfont\": {\"color\": \"#4D5663\"}, \"title\": {\"font\": {\"color\": \"#4D5663\"}, \"text\": \"\"}, \"zerolinecolor\": \"#E1E5ED\"}, \"yaxis\": {\"gridcolor\": \"#E1E5ED\", \"showgrid\": true, \"tickfont\": {\"color\": \"#4D5663\"}, \"title\": {\"font\": {\"color\": \"#4D5663\"}, \"text\": \"\"}, \"zerolinecolor\": \"#E1E5ED\"}},                        {\"showLink\": true, \"linkText\": \"Export to plot.ly\", \"plotlyServerURL\": \"https://plot.ly\", \"responsive\": true}                    ).then(function(){\n",
       "                            \n",
       "var gd = document.getElementById('3c5382dd-708a-4fdd-bf68-ae8a1f508333');\n",
       "var x = new MutationObserver(function (mutations, observer) {{\n",
       "        var display = window.getComputedStyle(gd).display;\n",
       "        if (!display || display === 'none') {{\n",
       "            console.log([gd, 'removed!']);\n",
       "            Plotly.purge(gd);\n",
       "            observer.disconnect();\n",
       "        }}\n",
       "}});\n",
       "\n",
       "// Listen for the removal of the full notebook cells\n",
       "var notebookContainer = gd.closest('#notebook-container');\n",
       "if (notebookContainer) {{\n",
       "    x.observe(notebookContainer, {childList: true});\n",
       "}}\n",
       "\n",
       "// Listen for the clearing of the current output cell\n",
       "var outputEl = gd.closest('.output');\n",
       "if (outputEl) {{\n",
       "    x.observe(outputEl, {childList: true});\n",
       "}}\n",
       "\n",
       "                        })                };                });            </script>        </div>"
      ]
     },
     "metadata": {},
     "output_type": "display_data"
    }
   ],
   "source": [
    "df.iplot(kind='scatter',x='A',y='B',mode='markers',size=10)"
   ]
  },
  {
   "cell_type": "markdown",
   "metadata": {},
   "source": [
    "## Bar Plots"
   ]
  },
  {
   "cell_type": "code",
   "execution_count": 12,
   "metadata": {},
   "outputs": [
    {
     "data": {
      "application/vnd.plotly.v1+json": {
       "config": {
        "linkText": "Export to plot.ly",
        "plotlyServerURL": "https://plot.ly",
        "showLink": true
       },
       "data": [
        {
         "marker": {
          "color": "rgba(255, 153, 51, 0.6)",
          "line": {
           "color": "rgba(255, 153, 51, 1.0)",
           "width": 1
          }
         },
         "name": "Values",
         "orientation": "v",
         "text": "",
         "type": "bar",
         "x": [
          "A",
          "B",
          "C"
         ],
         "y": [
          32,
          43,
          50
         ]
        }
       ],
       "layout": {
        "legend": {
         "bgcolor": "#F5F6F9",
         "font": {
          "color": "#4D5663"
         }
        },
        "paper_bgcolor": "#F5F6F9",
        "plot_bgcolor": "#F5F6F9",
        "template": {
         "data": {
          "bar": [
           {
            "error_x": {
             "color": "#2a3f5f"
            },
            "error_y": {
             "color": "#2a3f5f"
            },
            "marker": {
             "line": {
              "color": "#E5ECF6",
              "width": 0.5
             }
            },
            "type": "bar"
           }
          ],
          "barpolar": [
           {
            "marker": {
             "line": {
              "color": "#E5ECF6",
              "width": 0.5
             }
            },
            "type": "barpolar"
           }
          ],
          "carpet": [
           {
            "aaxis": {
             "endlinecolor": "#2a3f5f",
             "gridcolor": "white",
             "linecolor": "white",
             "minorgridcolor": "white",
             "startlinecolor": "#2a3f5f"
            },
            "baxis": {
             "endlinecolor": "#2a3f5f",
             "gridcolor": "white",
             "linecolor": "white",
             "minorgridcolor": "white",
             "startlinecolor": "#2a3f5f"
            },
            "type": "carpet"
           }
          ],
          "choropleth": [
           {
            "colorbar": {
             "outlinewidth": 0,
             "ticks": ""
            },
            "type": "choropleth"
           }
          ],
          "contour": [
           {
            "colorbar": {
             "outlinewidth": 0,
             "ticks": ""
            },
            "colorscale": [
             [
              0,
              "#0d0887"
             ],
             [
              0.1111111111111111,
              "#46039f"
             ],
             [
              0.2222222222222222,
              "#7201a8"
             ],
             [
              0.3333333333333333,
              "#9c179e"
             ],
             [
              0.4444444444444444,
              "#bd3786"
             ],
             [
              0.5555555555555556,
              "#d8576b"
             ],
             [
              0.6666666666666666,
              "#ed7953"
             ],
             [
              0.7777777777777778,
              "#fb9f3a"
             ],
             [
              0.8888888888888888,
              "#fdca26"
             ],
             [
              1,
              "#f0f921"
             ]
            ],
            "type": "contour"
           }
          ],
          "contourcarpet": [
           {
            "colorbar": {
             "outlinewidth": 0,
             "ticks": ""
            },
            "type": "contourcarpet"
           }
          ],
          "heatmap": [
           {
            "colorbar": {
             "outlinewidth": 0,
             "ticks": ""
            },
            "colorscale": [
             [
              0,
              "#0d0887"
             ],
             [
              0.1111111111111111,
              "#46039f"
             ],
             [
              0.2222222222222222,
              "#7201a8"
             ],
             [
              0.3333333333333333,
              "#9c179e"
             ],
             [
              0.4444444444444444,
              "#bd3786"
             ],
             [
              0.5555555555555556,
              "#d8576b"
             ],
             [
              0.6666666666666666,
              "#ed7953"
             ],
             [
              0.7777777777777778,
              "#fb9f3a"
             ],
             [
              0.8888888888888888,
              "#fdca26"
             ],
             [
              1,
              "#f0f921"
             ]
            ],
            "type": "heatmap"
           }
          ],
          "heatmapgl": [
           {
            "colorbar": {
             "outlinewidth": 0,
             "ticks": ""
            },
            "colorscale": [
             [
              0,
              "#0d0887"
             ],
             [
              0.1111111111111111,
              "#46039f"
             ],
             [
              0.2222222222222222,
              "#7201a8"
             ],
             [
              0.3333333333333333,
              "#9c179e"
             ],
             [
              0.4444444444444444,
              "#bd3786"
             ],
             [
              0.5555555555555556,
              "#d8576b"
             ],
             [
              0.6666666666666666,
              "#ed7953"
             ],
             [
              0.7777777777777778,
              "#fb9f3a"
             ],
             [
              0.8888888888888888,
              "#fdca26"
             ],
             [
              1,
              "#f0f921"
             ]
            ],
            "type": "heatmapgl"
           }
          ],
          "histogram": [
           {
            "marker": {
             "colorbar": {
              "outlinewidth": 0,
              "ticks": ""
             }
            },
            "type": "histogram"
           }
          ],
          "histogram2d": [
           {
            "colorbar": {
             "outlinewidth": 0,
             "ticks": ""
            },
            "colorscale": [
             [
              0,
              "#0d0887"
             ],
             [
              0.1111111111111111,
              "#46039f"
             ],
             [
              0.2222222222222222,
              "#7201a8"
             ],
             [
              0.3333333333333333,
              "#9c179e"
             ],
             [
              0.4444444444444444,
              "#bd3786"
             ],
             [
              0.5555555555555556,
              "#d8576b"
             ],
             [
              0.6666666666666666,
              "#ed7953"
             ],
             [
              0.7777777777777778,
              "#fb9f3a"
             ],
             [
              0.8888888888888888,
              "#fdca26"
             ],
             [
              1,
              "#f0f921"
             ]
            ],
            "type": "histogram2d"
           }
          ],
          "histogram2dcontour": [
           {
            "colorbar": {
             "outlinewidth": 0,
             "ticks": ""
            },
            "colorscale": [
             [
              0,
              "#0d0887"
             ],
             [
              0.1111111111111111,
              "#46039f"
             ],
             [
              0.2222222222222222,
              "#7201a8"
             ],
             [
              0.3333333333333333,
              "#9c179e"
             ],
             [
              0.4444444444444444,
              "#bd3786"
             ],
             [
              0.5555555555555556,
              "#d8576b"
             ],
             [
              0.6666666666666666,
              "#ed7953"
             ],
             [
              0.7777777777777778,
              "#fb9f3a"
             ],
             [
              0.8888888888888888,
              "#fdca26"
             ],
             [
              1,
              "#f0f921"
             ]
            ],
            "type": "histogram2dcontour"
           }
          ],
          "mesh3d": [
           {
            "colorbar": {
             "outlinewidth": 0,
             "ticks": ""
            },
            "type": "mesh3d"
           }
          ],
          "parcoords": [
           {
            "line": {
             "colorbar": {
              "outlinewidth": 0,
              "ticks": ""
             }
            },
            "type": "parcoords"
           }
          ],
          "pie": [
           {
            "automargin": true,
            "type": "pie"
           }
          ],
          "scatter": [
           {
            "marker": {
             "colorbar": {
              "outlinewidth": 0,
              "ticks": ""
             }
            },
            "type": "scatter"
           }
          ],
          "scatter3d": [
           {
            "line": {
             "colorbar": {
              "outlinewidth": 0,
              "ticks": ""
             }
            },
            "marker": {
             "colorbar": {
              "outlinewidth": 0,
              "ticks": ""
             }
            },
            "type": "scatter3d"
           }
          ],
          "scattercarpet": [
           {
            "marker": {
             "colorbar": {
              "outlinewidth": 0,
              "ticks": ""
             }
            },
            "type": "scattercarpet"
           }
          ],
          "scattergeo": [
           {
            "marker": {
             "colorbar": {
              "outlinewidth": 0,
              "ticks": ""
             }
            },
            "type": "scattergeo"
           }
          ],
          "scattergl": [
           {
            "marker": {
             "colorbar": {
              "outlinewidth": 0,
              "ticks": ""
             }
            },
            "type": "scattergl"
           }
          ],
          "scattermapbox": [
           {
            "marker": {
             "colorbar": {
              "outlinewidth": 0,
              "ticks": ""
             }
            },
            "type": "scattermapbox"
           }
          ],
          "scatterpolar": [
           {
            "marker": {
             "colorbar": {
              "outlinewidth": 0,
              "ticks": ""
             }
            },
            "type": "scatterpolar"
           }
          ],
          "scatterpolargl": [
           {
            "marker": {
             "colorbar": {
              "outlinewidth": 0,
              "ticks": ""
             }
            },
            "type": "scatterpolargl"
           }
          ],
          "scatterternary": [
           {
            "marker": {
             "colorbar": {
              "outlinewidth": 0,
              "ticks": ""
             }
            },
            "type": "scatterternary"
           }
          ],
          "surface": [
           {
            "colorbar": {
             "outlinewidth": 0,
             "ticks": ""
            },
            "colorscale": [
             [
              0,
              "#0d0887"
             ],
             [
              0.1111111111111111,
              "#46039f"
             ],
             [
              0.2222222222222222,
              "#7201a8"
             ],
             [
              0.3333333333333333,
              "#9c179e"
             ],
             [
              0.4444444444444444,
              "#bd3786"
             ],
             [
              0.5555555555555556,
              "#d8576b"
             ],
             [
              0.6666666666666666,
              "#ed7953"
             ],
             [
              0.7777777777777778,
              "#fb9f3a"
             ],
             [
              0.8888888888888888,
              "#fdca26"
             ],
             [
              1,
              "#f0f921"
             ]
            ],
            "type": "surface"
           }
          ],
          "table": [
           {
            "cells": {
             "fill": {
              "color": "#EBF0F8"
             },
             "line": {
              "color": "white"
             }
            },
            "header": {
             "fill": {
              "color": "#C8D4E3"
             },
             "line": {
              "color": "white"
             }
            },
            "type": "table"
           }
          ]
         },
         "layout": {
          "annotationdefaults": {
           "arrowcolor": "#2a3f5f",
           "arrowhead": 0,
           "arrowwidth": 1
          },
          "coloraxis": {
           "colorbar": {
            "outlinewidth": 0,
            "ticks": ""
           }
          },
          "colorscale": {
           "diverging": [
            [
             0,
             "#8e0152"
            ],
            [
             0.1,
             "#c51b7d"
            ],
            [
             0.2,
             "#de77ae"
            ],
            [
             0.3,
             "#f1b6da"
            ],
            [
             0.4,
             "#fde0ef"
            ],
            [
             0.5,
             "#f7f7f7"
            ],
            [
             0.6,
             "#e6f5d0"
            ],
            [
             0.7,
             "#b8e186"
            ],
            [
             0.8,
             "#7fbc41"
            ],
            [
             0.9,
             "#4d9221"
            ],
            [
             1,
             "#276419"
            ]
           ],
           "sequential": [
            [
             0,
             "#0d0887"
            ],
            [
             0.1111111111111111,
             "#46039f"
            ],
            [
             0.2222222222222222,
             "#7201a8"
            ],
            [
             0.3333333333333333,
             "#9c179e"
            ],
            [
             0.4444444444444444,
             "#bd3786"
            ],
            [
             0.5555555555555556,
             "#d8576b"
            ],
            [
             0.6666666666666666,
             "#ed7953"
            ],
            [
             0.7777777777777778,
             "#fb9f3a"
            ],
            [
             0.8888888888888888,
             "#fdca26"
            ],
            [
             1,
             "#f0f921"
            ]
           ],
           "sequentialminus": [
            [
             0,
             "#0d0887"
            ],
            [
             0.1111111111111111,
             "#46039f"
            ],
            [
             0.2222222222222222,
             "#7201a8"
            ],
            [
             0.3333333333333333,
             "#9c179e"
            ],
            [
             0.4444444444444444,
             "#bd3786"
            ],
            [
             0.5555555555555556,
             "#d8576b"
            ],
            [
             0.6666666666666666,
             "#ed7953"
            ],
            [
             0.7777777777777778,
             "#fb9f3a"
            ],
            [
             0.8888888888888888,
             "#fdca26"
            ],
            [
             1,
             "#f0f921"
            ]
           ]
          },
          "colorway": [
           "#636efa",
           "#EF553B",
           "#00cc96",
           "#ab63fa",
           "#FFA15A",
           "#19d3f3",
           "#FF6692",
           "#B6E880",
           "#FF97FF",
           "#FECB52"
          ],
          "font": {
           "color": "#2a3f5f"
          },
          "geo": {
           "bgcolor": "white",
           "lakecolor": "white",
           "landcolor": "#E5ECF6",
           "showlakes": true,
           "showland": true,
           "subunitcolor": "white"
          },
          "hoverlabel": {
           "align": "left"
          },
          "hovermode": "closest",
          "mapbox": {
           "style": "light"
          },
          "paper_bgcolor": "white",
          "plot_bgcolor": "#E5ECF6",
          "polar": {
           "angularaxis": {
            "gridcolor": "white",
            "linecolor": "white",
            "ticks": ""
           },
           "bgcolor": "#E5ECF6",
           "radialaxis": {
            "gridcolor": "white",
            "linecolor": "white",
            "ticks": ""
           }
          },
          "scene": {
           "xaxis": {
            "backgroundcolor": "#E5ECF6",
            "gridcolor": "white",
            "gridwidth": 2,
            "linecolor": "white",
            "showbackground": true,
            "ticks": "",
            "zerolinecolor": "white"
           },
           "yaxis": {
            "backgroundcolor": "#E5ECF6",
            "gridcolor": "white",
            "gridwidth": 2,
            "linecolor": "white",
            "showbackground": true,
            "ticks": "",
            "zerolinecolor": "white"
           },
           "zaxis": {
            "backgroundcolor": "#E5ECF6",
            "gridcolor": "white",
            "gridwidth": 2,
            "linecolor": "white",
            "showbackground": true,
            "ticks": "",
            "zerolinecolor": "white"
           }
          },
          "shapedefaults": {
           "line": {
            "color": "#2a3f5f"
           }
          },
          "ternary": {
           "aaxis": {
            "gridcolor": "white",
            "linecolor": "white",
            "ticks": ""
           },
           "baxis": {
            "gridcolor": "white",
            "linecolor": "white",
            "ticks": ""
           },
           "bgcolor": "#E5ECF6",
           "caxis": {
            "gridcolor": "white",
            "linecolor": "white",
            "ticks": ""
           }
          },
          "title": {
           "x": 0.05
          },
          "xaxis": {
           "automargin": true,
           "gridcolor": "white",
           "linecolor": "white",
           "ticks": "",
           "title": {
            "standoff": 15
           },
           "zerolinecolor": "white",
           "zerolinewidth": 2
          },
          "yaxis": {
           "automargin": true,
           "gridcolor": "white",
           "linecolor": "white",
           "ticks": "",
           "title": {
            "standoff": 15
           },
           "zerolinecolor": "white",
           "zerolinewidth": 2
          }
         }
        },
        "title": {
         "font": {
          "color": "#4D5663"
         }
        },
        "xaxis": {
         "gridcolor": "#E1E5ED",
         "showgrid": true,
         "tickfont": {
          "color": "#4D5663"
         },
         "title": {
          "font": {
           "color": "#4D5663"
          },
          "text": ""
         },
         "zerolinecolor": "#E1E5ED"
        },
        "yaxis": {
         "gridcolor": "#E1E5ED",
         "showgrid": true,
         "tickfont": {
          "color": "#4D5663"
         },
         "title": {
          "font": {
           "color": "#4D5663"
          },
          "text": ""
         },
         "zerolinecolor": "#E1E5ED"
        }
       }
      },
      "text/html": [
       "<div>                            <div id=\"dbf1f253-9b4e-4d06-80dd-4f7d4f9cb5ba\" class=\"plotly-graph-div\" style=\"height:525px; width:100%;\"></div>            <script type=\"text/javascript\">                require([\"plotly\"], function(Plotly) {                    window.PLOTLYENV=window.PLOTLYENV || {};\n",
       "                    window.PLOTLYENV.BASE_URL='https://plot.ly';                                    if (document.getElementById(\"dbf1f253-9b4e-4d06-80dd-4f7d4f9cb5ba\")) {                    Plotly.newPlot(                        \"dbf1f253-9b4e-4d06-80dd-4f7d4f9cb5ba\",                        [{\"marker\": {\"color\": \"rgba(255, 153, 51, 0.6)\", \"line\": {\"color\": \"rgba(255, 153, 51, 1.0)\", \"width\": 1}}, \"name\": \"Values\", \"orientation\": \"v\", \"text\": \"\", \"type\": \"bar\", \"x\": [\"A\", \"B\", \"C\"], \"y\": [32, 43, 50]}],                        {\"legend\": {\"bgcolor\": \"#F5F6F9\", \"font\": {\"color\": \"#4D5663\"}}, \"paper_bgcolor\": \"#F5F6F9\", \"plot_bgcolor\": \"#F5F6F9\", \"template\": {\"data\": {\"bar\": [{\"error_x\": {\"color\": \"#2a3f5f\"}, \"error_y\": {\"color\": \"#2a3f5f\"}, \"marker\": {\"line\": {\"color\": \"#E5ECF6\", \"width\": 0.5}}, \"type\": \"bar\"}], \"barpolar\": [{\"marker\": {\"line\": {\"color\": \"#E5ECF6\", \"width\": 0.5}}, \"type\": \"barpolar\"}], \"carpet\": [{\"aaxis\": {\"endlinecolor\": \"#2a3f5f\", \"gridcolor\": \"white\", \"linecolor\": \"white\", \"minorgridcolor\": \"white\", \"startlinecolor\": \"#2a3f5f\"}, \"baxis\": {\"endlinecolor\": \"#2a3f5f\", \"gridcolor\": \"white\", \"linecolor\": \"white\", \"minorgridcolor\": \"white\", \"startlinecolor\": \"#2a3f5f\"}, \"type\": \"carpet\"}], \"choropleth\": [{\"colorbar\": {\"outlinewidth\": 0, \"ticks\": \"\"}, \"type\": \"choropleth\"}], \"contour\": [{\"colorbar\": {\"outlinewidth\": 0, \"ticks\": \"\"}, \"colorscale\": [[0.0, \"#0d0887\"], [0.1111111111111111, \"#46039f\"], [0.2222222222222222, \"#7201a8\"], [0.3333333333333333, \"#9c179e\"], [0.4444444444444444, \"#bd3786\"], [0.5555555555555556, \"#d8576b\"], [0.6666666666666666, \"#ed7953\"], [0.7777777777777778, \"#fb9f3a\"], [0.8888888888888888, \"#fdca26\"], [1.0, \"#f0f921\"]], \"type\": \"contour\"}], \"contourcarpet\": [{\"colorbar\": {\"outlinewidth\": 0, \"ticks\": \"\"}, \"type\": \"contourcarpet\"}], \"heatmap\": [{\"colorbar\": {\"outlinewidth\": 0, \"ticks\": \"\"}, \"colorscale\": [[0.0, \"#0d0887\"], [0.1111111111111111, \"#46039f\"], [0.2222222222222222, \"#7201a8\"], [0.3333333333333333, \"#9c179e\"], [0.4444444444444444, \"#bd3786\"], [0.5555555555555556, \"#d8576b\"], [0.6666666666666666, \"#ed7953\"], [0.7777777777777778, \"#fb9f3a\"], [0.8888888888888888, \"#fdca26\"], [1.0, \"#f0f921\"]], \"type\": \"heatmap\"}], \"heatmapgl\": [{\"colorbar\": {\"outlinewidth\": 0, \"ticks\": \"\"}, \"colorscale\": [[0.0, \"#0d0887\"], [0.1111111111111111, \"#46039f\"], [0.2222222222222222, \"#7201a8\"], [0.3333333333333333, \"#9c179e\"], [0.4444444444444444, \"#bd3786\"], [0.5555555555555556, \"#d8576b\"], [0.6666666666666666, \"#ed7953\"], [0.7777777777777778, \"#fb9f3a\"], [0.8888888888888888, \"#fdca26\"], [1.0, \"#f0f921\"]], \"type\": \"heatmapgl\"}], \"histogram\": [{\"marker\": {\"colorbar\": {\"outlinewidth\": 0, \"ticks\": \"\"}}, \"type\": \"histogram\"}], \"histogram2d\": [{\"colorbar\": {\"outlinewidth\": 0, \"ticks\": \"\"}, \"colorscale\": [[0.0, \"#0d0887\"], [0.1111111111111111, \"#46039f\"], [0.2222222222222222, \"#7201a8\"], [0.3333333333333333, \"#9c179e\"], [0.4444444444444444, \"#bd3786\"], [0.5555555555555556, \"#d8576b\"], [0.6666666666666666, \"#ed7953\"], [0.7777777777777778, \"#fb9f3a\"], [0.8888888888888888, \"#fdca26\"], [1.0, \"#f0f921\"]], \"type\": \"histogram2d\"}], \"histogram2dcontour\": [{\"colorbar\": {\"outlinewidth\": 0, \"ticks\": \"\"}, \"colorscale\": [[0.0, \"#0d0887\"], [0.1111111111111111, \"#46039f\"], [0.2222222222222222, \"#7201a8\"], [0.3333333333333333, \"#9c179e\"], [0.4444444444444444, \"#bd3786\"], [0.5555555555555556, \"#d8576b\"], [0.6666666666666666, \"#ed7953\"], [0.7777777777777778, \"#fb9f3a\"], [0.8888888888888888, \"#fdca26\"], [1.0, \"#f0f921\"]], \"type\": \"histogram2dcontour\"}], \"mesh3d\": [{\"colorbar\": {\"outlinewidth\": 0, \"ticks\": \"\"}, \"type\": \"mesh3d\"}], \"parcoords\": [{\"line\": {\"colorbar\": {\"outlinewidth\": 0, \"ticks\": \"\"}}, \"type\": \"parcoords\"}], \"pie\": [{\"automargin\": true, \"type\": \"pie\"}], \"scatter\": [{\"marker\": {\"colorbar\": {\"outlinewidth\": 0, \"ticks\": \"\"}}, \"type\": \"scatter\"}], \"scatter3d\": [{\"line\": {\"colorbar\": {\"outlinewidth\": 0, \"ticks\": \"\"}}, \"marker\": {\"colorbar\": {\"outlinewidth\": 0, \"ticks\": \"\"}}, \"type\": \"scatter3d\"}], \"scattercarpet\": [{\"marker\": {\"colorbar\": {\"outlinewidth\": 0, \"ticks\": \"\"}}, \"type\": \"scattercarpet\"}], \"scattergeo\": [{\"marker\": {\"colorbar\": {\"outlinewidth\": 0, \"ticks\": \"\"}}, \"type\": \"scattergeo\"}], \"scattergl\": [{\"marker\": {\"colorbar\": {\"outlinewidth\": 0, \"ticks\": \"\"}}, \"type\": \"scattergl\"}], \"scattermapbox\": [{\"marker\": {\"colorbar\": {\"outlinewidth\": 0, \"ticks\": \"\"}}, \"type\": \"scattermapbox\"}], \"scatterpolar\": [{\"marker\": {\"colorbar\": {\"outlinewidth\": 0, \"ticks\": \"\"}}, \"type\": \"scatterpolar\"}], \"scatterpolargl\": [{\"marker\": {\"colorbar\": {\"outlinewidth\": 0, \"ticks\": \"\"}}, \"type\": \"scatterpolargl\"}], \"scatterternary\": [{\"marker\": {\"colorbar\": {\"outlinewidth\": 0, \"ticks\": \"\"}}, \"type\": \"scatterternary\"}], \"surface\": [{\"colorbar\": {\"outlinewidth\": 0, \"ticks\": \"\"}, \"colorscale\": [[0.0, \"#0d0887\"], [0.1111111111111111, \"#46039f\"], [0.2222222222222222, \"#7201a8\"], [0.3333333333333333, \"#9c179e\"], [0.4444444444444444, \"#bd3786\"], [0.5555555555555556, \"#d8576b\"], [0.6666666666666666, \"#ed7953\"], [0.7777777777777778, \"#fb9f3a\"], [0.8888888888888888, \"#fdca26\"], [1.0, \"#f0f921\"]], \"type\": \"surface\"}], \"table\": [{\"cells\": {\"fill\": {\"color\": \"#EBF0F8\"}, \"line\": {\"color\": \"white\"}}, \"header\": {\"fill\": {\"color\": \"#C8D4E3\"}, \"line\": {\"color\": \"white\"}}, \"type\": \"table\"}]}, \"layout\": {\"annotationdefaults\": {\"arrowcolor\": \"#2a3f5f\", \"arrowhead\": 0, \"arrowwidth\": 1}, \"coloraxis\": {\"colorbar\": {\"outlinewidth\": 0, \"ticks\": \"\"}}, \"colorscale\": {\"diverging\": [[0, \"#8e0152\"], [0.1, \"#c51b7d\"], [0.2, \"#de77ae\"], [0.3, \"#f1b6da\"], [0.4, \"#fde0ef\"], [0.5, \"#f7f7f7\"], [0.6, \"#e6f5d0\"], [0.7, \"#b8e186\"], [0.8, \"#7fbc41\"], [0.9, \"#4d9221\"], [1, \"#276419\"]], \"sequential\": [[0.0, \"#0d0887\"], [0.1111111111111111, \"#46039f\"], [0.2222222222222222, \"#7201a8\"], [0.3333333333333333, \"#9c179e\"], [0.4444444444444444, \"#bd3786\"], [0.5555555555555556, \"#d8576b\"], [0.6666666666666666, \"#ed7953\"], [0.7777777777777778, \"#fb9f3a\"], [0.8888888888888888, \"#fdca26\"], [1.0, \"#f0f921\"]], \"sequentialminus\": [[0.0, \"#0d0887\"], [0.1111111111111111, \"#46039f\"], [0.2222222222222222, \"#7201a8\"], [0.3333333333333333, \"#9c179e\"], [0.4444444444444444, \"#bd3786\"], [0.5555555555555556, \"#d8576b\"], [0.6666666666666666, \"#ed7953\"], [0.7777777777777778, \"#fb9f3a\"], [0.8888888888888888, \"#fdca26\"], [1.0, \"#f0f921\"]]}, \"colorway\": [\"#636efa\", \"#EF553B\", \"#00cc96\", \"#ab63fa\", \"#FFA15A\", \"#19d3f3\", \"#FF6692\", \"#B6E880\", \"#FF97FF\", \"#FECB52\"], \"font\": {\"color\": \"#2a3f5f\"}, \"geo\": {\"bgcolor\": \"white\", \"lakecolor\": \"white\", \"landcolor\": \"#E5ECF6\", \"showlakes\": true, \"showland\": true, \"subunitcolor\": \"white\"}, \"hoverlabel\": {\"align\": \"left\"}, \"hovermode\": \"closest\", \"mapbox\": {\"style\": \"light\"}, \"paper_bgcolor\": \"white\", \"plot_bgcolor\": \"#E5ECF6\", \"polar\": {\"angularaxis\": {\"gridcolor\": \"white\", \"linecolor\": \"white\", \"ticks\": \"\"}, \"bgcolor\": \"#E5ECF6\", \"radialaxis\": {\"gridcolor\": \"white\", \"linecolor\": \"white\", \"ticks\": \"\"}}, \"scene\": {\"xaxis\": {\"backgroundcolor\": \"#E5ECF6\", \"gridcolor\": \"white\", \"gridwidth\": 2, \"linecolor\": \"white\", \"showbackground\": true, \"ticks\": \"\", \"zerolinecolor\": \"white\"}, \"yaxis\": {\"backgroundcolor\": \"#E5ECF6\", \"gridcolor\": \"white\", \"gridwidth\": 2, \"linecolor\": \"white\", \"showbackground\": true, \"ticks\": \"\", \"zerolinecolor\": \"white\"}, \"zaxis\": {\"backgroundcolor\": \"#E5ECF6\", \"gridcolor\": \"white\", \"gridwidth\": 2, \"linecolor\": \"white\", \"showbackground\": true, \"ticks\": \"\", \"zerolinecolor\": \"white\"}}, \"shapedefaults\": {\"line\": {\"color\": \"#2a3f5f\"}}, \"ternary\": {\"aaxis\": {\"gridcolor\": \"white\", \"linecolor\": \"white\", \"ticks\": \"\"}, \"baxis\": {\"gridcolor\": \"white\", \"linecolor\": \"white\", \"ticks\": \"\"}, \"bgcolor\": \"#E5ECF6\", \"caxis\": {\"gridcolor\": \"white\", \"linecolor\": \"white\", \"ticks\": \"\"}}, \"title\": {\"x\": 0.05}, \"xaxis\": {\"automargin\": true, \"gridcolor\": \"white\", \"linecolor\": \"white\", \"ticks\": \"\", \"title\": {\"standoff\": 15}, \"zerolinecolor\": \"white\", \"zerolinewidth\": 2}, \"yaxis\": {\"automargin\": true, \"gridcolor\": \"white\", \"linecolor\": \"white\", \"ticks\": \"\", \"title\": {\"standoff\": 15}, \"zerolinecolor\": \"white\", \"zerolinewidth\": 2}}}, \"title\": {\"font\": {\"color\": \"#4D5663\"}}, \"xaxis\": {\"gridcolor\": \"#E1E5ED\", \"showgrid\": true, \"tickfont\": {\"color\": \"#4D5663\"}, \"title\": {\"font\": {\"color\": \"#4D5663\"}, \"text\": \"\"}, \"zerolinecolor\": \"#E1E5ED\"}, \"yaxis\": {\"gridcolor\": \"#E1E5ED\", \"showgrid\": true, \"tickfont\": {\"color\": \"#4D5663\"}, \"title\": {\"font\": {\"color\": \"#4D5663\"}, \"text\": \"\"}, \"zerolinecolor\": \"#E1E5ED\"}},                        {\"showLink\": true, \"linkText\": \"Export to plot.ly\", \"plotlyServerURL\": \"https://plot.ly\", \"responsive\": true}                    ).then(function(){\n",
       "                            \n",
       "var gd = document.getElementById('dbf1f253-9b4e-4d06-80dd-4f7d4f9cb5ba');\n",
       "var x = new MutationObserver(function (mutations, observer) {{\n",
       "        var display = window.getComputedStyle(gd).display;\n",
       "        if (!display || display === 'none') {{\n",
       "            console.log([gd, 'removed!']);\n",
       "            Plotly.purge(gd);\n",
       "            observer.disconnect();\n",
       "        }}\n",
       "}});\n",
       "\n",
       "// Listen for the removal of the full notebook cells\n",
       "var notebookContainer = gd.closest('#notebook-container');\n",
       "if (notebookContainer) {{\n",
       "    x.observe(notebookContainer, {childList: true});\n",
       "}}\n",
       "\n",
       "// Listen for the clearing of the current output cell\n",
       "var outputEl = gd.closest('.output');\n",
       "if (outputEl) {{\n",
       "    x.observe(outputEl, {childList: true});\n",
       "}}\n",
       "\n",
       "                        })                };                });            </script>        </div>"
      ]
     },
     "metadata": {},
     "output_type": "display_data"
    }
   ],
   "source": [
    "df2.iplot(kind='bar',x='Category',y='Values')"
   ]
  },
  {
   "cell_type": "code",
   "execution_count": 15,
   "metadata": {},
   "outputs": [
    {
     "data": {
      "application/vnd.plotly.v1+json": {
       "config": {
        "linkText": "Export to plot.ly",
        "plotlyServerURL": "https://plot.ly",
        "showLink": true
       },
       "data": [
        {
         "marker": {
          "color": "rgba(255, 153, 51, 0.6)",
          "line": {
           "color": "rgba(255, 153, 51, 1.0)",
           "width": 1
          }
         },
         "name": "None",
         "orientation": "v",
         "text": "",
         "type": "bar",
         "x": [
          "A",
          "B",
          "C",
          "D"
         ],
         "y": [
          100,
          100,
          100,
          100
         ]
        }
       ],
       "layout": {
        "legend": {
         "bgcolor": "#F5F6F9",
         "font": {
          "color": "#4D5663"
         }
        },
        "paper_bgcolor": "#F5F6F9",
        "plot_bgcolor": "#F5F6F9",
        "template": {
         "data": {
          "bar": [
           {
            "error_x": {
             "color": "#2a3f5f"
            },
            "error_y": {
             "color": "#2a3f5f"
            },
            "marker": {
             "line": {
              "color": "#E5ECF6",
              "width": 0.5
             }
            },
            "type": "bar"
           }
          ],
          "barpolar": [
           {
            "marker": {
             "line": {
              "color": "#E5ECF6",
              "width": 0.5
             }
            },
            "type": "barpolar"
           }
          ],
          "carpet": [
           {
            "aaxis": {
             "endlinecolor": "#2a3f5f",
             "gridcolor": "white",
             "linecolor": "white",
             "minorgridcolor": "white",
             "startlinecolor": "#2a3f5f"
            },
            "baxis": {
             "endlinecolor": "#2a3f5f",
             "gridcolor": "white",
             "linecolor": "white",
             "minorgridcolor": "white",
             "startlinecolor": "#2a3f5f"
            },
            "type": "carpet"
           }
          ],
          "choropleth": [
           {
            "colorbar": {
             "outlinewidth": 0,
             "ticks": ""
            },
            "type": "choropleth"
           }
          ],
          "contour": [
           {
            "colorbar": {
             "outlinewidth": 0,
             "ticks": ""
            },
            "colorscale": [
             [
              0,
              "#0d0887"
             ],
             [
              0.1111111111111111,
              "#46039f"
             ],
             [
              0.2222222222222222,
              "#7201a8"
             ],
             [
              0.3333333333333333,
              "#9c179e"
             ],
             [
              0.4444444444444444,
              "#bd3786"
             ],
             [
              0.5555555555555556,
              "#d8576b"
             ],
             [
              0.6666666666666666,
              "#ed7953"
             ],
             [
              0.7777777777777778,
              "#fb9f3a"
             ],
             [
              0.8888888888888888,
              "#fdca26"
             ],
             [
              1,
              "#f0f921"
             ]
            ],
            "type": "contour"
           }
          ],
          "contourcarpet": [
           {
            "colorbar": {
             "outlinewidth": 0,
             "ticks": ""
            },
            "type": "contourcarpet"
           }
          ],
          "heatmap": [
           {
            "colorbar": {
             "outlinewidth": 0,
             "ticks": ""
            },
            "colorscale": [
             [
              0,
              "#0d0887"
             ],
             [
              0.1111111111111111,
              "#46039f"
             ],
             [
              0.2222222222222222,
              "#7201a8"
             ],
             [
              0.3333333333333333,
              "#9c179e"
             ],
             [
              0.4444444444444444,
              "#bd3786"
             ],
             [
              0.5555555555555556,
              "#d8576b"
             ],
             [
              0.6666666666666666,
              "#ed7953"
             ],
             [
              0.7777777777777778,
              "#fb9f3a"
             ],
             [
              0.8888888888888888,
              "#fdca26"
             ],
             [
              1,
              "#f0f921"
             ]
            ],
            "type": "heatmap"
           }
          ],
          "heatmapgl": [
           {
            "colorbar": {
             "outlinewidth": 0,
             "ticks": ""
            },
            "colorscale": [
             [
              0,
              "#0d0887"
             ],
             [
              0.1111111111111111,
              "#46039f"
             ],
             [
              0.2222222222222222,
              "#7201a8"
             ],
             [
              0.3333333333333333,
              "#9c179e"
             ],
             [
              0.4444444444444444,
              "#bd3786"
             ],
             [
              0.5555555555555556,
              "#d8576b"
             ],
             [
              0.6666666666666666,
              "#ed7953"
             ],
             [
              0.7777777777777778,
              "#fb9f3a"
             ],
             [
              0.8888888888888888,
              "#fdca26"
             ],
             [
              1,
              "#f0f921"
             ]
            ],
            "type": "heatmapgl"
           }
          ],
          "histogram": [
           {
            "marker": {
             "colorbar": {
              "outlinewidth": 0,
              "ticks": ""
             }
            },
            "type": "histogram"
           }
          ],
          "histogram2d": [
           {
            "colorbar": {
             "outlinewidth": 0,
             "ticks": ""
            },
            "colorscale": [
             [
              0,
              "#0d0887"
             ],
             [
              0.1111111111111111,
              "#46039f"
             ],
             [
              0.2222222222222222,
              "#7201a8"
             ],
             [
              0.3333333333333333,
              "#9c179e"
             ],
             [
              0.4444444444444444,
              "#bd3786"
             ],
             [
              0.5555555555555556,
              "#d8576b"
             ],
             [
              0.6666666666666666,
              "#ed7953"
             ],
             [
              0.7777777777777778,
              "#fb9f3a"
             ],
             [
              0.8888888888888888,
              "#fdca26"
             ],
             [
              1,
              "#f0f921"
             ]
            ],
            "type": "histogram2d"
           }
          ],
          "histogram2dcontour": [
           {
            "colorbar": {
             "outlinewidth": 0,
             "ticks": ""
            },
            "colorscale": [
             [
              0,
              "#0d0887"
             ],
             [
              0.1111111111111111,
              "#46039f"
             ],
             [
              0.2222222222222222,
              "#7201a8"
             ],
             [
              0.3333333333333333,
              "#9c179e"
             ],
             [
              0.4444444444444444,
              "#bd3786"
             ],
             [
              0.5555555555555556,
              "#d8576b"
             ],
             [
              0.6666666666666666,
              "#ed7953"
             ],
             [
              0.7777777777777778,
              "#fb9f3a"
             ],
             [
              0.8888888888888888,
              "#fdca26"
             ],
             [
              1,
              "#f0f921"
             ]
            ],
            "type": "histogram2dcontour"
           }
          ],
          "mesh3d": [
           {
            "colorbar": {
             "outlinewidth": 0,
             "ticks": ""
            },
            "type": "mesh3d"
           }
          ],
          "parcoords": [
           {
            "line": {
             "colorbar": {
              "outlinewidth": 0,
              "ticks": ""
             }
            },
            "type": "parcoords"
           }
          ],
          "pie": [
           {
            "automargin": true,
            "type": "pie"
           }
          ],
          "scatter": [
           {
            "marker": {
             "colorbar": {
              "outlinewidth": 0,
              "ticks": ""
             }
            },
            "type": "scatter"
           }
          ],
          "scatter3d": [
           {
            "line": {
             "colorbar": {
              "outlinewidth": 0,
              "ticks": ""
             }
            },
            "marker": {
             "colorbar": {
              "outlinewidth": 0,
              "ticks": ""
             }
            },
            "type": "scatter3d"
           }
          ],
          "scattercarpet": [
           {
            "marker": {
             "colorbar": {
              "outlinewidth": 0,
              "ticks": ""
             }
            },
            "type": "scattercarpet"
           }
          ],
          "scattergeo": [
           {
            "marker": {
             "colorbar": {
              "outlinewidth": 0,
              "ticks": ""
             }
            },
            "type": "scattergeo"
           }
          ],
          "scattergl": [
           {
            "marker": {
             "colorbar": {
              "outlinewidth": 0,
              "ticks": ""
             }
            },
            "type": "scattergl"
           }
          ],
          "scattermapbox": [
           {
            "marker": {
             "colorbar": {
              "outlinewidth": 0,
              "ticks": ""
             }
            },
            "type": "scattermapbox"
           }
          ],
          "scatterpolar": [
           {
            "marker": {
             "colorbar": {
              "outlinewidth": 0,
              "ticks": ""
             }
            },
            "type": "scatterpolar"
           }
          ],
          "scatterpolargl": [
           {
            "marker": {
             "colorbar": {
              "outlinewidth": 0,
              "ticks": ""
             }
            },
            "type": "scatterpolargl"
           }
          ],
          "scatterternary": [
           {
            "marker": {
             "colorbar": {
              "outlinewidth": 0,
              "ticks": ""
             }
            },
            "type": "scatterternary"
           }
          ],
          "surface": [
           {
            "colorbar": {
             "outlinewidth": 0,
             "ticks": ""
            },
            "colorscale": [
             [
              0,
              "#0d0887"
             ],
             [
              0.1111111111111111,
              "#46039f"
             ],
             [
              0.2222222222222222,
              "#7201a8"
             ],
             [
              0.3333333333333333,
              "#9c179e"
             ],
             [
              0.4444444444444444,
              "#bd3786"
             ],
             [
              0.5555555555555556,
              "#d8576b"
             ],
             [
              0.6666666666666666,
              "#ed7953"
             ],
             [
              0.7777777777777778,
              "#fb9f3a"
             ],
             [
              0.8888888888888888,
              "#fdca26"
             ],
             [
              1,
              "#f0f921"
             ]
            ],
            "type": "surface"
           }
          ],
          "table": [
           {
            "cells": {
             "fill": {
              "color": "#EBF0F8"
             },
             "line": {
              "color": "white"
             }
            },
            "header": {
             "fill": {
              "color": "#C8D4E3"
             },
             "line": {
              "color": "white"
             }
            },
            "type": "table"
           }
          ]
         },
         "layout": {
          "annotationdefaults": {
           "arrowcolor": "#2a3f5f",
           "arrowhead": 0,
           "arrowwidth": 1
          },
          "coloraxis": {
           "colorbar": {
            "outlinewidth": 0,
            "ticks": ""
           }
          },
          "colorscale": {
           "diverging": [
            [
             0,
             "#8e0152"
            ],
            [
             0.1,
             "#c51b7d"
            ],
            [
             0.2,
             "#de77ae"
            ],
            [
             0.3,
             "#f1b6da"
            ],
            [
             0.4,
             "#fde0ef"
            ],
            [
             0.5,
             "#f7f7f7"
            ],
            [
             0.6,
             "#e6f5d0"
            ],
            [
             0.7,
             "#b8e186"
            ],
            [
             0.8,
             "#7fbc41"
            ],
            [
             0.9,
             "#4d9221"
            ],
            [
             1,
             "#276419"
            ]
           ],
           "sequential": [
            [
             0,
             "#0d0887"
            ],
            [
             0.1111111111111111,
             "#46039f"
            ],
            [
             0.2222222222222222,
             "#7201a8"
            ],
            [
             0.3333333333333333,
             "#9c179e"
            ],
            [
             0.4444444444444444,
             "#bd3786"
            ],
            [
             0.5555555555555556,
             "#d8576b"
            ],
            [
             0.6666666666666666,
             "#ed7953"
            ],
            [
             0.7777777777777778,
             "#fb9f3a"
            ],
            [
             0.8888888888888888,
             "#fdca26"
            ],
            [
             1,
             "#f0f921"
            ]
           ],
           "sequentialminus": [
            [
             0,
             "#0d0887"
            ],
            [
             0.1111111111111111,
             "#46039f"
            ],
            [
             0.2222222222222222,
             "#7201a8"
            ],
            [
             0.3333333333333333,
             "#9c179e"
            ],
            [
             0.4444444444444444,
             "#bd3786"
            ],
            [
             0.5555555555555556,
             "#d8576b"
            ],
            [
             0.6666666666666666,
             "#ed7953"
            ],
            [
             0.7777777777777778,
             "#fb9f3a"
            ],
            [
             0.8888888888888888,
             "#fdca26"
            ],
            [
             1,
             "#f0f921"
            ]
           ]
          },
          "colorway": [
           "#636efa",
           "#EF553B",
           "#00cc96",
           "#ab63fa",
           "#FFA15A",
           "#19d3f3",
           "#FF6692",
           "#B6E880",
           "#FF97FF",
           "#FECB52"
          ],
          "font": {
           "color": "#2a3f5f"
          },
          "geo": {
           "bgcolor": "white",
           "lakecolor": "white",
           "landcolor": "#E5ECF6",
           "showlakes": true,
           "showland": true,
           "subunitcolor": "white"
          },
          "hoverlabel": {
           "align": "left"
          },
          "hovermode": "closest",
          "mapbox": {
           "style": "light"
          },
          "paper_bgcolor": "white",
          "plot_bgcolor": "#E5ECF6",
          "polar": {
           "angularaxis": {
            "gridcolor": "white",
            "linecolor": "white",
            "ticks": ""
           },
           "bgcolor": "#E5ECF6",
           "radialaxis": {
            "gridcolor": "white",
            "linecolor": "white",
            "ticks": ""
           }
          },
          "scene": {
           "xaxis": {
            "backgroundcolor": "#E5ECF6",
            "gridcolor": "white",
            "gridwidth": 2,
            "linecolor": "white",
            "showbackground": true,
            "ticks": "",
            "zerolinecolor": "white"
           },
           "yaxis": {
            "backgroundcolor": "#E5ECF6",
            "gridcolor": "white",
            "gridwidth": 2,
            "linecolor": "white",
            "showbackground": true,
            "ticks": "",
            "zerolinecolor": "white"
           },
           "zaxis": {
            "backgroundcolor": "#E5ECF6",
            "gridcolor": "white",
            "gridwidth": 2,
            "linecolor": "white",
            "showbackground": true,
            "ticks": "",
            "zerolinecolor": "white"
           }
          },
          "shapedefaults": {
           "line": {
            "color": "#2a3f5f"
           }
          },
          "ternary": {
           "aaxis": {
            "gridcolor": "white",
            "linecolor": "white",
            "ticks": ""
           },
           "baxis": {
            "gridcolor": "white",
            "linecolor": "white",
            "ticks": ""
           },
           "bgcolor": "#E5ECF6",
           "caxis": {
            "gridcolor": "white",
            "linecolor": "white",
            "ticks": ""
           }
          },
          "title": {
           "x": 0.05
          },
          "xaxis": {
           "automargin": true,
           "gridcolor": "white",
           "linecolor": "white",
           "ticks": "",
           "title": {
            "standoff": 15
           },
           "zerolinecolor": "white",
           "zerolinewidth": 2
          },
          "yaxis": {
           "automargin": true,
           "gridcolor": "white",
           "linecolor": "white",
           "ticks": "",
           "title": {
            "standoff": 15
           },
           "zerolinecolor": "white",
           "zerolinewidth": 2
          }
         }
        },
        "title": {
         "font": {
          "color": "#4D5663"
         }
        },
        "xaxis": {
         "gridcolor": "#E1E5ED",
         "showgrid": true,
         "tickfont": {
          "color": "#4D5663"
         },
         "title": {
          "font": {
           "color": "#4D5663"
          },
          "text": ""
         },
         "zerolinecolor": "#E1E5ED"
        },
        "yaxis": {
         "gridcolor": "#E1E5ED",
         "showgrid": true,
         "tickfont": {
          "color": "#4D5663"
         },
         "title": {
          "font": {
           "color": "#4D5663"
          },
          "text": ""
         },
         "zerolinecolor": "#E1E5ED"
        }
       }
      },
      "text/html": [
       "<div>                            <div id=\"49815823-c20c-499c-ac0a-5e8eaec9c6bd\" class=\"plotly-graph-div\" style=\"height:525px; width:100%;\"></div>            <script type=\"text/javascript\">                require([\"plotly\"], function(Plotly) {                    window.PLOTLYENV=window.PLOTLYENV || {};\n",
       "                    window.PLOTLYENV.BASE_URL='https://plot.ly';                                    if (document.getElementById(\"49815823-c20c-499c-ac0a-5e8eaec9c6bd\")) {                    Plotly.newPlot(                        \"49815823-c20c-499c-ac0a-5e8eaec9c6bd\",                        [{\"marker\": {\"color\": \"rgba(255, 153, 51, 0.6)\", \"line\": {\"color\": \"rgba(255, 153, 51, 1.0)\", \"width\": 1}}, \"name\": \"None\", \"orientation\": \"v\", \"text\": \"\", \"type\": \"bar\", \"x\": [\"A\", \"B\", \"C\", \"D\"], \"y\": [100, 100, 100, 100]}],                        {\"legend\": {\"bgcolor\": \"#F5F6F9\", \"font\": {\"color\": \"#4D5663\"}}, \"paper_bgcolor\": \"#F5F6F9\", \"plot_bgcolor\": \"#F5F6F9\", \"template\": {\"data\": {\"bar\": [{\"error_x\": {\"color\": \"#2a3f5f\"}, \"error_y\": {\"color\": \"#2a3f5f\"}, \"marker\": {\"line\": {\"color\": \"#E5ECF6\", \"width\": 0.5}}, \"type\": \"bar\"}], \"barpolar\": [{\"marker\": {\"line\": {\"color\": \"#E5ECF6\", \"width\": 0.5}}, \"type\": \"barpolar\"}], \"carpet\": [{\"aaxis\": {\"endlinecolor\": \"#2a3f5f\", \"gridcolor\": \"white\", \"linecolor\": \"white\", \"minorgridcolor\": \"white\", \"startlinecolor\": \"#2a3f5f\"}, \"baxis\": {\"endlinecolor\": \"#2a3f5f\", \"gridcolor\": \"white\", \"linecolor\": \"white\", \"minorgridcolor\": \"white\", \"startlinecolor\": \"#2a3f5f\"}, \"type\": \"carpet\"}], \"choropleth\": [{\"colorbar\": {\"outlinewidth\": 0, \"ticks\": \"\"}, \"type\": \"choropleth\"}], \"contour\": [{\"colorbar\": {\"outlinewidth\": 0, \"ticks\": \"\"}, \"colorscale\": [[0.0, \"#0d0887\"], [0.1111111111111111, \"#46039f\"], [0.2222222222222222, \"#7201a8\"], [0.3333333333333333, \"#9c179e\"], [0.4444444444444444, \"#bd3786\"], [0.5555555555555556, \"#d8576b\"], [0.6666666666666666, \"#ed7953\"], [0.7777777777777778, \"#fb9f3a\"], [0.8888888888888888, \"#fdca26\"], [1.0, \"#f0f921\"]], \"type\": \"contour\"}], \"contourcarpet\": [{\"colorbar\": {\"outlinewidth\": 0, \"ticks\": \"\"}, \"type\": \"contourcarpet\"}], \"heatmap\": [{\"colorbar\": {\"outlinewidth\": 0, \"ticks\": \"\"}, \"colorscale\": [[0.0, \"#0d0887\"], [0.1111111111111111, \"#46039f\"], [0.2222222222222222, \"#7201a8\"], [0.3333333333333333, \"#9c179e\"], [0.4444444444444444, \"#bd3786\"], [0.5555555555555556, \"#d8576b\"], [0.6666666666666666, \"#ed7953\"], [0.7777777777777778, \"#fb9f3a\"], [0.8888888888888888, \"#fdca26\"], [1.0, \"#f0f921\"]], \"type\": \"heatmap\"}], \"heatmapgl\": [{\"colorbar\": {\"outlinewidth\": 0, \"ticks\": \"\"}, \"colorscale\": [[0.0, \"#0d0887\"], [0.1111111111111111, \"#46039f\"], [0.2222222222222222, \"#7201a8\"], [0.3333333333333333, \"#9c179e\"], [0.4444444444444444, \"#bd3786\"], [0.5555555555555556, \"#d8576b\"], [0.6666666666666666, \"#ed7953\"], [0.7777777777777778, \"#fb9f3a\"], [0.8888888888888888, \"#fdca26\"], [1.0, \"#f0f921\"]], \"type\": \"heatmapgl\"}], \"histogram\": [{\"marker\": {\"colorbar\": {\"outlinewidth\": 0, \"ticks\": \"\"}}, \"type\": \"histogram\"}], \"histogram2d\": [{\"colorbar\": {\"outlinewidth\": 0, \"ticks\": \"\"}, \"colorscale\": [[0.0, \"#0d0887\"], [0.1111111111111111, \"#46039f\"], [0.2222222222222222, \"#7201a8\"], [0.3333333333333333, \"#9c179e\"], [0.4444444444444444, \"#bd3786\"], [0.5555555555555556, \"#d8576b\"], [0.6666666666666666, \"#ed7953\"], [0.7777777777777778, \"#fb9f3a\"], [0.8888888888888888, \"#fdca26\"], [1.0, \"#f0f921\"]], \"type\": \"histogram2d\"}], \"histogram2dcontour\": [{\"colorbar\": {\"outlinewidth\": 0, \"ticks\": \"\"}, \"colorscale\": [[0.0, \"#0d0887\"], [0.1111111111111111, \"#46039f\"], [0.2222222222222222, \"#7201a8\"], [0.3333333333333333, \"#9c179e\"], [0.4444444444444444, \"#bd3786\"], [0.5555555555555556, \"#d8576b\"], [0.6666666666666666, \"#ed7953\"], [0.7777777777777778, \"#fb9f3a\"], [0.8888888888888888, \"#fdca26\"], [1.0, \"#f0f921\"]], \"type\": \"histogram2dcontour\"}], \"mesh3d\": [{\"colorbar\": {\"outlinewidth\": 0, \"ticks\": \"\"}, \"type\": \"mesh3d\"}], \"parcoords\": [{\"line\": {\"colorbar\": {\"outlinewidth\": 0, \"ticks\": \"\"}}, \"type\": \"parcoords\"}], \"pie\": [{\"automargin\": true, \"type\": \"pie\"}], \"scatter\": [{\"marker\": {\"colorbar\": {\"outlinewidth\": 0, \"ticks\": \"\"}}, \"type\": \"scatter\"}], \"scatter3d\": [{\"line\": {\"colorbar\": {\"outlinewidth\": 0, \"ticks\": \"\"}}, \"marker\": {\"colorbar\": {\"outlinewidth\": 0, \"ticks\": \"\"}}, \"type\": \"scatter3d\"}], \"scattercarpet\": [{\"marker\": {\"colorbar\": {\"outlinewidth\": 0, \"ticks\": \"\"}}, \"type\": \"scattercarpet\"}], \"scattergeo\": [{\"marker\": {\"colorbar\": {\"outlinewidth\": 0, \"ticks\": \"\"}}, \"type\": \"scattergeo\"}], \"scattergl\": [{\"marker\": {\"colorbar\": {\"outlinewidth\": 0, \"ticks\": \"\"}}, \"type\": \"scattergl\"}], \"scattermapbox\": [{\"marker\": {\"colorbar\": {\"outlinewidth\": 0, \"ticks\": \"\"}}, \"type\": \"scattermapbox\"}], \"scatterpolar\": [{\"marker\": {\"colorbar\": {\"outlinewidth\": 0, \"ticks\": \"\"}}, \"type\": \"scatterpolar\"}], \"scatterpolargl\": [{\"marker\": {\"colorbar\": {\"outlinewidth\": 0, \"ticks\": \"\"}}, \"type\": \"scatterpolargl\"}], \"scatterternary\": [{\"marker\": {\"colorbar\": {\"outlinewidth\": 0, \"ticks\": \"\"}}, \"type\": \"scatterternary\"}], \"surface\": [{\"colorbar\": {\"outlinewidth\": 0, \"ticks\": \"\"}, \"colorscale\": [[0.0, \"#0d0887\"], [0.1111111111111111, \"#46039f\"], [0.2222222222222222, \"#7201a8\"], [0.3333333333333333, \"#9c179e\"], [0.4444444444444444, \"#bd3786\"], [0.5555555555555556, \"#d8576b\"], [0.6666666666666666, \"#ed7953\"], [0.7777777777777778, \"#fb9f3a\"], [0.8888888888888888, \"#fdca26\"], [1.0, \"#f0f921\"]], \"type\": \"surface\"}], \"table\": [{\"cells\": {\"fill\": {\"color\": \"#EBF0F8\"}, \"line\": {\"color\": \"white\"}}, \"header\": {\"fill\": {\"color\": \"#C8D4E3\"}, \"line\": {\"color\": \"white\"}}, \"type\": \"table\"}]}, \"layout\": {\"annotationdefaults\": {\"arrowcolor\": \"#2a3f5f\", \"arrowhead\": 0, \"arrowwidth\": 1}, \"coloraxis\": {\"colorbar\": {\"outlinewidth\": 0, \"ticks\": \"\"}}, \"colorscale\": {\"diverging\": [[0, \"#8e0152\"], [0.1, \"#c51b7d\"], [0.2, \"#de77ae\"], [0.3, \"#f1b6da\"], [0.4, \"#fde0ef\"], [0.5, \"#f7f7f7\"], [0.6, \"#e6f5d0\"], [0.7, \"#b8e186\"], [0.8, \"#7fbc41\"], [0.9, \"#4d9221\"], [1, \"#276419\"]], \"sequential\": [[0.0, \"#0d0887\"], [0.1111111111111111, \"#46039f\"], [0.2222222222222222, \"#7201a8\"], [0.3333333333333333, \"#9c179e\"], [0.4444444444444444, \"#bd3786\"], [0.5555555555555556, \"#d8576b\"], [0.6666666666666666, \"#ed7953\"], [0.7777777777777778, \"#fb9f3a\"], [0.8888888888888888, \"#fdca26\"], [1.0, \"#f0f921\"]], \"sequentialminus\": [[0.0, \"#0d0887\"], [0.1111111111111111, \"#46039f\"], [0.2222222222222222, \"#7201a8\"], [0.3333333333333333, \"#9c179e\"], [0.4444444444444444, \"#bd3786\"], [0.5555555555555556, \"#d8576b\"], [0.6666666666666666, \"#ed7953\"], [0.7777777777777778, \"#fb9f3a\"], [0.8888888888888888, \"#fdca26\"], [1.0, \"#f0f921\"]]}, \"colorway\": [\"#636efa\", \"#EF553B\", \"#00cc96\", \"#ab63fa\", \"#FFA15A\", \"#19d3f3\", \"#FF6692\", \"#B6E880\", \"#FF97FF\", \"#FECB52\"], \"font\": {\"color\": \"#2a3f5f\"}, \"geo\": {\"bgcolor\": \"white\", \"lakecolor\": \"white\", \"landcolor\": \"#E5ECF6\", \"showlakes\": true, \"showland\": true, \"subunitcolor\": \"white\"}, \"hoverlabel\": {\"align\": \"left\"}, \"hovermode\": \"closest\", \"mapbox\": {\"style\": \"light\"}, \"paper_bgcolor\": \"white\", \"plot_bgcolor\": \"#E5ECF6\", \"polar\": {\"angularaxis\": {\"gridcolor\": \"white\", \"linecolor\": \"white\", \"ticks\": \"\"}, \"bgcolor\": \"#E5ECF6\", \"radialaxis\": {\"gridcolor\": \"white\", \"linecolor\": \"white\", \"ticks\": \"\"}}, \"scene\": {\"xaxis\": {\"backgroundcolor\": \"#E5ECF6\", \"gridcolor\": \"white\", \"gridwidth\": 2, \"linecolor\": \"white\", \"showbackground\": true, \"ticks\": \"\", \"zerolinecolor\": \"white\"}, \"yaxis\": {\"backgroundcolor\": \"#E5ECF6\", \"gridcolor\": \"white\", \"gridwidth\": 2, \"linecolor\": \"white\", \"showbackground\": true, \"ticks\": \"\", \"zerolinecolor\": \"white\"}, \"zaxis\": {\"backgroundcolor\": \"#E5ECF6\", \"gridcolor\": \"white\", \"gridwidth\": 2, \"linecolor\": \"white\", \"showbackground\": true, \"ticks\": \"\", \"zerolinecolor\": \"white\"}}, \"shapedefaults\": {\"line\": {\"color\": \"#2a3f5f\"}}, \"ternary\": {\"aaxis\": {\"gridcolor\": \"white\", \"linecolor\": \"white\", \"ticks\": \"\"}, \"baxis\": {\"gridcolor\": \"white\", \"linecolor\": \"white\", \"ticks\": \"\"}, \"bgcolor\": \"#E5ECF6\", \"caxis\": {\"gridcolor\": \"white\", \"linecolor\": \"white\", \"ticks\": \"\"}}, \"title\": {\"x\": 0.05}, \"xaxis\": {\"automargin\": true, \"gridcolor\": \"white\", \"linecolor\": \"white\", \"ticks\": \"\", \"title\": {\"standoff\": 15}, \"zerolinecolor\": \"white\", \"zerolinewidth\": 2}, \"yaxis\": {\"automargin\": true, \"gridcolor\": \"white\", \"linecolor\": \"white\", \"ticks\": \"\", \"title\": {\"standoff\": 15}, \"zerolinecolor\": \"white\", \"zerolinewidth\": 2}}}, \"title\": {\"font\": {\"color\": \"#4D5663\"}}, \"xaxis\": {\"gridcolor\": \"#E1E5ED\", \"showgrid\": true, \"tickfont\": {\"color\": \"#4D5663\"}, \"title\": {\"font\": {\"color\": \"#4D5663\"}, \"text\": \"\"}, \"zerolinecolor\": \"#E1E5ED\"}, \"yaxis\": {\"gridcolor\": \"#E1E5ED\", \"showgrid\": true, \"tickfont\": {\"color\": \"#4D5663\"}, \"title\": {\"font\": {\"color\": \"#4D5663\"}, \"text\": \"\"}, \"zerolinecolor\": \"#E1E5ED\"}},                        {\"showLink\": true, \"linkText\": \"Export to plot.ly\", \"plotlyServerURL\": \"https://plot.ly\", \"responsive\": true}                    ).then(function(){\n",
       "                            \n",
       "var gd = document.getElementById('49815823-c20c-499c-ac0a-5e8eaec9c6bd');\n",
       "var x = new MutationObserver(function (mutations, observer) {{\n",
       "        var display = window.getComputedStyle(gd).display;\n",
       "        if (!display || display === 'none') {{\n",
       "            console.log([gd, 'removed!']);\n",
       "            Plotly.purge(gd);\n",
       "            observer.disconnect();\n",
       "        }}\n",
       "}});\n",
       "\n",
       "// Listen for the removal of the full notebook cells\n",
       "var notebookContainer = gd.closest('#notebook-container');\n",
       "if (notebookContainer) {{\n",
       "    x.observe(notebookContainer, {childList: true});\n",
       "}}\n",
       "\n",
       "// Listen for the clearing of the current output cell\n",
       "var outputEl = gd.closest('.output');\n",
       "if (outputEl) {{\n",
       "    x.observe(outputEl, {childList: true});\n",
       "}}\n",
       "\n",
       "                        })                };                });            </script>        </div>"
      ]
     },
     "metadata": {},
     "output_type": "display_data"
    }
   ],
   "source": [
    "df.count().iplot(kind='bar')"
   ]
  },
  {
   "cell_type": "markdown",
   "metadata": {},
   "source": [
    "## Boxplots"
   ]
  },
  {
   "cell_type": "code",
   "execution_count": 16,
   "metadata": {},
   "outputs": [
    {
     "data": {
      "application/vnd.plotly.v1+json": {
       "config": {
        "linkText": "Export to plot.ly",
        "plotlyServerURL": "https://plot.ly",
        "showLink": true
       },
       "data": [
        {
         "boxpoints": false,
         "line": {
          "width": 1.3
         },
         "marker": {
          "color": "rgba(255, 153, 51, 1.0)"
         },
         "name": "A",
         "orientation": "v",
         "type": "box",
         "y": [
          -1.5165215335635371,
          1.2385294899836377,
          0.18675435261297058,
          -0.49404178733345255,
          0.9638783524597756,
          -1.1032901032155455,
          0.8489612205492174,
          0.9903890863731017,
          -1.3703522449279018,
          -0.5776566150555577,
          -0.31321057904966493,
          -1.62657976260777,
          -1.006701588728278,
          1.1360103276196873,
          0.6096235839787069,
          -1.3807990089203603,
          -0.36237146775748713,
          -0.5950154460828271,
          1.3888123369070282,
          -1.3629622910143322,
          -1.1038735970945992,
          1.337348295283731,
          1.1667957765059276,
          -1.2086935425656429,
          0.24972766483940562,
          0.29999954775204385,
          1.0667440982430194,
          -0.1741452761097413,
          0.29560646351069414,
          1.2851980496441235,
          -1.5822045088416392,
          0.2332157433742438,
          -0.8216180482229304,
          0.36846289942020066,
          1.6914889255493009,
          0.05294197198387387,
          1.6522250061531598,
          0.3806122062538394,
          0.2281787015714965,
          0.13943357370996548,
          0.7737513704163842,
          1.2632113994240495,
          -2.0723185151193118,
          0.3148357541550536,
          0.9775459023887758,
          0.4890519952231019,
          0.019788575261866545,
          0.5255271325555345,
          1.6814084764377233,
          0.5767167314074976,
          0.20677363770809085,
          0.1860110033699774,
          0.21407497739434397,
          0.7365607951031639,
          -0.7857728014462609,
          0.009524836979279003,
          0.38612916910565903,
          0.1502359587507458,
          0.9892286676253292,
          0.39444327636869897,
          1.120472350623712,
          2.572635263308814,
          0.16353567449977097,
          -0.3413603098431363,
          0.11982063910290328,
          -1.3444523091154967,
          -1.0451078274259888,
          0.7804874333757548,
          -0.10032354166879094,
          1.7827722897587395,
          -1.0946905294595737,
          -0.2510276890016824,
          0.9673217921938824,
          -1.0165640371463203,
          0.0690990527382664,
          -0.8510879315244121,
          0.43904889330463176,
          -1.337878368147962,
          0.09750269879021287,
          1.1447728728037032,
          -0.39997693269254425,
          0.5229998031018618,
          -0.4292225098792032,
          0.9378316216532356,
          -0.7677501218695141,
          1.9137196189172991,
          0.5216008014414507,
          -1.0851954812245894,
          0.5878201563359909,
          0.6262055363577997,
          1.0657701838435691,
          -0.5129968730608664,
          1.2712310563424316,
          1.0526472276252596,
          2.007007712904021,
          -1.2458742116352368,
          -0.3561372960571573,
          -0.09014992621817493,
          0.7230413885756098,
          1.4489088916499433
         ]
        },
        {
         "boxpoints": false,
         "line": {
          "width": 1.3
         },
         "marker": {
          "color": "rgba(55, 128, 191, 1.0)"
         },
         "name": "B",
         "orientation": "v",
         "type": "box",
         "y": [
          -0.8345574062307446,
          0.3869389335155712,
          0.07782933474576627,
          1.1899116450030662,
          2.4118231293099672,
          -0.7517168932626798,
          0.04236231146362457,
          0.07190511226430284,
          1.6380670778590334,
          2.0602606596455915,
          -2.163922132520172,
          -0.4433154616526229,
          -0.04538211676815623,
          -0.9165373914796289,
          0.22401956064621992,
          0.0003599773765519304,
          -1.563708728474769,
          -1.5376343933124736,
          -0.7870693396201344,
          0.33457351738130175,
          -1.7354039335286253,
          1.7113719623174346,
          -0.8120715211093109,
          0.3253747617458604,
          -0.31843112066991935,
          -1.7196215520469333,
          1.0739113471545714,
          -0.893491898851701,
          -1.6629737232258517,
          -1.0306910440740462,
          0.9726511881554111,
          0.5494664293783664,
          -0.7708942552672302,
          0.192978809265206,
          -0.7348978845939232,
          -1.3345561541206306,
          0.5165025336657605,
          0.31478413024677826,
          0.6355748238320479,
          0.8652446833342713,
          -2.6658532132036394,
          0.2961008150075696,
          -0.9156752032343806,
          -2.350156615366018,
          0.459285791821168,
          -0.30922541782709606,
          -0.1428120757566868,
          -1.2332716277002955,
          -1.3161739795186747,
          1.2495199734510636,
          0.12846392054830044,
          -0.2417375476858517,
          -1.30909234945247,
          -1.2082763653082,
          1.1683596205889433,
          1.910262362641669,
          -0.3319716068998639,
          0.6369101856685699,
          1.2305627181044516,
          0.009236607765067436,
          -1.1610611529835455,
          -0.5951460041814716,
          -0.3859309436973199,
          1.2772343202778578,
          0.45105331684170763,
          0.8913310278045682,
          2.2461724357778765,
          0.8671611404274941,
          -0.9084679347963178,
          -0.42009634182682365,
          -0.18027132005244065,
          0.6850421902521037,
          -1.1601568758024055,
          -0.8886966875641397,
          -0.1593881395933613,
          0.6257031728894613,
          -0.39633640033302586,
          -0.2575710590884075,
          -0.24936745256303702,
          -1.5120328205355116,
          1.1544613291944308,
          0.01973290602766408,
          -0.38296802691344484,
          -0.4313977587137235,
          1.8662596009811432,
          0.04260450444009576,
          -1.4220661594762694,
          -1.685356777380281,
          -1.1270456077765143,
          -0.38721209138365925,
          0.259167116705802,
          -0.22316627067425593,
          1.635084328005414,
          -2.9583463144626703,
          -0.08181424856774482,
          -0.13510674116356763,
          0.47366256715334687,
          1.1763788631291294,
          -1.8896419059732144,
          0.007836036763666107
         ]
        },
        {
         "boxpoints": false,
         "line": {
          "width": 1.3
         },
         "marker": {
          "color": "rgba(50, 171, 96, 1.0)"
         },
         "name": "C",
         "orientation": "v",
         "type": "box",
         "y": [
          0.7377730997892236,
          -1.1030389755810621,
          1.4751934706448089,
          0.7163275619637027,
          -0.18793525120198784,
          -1.4997967427083236,
          0.643213345466464,
          0.4590111364898649,
          -0.3876229520803771,
          -2.008667912157602,
          2.4928627609459486,
          -1.4915146072251595,
          -1.1028249832333714,
          -1.2547247840156839,
          -1.6785726427538314,
          0.03217466686038357,
          0.05036130726282296,
          0.2596466248117348,
          -1.814687929743969,
          0.5153464780970352,
          -2.1666080715199993,
          1.630244539502402,
          -0.1612007848411608,
          -0.11392318675798929,
          0.34446317037597357,
          -1.063371139362935,
          0.31784010331748386,
          0.11860842949055822,
          1.3990597162703728,
          -0.25048174514563804,
          0.07513845049261468,
          1.5219563568056442,
          -2.2030050233156366,
          -0.9911515249358269,
          -0.17553956076957108,
          -0.04382189649560705,
          -1.2098215569998902,
          -1.341748163306357,
          -0.2595630627563207,
          -0.3503010741389833,
          0.407951880298061,
          0.3390248071247096,
          -0.6261417668668742,
          1.6209870553879406,
          -0.17161704150407456,
          0.008862371510253677,
          0.24925974657341216,
          0.6080072287109711,
          0.5810554218657719,
          -1.7991335230987364,
          -0.3287127561472726,
          -0.20414439596547482,
          0.7305614525329794,
          1.272257988636262,
          0.8633204035946619,
          -1.2099485393543716,
          -0.5970212029687801,
          0.4017280631868525,
          0.08571053438085445,
          0.07089128319306941,
          -1.3627492377874084,
          -0.8911780630223399,
          0.6025850094962208,
          0.08348750474826173,
          -0.2513264135468494,
          0.99682265966032,
          -0.09930818865435492,
          -0.27703039314660394,
          -0.2168179142136428,
          -0.6889586903897957,
          0.5263546730665744,
          -2.2600965640460946,
          1.470983069768726,
          0.8482779806112714,
          3.2619614212857986,
          -1.6077629407846308,
          -0.3649678611594507,
          2.4142432860941048,
          1.0489469514815788,
          0.45525480188951034,
          -1.9538860414383217,
          1.906228745837376,
          -0.8354406474978622,
          -0.22095779069381277,
          -0.03591642328322162,
          -1.2787264886778482,
          -0.3083233741363021,
          0.1406733845624421,
          -0.625636475384371,
          0.9276252520133468,
          0.47980324803296176,
          -0.28072587382542963,
          1.0652684103421062,
          0.11599013791717781,
          1.0798778479236106,
          0.40815372563331564,
          0.3557210647833699,
          -0.6956036311657349,
          0.6181513355759167,
          -0.09854092176707027
         ]
        },
        {
         "boxpoints": false,
         "line": {
          "width": 1.3
         },
         "marker": {
          "color": "rgba(128, 0, 128, 1.0)"
         },
         "name": "D",
         "orientation": "v",
         "type": "box",
         "y": [
          -1.780823585893734,
          0.4602590665960138,
          -0.77095243558765,
          -0.12133778922148662,
          0.5902120373652472,
          -0.06893916024692084,
          0.8022773173288474,
          0.8567752152124382,
          -0.9634836880251109,
          -1.0990253199089686,
          0.3010123021386761,
          0.043982641960648355,
          -1.2917884399797137,
          -0.410665850962858,
          0.0946327403643174,
          -0.6482741891994594,
          0.19693767482224722,
          0.6727106219128671,
          0.7814650694890092,
          0.8809369869589234,
          0.5782063413384737,
          -1.1185788706639035,
          1.1550425047984576,
          0.3813117052456318,
          0.5391018445096615,
          0.5217574869263621,
          0.9712112555342638,
          1.4071875147931563,
          0.02836636694116585,
          0.051999588742775285,
          -0.7052848255502274,
          0.19733377644932545,
          0.16441137193235716,
          -0.29381742499736274,
          -0.8268556215966905,
          0.7710939137149534,
          -2.258699431529325,
          -0.362294605271354,
          1.7602514238640574,
          0.7653869242534327,
          -0.4602441867070608,
          0.7555683442100604,
          -0.4561133529338688,
          0.591662526569171,
          0.5308178302398793,
          0.6187338202390603,
          -0.2040626925383586,
          -0.4089840413211076,
          1.0831728485896257,
          1.5064092259126123,
          0.9641259886821941,
          1.2066283492306435,
          -0.16401071310732646,
          -0.9463803276410513,
          0.32013971318654694,
          1.2415326199787506,
          1.468983238419462,
          1.8600040959785045,
          0.7899542506236222,
          -0.5621331574428683,
          0.2544760248206638,
          0.553016773474252,
          -0.8421887668967111,
          -1.4892089647285351,
          -1.0461533048831086,
          -0.3428360821472914,
          1.0385436120242335,
          0.7656414008311992,
          0.7006530694208158,
          -1.3051778143441768,
          0.4652099162555333,
          -1.0345875195220526,
          0.761275797132033,
          -0.9734716524681017,
          -1.326237858417124,
          -0.8177095520548644,
          -1.1900159679196343,
          0.12062767232963065,
          0.43761474959033686,
          0.7057035106724329,
          -1.1638197213072254,
          -0.06146991414586665,
          -0.17954182149817657,
          0.04035176209259629,
          -1.4250431449648164,
          -0.7369965848641916,
          0.048018797888884246,
          -2.047899071207024,
          1.3436966143343252,
          -1.7320219009712923,
          -0.40452740082826294,
          1.3937288534544126,
          1.2286193347039958,
          0.4371853919515951,
          1.2635854050534387,
          -0.7805805442269789,
          -0.9153993534558481,
          -0.0887845209495477,
          0.039705362735055726,
          -0.8163686286010027
         ]
        }
       ],
       "layout": {
        "legend": {
         "bgcolor": "#F5F6F9",
         "font": {
          "color": "#4D5663"
         }
        },
        "paper_bgcolor": "#F5F6F9",
        "plot_bgcolor": "#F5F6F9",
        "template": {
         "data": {
          "bar": [
           {
            "error_x": {
             "color": "#2a3f5f"
            },
            "error_y": {
             "color": "#2a3f5f"
            },
            "marker": {
             "line": {
              "color": "#E5ECF6",
              "width": 0.5
             }
            },
            "type": "bar"
           }
          ],
          "barpolar": [
           {
            "marker": {
             "line": {
              "color": "#E5ECF6",
              "width": 0.5
             }
            },
            "type": "barpolar"
           }
          ],
          "carpet": [
           {
            "aaxis": {
             "endlinecolor": "#2a3f5f",
             "gridcolor": "white",
             "linecolor": "white",
             "minorgridcolor": "white",
             "startlinecolor": "#2a3f5f"
            },
            "baxis": {
             "endlinecolor": "#2a3f5f",
             "gridcolor": "white",
             "linecolor": "white",
             "minorgridcolor": "white",
             "startlinecolor": "#2a3f5f"
            },
            "type": "carpet"
           }
          ],
          "choropleth": [
           {
            "colorbar": {
             "outlinewidth": 0,
             "ticks": ""
            },
            "type": "choropleth"
           }
          ],
          "contour": [
           {
            "colorbar": {
             "outlinewidth": 0,
             "ticks": ""
            },
            "colorscale": [
             [
              0,
              "#0d0887"
             ],
             [
              0.1111111111111111,
              "#46039f"
             ],
             [
              0.2222222222222222,
              "#7201a8"
             ],
             [
              0.3333333333333333,
              "#9c179e"
             ],
             [
              0.4444444444444444,
              "#bd3786"
             ],
             [
              0.5555555555555556,
              "#d8576b"
             ],
             [
              0.6666666666666666,
              "#ed7953"
             ],
             [
              0.7777777777777778,
              "#fb9f3a"
             ],
             [
              0.8888888888888888,
              "#fdca26"
             ],
             [
              1,
              "#f0f921"
             ]
            ],
            "type": "contour"
           }
          ],
          "contourcarpet": [
           {
            "colorbar": {
             "outlinewidth": 0,
             "ticks": ""
            },
            "type": "contourcarpet"
           }
          ],
          "heatmap": [
           {
            "colorbar": {
             "outlinewidth": 0,
             "ticks": ""
            },
            "colorscale": [
             [
              0,
              "#0d0887"
             ],
             [
              0.1111111111111111,
              "#46039f"
             ],
             [
              0.2222222222222222,
              "#7201a8"
             ],
             [
              0.3333333333333333,
              "#9c179e"
             ],
             [
              0.4444444444444444,
              "#bd3786"
             ],
             [
              0.5555555555555556,
              "#d8576b"
             ],
             [
              0.6666666666666666,
              "#ed7953"
             ],
             [
              0.7777777777777778,
              "#fb9f3a"
             ],
             [
              0.8888888888888888,
              "#fdca26"
             ],
             [
              1,
              "#f0f921"
             ]
            ],
            "type": "heatmap"
           }
          ],
          "heatmapgl": [
           {
            "colorbar": {
             "outlinewidth": 0,
             "ticks": ""
            },
            "colorscale": [
             [
              0,
              "#0d0887"
             ],
             [
              0.1111111111111111,
              "#46039f"
             ],
             [
              0.2222222222222222,
              "#7201a8"
             ],
             [
              0.3333333333333333,
              "#9c179e"
             ],
             [
              0.4444444444444444,
              "#bd3786"
             ],
             [
              0.5555555555555556,
              "#d8576b"
             ],
             [
              0.6666666666666666,
              "#ed7953"
             ],
             [
              0.7777777777777778,
              "#fb9f3a"
             ],
             [
              0.8888888888888888,
              "#fdca26"
             ],
             [
              1,
              "#f0f921"
             ]
            ],
            "type": "heatmapgl"
           }
          ],
          "histogram": [
           {
            "marker": {
             "colorbar": {
              "outlinewidth": 0,
              "ticks": ""
             }
            },
            "type": "histogram"
           }
          ],
          "histogram2d": [
           {
            "colorbar": {
             "outlinewidth": 0,
             "ticks": ""
            },
            "colorscale": [
             [
              0,
              "#0d0887"
             ],
             [
              0.1111111111111111,
              "#46039f"
             ],
             [
              0.2222222222222222,
              "#7201a8"
             ],
             [
              0.3333333333333333,
              "#9c179e"
             ],
             [
              0.4444444444444444,
              "#bd3786"
             ],
             [
              0.5555555555555556,
              "#d8576b"
             ],
             [
              0.6666666666666666,
              "#ed7953"
             ],
             [
              0.7777777777777778,
              "#fb9f3a"
             ],
             [
              0.8888888888888888,
              "#fdca26"
             ],
             [
              1,
              "#f0f921"
             ]
            ],
            "type": "histogram2d"
           }
          ],
          "histogram2dcontour": [
           {
            "colorbar": {
             "outlinewidth": 0,
             "ticks": ""
            },
            "colorscale": [
             [
              0,
              "#0d0887"
             ],
             [
              0.1111111111111111,
              "#46039f"
             ],
             [
              0.2222222222222222,
              "#7201a8"
             ],
             [
              0.3333333333333333,
              "#9c179e"
             ],
             [
              0.4444444444444444,
              "#bd3786"
             ],
             [
              0.5555555555555556,
              "#d8576b"
             ],
             [
              0.6666666666666666,
              "#ed7953"
             ],
             [
              0.7777777777777778,
              "#fb9f3a"
             ],
             [
              0.8888888888888888,
              "#fdca26"
             ],
             [
              1,
              "#f0f921"
             ]
            ],
            "type": "histogram2dcontour"
           }
          ],
          "mesh3d": [
           {
            "colorbar": {
             "outlinewidth": 0,
             "ticks": ""
            },
            "type": "mesh3d"
           }
          ],
          "parcoords": [
           {
            "line": {
             "colorbar": {
              "outlinewidth": 0,
              "ticks": ""
             }
            },
            "type": "parcoords"
           }
          ],
          "pie": [
           {
            "automargin": true,
            "type": "pie"
           }
          ],
          "scatter": [
           {
            "marker": {
             "colorbar": {
              "outlinewidth": 0,
              "ticks": ""
             }
            },
            "type": "scatter"
           }
          ],
          "scatter3d": [
           {
            "line": {
             "colorbar": {
              "outlinewidth": 0,
              "ticks": ""
             }
            },
            "marker": {
             "colorbar": {
              "outlinewidth": 0,
              "ticks": ""
             }
            },
            "type": "scatter3d"
           }
          ],
          "scattercarpet": [
           {
            "marker": {
             "colorbar": {
              "outlinewidth": 0,
              "ticks": ""
             }
            },
            "type": "scattercarpet"
           }
          ],
          "scattergeo": [
           {
            "marker": {
             "colorbar": {
              "outlinewidth": 0,
              "ticks": ""
             }
            },
            "type": "scattergeo"
           }
          ],
          "scattergl": [
           {
            "marker": {
             "colorbar": {
              "outlinewidth": 0,
              "ticks": ""
             }
            },
            "type": "scattergl"
           }
          ],
          "scattermapbox": [
           {
            "marker": {
             "colorbar": {
              "outlinewidth": 0,
              "ticks": ""
             }
            },
            "type": "scattermapbox"
           }
          ],
          "scatterpolar": [
           {
            "marker": {
             "colorbar": {
              "outlinewidth": 0,
              "ticks": ""
             }
            },
            "type": "scatterpolar"
           }
          ],
          "scatterpolargl": [
           {
            "marker": {
             "colorbar": {
              "outlinewidth": 0,
              "ticks": ""
             }
            },
            "type": "scatterpolargl"
           }
          ],
          "scatterternary": [
           {
            "marker": {
             "colorbar": {
              "outlinewidth": 0,
              "ticks": ""
             }
            },
            "type": "scatterternary"
           }
          ],
          "surface": [
           {
            "colorbar": {
             "outlinewidth": 0,
             "ticks": ""
            },
            "colorscale": [
             [
              0,
              "#0d0887"
             ],
             [
              0.1111111111111111,
              "#46039f"
             ],
             [
              0.2222222222222222,
              "#7201a8"
             ],
             [
              0.3333333333333333,
              "#9c179e"
             ],
             [
              0.4444444444444444,
              "#bd3786"
             ],
             [
              0.5555555555555556,
              "#d8576b"
             ],
             [
              0.6666666666666666,
              "#ed7953"
             ],
             [
              0.7777777777777778,
              "#fb9f3a"
             ],
             [
              0.8888888888888888,
              "#fdca26"
             ],
             [
              1,
              "#f0f921"
             ]
            ],
            "type": "surface"
           }
          ],
          "table": [
           {
            "cells": {
             "fill": {
              "color": "#EBF0F8"
             },
             "line": {
              "color": "white"
             }
            },
            "header": {
             "fill": {
              "color": "#C8D4E3"
             },
             "line": {
              "color": "white"
             }
            },
            "type": "table"
           }
          ]
         },
         "layout": {
          "annotationdefaults": {
           "arrowcolor": "#2a3f5f",
           "arrowhead": 0,
           "arrowwidth": 1
          },
          "coloraxis": {
           "colorbar": {
            "outlinewidth": 0,
            "ticks": ""
           }
          },
          "colorscale": {
           "diverging": [
            [
             0,
             "#8e0152"
            ],
            [
             0.1,
             "#c51b7d"
            ],
            [
             0.2,
             "#de77ae"
            ],
            [
             0.3,
             "#f1b6da"
            ],
            [
             0.4,
             "#fde0ef"
            ],
            [
             0.5,
             "#f7f7f7"
            ],
            [
             0.6,
             "#e6f5d0"
            ],
            [
             0.7,
             "#b8e186"
            ],
            [
             0.8,
             "#7fbc41"
            ],
            [
             0.9,
             "#4d9221"
            ],
            [
             1,
             "#276419"
            ]
           ],
           "sequential": [
            [
             0,
             "#0d0887"
            ],
            [
             0.1111111111111111,
             "#46039f"
            ],
            [
             0.2222222222222222,
             "#7201a8"
            ],
            [
             0.3333333333333333,
             "#9c179e"
            ],
            [
             0.4444444444444444,
             "#bd3786"
            ],
            [
             0.5555555555555556,
             "#d8576b"
            ],
            [
             0.6666666666666666,
             "#ed7953"
            ],
            [
             0.7777777777777778,
             "#fb9f3a"
            ],
            [
             0.8888888888888888,
             "#fdca26"
            ],
            [
             1,
             "#f0f921"
            ]
           ],
           "sequentialminus": [
            [
             0,
             "#0d0887"
            ],
            [
             0.1111111111111111,
             "#46039f"
            ],
            [
             0.2222222222222222,
             "#7201a8"
            ],
            [
             0.3333333333333333,
             "#9c179e"
            ],
            [
             0.4444444444444444,
             "#bd3786"
            ],
            [
             0.5555555555555556,
             "#d8576b"
            ],
            [
             0.6666666666666666,
             "#ed7953"
            ],
            [
             0.7777777777777778,
             "#fb9f3a"
            ],
            [
             0.8888888888888888,
             "#fdca26"
            ],
            [
             1,
             "#f0f921"
            ]
           ]
          },
          "colorway": [
           "#636efa",
           "#EF553B",
           "#00cc96",
           "#ab63fa",
           "#FFA15A",
           "#19d3f3",
           "#FF6692",
           "#B6E880",
           "#FF97FF",
           "#FECB52"
          ],
          "font": {
           "color": "#2a3f5f"
          },
          "geo": {
           "bgcolor": "white",
           "lakecolor": "white",
           "landcolor": "#E5ECF6",
           "showlakes": true,
           "showland": true,
           "subunitcolor": "white"
          },
          "hoverlabel": {
           "align": "left"
          },
          "hovermode": "closest",
          "mapbox": {
           "style": "light"
          },
          "paper_bgcolor": "white",
          "plot_bgcolor": "#E5ECF6",
          "polar": {
           "angularaxis": {
            "gridcolor": "white",
            "linecolor": "white",
            "ticks": ""
           },
           "bgcolor": "#E5ECF6",
           "radialaxis": {
            "gridcolor": "white",
            "linecolor": "white",
            "ticks": ""
           }
          },
          "scene": {
           "xaxis": {
            "backgroundcolor": "#E5ECF6",
            "gridcolor": "white",
            "gridwidth": 2,
            "linecolor": "white",
            "showbackground": true,
            "ticks": "",
            "zerolinecolor": "white"
           },
           "yaxis": {
            "backgroundcolor": "#E5ECF6",
            "gridcolor": "white",
            "gridwidth": 2,
            "linecolor": "white",
            "showbackground": true,
            "ticks": "",
            "zerolinecolor": "white"
           },
           "zaxis": {
            "backgroundcolor": "#E5ECF6",
            "gridcolor": "white",
            "gridwidth": 2,
            "linecolor": "white",
            "showbackground": true,
            "ticks": "",
            "zerolinecolor": "white"
           }
          },
          "shapedefaults": {
           "line": {
            "color": "#2a3f5f"
           }
          },
          "ternary": {
           "aaxis": {
            "gridcolor": "white",
            "linecolor": "white",
            "ticks": ""
           },
           "baxis": {
            "gridcolor": "white",
            "linecolor": "white",
            "ticks": ""
           },
           "bgcolor": "#E5ECF6",
           "caxis": {
            "gridcolor": "white",
            "linecolor": "white",
            "ticks": ""
           }
          },
          "title": {
           "x": 0.05
          },
          "xaxis": {
           "automargin": true,
           "gridcolor": "white",
           "linecolor": "white",
           "ticks": "",
           "title": {
            "standoff": 15
           },
           "zerolinecolor": "white",
           "zerolinewidth": 2
          },
          "yaxis": {
           "automargin": true,
           "gridcolor": "white",
           "linecolor": "white",
           "ticks": "",
           "title": {
            "standoff": 15
           },
           "zerolinecolor": "white",
           "zerolinewidth": 2
          }
         }
        },
        "title": {
         "font": {
          "color": "#4D5663"
         }
        },
        "xaxis": {
         "gridcolor": "#E1E5ED",
         "showgrid": true,
         "tickfont": {
          "color": "#4D5663"
         },
         "title": {
          "font": {
           "color": "#4D5663"
          },
          "text": ""
         },
         "zerolinecolor": "#E1E5ED"
        },
        "yaxis": {
         "gridcolor": "#E1E5ED",
         "showgrid": true,
         "tickfont": {
          "color": "#4D5663"
         },
         "title": {
          "font": {
           "color": "#4D5663"
          },
          "text": ""
         },
         "zerolinecolor": "#E1E5ED"
        }
       }
      },
      "text/html": [
       "<div>                            <div id=\"d101eaea-b758-44fc-a285-050d2e57533f\" class=\"plotly-graph-div\" style=\"height:525px; width:100%;\"></div>            <script type=\"text/javascript\">                require([\"plotly\"], function(Plotly) {                    window.PLOTLYENV=window.PLOTLYENV || {};\n",
       "                    window.PLOTLYENV.BASE_URL='https://plot.ly';                                    if (document.getElementById(\"d101eaea-b758-44fc-a285-050d2e57533f\")) {                    Plotly.newPlot(                        \"d101eaea-b758-44fc-a285-050d2e57533f\",                        [{\"boxpoints\": false, \"line\": {\"width\": 1.3}, \"marker\": {\"color\": \"rgba(255, 153, 51, 1.0)\"}, \"name\": \"A\", \"orientation\": \"v\", \"type\": \"box\", \"y\": [-1.5165215335635371, 1.2385294899836377, 0.18675435261297058, -0.49404178733345255, 0.9638783524597756, -1.1032901032155455, 0.8489612205492174, 0.9903890863731017, -1.3703522449279018, -0.5776566150555577, -0.31321057904966493, -1.62657976260777, -1.006701588728278, 1.1360103276196873, 0.6096235839787069, -1.3807990089203603, -0.36237146775748713, -0.5950154460828271, 1.3888123369070282, -1.3629622910143322, -1.1038735970945992, 1.337348295283731, 1.1667957765059276, -1.2086935425656429, 0.24972766483940562, 0.29999954775204385, 1.0667440982430194, -0.1741452761097413, 0.29560646351069414, 1.2851980496441235, -1.5822045088416392, 0.2332157433742438, -0.8216180482229304, 0.36846289942020066, 1.6914889255493009, 0.05294197198387387, 1.6522250061531598, 0.3806122062538394, 0.2281787015714965, 0.13943357370996548, 0.7737513704163842, 1.2632113994240495, -2.0723185151193118, 0.3148357541550536, 0.9775459023887758, 0.4890519952231019, 0.019788575261866545, 0.5255271325555345, 1.6814084764377233, 0.5767167314074976, 0.20677363770809085, 0.1860110033699774, 0.21407497739434397, 0.7365607951031639, -0.7857728014462609, 0.009524836979279003, 0.38612916910565903, 0.1502359587507458, 0.9892286676253292, 0.39444327636869897, 1.120472350623712, 2.572635263308814, 0.16353567449977097, -0.3413603098431363, 0.11982063910290328, -1.3444523091154967, -1.0451078274259888, 0.7804874333757548, -0.10032354166879094, 1.7827722897587395, -1.0946905294595737, -0.2510276890016824, 0.9673217921938824, -1.0165640371463203, 0.0690990527382664, -0.8510879315244121, 0.43904889330463176, -1.337878368147962, 0.09750269879021287, 1.1447728728037032, -0.39997693269254425, 0.5229998031018618, -0.4292225098792032, 0.9378316216532356, -0.7677501218695141, 1.9137196189172991, 0.5216008014414507, -1.0851954812245894, 0.5878201563359909, 0.6262055363577997, 1.0657701838435691, -0.5129968730608664, 1.2712310563424316, 1.0526472276252596, 2.007007712904021, -1.2458742116352368, -0.3561372960571573, -0.09014992621817493, 0.7230413885756098, 1.4489088916499433]}, {\"boxpoints\": false, \"line\": {\"width\": 1.3}, \"marker\": {\"color\": \"rgba(55, 128, 191, 1.0)\"}, \"name\": \"B\", \"orientation\": \"v\", \"type\": \"box\", \"y\": [-0.8345574062307446, 0.3869389335155712, 0.07782933474576627, 1.1899116450030662, 2.4118231293099672, -0.7517168932626798, 0.04236231146362457, 0.07190511226430284, 1.6380670778590334, 2.0602606596455915, -2.163922132520172, -0.4433154616526229, -0.04538211676815623, -0.9165373914796289, 0.22401956064621992, 0.0003599773765519304, -1.563708728474769, -1.5376343933124736, -0.7870693396201344, 0.33457351738130175, -1.7354039335286253, 1.7113719623174346, -0.8120715211093109, 0.3253747617458604, -0.31843112066991935, -1.7196215520469333, 1.0739113471545714, -0.893491898851701, -1.6629737232258517, -1.0306910440740462, 0.9726511881554111, 0.5494664293783664, -0.7708942552672302, 0.192978809265206, -0.7348978845939232, -1.3345561541206306, 0.5165025336657605, 0.31478413024677826, 0.6355748238320479, 0.8652446833342713, -2.6658532132036394, 0.2961008150075696, -0.9156752032343806, -2.350156615366018, 0.459285791821168, -0.30922541782709606, -0.1428120757566868, -1.2332716277002955, -1.3161739795186747, 1.2495199734510636, 0.12846392054830044, -0.2417375476858517, -1.30909234945247, -1.2082763653082, 1.1683596205889433, 1.910262362641669, -0.3319716068998639, 0.6369101856685699, 1.2305627181044516, 0.009236607765067436, -1.1610611529835455, -0.5951460041814716, -0.3859309436973199, 1.2772343202778578, 0.45105331684170763, 0.8913310278045682, 2.2461724357778765, 0.8671611404274941, -0.9084679347963178, -0.42009634182682365, -0.18027132005244065, 0.6850421902521037, -1.1601568758024055, -0.8886966875641397, -0.1593881395933613, 0.6257031728894613, -0.39633640033302586, -0.2575710590884075, -0.24936745256303702, -1.5120328205355116, 1.1544613291944308, 0.01973290602766408, -0.38296802691344484, -0.4313977587137235, 1.8662596009811432, 0.04260450444009576, -1.4220661594762694, -1.685356777380281, -1.1270456077765143, -0.38721209138365925, 0.259167116705802, -0.22316627067425593, 1.635084328005414, -2.9583463144626703, -0.08181424856774482, -0.13510674116356763, 0.47366256715334687, 1.1763788631291294, -1.8896419059732144, 0.007836036763666107]}, {\"boxpoints\": false, \"line\": {\"width\": 1.3}, \"marker\": {\"color\": \"rgba(50, 171, 96, 1.0)\"}, \"name\": \"C\", \"orientation\": \"v\", \"type\": \"box\", \"y\": [0.7377730997892236, -1.1030389755810621, 1.4751934706448089, 0.7163275619637027, -0.18793525120198784, -1.4997967427083236, 0.643213345466464, 0.4590111364898649, -0.3876229520803771, -2.008667912157602, 2.4928627609459486, -1.4915146072251595, -1.1028249832333714, -1.2547247840156839, -1.6785726427538314, 0.03217466686038357, 0.05036130726282296, 0.2596466248117348, -1.814687929743969, 0.5153464780970352, -2.1666080715199993, 1.630244539502402, -0.1612007848411608, -0.11392318675798929, 0.34446317037597357, -1.063371139362935, 0.31784010331748386, 0.11860842949055822, 1.3990597162703728, -0.25048174514563804, 0.07513845049261468, 1.5219563568056442, -2.2030050233156366, -0.9911515249358269, -0.17553956076957108, -0.04382189649560705, -1.2098215569998902, -1.341748163306357, -0.2595630627563207, -0.3503010741389833, 0.407951880298061, 0.3390248071247096, -0.6261417668668742, 1.6209870553879406, -0.17161704150407456, 0.008862371510253677, 0.24925974657341216, 0.6080072287109711, 0.5810554218657719, -1.7991335230987364, -0.3287127561472726, -0.20414439596547482, 0.7305614525329794, 1.272257988636262, 0.8633204035946619, -1.2099485393543716, -0.5970212029687801, 0.4017280631868525, 0.08571053438085445, 0.07089128319306941, -1.3627492377874084, -0.8911780630223399, 0.6025850094962208, 0.08348750474826173, -0.2513264135468494, 0.99682265966032, -0.09930818865435492, -0.27703039314660394, -0.2168179142136428, -0.6889586903897957, 0.5263546730665744, -2.2600965640460946, 1.470983069768726, 0.8482779806112714, 3.2619614212857986, -1.6077629407846308, -0.3649678611594507, 2.4142432860941048, 1.0489469514815788, 0.45525480188951034, -1.9538860414383217, 1.906228745837376, -0.8354406474978622, -0.22095779069381277, -0.03591642328322162, -1.2787264886778482, -0.3083233741363021, 0.1406733845624421, -0.625636475384371, 0.9276252520133468, 0.47980324803296176, -0.28072587382542963, 1.0652684103421062, 0.11599013791717781, 1.0798778479236106, 0.40815372563331564, 0.3557210647833699, -0.6956036311657349, 0.6181513355759167, -0.09854092176707027]}, {\"boxpoints\": false, \"line\": {\"width\": 1.3}, \"marker\": {\"color\": \"rgba(128, 0, 128, 1.0)\"}, \"name\": \"D\", \"orientation\": \"v\", \"type\": \"box\", \"y\": [-1.780823585893734, 0.4602590665960138, -0.77095243558765, -0.12133778922148662, 0.5902120373652472, -0.06893916024692084, 0.8022773173288474, 0.8567752152124382, -0.9634836880251109, -1.0990253199089686, 0.3010123021386761, 0.043982641960648355, -1.2917884399797137, -0.410665850962858, 0.0946327403643174, -0.6482741891994594, 0.19693767482224722, 0.6727106219128671, 0.7814650694890092, 0.8809369869589234, 0.5782063413384737, -1.1185788706639035, 1.1550425047984576, 0.3813117052456318, 0.5391018445096615, 0.5217574869263621, 0.9712112555342638, 1.4071875147931563, 0.02836636694116585, 0.051999588742775285, -0.7052848255502274, 0.19733377644932545, 0.16441137193235716, -0.29381742499736274, -0.8268556215966905, 0.7710939137149534, -2.258699431529325, -0.362294605271354, 1.7602514238640574, 0.7653869242534327, -0.4602441867070608, 0.7555683442100604, -0.4561133529338688, 0.591662526569171, 0.5308178302398793, 0.6187338202390603, -0.2040626925383586, -0.4089840413211076, 1.0831728485896257, 1.5064092259126123, 0.9641259886821941, 1.2066283492306435, -0.16401071310732646, -0.9463803276410513, 0.32013971318654694, 1.2415326199787506, 1.468983238419462, 1.8600040959785045, 0.7899542506236222, -0.5621331574428683, 0.2544760248206638, 0.553016773474252, -0.8421887668967111, -1.4892089647285351, -1.0461533048831086, -0.3428360821472914, 1.0385436120242335, 0.7656414008311992, 0.7006530694208158, -1.3051778143441768, 0.4652099162555333, -1.0345875195220526, 0.761275797132033, -0.9734716524681017, -1.326237858417124, -0.8177095520548644, -1.1900159679196343, 0.12062767232963065, 0.43761474959033686, 0.7057035106724329, -1.1638197213072254, -0.06146991414586665, -0.17954182149817657, 0.04035176209259629, -1.4250431449648164, -0.7369965848641916, 0.048018797888884246, -2.047899071207024, 1.3436966143343252, -1.7320219009712923, -0.40452740082826294, 1.3937288534544126, 1.2286193347039958, 0.4371853919515951, 1.2635854050534387, -0.7805805442269789, -0.9153993534558481, -0.0887845209495477, 0.039705362735055726, -0.8163686286010027]}],                        {\"legend\": {\"bgcolor\": \"#F5F6F9\", \"font\": {\"color\": \"#4D5663\"}}, \"paper_bgcolor\": \"#F5F6F9\", \"plot_bgcolor\": \"#F5F6F9\", \"template\": {\"data\": {\"bar\": [{\"error_x\": {\"color\": \"#2a3f5f\"}, \"error_y\": {\"color\": \"#2a3f5f\"}, \"marker\": {\"line\": {\"color\": \"#E5ECF6\", \"width\": 0.5}}, \"type\": \"bar\"}], \"barpolar\": [{\"marker\": {\"line\": {\"color\": \"#E5ECF6\", \"width\": 0.5}}, \"type\": \"barpolar\"}], \"carpet\": [{\"aaxis\": {\"endlinecolor\": \"#2a3f5f\", \"gridcolor\": \"white\", \"linecolor\": \"white\", \"minorgridcolor\": \"white\", \"startlinecolor\": \"#2a3f5f\"}, \"baxis\": {\"endlinecolor\": \"#2a3f5f\", \"gridcolor\": \"white\", \"linecolor\": \"white\", \"minorgridcolor\": \"white\", \"startlinecolor\": \"#2a3f5f\"}, \"type\": \"carpet\"}], \"choropleth\": [{\"colorbar\": {\"outlinewidth\": 0, \"ticks\": \"\"}, \"type\": \"choropleth\"}], \"contour\": [{\"colorbar\": {\"outlinewidth\": 0, \"ticks\": \"\"}, \"colorscale\": [[0.0, \"#0d0887\"], [0.1111111111111111, \"#46039f\"], [0.2222222222222222, \"#7201a8\"], [0.3333333333333333, \"#9c179e\"], [0.4444444444444444, \"#bd3786\"], [0.5555555555555556, \"#d8576b\"], [0.6666666666666666, \"#ed7953\"], [0.7777777777777778, \"#fb9f3a\"], [0.8888888888888888, \"#fdca26\"], [1.0, \"#f0f921\"]], \"type\": \"contour\"}], \"contourcarpet\": [{\"colorbar\": {\"outlinewidth\": 0, \"ticks\": \"\"}, \"type\": \"contourcarpet\"}], \"heatmap\": [{\"colorbar\": {\"outlinewidth\": 0, \"ticks\": \"\"}, \"colorscale\": [[0.0, \"#0d0887\"], [0.1111111111111111, \"#46039f\"], [0.2222222222222222, \"#7201a8\"], [0.3333333333333333, \"#9c179e\"], [0.4444444444444444, \"#bd3786\"], [0.5555555555555556, \"#d8576b\"], [0.6666666666666666, \"#ed7953\"], [0.7777777777777778, \"#fb9f3a\"], [0.8888888888888888, \"#fdca26\"], [1.0, \"#f0f921\"]], \"type\": \"heatmap\"}], \"heatmapgl\": [{\"colorbar\": {\"outlinewidth\": 0, \"ticks\": \"\"}, \"colorscale\": [[0.0, \"#0d0887\"], [0.1111111111111111, \"#46039f\"], [0.2222222222222222, \"#7201a8\"], [0.3333333333333333, \"#9c179e\"], [0.4444444444444444, \"#bd3786\"], [0.5555555555555556, \"#d8576b\"], [0.6666666666666666, \"#ed7953\"], [0.7777777777777778, \"#fb9f3a\"], [0.8888888888888888, \"#fdca26\"], [1.0, \"#f0f921\"]], \"type\": \"heatmapgl\"}], \"histogram\": [{\"marker\": {\"colorbar\": {\"outlinewidth\": 0, \"ticks\": \"\"}}, \"type\": \"histogram\"}], \"histogram2d\": [{\"colorbar\": {\"outlinewidth\": 0, \"ticks\": \"\"}, \"colorscale\": [[0.0, \"#0d0887\"], [0.1111111111111111, \"#46039f\"], [0.2222222222222222, \"#7201a8\"], [0.3333333333333333, \"#9c179e\"], [0.4444444444444444, \"#bd3786\"], [0.5555555555555556, \"#d8576b\"], [0.6666666666666666, \"#ed7953\"], [0.7777777777777778, \"#fb9f3a\"], [0.8888888888888888, \"#fdca26\"], [1.0, \"#f0f921\"]], \"type\": \"histogram2d\"}], \"histogram2dcontour\": [{\"colorbar\": {\"outlinewidth\": 0, \"ticks\": \"\"}, \"colorscale\": [[0.0, \"#0d0887\"], [0.1111111111111111, \"#46039f\"], [0.2222222222222222, \"#7201a8\"], [0.3333333333333333, \"#9c179e\"], [0.4444444444444444, \"#bd3786\"], [0.5555555555555556, \"#d8576b\"], [0.6666666666666666, \"#ed7953\"], [0.7777777777777778, \"#fb9f3a\"], [0.8888888888888888, \"#fdca26\"], [1.0, \"#f0f921\"]], \"type\": \"histogram2dcontour\"}], \"mesh3d\": [{\"colorbar\": {\"outlinewidth\": 0, \"ticks\": \"\"}, \"type\": \"mesh3d\"}], \"parcoords\": [{\"line\": {\"colorbar\": {\"outlinewidth\": 0, \"ticks\": \"\"}}, \"type\": \"parcoords\"}], \"pie\": [{\"automargin\": true, \"type\": \"pie\"}], \"scatter\": [{\"marker\": {\"colorbar\": {\"outlinewidth\": 0, \"ticks\": \"\"}}, \"type\": \"scatter\"}], \"scatter3d\": [{\"line\": {\"colorbar\": {\"outlinewidth\": 0, \"ticks\": \"\"}}, \"marker\": {\"colorbar\": {\"outlinewidth\": 0, \"ticks\": \"\"}}, \"type\": \"scatter3d\"}], \"scattercarpet\": [{\"marker\": {\"colorbar\": {\"outlinewidth\": 0, \"ticks\": \"\"}}, \"type\": \"scattercarpet\"}], \"scattergeo\": [{\"marker\": {\"colorbar\": {\"outlinewidth\": 0, \"ticks\": \"\"}}, \"type\": \"scattergeo\"}], \"scattergl\": [{\"marker\": {\"colorbar\": {\"outlinewidth\": 0, \"ticks\": \"\"}}, \"type\": \"scattergl\"}], \"scattermapbox\": [{\"marker\": {\"colorbar\": {\"outlinewidth\": 0, \"ticks\": \"\"}}, \"type\": \"scattermapbox\"}], \"scatterpolar\": [{\"marker\": {\"colorbar\": {\"outlinewidth\": 0, \"ticks\": \"\"}}, \"type\": \"scatterpolar\"}], \"scatterpolargl\": [{\"marker\": {\"colorbar\": {\"outlinewidth\": 0, \"ticks\": \"\"}}, \"type\": \"scatterpolargl\"}], \"scatterternary\": [{\"marker\": {\"colorbar\": {\"outlinewidth\": 0, \"ticks\": \"\"}}, \"type\": \"scatterternary\"}], \"surface\": [{\"colorbar\": {\"outlinewidth\": 0, \"ticks\": \"\"}, \"colorscale\": [[0.0, \"#0d0887\"], [0.1111111111111111, \"#46039f\"], [0.2222222222222222, \"#7201a8\"], [0.3333333333333333, \"#9c179e\"], [0.4444444444444444, \"#bd3786\"], [0.5555555555555556, \"#d8576b\"], [0.6666666666666666, \"#ed7953\"], [0.7777777777777778, \"#fb9f3a\"], [0.8888888888888888, \"#fdca26\"], [1.0, \"#f0f921\"]], \"type\": \"surface\"}], \"table\": [{\"cells\": {\"fill\": {\"color\": \"#EBF0F8\"}, \"line\": {\"color\": \"white\"}}, \"header\": {\"fill\": {\"color\": \"#C8D4E3\"}, \"line\": {\"color\": \"white\"}}, \"type\": \"table\"}]}, \"layout\": {\"annotationdefaults\": {\"arrowcolor\": \"#2a3f5f\", \"arrowhead\": 0, \"arrowwidth\": 1}, \"coloraxis\": {\"colorbar\": {\"outlinewidth\": 0, \"ticks\": \"\"}}, \"colorscale\": {\"diverging\": [[0, \"#8e0152\"], [0.1, \"#c51b7d\"], [0.2, \"#de77ae\"], [0.3, \"#f1b6da\"], [0.4, \"#fde0ef\"], [0.5, \"#f7f7f7\"], [0.6, \"#e6f5d0\"], [0.7, \"#b8e186\"], [0.8, \"#7fbc41\"], [0.9, \"#4d9221\"], [1, \"#276419\"]], \"sequential\": [[0.0, \"#0d0887\"], [0.1111111111111111, \"#46039f\"], [0.2222222222222222, \"#7201a8\"], [0.3333333333333333, \"#9c179e\"], [0.4444444444444444, \"#bd3786\"], [0.5555555555555556, \"#d8576b\"], [0.6666666666666666, \"#ed7953\"], [0.7777777777777778, \"#fb9f3a\"], [0.8888888888888888, \"#fdca26\"], [1.0, \"#f0f921\"]], \"sequentialminus\": [[0.0, \"#0d0887\"], [0.1111111111111111, \"#46039f\"], [0.2222222222222222, \"#7201a8\"], [0.3333333333333333, \"#9c179e\"], [0.4444444444444444, \"#bd3786\"], [0.5555555555555556, \"#d8576b\"], [0.6666666666666666, \"#ed7953\"], [0.7777777777777778, \"#fb9f3a\"], [0.8888888888888888, \"#fdca26\"], [1.0, \"#f0f921\"]]}, \"colorway\": [\"#636efa\", \"#EF553B\", \"#00cc96\", \"#ab63fa\", \"#FFA15A\", \"#19d3f3\", \"#FF6692\", \"#B6E880\", \"#FF97FF\", \"#FECB52\"], \"font\": {\"color\": \"#2a3f5f\"}, \"geo\": {\"bgcolor\": \"white\", \"lakecolor\": \"white\", \"landcolor\": \"#E5ECF6\", \"showlakes\": true, \"showland\": true, \"subunitcolor\": \"white\"}, \"hoverlabel\": {\"align\": \"left\"}, \"hovermode\": \"closest\", \"mapbox\": {\"style\": \"light\"}, \"paper_bgcolor\": \"white\", \"plot_bgcolor\": \"#E5ECF6\", \"polar\": {\"angularaxis\": {\"gridcolor\": \"white\", \"linecolor\": \"white\", \"ticks\": \"\"}, \"bgcolor\": \"#E5ECF6\", \"radialaxis\": {\"gridcolor\": \"white\", \"linecolor\": \"white\", \"ticks\": \"\"}}, \"scene\": {\"xaxis\": {\"backgroundcolor\": \"#E5ECF6\", \"gridcolor\": \"white\", \"gridwidth\": 2, \"linecolor\": \"white\", \"showbackground\": true, \"ticks\": \"\", \"zerolinecolor\": \"white\"}, \"yaxis\": {\"backgroundcolor\": \"#E5ECF6\", \"gridcolor\": \"white\", \"gridwidth\": 2, \"linecolor\": \"white\", \"showbackground\": true, \"ticks\": \"\", \"zerolinecolor\": \"white\"}, \"zaxis\": {\"backgroundcolor\": \"#E5ECF6\", \"gridcolor\": \"white\", \"gridwidth\": 2, \"linecolor\": \"white\", \"showbackground\": true, \"ticks\": \"\", \"zerolinecolor\": \"white\"}}, \"shapedefaults\": {\"line\": {\"color\": \"#2a3f5f\"}}, \"ternary\": {\"aaxis\": {\"gridcolor\": \"white\", \"linecolor\": \"white\", \"ticks\": \"\"}, \"baxis\": {\"gridcolor\": \"white\", \"linecolor\": \"white\", \"ticks\": \"\"}, \"bgcolor\": \"#E5ECF6\", \"caxis\": {\"gridcolor\": \"white\", \"linecolor\": \"white\", \"ticks\": \"\"}}, \"title\": {\"x\": 0.05}, \"xaxis\": {\"automargin\": true, \"gridcolor\": \"white\", \"linecolor\": \"white\", \"ticks\": \"\", \"title\": {\"standoff\": 15}, \"zerolinecolor\": \"white\", \"zerolinewidth\": 2}, \"yaxis\": {\"automargin\": true, \"gridcolor\": \"white\", \"linecolor\": \"white\", \"ticks\": \"\", \"title\": {\"standoff\": 15}, \"zerolinecolor\": \"white\", \"zerolinewidth\": 2}}}, \"title\": {\"font\": {\"color\": \"#4D5663\"}}, \"xaxis\": {\"gridcolor\": \"#E1E5ED\", \"showgrid\": true, \"tickfont\": {\"color\": \"#4D5663\"}, \"title\": {\"font\": {\"color\": \"#4D5663\"}, \"text\": \"\"}, \"zerolinecolor\": \"#E1E5ED\"}, \"yaxis\": {\"gridcolor\": \"#E1E5ED\", \"showgrid\": true, \"tickfont\": {\"color\": \"#4D5663\"}, \"title\": {\"font\": {\"color\": \"#4D5663\"}, \"text\": \"\"}, \"zerolinecolor\": \"#E1E5ED\"}},                        {\"showLink\": true, \"linkText\": \"Export to plot.ly\", \"plotlyServerURL\": \"https://plot.ly\", \"responsive\": true}                    ).then(function(){\n",
       "                            \n",
       "var gd = document.getElementById('d101eaea-b758-44fc-a285-050d2e57533f');\n",
       "var x = new MutationObserver(function (mutations, observer) {{\n",
       "        var display = window.getComputedStyle(gd).display;\n",
       "        if (!display || display === 'none') {{\n",
       "            console.log([gd, 'removed!']);\n",
       "            Plotly.purge(gd);\n",
       "            observer.disconnect();\n",
       "        }}\n",
       "}});\n",
       "\n",
       "// Listen for the removal of the full notebook cells\n",
       "var notebookContainer = gd.closest('#notebook-container');\n",
       "if (notebookContainer) {{\n",
       "    x.observe(notebookContainer, {childList: true});\n",
       "}}\n",
       "\n",
       "// Listen for the clearing of the current output cell\n",
       "var outputEl = gd.closest('.output');\n",
       "if (outputEl) {{\n",
       "    x.observe(outputEl, {childList: true});\n",
       "}}\n",
       "\n",
       "                        })                };                });            </script>        </div>"
      ]
     },
     "metadata": {},
     "output_type": "display_data"
    }
   ],
   "source": [
    "df.iplot(kind='box')"
   ]
  },
  {
   "cell_type": "markdown",
   "metadata": {},
   "source": [
    "## 3d Surface"
   ]
  },
  {
   "cell_type": "code",
   "execution_count": 19,
   "metadata": {},
   "outputs": [
    {
     "data": {
      "application/vnd.plotly.v1+json": {
       "config": {
        "linkText": "Export to plot.ly",
        "plotlyServerURL": "https://plot.ly",
        "showLink": true
       },
       "data": [
        {
         "colorscale": [
          [
           0,
           "rgb(165,0,38)"
          ],
          [
           0.1,
           "rgb(215,48,39)"
          ],
          [
           0.2,
           "rgb(244,109,67)"
          ],
          [
           0.3,
           "rgb(253,174,97)"
          ],
          [
           0.4,
           "rgb(254,224,144)"
          ],
          [
           0.5,
           "rgb(255,255,191)"
          ],
          [
           0.6,
           "rgb(224,243,248)"
          ],
          [
           0.7,
           "rgb(171,217,233)"
          ],
          [
           0.8,
           "rgb(116,173,209)"
          ],
          [
           0.9,
           "rgb(69,117,180)"
          ],
          [
           1,
           "rgb(49,54,149)"
          ]
         ],
         "type": "surface",
         "x": [
          0,
          1,
          2,
          3,
          4
         ],
         "y": [
          "x",
          "y",
          "z"
         ],
         "z": [
          [
           1,
           2,
           3,
           4,
           5
          ],
          [
           10,
           20,
           30,
           20,
           10
          ],
          [
           5,
           4,
           3,
           2,
           1
          ]
         ]
        }
       ],
       "layout": {
        "legend": {
         "bgcolor": "#F5F6F9",
         "font": {
          "color": "#4D5663"
         }
        },
        "paper_bgcolor": "#F5F6F9",
        "plot_bgcolor": "#F5F6F9",
        "template": {
         "data": {
          "bar": [
           {
            "error_x": {
             "color": "#2a3f5f"
            },
            "error_y": {
             "color": "#2a3f5f"
            },
            "marker": {
             "line": {
              "color": "#E5ECF6",
              "width": 0.5
             }
            },
            "type": "bar"
           }
          ],
          "barpolar": [
           {
            "marker": {
             "line": {
              "color": "#E5ECF6",
              "width": 0.5
             }
            },
            "type": "barpolar"
           }
          ],
          "carpet": [
           {
            "aaxis": {
             "endlinecolor": "#2a3f5f",
             "gridcolor": "white",
             "linecolor": "white",
             "minorgridcolor": "white",
             "startlinecolor": "#2a3f5f"
            },
            "baxis": {
             "endlinecolor": "#2a3f5f",
             "gridcolor": "white",
             "linecolor": "white",
             "minorgridcolor": "white",
             "startlinecolor": "#2a3f5f"
            },
            "type": "carpet"
           }
          ],
          "choropleth": [
           {
            "colorbar": {
             "outlinewidth": 0,
             "ticks": ""
            },
            "type": "choropleth"
           }
          ],
          "contour": [
           {
            "colorbar": {
             "outlinewidth": 0,
             "ticks": ""
            },
            "colorscale": [
             [
              0,
              "#0d0887"
             ],
             [
              0.1111111111111111,
              "#46039f"
             ],
             [
              0.2222222222222222,
              "#7201a8"
             ],
             [
              0.3333333333333333,
              "#9c179e"
             ],
             [
              0.4444444444444444,
              "#bd3786"
             ],
             [
              0.5555555555555556,
              "#d8576b"
             ],
             [
              0.6666666666666666,
              "#ed7953"
             ],
             [
              0.7777777777777778,
              "#fb9f3a"
             ],
             [
              0.8888888888888888,
              "#fdca26"
             ],
             [
              1,
              "#f0f921"
             ]
            ],
            "type": "contour"
           }
          ],
          "contourcarpet": [
           {
            "colorbar": {
             "outlinewidth": 0,
             "ticks": ""
            },
            "type": "contourcarpet"
           }
          ],
          "heatmap": [
           {
            "colorbar": {
             "outlinewidth": 0,
             "ticks": ""
            },
            "colorscale": [
             [
              0,
              "#0d0887"
             ],
             [
              0.1111111111111111,
              "#46039f"
             ],
             [
              0.2222222222222222,
              "#7201a8"
             ],
             [
              0.3333333333333333,
              "#9c179e"
             ],
             [
              0.4444444444444444,
              "#bd3786"
             ],
             [
              0.5555555555555556,
              "#d8576b"
             ],
             [
              0.6666666666666666,
              "#ed7953"
             ],
             [
              0.7777777777777778,
              "#fb9f3a"
             ],
             [
              0.8888888888888888,
              "#fdca26"
             ],
             [
              1,
              "#f0f921"
             ]
            ],
            "type": "heatmap"
           }
          ],
          "heatmapgl": [
           {
            "colorbar": {
             "outlinewidth": 0,
             "ticks": ""
            },
            "colorscale": [
             [
              0,
              "#0d0887"
             ],
             [
              0.1111111111111111,
              "#46039f"
             ],
             [
              0.2222222222222222,
              "#7201a8"
             ],
             [
              0.3333333333333333,
              "#9c179e"
             ],
             [
              0.4444444444444444,
              "#bd3786"
             ],
             [
              0.5555555555555556,
              "#d8576b"
             ],
             [
              0.6666666666666666,
              "#ed7953"
             ],
             [
              0.7777777777777778,
              "#fb9f3a"
             ],
             [
              0.8888888888888888,
              "#fdca26"
             ],
             [
              1,
              "#f0f921"
             ]
            ],
            "type": "heatmapgl"
           }
          ],
          "histogram": [
           {
            "marker": {
             "colorbar": {
              "outlinewidth": 0,
              "ticks": ""
             }
            },
            "type": "histogram"
           }
          ],
          "histogram2d": [
           {
            "colorbar": {
             "outlinewidth": 0,
             "ticks": ""
            },
            "colorscale": [
             [
              0,
              "#0d0887"
             ],
             [
              0.1111111111111111,
              "#46039f"
             ],
             [
              0.2222222222222222,
              "#7201a8"
             ],
             [
              0.3333333333333333,
              "#9c179e"
             ],
             [
              0.4444444444444444,
              "#bd3786"
             ],
             [
              0.5555555555555556,
              "#d8576b"
             ],
             [
              0.6666666666666666,
              "#ed7953"
             ],
             [
              0.7777777777777778,
              "#fb9f3a"
             ],
             [
              0.8888888888888888,
              "#fdca26"
             ],
             [
              1,
              "#f0f921"
             ]
            ],
            "type": "histogram2d"
           }
          ],
          "histogram2dcontour": [
           {
            "colorbar": {
             "outlinewidth": 0,
             "ticks": ""
            },
            "colorscale": [
             [
              0,
              "#0d0887"
             ],
             [
              0.1111111111111111,
              "#46039f"
             ],
             [
              0.2222222222222222,
              "#7201a8"
             ],
             [
              0.3333333333333333,
              "#9c179e"
             ],
             [
              0.4444444444444444,
              "#bd3786"
             ],
             [
              0.5555555555555556,
              "#d8576b"
             ],
             [
              0.6666666666666666,
              "#ed7953"
             ],
             [
              0.7777777777777778,
              "#fb9f3a"
             ],
             [
              0.8888888888888888,
              "#fdca26"
             ],
             [
              1,
              "#f0f921"
             ]
            ],
            "type": "histogram2dcontour"
           }
          ],
          "mesh3d": [
           {
            "colorbar": {
             "outlinewidth": 0,
             "ticks": ""
            },
            "type": "mesh3d"
           }
          ],
          "parcoords": [
           {
            "line": {
             "colorbar": {
              "outlinewidth": 0,
              "ticks": ""
             }
            },
            "type": "parcoords"
           }
          ],
          "pie": [
           {
            "automargin": true,
            "type": "pie"
           }
          ],
          "scatter": [
           {
            "marker": {
             "colorbar": {
              "outlinewidth": 0,
              "ticks": ""
             }
            },
            "type": "scatter"
           }
          ],
          "scatter3d": [
           {
            "line": {
             "colorbar": {
              "outlinewidth": 0,
              "ticks": ""
             }
            },
            "marker": {
             "colorbar": {
              "outlinewidth": 0,
              "ticks": ""
             }
            },
            "type": "scatter3d"
           }
          ],
          "scattercarpet": [
           {
            "marker": {
             "colorbar": {
              "outlinewidth": 0,
              "ticks": ""
             }
            },
            "type": "scattercarpet"
           }
          ],
          "scattergeo": [
           {
            "marker": {
             "colorbar": {
              "outlinewidth": 0,
              "ticks": ""
             }
            },
            "type": "scattergeo"
           }
          ],
          "scattergl": [
           {
            "marker": {
             "colorbar": {
              "outlinewidth": 0,
              "ticks": ""
             }
            },
            "type": "scattergl"
           }
          ],
          "scattermapbox": [
           {
            "marker": {
             "colorbar": {
              "outlinewidth": 0,
              "ticks": ""
             }
            },
            "type": "scattermapbox"
           }
          ],
          "scatterpolar": [
           {
            "marker": {
             "colorbar": {
              "outlinewidth": 0,
              "ticks": ""
             }
            },
            "type": "scatterpolar"
           }
          ],
          "scatterpolargl": [
           {
            "marker": {
             "colorbar": {
              "outlinewidth": 0,
              "ticks": ""
             }
            },
            "type": "scatterpolargl"
           }
          ],
          "scatterternary": [
           {
            "marker": {
             "colorbar": {
              "outlinewidth": 0,
              "ticks": ""
             }
            },
            "type": "scatterternary"
           }
          ],
          "surface": [
           {
            "colorbar": {
             "outlinewidth": 0,
             "ticks": ""
            },
            "colorscale": [
             [
              0,
              "#0d0887"
             ],
             [
              0.1111111111111111,
              "#46039f"
             ],
             [
              0.2222222222222222,
              "#7201a8"
             ],
             [
              0.3333333333333333,
              "#9c179e"
             ],
             [
              0.4444444444444444,
              "#bd3786"
             ],
             [
              0.5555555555555556,
              "#d8576b"
             ],
             [
              0.6666666666666666,
              "#ed7953"
             ],
             [
              0.7777777777777778,
              "#fb9f3a"
             ],
             [
              0.8888888888888888,
              "#fdca26"
             ],
             [
              1,
              "#f0f921"
             ]
            ],
            "type": "surface"
           }
          ],
          "table": [
           {
            "cells": {
             "fill": {
              "color": "#EBF0F8"
             },
             "line": {
              "color": "white"
             }
            },
            "header": {
             "fill": {
              "color": "#C8D4E3"
             },
             "line": {
              "color": "white"
             }
            },
            "type": "table"
           }
          ]
         },
         "layout": {
          "annotationdefaults": {
           "arrowcolor": "#2a3f5f",
           "arrowhead": 0,
           "arrowwidth": 1
          },
          "coloraxis": {
           "colorbar": {
            "outlinewidth": 0,
            "ticks": ""
           }
          },
          "colorscale": {
           "diverging": [
            [
             0,
             "#8e0152"
            ],
            [
             0.1,
             "#c51b7d"
            ],
            [
             0.2,
             "#de77ae"
            ],
            [
             0.3,
             "#f1b6da"
            ],
            [
             0.4,
             "#fde0ef"
            ],
            [
             0.5,
             "#f7f7f7"
            ],
            [
             0.6,
             "#e6f5d0"
            ],
            [
             0.7,
             "#b8e186"
            ],
            [
             0.8,
             "#7fbc41"
            ],
            [
             0.9,
             "#4d9221"
            ],
            [
             1,
             "#276419"
            ]
           ],
           "sequential": [
            [
             0,
             "#0d0887"
            ],
            [
             0.1111111111111111,
             "#46039f"
            ],
            [
             0.2222222222222222,
             "#7201a8"
            ],
            [
             0.3333333333333333,
             "#9c179e"
            ],
            [
             0.4444444444444444,
             "#bd3786"
            ],
            [
             0.5555555555555556,
             "#d8576b"
            ],
            [
             0.6666666666666666,
             "#ed7953"
            ],
            [
             0.7777777777777778,
             "#fb9f3a"
            ],
            [
             0.8888888888888888,
             "#fdca26"
            ],
            [
             1,
             "#f0f921"
            ]
           ],
           "sequentialminus": [
            [
             0,
             "#0d0887"
            ],
            [
             0.1111111111111111,
             "#46039f"
            ],
            [
             0.2222222222222222,
             "#7201a8"
            ],
            [
             0.3333333333333333,
             "#9c179e"
            ],
            [
             0.4444444444444444,
             "#bd3786"
            ],
            [
             0.5555555555555556,
             "#d8576b"
            ],
            [
             0.6666666666666666,
             "#ed7953"
            ],
            [
             0.7777777777777778,
             "#fb9f3a"
            ],
            [
             0.8888888888888888,
             "#fdca26"
            ],
            [
             1,
             "#f0f921"
            ]
           ]
          },
          "colorway": [
           "#636efa",
           "#EF553B",
           "#00cc96",
           "#ab63fa",
           "#FFA15A",
           "#19d3f3",
           "#FF6692",
           "#B6E880",
           "#FF97FF",
           "#FECB52"
          ],
          "font": {
           "color": "#2a3f5f"
          },
          "geo": {
           "bgcolor": "white",
           "lakecolor": "white",
           "landcolor": "#E5ECF6",
           "showlakes": true,
           "showland": true,
           "subunitcolor": "white"
          },
          "hoverlabel": {
           "align": "left"
          },
          "hovermode": "closest",
          "mapbox": {
           "style": "light"
          },
          "paper_bgcolor": "white",
          "plot_bgcolor": "#E5ECF6",
          "polar": {
           "angularaxis": {
            "gridcolor": "white",
            "linecolor": "white",
            "ticks": ""
           },
           "bgcolor": "#E5ECF6",
           "radialaxis": {
            "gridcolor": "white",
            "linecolor": "white",
            "ticks": ""
           }
          },
          "scene": {
           "xaxis": {
            "backgroundcolor": "#E5ECF6",
            "gridcolor": "white",
            "gridwidth": 2,
            "linecolor": "white",
            "showbackground": true,
            "ticks": "",
            "zerolinecolor": "white"
           },
           "yaxis": {
            "backgroundcolor": "#E5ECF6",
            "gridcolor": "white",
            "gridwidth": 2,
            "linecolor": "white",
            "showbackground": true,
            "ticks": "",
            "zerolinecolor": "white"
           },
           "zaxis": {
            "backgroundcolor": "#E5ECF6",
            "gridcolor": "white",
            "gridwidth": 2,
            "linecolor": "white",
            "showbackground": true,
            "ticks": "",
            "zerolinecolor": "white"
           }
          },
          "shapedefaults": {
           "line": {
            "color": "#2a3f5f"
           }
          },
          "ternary": {
           "aaxis": {
            "gridcolor": "white",
            "linecolor": "white",
            "ticks": ""
           },
           "baxis": {
            "gridcolor": "white",
            "linecolor": "white",
            "ticks": ""
           },
           "bgcolor": "#E5ECF6",
           "caxis": {
            "gridcolor": "white",
            "linecolor": "white",
            "ticks": ""
           }
          },
          "title": {
           "x": 0.05
          },
          "xaxis": {
           "automargin": true,
           "gridcolor": "white",
           "linecolor": "white",
           "ticks": "",
           "title": {
            "standoff": 15
           },
           "zerolinecolor": "white",
           "zerolinewidth": 2
          },
          "yaxis": {
           "automargin": true,
           "gridcolor": "white",
           "linecolor": "white",
           "ticks": "",
           "title": {
            "standoff": 15
           },
           "zerolinecolor": "white",
           "zerolinewidth": 2
          }
         }
        },
        "title": {
         "font": {
          "color": "#4D5663"
         }
        },
        "xaxis": {
         "gridcolor": "#E1E5ED",
         "showgrid": true,
         "tickfont": {
          "color": "#4D5663"
         },
         "title": {
          "font": {
           "color": "#4D5663"
          },
          "text": ""
         },
         "zerolinecolor": "#E1E5ED"
        },
        "yaxis": {
         "gridcolor": "#E1E5ED",
         "showgrid": true,
         "tickfont": {
          "color": "#4D5663"
         },
         "title": {
          "font": {
           "color": "#4D5663"
          },
          "text": ""
         },
         "zerolinecolor": "#E1E5ED"
        }
       }
      },
      "text/html": [
       "<div>                            <div id=\"57188857-b2d9-40ba-b08d-1a2428945eaf\" class=\"plotly-graph-div\" style=\"height:525px; width:100%;\"></div>            <script type=\"text/javascript\">                require([\"plotly\"], function(Plotly) {                    window.PLOTLYENV=window.PLOTLYENV || {};\n",
       "                    window.PLOTLYENV.BASE_URL='https://plot.ly';                                    if (document.getElementById(\"57188857-b2d9-40ba-b08d-1a2428945eaf\")) {                    Plotly.newPlot(                        \"57188857-b2d9-40ba-b08d-1a2428945eaf\",                        [{\"colorscale\": [[0.0, \"rgb(165,0,38)\"], [0.1, \"rgb(215,48,39)\"], [0.2, \"rgb(244,109,67)\"], [0.3, \"rgb(253,174,97)\"], [0.4, \"rgb(254,224,144)\"], [0.5, \"rgb(255,255,191)\"], [0.6, \"rgb(224,243,248)\"], [0.7, \"rgb(171,217,233)\"], [0.8, \"rgb(116,173,209)\"], [0.9, \"rgb(69,117,180)\"], [1.0, \"rgb(49,54,149)\"]], \"type\": \"surface\", \"x\": [0, 1, 2, 3, 4], \"y\": [\"x\", \"y\", \"z\"], \"z\": [[1, 2, 3, 4, 5], [10, 20, 30, 20, 10], [5, 4, 3, 2, 1]]}],                        {\"legend\": {\"bgcolor\": \"#F5F6F9\", \"font\": {\"color\": \"#4D5663\"}}, \"paper_bgcolor\": \"#F5F6F9\", \"plot_bgcolor\": \"#F5F6F9\", \"template\": {\"data\": {\"bar\": [{\"error_x\": {\"color\": \"#2a3f5f\"}, \"error_y\": {\"color\": \"#2a3f5f\"}, \"marker\": {\"line\": {\"color\": \"#E5ECF6\", \"width\": 0.5}}, \"type\": \"bar\"}], \"barpolar\": [{\"marker\": {\"line\": {\"color\": \"#E5ECF6\", \"width\": 0.5}}, \"type\": \"barpolar\"}], \"carpet\": [{\"aaxis\": {\"endlinecolor\": \"#2a3f5f\", \"gridcolor\": \"white\", \"linecolor\": \"white\", \"minorgridcolor\": \"white\", \"startlinecolor\": \"#2a3f5f\"}, \"baxis\": {\"endlinecolor\": \"#2a3f5f\", \"gridcolor\": \"white\", \"linecolor\": \"white\", \"minorgridcolor\": \"white\", \"startlinecolor\": \"#2a3f5f\"}, \"type\": \"carpet\"}], \"choropleth\": [{\"colorbar\": {\"outlinewidth\": 0, \"ticks\": \"\"}, \"type\": \"choropleth\"}], \"contour\": [{\"colorbar\": {\"outlinewidth\": 0, \"ticks\": \"\"}, \"colorscale\": [[0.0, \"#0d0887\"], [0.1111111111111111, \"#46039f\"], [0.2222222222222222, \"#7201a8\"], [0.3333333333333333, \"#9c179e\"], [0.4444444444444444, \"#bd3786\"], [0.5555555555555556, \"#d8576b\"], [0.6666666666666666, \"#ed7953\"], [0.7777777777777778, \"#fb9f3a\"], [0.8888888888888888, \"#fdca26\"], [1.0, \"#f0f921\"]], \"type\": \"contour\"}], \"contourcarpet\": [{\"colorbar\": {\"outlinewidth\": 0, \"ticks\": \"\"}, \"type\": \"contourcarpet\"}], \"heatmap\": [{\"colorbar\": {\"outlinewidth\": 0, \"ticks\": \"\"}, \"colorscale\": [[0.0, \"#0d0887\"], [0.1111111111111111, \"#46039f\"], [0.2222222222222222, \"#7201a8\"], [0.3333333333333333, \"#9c179e\"], [0.4444444444444444, \"#bd3786\"], [0.5555555555555556, \"#d8576b\"], [0.6666666666666666, \"#ed7953\"], [0.7777777777777778, \"#fb9f3a\"], [0.8888888888888888, \"#fdca26\"], [1.0, \"#f0f921\"]], \"type\": \"heatmap\"}], \"heatmapgl\": [{\"colorbar\": {\"outlinewidth\": 0, \"ticks\": \"\"}, \"colorscale\": [[0.0, \"#0d0887\"], [0.1111111111111111, \"#46039f\"], [0.2222222222222222, \"#7201a8\"], [0.3333333333333333, \"#9c179e\"], [0.4444444444444444, \"#bd3786\"], [0.5555555555555556, \"#d8576b\"], [0.6666666666666666, \"#ed7953\"], [0.7777777777777778, \"#fb9f3a\"], [0.8888888888888888, \"#fdca26\"], [1.0, \"#f0f921\"]], \"type\": \"heatmapgl\"}], \"histogram\": [{\"marker\": {\"colorbar\": {\"outlinewidth\": 0, \"ticks\": \"\"}}, \"type\": \"histogram\"}], \"histogram2d\": [{\"colorbar\": {\"outlinewidth\": 0, \"ticks\": \"\"}, \"colorscale\": [[0.0, \"#0d0887\"], [0.1111111111111111, \"#46039f\"], [0.2222222222222222, \"#7201a8\"], [0.3333333333333333, \"#9c179e\"], [0.4444444444444444, \"#bd3786\"], [0.5555555555555556, \"#d8576b\"], [0.6666666666666666, \"#ed7953\"], [0.7777777777777778, \"#fb9f3a\"], [0.8888888888888888, \"#fdca26\"], [1.0, \"#f0f921\"]], \"type\": \"histogram2d\"}], \"histogram2dcontour\": [{\"colorbar\": {\"outlinewidth\": 0, \"ticks\": \"\"}, \"colorscale\": [[0.0, \"#0d0887\"], [0.1111111111111111, \"#46039f\"], [0.2222222222222222, \"#7201a8\"], [0.3333333333333333, \"#9c179e\"], [0.4444444444444444, \"#bd3786\"], [0.5555555555555556, \"#d8576b\"], [0.6666666666666666, \"#ed7953\"], [0.7777777777777778, \"#fb9f3a\"], [0.8888888888888888, \"#fdca26\"], [1.0, \"#f0f921\"]], \"type\": \"histogram2dcontour\"}], \"mesh3d\": [{\"colorbar\": {\"outlinewidth\": 0, \"ticks\": \"\"}, \"type\": \"mesh3d\"}], \"parcoords\": [{\"line\": {\"colorbar\": {\"outlinewidth\": 0, \"ticks\": \"\"}}, \"type\": \"parcoords\"}], \"pie\": [{\"automargin\": true, \"type\": \"pie\"}], \"scatter\": [{\"marker\": {\"colorbar\": {\"outlinewidth\": 0, \"ticks\": \"\"}}, \"type\": \"scatter\"}], \"scatter3d\": [{\"line\": {\"colorbar\": {\"outlinewidth\": 0, \"ticks\": \"\"}}, \"marker\": {\"colorbar\": {\"outlinewidth\": 0, \"ticks\": \"\"}}, \"type\": \"scatter3d\"}], \"scattercarpet\": [{\"marker\": {\"colorbar\": {\"outlinewidth\": 0, \"ticks\": \"\"}}, \"type\": \"scattercarpet\"}], \"scattergeo\": [{\"marker\": {\"colorbar\": {\"outlinewidth\": 0, \"ticks\": \"\"}}, \"type\": \"scattergeo\"}], \"scattergl\": [{\"marker\": {\"colorbar\": {\"outlinewidth\": 0, \"ticks\": \"\"}}, \"type\": \"scattergl\"}], \"scattermapbox\": [{\"marker\": {\"colorbar\": {\"outlinewidth\": 0, \"ticks\": \"\"}}, \"type\": \"scattermapbox\"}], \"scatterpolar\": [{\"marker\": {\"colorbar\": {\"outlinewidth\": 0, \"ticks\": \"\"}}, \"type\": \"scatterpolar\"}], \"scatterpolargl\": [{\"marker\": {\"colorbar\": {\"outlinewidth\": 0, \"ticks\": \"\"}}, \"type\": \"scatterpolargl\"}], \"scatterternary\": [{\"marker\": {\"colorbar\": {\"outlinewidth\": 0, \"ticks\": \"\"}}, \"type\": \"scatterternary\"}], \"surface\": [{\"colorbar\": {\"outlinewidth\": 0, \"ticks\": \"\"}, \"colorscale\": [[0.0, \"#0d0887\"], [0.1111111111111111, \"#46039f\"], [0.2222222222222222, \"#7201a8\"], [0.3333333333333333, \"#9c179e\"], [0.4444444444444444, \"#bd3786\"], [0.5555555555555556, \"#d8576b\"], [0.6666666666666666, \"#ed7953\"], [0.7777777777777778, \"#fb9f3a\"], [0.8888888888888888, \"#fdca26\"], [1.0, \"#f0f921\"]], \"type\": \"surface\"}], \"table\": [{\"cells\": {\"fill\": {\"color\": \"#EBF0F8\"}, \"line\": {\"color\": \"white\"}}, \"header\": {\"fill\": {\"color\": \"#C8D4E3\"}, \"line\": {\"color\": \"white\"}}, \"type\": \"table\"}]}, \"layout\": {\"annotationdefaults\": {\"arrowcolor\": \"#2a3f5f\", \"arrowhead\": 0, \"arrowwidth\": 1}, \"coloraxis\": {\"colorbar\": {\"outlinewidth\": 0, \"ticks\": \"\"}}, \"colorscale\": {\"diverging\": [[0, \"#8e0152\"], [0.1, \"#c51b7d\"], [0.2, \"#de77ae\"], [0.3, \"#f1b6da\"], [0.4, \"#fde0ef\"], [0.5, \"#f7f7f7\"], [0.6, \"#e6f5d0\"], [0.7, \"#b8e186\"], [0.8, \"#7fbc41\"], [0.9, \"#4d9221\"], [1, \"#276419\"]], \"sequential\": [[0.0, \"#0d0887\"], [0.1111111111111111, \"#46039f\"], [0.2222222222222222, \"#7201a8\"], [0.3333333333333333, \"#9c179e\"], [0.4444444444444444, \"#bd3786\"], [0.5555555555555556, \"#d8576b\"], [0.6666666666666666, \"#ed7953\"], [0.7777777777777778, \"#fb9f3a\"], [0.8888888888888888, \"#fdca26\"], [1.0, \"#f0f921\"]], \"sequentialminus\": [[0.0, \"#0d0887\"], [0.1111111111111111, \"#46039f\"], [0.2222222222222222, \"#7201a8\"], [0.3333333333333333, \"#9c179e\"], [0.4444444444444444, \"#bd3786\"], [0.5555555555555556, \"#d8576b\"], [0.6666666666666666, \"#ed7953\"], [0.7777777777777778, \"#fb9f3a\"], [0.8888888888888888, \"#fdca26\"], [1.0, \"#f0f921\"]]}, \"colorway\": [\"#636efa\", \"#EF553B\", \"#00cc96\", \"#ab63fa\", \"#FFA15A\", \"#19d3f3\", \"#FF6692\", \"#B6E880\", \"#FF97FF\", \"#FECB52\"], \"font\": {\"color\": \"#2a3f5f\"}, \"geo\": {\"bgcolor\": \"white\", \"lakecolor\": \"white\", \"landcolor\": \"#E5ECF6\", \"showlakes\": true, \"showland\": true, \"subunitcolor\": \"white\"}, \"hoverlabel\": {\"align\": \"left\"}, \"hovermode\": \"closest\", \"mapbox\": {\"style\": \"light\"}, \"paper_bgcolor\": \"white\", \"plot_bgcolor\": \"#E5ECF6\", \"polar\": {\"angularaxis\": {\"gridcolor\": \"white\", \"linecolor\": \"white\", \"ticks\": \"\"}, \"bgcolor\": \"#E5ECF6\", \"radialaxis\": {\"gridcolor\": \"white\", \"linecolor\": \"white\", \"ticks\": \"\"}}, \"scene\": {\"xaxis\": {\"backgroundcolor\": \"#E5ECF6\", \"gridcolor\": \"white\", \"gridwidth\": 2, \"linecolor\": \"white\", \"showbackground\": true, \"ticks\": \"\", \"zerolinecolor\": \"white\"}, \"yaxis\": {\"backgroundcolor\": \"#E5ECF6\", \"gridcolor\": \"white\", \"gridwidth\": 2, \"linecolor\": \"white\", \"showbackground\": true, \"ticks\": \"\", \"zerolinecolor\": \"white\"}, \"zaxis\": {\"backgroundcolor\": \"#E5ECF6\", \"gridcolor\": \"white\", \"gridwidth\": 2, \"linecolor\": \"white\", \"showbackground\": true, \"ticks\": \"\", \"zerolinecolor\": \"white\"}}, \"shapedefaults\": {\"line\": {\"color\": \"#2a3f5f\"}}, \"ternary\": {\"aaxis\": {\"gridcolor\": \"white\", \"linecolor\": \"white\", \"ticks\": \"\"}, \"baxis\": {\"gridcolor\": \"white\", \"linecolor\": \"white\", \"ticks\": \"\"}, \"bgcolor\": \"#E5ECF6\", \"caxis\": {\"gridcolor\": \"white\", \"linecolor\": \"white\", \"ticks\": \"\"}}, \"title\": {\"x\": 0.05}, \"xaxis\": {\"automargin\": true, \"gridcolor\": \"white\", \"linecolor\": \"white\", \"ticks\": \"\", \"title\": {\"standoff\": 15}, \"zerolinecolor\": \"white\", \"zerolinewidth\": 2}, \"yaxis\": {\"automargin\": true, \"gridcolor\": \"white\", \"linecolor\": \"white\", \"ticks\": \"\", \"title\": {\"standoff\": 15}, \"zerolinecolor\": \"white\", \"zerolinewidth\": 2}}}, \"title\": {\"font\": {\"color\": \"#4D5663\"}}, \"xaxis\": {\"gridcolor\": \"#E1E5ED\", \"showgrid\": true, \"tickfont\": {\"color\": \"#4D5663\"}, \"title\": {\"font\": {\"color\": \"#4D5663\"}, \"text\": \"\"}, \"zerolinecolor\": \"#E1E5ED\"}, \"yaxis\": {\"gridcolor\": \"#E1E5ED\", \"showgrid\": true, \"tickfont\": {\"color\": \"#4D5663\"}, \"title\": {\"font\": {\"color\": \"#4D5663\"}, \"text\": \"\"}, \"zerolinecolor\": \"#E1E5ED\"}},                        {\"showLink\": true, \"linkText\": \"Export to plot.ly\", \"plotlyServerURL\": \"https://plot.ly\", \"responsive\": true}                    ).then(function(){\n",
       "                            \n",
       "var gd = document.getElementById('57188857-b2d9-40ba-b08d-1a2428945eaf');\n",
       "var x = new MutationObserver(function (mutations, observer) {{\n",
       "        var display = window.getComputedStyle(gd).display;\n",
       "        if (!display || display === 'none') {{\n",
       "            console.log([gd, 'removed!']);\n",
       "            Plotly.purge(gd);\n",
       "            observer.disconnect();\n",
       "        }}\n",
       "}});\n",
       "\n",
       "// Listen for the removal of the full notebook cells\n",
       "var notebookContainer = gd.closest('#notebook-container');\n",
       "if (notebookContainer) {{\n",
       "    x.observe(notebookContainer, {childList: true});\n",
       "}}\n",
       "\n",
       "// Listen for the clearing of the current output cell\n",
       "var outputEl = gd.closest('.output');\n",
       "if (outputEl) {{\n",
       "    x.observe(outputEl, {childList: true});\n",
       "}}\n",
       "\n",
       "                        })                };                });            </script>        </div>"
      ]
     },
     "metadata": {},
     "output_type": "display_data"
    }
   ],
   "source": [
    "df3 = pd.DataFrame({'x':[1,2,3,4,5],'y':[10,20,30,20,10],'z':[5,4,3,2,1]})\n",
    "df3.head()\n",
    "df3.iplot(kind='surface',colorscale='rdylbu')"
   ]
  },
  {
   "cell_type": "markdown",
   "metadata": {},
   "source": [
    "## Spread"
   ]
  },
  {
   "cell_type": "code",
   "execution_count": 20,
   "metadata": {},
   "outputs": [
    {
     "data": {
      "application/vnd.plotly.v1+json": {
       "config": {
        "linkText": "Export to plot.ly",
        "plotlyServerURL": "https://plot.ly",
        "showLink": true
       },
       "data": [
        {
         "line": {
          "color": "rgba(255, 153, 51, 1.0)",
          "dash": "solid",
          "shape": "linear",
          "width": 1.3
         },
         "mode": "lines",
         "name": "A",
         "text": "",
         "type": "scatter",
         "x": [
          0,
          1,
          2,
          3,
          4,
          5,
          6,
          7,
          8,
          9,
          10,
          11,
          12,
          13,
          14,
          15,
          16,
          17,
          18,
          19,
          20,
          21,
          22,
          23,
          24,
          25,
          26,
          27,
          28,
          29,
          30,
          31,
          32,
          33,
          34,
          35,
          36,
          37,
          38,
          39,
          40,
          41,
          42,
          43,
          44,
          45,
          46,
          47,
          48,
          49,
          50,
          51,
          52,
          53,
          54,
          55,
          56,
          57,
          58,
          59,
          60,
          61,
          62,
          63,
          64,
          65,
          66,
          67,
          68,
          69,
          70,
          71,
          72,
          73,
          74,
          75,
          76,
          77,
          78,
          79,
          80,
          81,
          82,
          83,
          84,
          85,
          86,
          87,
          88,
          89,
          90,
          91,
          92,
          93,
          94,
          95,
          96,
          97,
          98,
          99
         ],
         "y": [
          -1.5165215335635371,
          1.2385294899836377,
          0.18675435261297058,
          -0.49404178733345255,
          0.9638783524597756,
          -1.1032901032155455,
          0.8489612205492174,
          0.9903890863731017,
          -1.3703522449279018,
          -0.5776566150555577,
          -0.31321057904966493,
          -1.62657976260777,
          -1.006701588728278,
          1.1360103276196873,
          0.6096235839787069,
          -1.3807990089203603,
          -0.36237146775748713,
          -0.5950154460828271,
          1.3888123369070282,
          -1.3629622910143322,
          -1.1038735970945992,
          1.337348295283731,
          1.1667957765059276,
          -1.2086935425656429,
          0.24972766483940562,
          0.29999954775204385,
          1.0667440982430194,
          -0.1741452761097413,
          0.29560646351069414,
          1.2851980496441235,
          -1.5822045088416392,
          0.2332157433742438,
          -0.8216180482229304,
          0.36846289942020066,
          1.6914889255493009,
          0.05294197198387387,
          1.6522250061531598,
          0.3806122062538394,
          0.2281787015714965,
          0.13943357370996548,
          0.7737513704163842,
          1.2632113994240495,
          -2.0723185151193118,
          0.3148357541550536,
          0.9775459023887758,
          0.4890519952231019,
          0.019788575261866545,
          0.5255271325555345,
          1.6814084764377233,
          0.5767167314074976,
          0.20677363770809085,
          0.1860110033699774,
          0.21407497739434397,
          0.7365607951031639,
          -0.7857728014462609,
          0.009524836979279003,
          0.38612916910565903,
          0.1502359587507458,
          0.9892286676253292,
          0.39444327636869897,
          1.120472350623712,
          2.572635263308814,
          0.16353567449977097,
          -0.3413603098431363,
          0.11982063910290328,
          -1.3444523091154967,
          -1.0451078274259888,
          0.7804874333757548,
          -0.10032354166879094,
          1.7827722897587395,
          -1.0946905294595737,
          -0.2510276890016824,
          0.9673217921938824,
          -1.0165640371463203,
          0.0690990527382664,
          -0.8510879315244121,
          0.43904889330463176,
          -1.337878368147962,
          0.09750269879021287,
          1.1447728728037032,
          -0.39997693269254425,
          0.5229998031018618,
          -0.4292225098792032,
          0.9378316216532356,
          -0.7677501218695141,
          1.9137196189172991,
          0.5216008014414507,
          -1.0851954812245894,
          0.5878201563359909,
          0.6262055363577997,
          1.0657701838435691,
          -0.5129968730608664,
          1.2712310563424316,
          1.0526472276252596,
          2.007007712904021,
          -1.2458742116352368,
          -0.3561372960571573,
          -0.09014992621817493,
          0.7230413885756098,
          1.4489088916499433
         ]
        },
        {
         "line": {
          "color": "rgba(55, 128, 191, 1.0)",
          "dash": "solid",
          "shape": "linear",
          "width": 1.3
         },
         "mode": "lines",
         "name": "B",
         "text": "",
         "type": "scatter",
         "x": [
          0,
          1,
          2,
          3,
          4,
          5,
          6,
          7,
          8,
          9,
          10,
          11,
          12,
          13,
          14,
          15,
          16,
          17,
          18,
          19,
          20,
          21,
          22,
          23,
          24,
          25,
          26,
          27,
          28,
          29,
          30,
          31,
          32,
          33,
          34,
          35,
          36,
          37,
          38,
          39,
          40,
          41,
          42,
          43,
          44,
          45,
          46,
          47,
          48,
          49,
          50,
          51,
          52,
          53,
          54,
          55,
          56,
          57,
          58,
          59,
          60,
          61,
          62,
          63,
          64,
          65,
          66,
          67,
          68,
          69,
          70,
          71,
          72,
          73,
          74,
          75,
          76,
          77,
          78,
          79,
          80,
          81,
          82,
          83,
          84,
          85,
          86,
          87,
          88,
          89,
          90,
          91,
          92,
          93,
          94,
          95,
          96,
          97,
          98,
          99
         ],
         "y": [
          -0.8345574062307446,
          0.3869389335155712,
          0.07782933474576627,
          1.1899116450030662,
          2.4118231293099672,
          -0.7517168932626798,
          0.04236231146362457,
          0.07190511226430284,
          1.6380670778590334,
          2.0602606596455915,
          -2.163922132520172,
          -0.4433154616526229,
          -0.04538211676815623,
          -0.9165373914796289,
          0.22401956064621992,
          0.0003599773765519304,
          -1.563708728474769,
          -1.5376343933124736,
          -0.7870693396201344,
          0.33457351738130175,
          -1.7354039335286253,
          1.7113719623174346,
          -0.8120715211093109,
          0.3253747617458604,
          -0.31843112066991935,
          -1.7196215520469333,
          1.0739113471545714,
          -0.893491898851701,
          -1.6629737232258517,
          -1.0306910440740462,
          0.9726511881554111,
          0.5494664293783664,
          -0.7708942552672302,
          0.192978809265206,
          -0.7348978845939232,
          -1.3345561541206306,
          0.5165025336657605,
          0.31478413024677826,
          0.6355748238320479,
          0.8652446833342713,
          -2.6658532132036394,
          0.2961008150075696,
          -0.9156752032343806,
          -2.350156615366018,
          0.459285791821168,
          -0.30922541782709606,
          -0.1428120757566868,
          -1.2332716277002955,
          -1.3161739795186747,
          1.2495199734510636,
          0.12846392054830044,
          -0.2417375476858517,
          -1.30909234945247,
          -1.2082763653082,
          1.1683596205889433,
          1.910262362641669,
          -0.3319716068998639,
          0.6369101856685699,
          1.2305627181044516,
          0.009236607765067436,
          -1.1610611529835455,
          -0.5951460041814716,
          -0.3859309436973199,
          1.2772343202778578,
          0.45105331684170763,
          0.8913310278045682,
          2.2461724357778765,
          0.8671611404274941,
          -0.9084679347963178,
          -0.42009634182682365,
          -0.18027132005244065,
          0.6850421902521037,
          -1.1601568758024055,
          -0.8886966875641397,
          -0.1593881395933613,
          0.6257031728894613,
          -0.39633640033302586,
          -0.2575710590884075,
          -0.24936745256303702,
          -1.5120328205355116,
          1.1544613291944308,
          0.01973290602766408,
          -0.38296802691344484,
          -0.4313977587137235,
          1.8662596009811432,
          0.04260450444009576,
          -1.4220661594762694,
          -1.685356777380281,
          -1.1270456077765143,
          -0.38721209138365925,
          0.259167116705802,
          -0.22316627067425593,
          1.635084328005414,
          -2.9583463144626703,
          -0.08181424856774482,
          -0.13510674116356763,
          0.47366256715334687,
          1.1763788631291294,
          -1.8896419059732144,
          0.007836036763666107
         ]
        },
        {
         "connectgaps": false,
         "fill": "tozeroy",
         "line": {
          "color": "green",
          "dash": "solid",
          "shape": "linear",
          "width": 0.5
         },
         "mode": "lines",
         "name": "Spread",
         "showlegend": false,
         "type": "scatter",
         "x": [
          0,
          1,
          2,
          3,
          4,
          5,
          6,
          7,
          8,
          9,
          10,
          11,
          12,
          13,
          14,
          15,
          16,
          17,
          18,
          19,
          20,
          21,
          22,
          23,
          24,
          25,
          26,
          27,
          28,
          29,
          30,
          31,
          32,
          33,
          34,
          35,
          36,
          37,
          38,
          39,
          40,
          41,
          42,
          43,
          44,
          45,
          46,
          47,
          48,
          49,
          50,
          51,
          52,
          53,
          54,
          55,
          56,
          57,
          58,
          59,
          60,
          61,
          62,
          63,
          64,
          65,
          66,
          67,
          68,
          69,
          70,
          71,
          72,
          73,
          74,
          75,
          76,
          77,
          78,
          79,
          80,
          81,
          82,
          83,
          84,
          85,
          86,
          87,
          88,
          89,
          90,
          91,
          92,
          93,
          94,
          95,
          96,
          97,
          98,
          99
         ],
         "xaxis": "x2",
         "y": [
          "",
          0.8515905564680665,
          0.10892501786720431,
          "",
          "",
          "",
          0.8065989090855928,
          0.9184839741087989,
          "",
          "",
          1.8507115534705072,
          "",
          "",
          2.052547719099316,
          0.38560402333248694,
          "",
          1.2013372607172819,
          0.9426189472296466,
          2.1758816765271627,
          "",
          0.6315303364340261,
          "",
          1.9788672976152384,
          "",
          0.568158785509325,
          2.019621099798977,
          "",
          0.7193466227419597,
          1.9585801867365458,
          2.3158890937181695,
          "",
          "",
          "",
          0.17548409015499467,
          2.426386810143224,
          1.3874981261045045,
          1.1357224724873993,
          0.06582807600706114,
          "",
          "",
          3.4396045836200235,
          0.9671105844164799,
          "",
          2.6649923695210713,
          0.5182601105676078,
          0.798277413050198,
          0.16260065101855337,
          1.75879876025583,
          2.997582455956398,
          "",
          0.0783097171597904,
          0.4277485510558291,
          1.523167326846814,
          1.944837160411364,
          "",
          "",
          0.7181007760055229,
          "",
          "",
          0.3852066686036315,
          2.2815335036072577,
          3.1677812674902857,
          0.5494666181970909,
          "",
          "",
          "",
          "",
          "",
          0.8081443931275268,
          2.202868631585563,
          "",
          "",
          2.1274786679962876,
          "",
          0.22848719233162768,
          "",
          0.8353852936376576,
          "",
          0.3468701513532499,
          2.656805693339215,
          "",
          0.5032668970741977,
          "",
          1.369229380366959,
          "",
          1.8711151144772034,
          1.94366696091772,
          0.6001612961556915,
          1.7148657641125054,
          1.013417627741459,
          0.8066030671377671,
          "",
          "",
          4.01099354208793,
          2.0888219614717656,
          "",
          "",
          "",
          2.612683294548824,
          1.4410728548862772
         ],
         "yaxis": "y2"
        },
        {
         "connectgaps": false,
         "fill": "tozeroy",
         "line": {
          "color": "red",
          "dash": "solid",
          "shape": "linear",
          "width": 0.5
         },
         "mode": "lines",
         "name": "Spread",
         "showlegend": false,
         "type": "scatter",
         "x": [
          0,
          1,
          2,
          3,
          4,
          5,
          6,
          7,
          8,
          9,
          10,
          11,
          12,
          13,
          14,
          15,
          16,
          17,
          18,
          19,
          20,
          21,
          22,
          23,
          24,
          25,
          26,
          27,
          28,
          29,
          30,
          31,
          32,
          33,
          34,
          35,
          36,
          37,
          38,
          39,
          40,
          41,
          42,
          43,
          44,
          45,
          46,
          47,
          48,
          49,
          50,
          51,
          52,
          53,
          54,
          55,
          56,
          57,
          58,
          59,
          60,
          61,
          62,
          63,
          64,
          65,
          66,
          67,
          68,
          69,
          70,
          71,
          72,
          73,
          74,
          75,
          76,
          77,
          78,
          79,
          80,
          81,
          82,
          83,
          84,
          85,
          86,
          87,
          88,
          89,
          90,
          91,
          92,
          93,
          94,
          95,
          96,
          97,
          98,
          99
         ],
         "xaxis": "x2",
         "y": [
          -0.6819641273327925,
          "",
          "",
          -1.6839534323365188,
          -1.4479447768501916,
          -0.3515732099528658,
          "",
          "",
          -3.008419322786935,
          -2.6379172747011492,
          "",
          -1.1832643009551471,
          -0.9613194719601217,
          "",
          "",
          -1.3811589862969122,
          "",
          "",
          "",
          -1.697535808395634,
          "",
          -0.3740236670337036,
          "",
          -1.5340683043115033,
          "",
          "",
          -0.00716724891155196,
          "",
          "",
          "",
          -2.55485569699705,
          -0.31625068600412265,
          -0.050723792955700175,
          "",
          "",
          "",
          "",
          "",
          -0.4073961222605514,
          -0.7258111096243058,
          "",
          "",
          -1.156643311884931,
          "",
          "",
          "",
          "",
          "",
          "",
          -0.672803242043566,
          "",
          "",
          "",
          "",
          -1.954132422035204,
          -1.90073752566239,
          "",
          -0.48667422691782414,
          -0.24133405047912238,
          "",
          "",
          "",
          "",
          -1.6185946301209941,
          -0.3312326777388044,
          -2.235783336920065,
          -3.2912802632038654,
          -0.08667370705173938,
          "",
          "",
          -0.9144192094071331,
          -0.936069879253786,
          "",
          -0.1278673495821806,
          "",
          -1.4767911044138735,
          "",
          -1.0803073090595545,
          "",
          "",
          -1.554438261886975,
          "",
          -0.04625448296575835,
          "",
          -2.6340097228506574,
          "",
          "",
          "",
          "",
          "",
          "",
          -0.28983060238661046,
          -0.3638532716629823,
          "",
          "",
          -1.1107674704716692,
          -0.8297998632105041,
          -1.2665287893473043,
          "",
          ""
         ],
         "yaxis": "y2"
        }
       ],
       "layout": {
        "hovermode": "x",
        "legend": {
         "bgcolor": "#F5F6F9",
         "font": {
          "color": "#4D5663"
         }
        },
        "paper_bgcolor": "#F5F6F9",
        "plot_bgcolor": "#F5F6F9",
        "template": {
         "data": {
          "bar": [
           {
            "error_x": {
             "color": "#2a3f5f"
            },
            "error_y": {
             "color": "#2a3f5f"
            },
            "marker": {
             "line": {
              "color": "#E5ECF6",
              "width": 0.5
             }
            },
            "type": "bar"
           }
          ],
          "barpolar": [
           {
            "marker": {
             "line": {
              "color": "#E5ECF6",
              "width": 0.5
             }
            },
            "type": "barpolar"
           }
          ],
          "carpet": [
           {
            "aaxis": {
             "endlinecolor": "#2a3f5f",
             "gridcolor": "white",
             "linecolor": "white",
             "minorgridcolor": "white",
             "startlinecolor": "#2a3f5f"
            },
            "baxis": {
             "endlinecolor": "#2a3f5f",
             "gridcolor": "white",
             "linecolor": "white",
             "minorgridcolor": "white",
             "startlinecolor": "#2a3f5f"
            },
            "type": "carpet"
           }
          ],
          "choropleth": [
           {
            "colorbar": {
             "outlinewidth": 0,
             "ticks": ""
            },
            "type": "choropleth"
           }
          ],
          "contour": [
           {
            "colorbar": {
             "outlinewidth": 0,
             "ticks": ""
            },
            "colorscale": [
             [
              0,
              "#0d0887"
             ],
             [
              0.1111111111111111,
              "#46039f"
             ],
             [
              0.2222222222222222,
              "#7201a8"
             ],
             [
              0.3333333333333333,
              "#9c179e"
             ],
             [
              0.4444444444444444,
              "#bd3786"
             ],
             [
              0.5555555555555556,
              "#d8576b"
             ],
             [
              0.6666666666666666,
              "#ed7953"
             ],
             [
              0.7777777777777778,
              "#fb9f3a"
             ],
             [
              0.8888888888888888,
              "#fdca26"
             ],
             [
              1,
              "#f0f921"
             ]
            ],
            "type": "contour"
           }
          ],
          "contourcarpet": [
           {
            "colorbar": {
             "outlinewidth": 0,
             "ticks": ""
            },
            "type": "contourcarpet"
           }
          ],
          "heatmap": [
           {
            "colorbar": {
             "outlinewidth": 0,
             "ticks": ""
            },
            "colorscale": [
             [
              0,
              "#0d0887"
             ],
             [
              0.1111111111111111,
              "#46039f"
             ],
             [
              0.2222222222222222,
              "#7201a8"
             ],
             [
              0.3333333333333333,
              "#9c179e"
             ],
             [
              0.4444444444444444,
              "#bd3786"
             ],
             [
              0.5555555555555556,
              "#d8576b"
             ],
             [
              0.6666666666666666,
              "#ed7953"
             ],
             [
              0.7777777777777778,
              "#fb9f3a"
             ],
             [
              0.8888888888888888,
              "#fdca26"
             ],
             [
              1,
              "#f0f921"
             ]
            ],
            "type": "heatmap"
           }
          ],
          "heatmapgl": [
           {
            "colorbar": {
             "outlinewidth": 0,
             "ticks": ""
            },
            "colorscale": [
             [
              0,
              "#0d0887"
             ],
             [
              0.1111111111111111,
              "#46039f"
             ],
             [
              0.2222222222222222,
              "#7201a8"
             ],
             [
              0.3333333333333333,
              "#9c179e"
             ],
             [
              0.4444444444444444,
              "#bd3786"
             ],
             [
              0.5555555555555556,
              "#d8576b"
             ],
             [
              0.6666666666666666,
              "#ed7953"
             ],
             [
              0.7777777777777778,
              "#fb9f3a"
             ],
             [
              0.8888888888888888,
              "#fdca26"
             ],
             [
              1,
              "#f0f921"
             ]
            ],
            "type": "heatmapgl"
           }
          ],
          "histogram": [
           {
            "marker": {
             "colorbar": {
              "outlinewidth": 0,
              "ticks": ""
             }
            },
            "type": "histogram"
           }
          ],
          "histogram2d": [
           {
            "colorbar": {
             "outlinewidth": 0,
             "ticks": ""
            },
            "colorscale": [
             [
              0,
              "#0d0887"
             ],
             [
              0.1111111111111111,
              "#46039f"
             ],
             [
              0.2222222222222222,
              "#7201a8"
             ],
             [
              0.3333333333333333,
              "#9c179e"
             ],
             [
              0.4444444444444444,
              "#bd3786"
             ],
             [
              0.5555555555555556,
              "#d8576b"
             ],
             [
              0.6666666666666666,
              "#ed7953"
             ],
             [
              0.7777777777777778,
              "#fb9f3a"
             ],
             [
              0.8888888888888888,
              "#fdca26"
             ],
             [
              1,
              "#f0f921"
             ]
            ],
            "type": "histogram2d"
           }
          ],
          "histogram2dcontour": [
           {
            "colorbar": {
             "outlinewidth": 0,
             "ticks": ""
            },
            "colorscale": [
             [
              0,
              "#0d0887"
             ],
             [
              0.1111111111111111,
              "#46039f"
             ],
             [
              0.2222222222222222,
              "#7201a8"
             ],
             [
              0.3333333333333333,
              "#9c179e"
             ],
             [
              0.4444444444444444,
              "#bd3786"
             ],
             [
              0.5555555555555556,
              "#d8576b"
             ],
             [
              0.6666666666666666,
              "#ed7953"
             ],
             [
              0.7777777777777778,
              "#fb9f3a"
             ],
             [
              0.8888888888888888,
              "#fdca26"
             ],
             [
              1,
              "#f0f921"
             ]
            ],
            "type": "histogram2dcontour"
           }
          ],
          "mesh3d": [
           {
            "colorbar": {
             "outlinewidth": 0,
             "ticks": ""
            },
            "type": "mesh3d"
           }
          ],
          "parcoords": [
           {
            "line": {
             "colorbar": {
              "outlinewidth": 0,
              "ticks": ""
             }
            },
            "type": "parcoords"
           }
          ],
          "pie": [
           {
            "automargin": true,
            "type": "pie"
           }
          ],
          "scatter": [
           {
            "marker": {
             "colorbar": {
              "outlinewidth": 0,
              "ticks": ""
             }
            },
            "type": "scatter"
           }
          ],
          "scatter3d": [
           {
            "line": {
             "colorbar": {
              "outlinewidth": 0,
              "ticks": ""
             }
            },
            "marker": {
             "colorbar": {
              "outlinewidth": 0,
              "ticks": ""
             }
            },
            "type": "scatter3d"
           }
          ],
          "scattercarpet": [
           {
            "marker": {
             "colorbar": {
              "outlinewidth": 0,
              "ticks": ""
             }
            },
            "type": "scattercarpet"
           }
          ],
          "scattergeo": [
           {
            "marker": {
             "colorbar": {
              "outlinewidth": 0,
              "ticks": ""
             }
            },
            "type": "scattergeo"
           }
          ],
          "scattergl": [
           {
            "marker": {
             "colorbar": {
              "outlinewidth": 0,
              "ticks": ""
             }
            },
            "type": "scattergl"
           }
          ],
          "scattermapbox": [
           {
            "marker": {
             "colorbar": {
              "outlinewidth": 0,
              "ticks": ""
             }
            },
            "type": "scattermapbox"
           }
          ],
          "scatterpolar": [
           {
            "marker": {
             "colorbar": {
              "outlinewidth": 0,
              "ticks": ""
             }
            },
            "type": "scatterpolar"
           }
          ],
          "scatterpolargl": [
           {
            "marker": {
             "colorbar": {
              "outlinewidth": 0,
              "ticks": ""
             }
            },
            "type": "scatterpolargl"
           }
          ],
          "scatterternary": [
           {
            "marker": {
             "colorbar": {
              "outlinewidth": 0,
              "ticks": ""
             }
            },
            "type": "scatterternary"
           }
          ],
          "surface": [
           {
            "colorbar": {
             "outlinewidth": 0,
             "ticks": ""
            },
            "colorscale": [
             [
              0,
              "#0d0887"
             ],
             [
              0.1111111111111111,
              "#46039f"
             ],
             [
              0.2222222222222222,
              "#7201a8"
             ],
             [
              0.3333333333333333,
              "#9c179e"
             ],
             [
              0.4444444444444444,
              "#bd3786"
             ],
             [
              0.5555555555555556,
              "#d8576b"
             ],
             [
              0.6666666666666666,
              "#ed7953"
             ],
             [
              0.7777777777777778,
              "#fb9f3a"
             ],
             [
              0.8888888888888888,
              "#fdca26"
             ],
             [
              1,
              "#f0f921"
             ]
            ],
            "type": "surface"
           }
          ],
          "table": [
           {
            "cells": {
             "fill": {
              "color": "#EBF0F8"
             },
             "line": {
              "color": "white"
             }
            },
            "header": {
             "fill": {
              "color": "#C8D4E3"
             },
             "line": {
              "color": "white"
             }
            },
            "type": "table"
           }
          ]
         },
         "layout": {
          "annotationdefaults": {
           "arrowcolor": "#2a3f5f",
           "arrowhead": 0,
           "arrowwidth": 1
          },
          "coloraxis": {
           "colorbar": {
            "outlinewidth": 0,
            "ticks": ""
           }
          },
          "colorscale": {
           "diverging": [
            [
             0,
             "#8e0152"
            ],
            [
             0.1,
             "#c51b7d"
            ],
            [
             0.2,
             "#de77ae"
            ],
            [
             0.3,
             "#f1b6da"
            ],
            [
             0.4,
             "#fde0ef"
            ],
            [
             0.5,
             "#f7f7f7"
            ],
            [
             0.6,
             "#e6f5d0"
            ],
            [
             0.7,
             "#b8e186"
            ],
            [
             0.8,
             "#7fbc41"
            ],
            [
             0.9,
             "#4d9221"
            ],
            [
             1,
             "#276419"
            ]
           ],
           "sequential": [
            [
             0,
             "#0d0887"
            ],
            [
             0.1111111111111111,
             "#46039f"
            ],
            [
             0.2222222222222222,
             "#7201a8"
            ],
            [
             0.3333333333333333,
             "#9c179e"
            ],
            [
             0.4444444444444444,
             "#bd3786"
            ],
            [
             0.5555555555555556,
             "#d8576b"
            ],
            [
             0.6666666666666666,
             "#ed7953"
            ],
            [
             0.7777777777777778,
             "#fb9f3a"
            ],
            [
             0.8888888888888888,
             "#fdca26"
            ],
            [
             1,
             "#f0f921"
            ]
           ],
           "sequentialminus": [
            [
             0,
             "#0d0887"
            ],
            [
             0.1111111111111111,
             "#46039f"
            ],
            [
             0.2222222222222222,
             "#7201a8"
            ],
            [
             0.3333333333333333,
             "#9c179e"
            ],
            [
             0.4444444444444444,
             "#bd3786"
            ],
            [
             0.5555555555555556,
             "#d8576b"
            ],
            [
             0.6666666666666666,
             "#ed7953"
            ],
            [
             0.7777777777777778,
             "#fb9f3a"
            ],
            [
             0.8888888888888888,
             "#fdca26"
            ],
            [
             1,
             "#f0f921"
            ]
           ]
          },
          "colorway": [
           "#636efa",
           "#EF553B",
           "#00cc96",
           "#ab63fa",
           "#FFA15A",
           "#19d3f3",
           "#FF6692",
           "#B6E880",
           "#FF97FF",
           "#FECB52"
          ],
          "font": {
           "color": "#2a3f5f"
          },
          "geo": {
           "bgcolor": "white",
           "lakecolor": "white",
           "landcolor": "#E5ECF6",
           "showlakes": true,
           "showland": true,
           "subunitcolor": "white"
          },
          "hoverlabel": {
           "align": "left"
          },
          "hovermode": "closest",
          "mapbox": {
           "style": "light"
          },
          "paper_bgcolor": "white",
          "plot_bgcolor": "#E5ECF6",
          "polar": {
           "angularaxis": {
            "gridcolor": "white",
            "linecolor": "white",
            "ticks": ""
           },
           "bgcolor": "#E5ECF6",
           "radialaxis": {
            "gridcolor": "white",
            "linecolor": "white",
            "ticks": ""
           }
          },
          "scene": {
           "xaxis": {
            "backgroundcolor": "#E5ECF6",
            "gridcolor": "white",
            "gridwidth": 2,
            "linecolor": "white",
            "showbackground": true,
            "ticks": "",
            "zerolinecolor": "white"
           },
           "yaxis": {
            "backgroundcolor": "#E5ECF6",
            "gridcolor": "white",
            "gridwidth": 2,
            "linecolor": "white",
            "showbackground": true,
            "ticks": "",
            "zerolinecolor": "white"
           },
           "zaxis": {
            "backgroundcolor": "#E5ECF6",
            "gridcolor": "white",
            "gridwidth": 2,
            "linecolor": "white",
            "showbackground": true,
            "ticks": "",
            "zerolinecolor": "white"
           }
          },
          "shapedefaults": {
           "line": {
            "color": "#2a3f5f"
           }
          },
          "ternary": {
           "aaxis": {
            "gridcolor": "white",
            "linecolor": "white",
            "ticks": ""
           },
           "baxis": {
            "gridcolor": "white",
            "linecolor": "white",
            "ticks": ""
           },
           "bgcolor": "#E5ECF6",
           "caxis": {
            "gridcolor": "white",
            "linecolor": "white",
            "ticks": ""
           }
          },
          "title": {
           "x": 0.05
          },
          "xaxis": {
           "automargin": true,
           "gridcolor": "white",
           "linecolor": "white",
           "ticks": "",
           "title": {
            "standoff": 15
           },
           "zerolinecolor": "white",
           "zerolinewidth": 2
          },
          "yaxis": {
           "automargin": true,
           "gridcolor": "white",
           "linecolor": "white",
           "ticks": "",
           "title": {
            "standoff": 15
           },
           "zerolinecolor": "white",
           "zerolinewidth": 2
          }
         }
        },
        "title": {
         "font": {
          "color": "#4D5663"
         }
        },
        "xaxis": {
         "gridcolor": "#E1E5ED",
         "showgrid": true,
         "tickfont": {
          "color": "#4D5663"
         },
         "title": {
          "font": {
           "color": "#4D5663"
          },
          "text": ""
         },
         "zerolinecolor": "#E1E5ED"
        },
        "xaxis2": {
         "anchor": "y2",
         "gridcolor": "#E1E5ED",
         "showgrid": true,
         "showticklabels": false,
         "tickfont": {
          "color": "#4D5663"
         },
         "title": {
          "font": {
           "color": "#4D5663"
          },
          "text": ""
         },
         "zerolinecolor": "#E1E5ED"
        },
        "yaxis": {
         "domain": [
          0.3,
          1
         ],
         "gridcolor": "#E1E5ED",
         "showgrid": true,
         "tickfont": {
          "color": "#4D5663"
         },
         "title": {
          "font": {
           "color": "#4D5663"
          },
          "text": ""
         },
         "zerolinecolor": "#E1E5ED"
        },
        "yaxis2": {
         "domain": [
          0,
          0.25
         ],
         "gridcolor": "#E1E5ED",
         "showgrid": true,
         "tickfont": {
          "color": "#4D5663"
         },
         "title": {
          "font": {
           "color": "#4D5663"
          },
          "text": "Spread"
         },
         "zerolinecolor": "#E1E5ED"
        }
       }
      },
      "text/html": [
       "<div>                            <div id=\"8937301d-f009-4e6f-97f9-cb1987ca897c\" class=\"plotly-graph-div\" style=\"height:525px; width:100%;\"></div>            <script type=\"text/javascript\">                require([\"plotly\"], function(Plotly) {                    window.PLOTLYENV=window.PLOTLYENV || {};\n",
       "                    window.PLOTLYENV.BASE_URL='https://plot.ly';                                    if (document.getElementById(\"8937301d-f009-4e6f-97f9-cb1987ca897c\")) {                    Plotly.newPlot(                        \"8937301d-f009-4e6f-97f9-cb1987ca897c\",                        [{\"line\": {\"color\": \"rgba(255, 153, 51, 1.0)\", \"dash\": \"solid\", \"shape\": \"linear\", \"width\": 1.3}, \"mode\": \"lines\", \"name\": \"A\", \"text\": \"\", \"type\": \"scatter\", \"x\": [0, 1, 2, 3, 4, 5, 6, 7, 8, 9, 10, 11, 12, 13, 14, 15, 16, 17, 18, 19, 20, 21, 22, 23, 24, 25, 26, 27, 28, 29, 30, 31, 32, 33, 34, 35, 36, 37, 38, 39, 40, 41, 42, 43, 44, 45, 46, 47, 48, 49, 50, 51, 52, 53, 54, 55, 56, 57, 58, 59, 60, 61, 62, 63, 64, 65, 66, 67, 68, 69, 70, 71, 72, 73, 74, 75, 76, 77, 78, 79, 80, 81, 82, 83, 84, 85, 86, 87, 88, 89, 90, 91, 92, 93, 94, 95, 96, 97, 98, 99], \"y\": [-1.5165215335635371, 1.2385294899836377, 0.18675435261297058, -0.49404178733345255, 0.9638783524597756, -1.1032901032155455, 0.8489612205492174, 0.9903890863731017, -1.3703522449279018, -0.5776566150555577, -0.31321057904966493, -1.62657976260777, -1.006701588728278, 1.1360103276196873, 0.6096235839787069, -1.3807990089203603, -0.36237146775748713, -0.5950154460828271, 1.3888123369070282, -1.3629622910143322, -1.1038735970945992, 1.337348295283731, 1.1667957765059276, -1.2086935425656429, 0.24972766483940562, 0.29999954775204385, 1.0667440982430194, -0.1741452761097413, 0.29560646351069414, 1.2851980496441235, -1.5822045088416392, 0.2332157433742438, -0.8216180482229304, 0.36846289942020066, 1.6914889255493009, 0.05294197198387387, 1.6522250061531598, 0.3806122062538394, 0.2281787015714965, 0.13943357370996548, 0.7737513704163842, 1.2632113994240495, -2.0723185151193118, 0.3148357541550536, 0.9775459023887758, 0.4890519952231019, 0.019788575261866545, 0.5255271325555345, 1.6814084764377233, 0.5767167314074976, 0.20677363770809085, 0.1860110033699774, 0.21407497739434397, 0.7365607951031639, -0.7857728014462609, 0.009524836979279003, 0.38612916910565903, 0.1502359587507458, 0.9892286676253292, 0.39444327636869897, 1.120472350623712, 2.572635263308814, 0.16353567449977097, -0.3413603098431363, 0.11982063910290328, -1.3444523091154967, -1.0451078274259888, 0.7804874333757548, -0.10032354166879094, 1.7827722897587395, -1.0946905294595737, -0.2510276890016824, 0.9673217921938824, -1.0165640371463203, 0.0690990527382664, -0.8510879315244121, 0.43904889330463176, -1.337878368147962, 0.09750269879021287, 1.1447728728037032, -0.39997693269254425, 0.5229998031018618, -0.4292225098792032, 0.9378316216532356, -0.7677501218695141, 1.9137196189172991, 0.5216008014414507, -1.0851954812245894, 0.5878201563359909, 0.6262055363577997, 1.0657701838435691, -0.5129968730608664, 1.2712310563424316, 1.0526472276252596, 2.007007712904021, -1.2458742116352368, -0.3561372960571573, -0.09014992621817493, 0.7230413885756098, 1.4489088916499433]}, {\"line\": {\"color\": \"rgba(55, 128, 191, 1.0)\", \"dash\": \"solid\", \"shape\": \"linear\", \"width\": 1.3}, \"mode\": \"lines\", \"name\": \"B\", \"text\": \"\", \"type\": \"scatter\", \"x\": [0, 1, 2, 3, 4, 5, 6, 7, 8, 9, 10, 11, 12, 13, 14, 15, 16, 17, 18, 19, 20, 21, 22, 23, 24, 25, 26, 27, 28, 29, 30, 31, 32, 33, 34, 35, 36, 37, 38, 39, 40, 41, 42, 43, 44, 45, 46, 47, 48, 49, 50, 51, 52, 53, 54, 55, 56, 57, 58, 59, 60, 61, 62, 63, 64, 65, 66, 67, 68, 69, 70, 71, 72, 73, 74, 75, 76, 77, 78, 79, 80, 81, 82, 83, 84, 85, 86, 87, 88, 89, 90, 91, 92, 93, 94, 95, 96, 97, 98, 99], \"y\": [-0.8345574062307446, 0.3869389335155712, 0.07782933474576627, 1.1899116450030662, 2.4118231293099672, -0.7517168932626798, 0.04236231146362457, 0.07190511226430284, 1.6380670778590334, 2.0602606596455915, -2.163922132520172, -0.4433154616526229, -0.04538211676815623, -0.9165373914796289, 0.22401956064621992, 0.0003599773765519304, -1.563708728474769, -1.5376343933124736, -0.7870693396201344, 0.33457351738130175, -1.7354039335286253, 1.7113719623174346, -0.8120715211093109, 0.3253747617458604, -0.31843112066991935, -1.7196215520469333, 1.0739113471545714, -0.893491898851701, -1.6629737232258517, -1.0306910440740462, 0.9726511881554111, 0.5494664293783664, -0.7708942552672302, 0.192978809265206, -0.7348978845939232, -1.3345561541206306, 0.5165025336657605, 0.31478413024677826, 0.6355748238320479, 0.8652446833342713, -2.6658532132036394, 0.2961008150075696, -0.9156752032343806, -2.350156615366018, 0.459285791821168, -0.30922541782709606, -0.1428120757566868, -1.2332716277002955, -1.3161739795186747, 1.2495199734510636, 0.12846392054830044, -0.2417375476858517, -1.30909234945247, -1.2082763653082, 1.1683596205889433, 1.910262362641669, -0.3319716068998639, 0.6369101856685699, 1.2305627181044516, 0.009236607765067436, -1.1610611529835455, -0.5951460041814716, -0.3859309436973199, 1.2772343202778578, 0.45105331684170763, 0.8913310278045682, 2.2461724357778765, 0.8671611404274941, -0.9084679347963178, -0.42009634182682365, -0.18027132005244065, 0.6850421902521037, -1.1601568758024055, -0.8886966875641397, -0.1593881395933613, 0.6257031728894613, -0.39633640033302586, -0.2575710590884075, -0.24936745256303702, -1.5120328205355116, 1.1544613291944308, 0.01973290602766408, -0.38296802691344484, -0.4313977587137235, 1.8662596009811432, 0.04260450444009576, -1.4220661594762694, -1.685356777380281, -1.1270456077765143, -0.38721209138365925, 0.259167116705802, -0.22316627067425593, 1.635084328005414, -2.9583463144626703, -0.08181424856774482, -0.13510674116356763, 0.47366256715334687, 1.1763788631291294, -1.8896419059732144, 0.007836036763666107]}, {\"connectgaps\": false, \"fill\": \"tozeroy\", \"line\": {\"color\": \"green\", \"dash\": \"solid\", \"shape\": \"linear\", \"width\": 0.5}, \"mode\": \"lines\", \"name\": \"Spread\", \"showlegend\": false, \"type\": \"scatter\", \"x\": [0, 1, 2, 3, 4, 5, 6, 7, 8, 9, 10, 11, 12, 13, 14, 15, 16, 17, 18, 19, 20, 21, 22, 23, 24, 25, 26, 27, 28, 29, 30, 31, 32, 33, 34, 35, 36, 37, 38, 39, 40, 41, 42, 43, 44, 45, 46, 47, 48, 49, 50, 51, 52, 53, 54, 55, 56, 57, 58, 59, 60, 61, 62, 63, 64, 65, 66, 67, 68, 69, 70, 71, 72, 73, 74, 75, 76, 77, 78, 79, 80, 81, 82, 83, 84, 85, 86, 87, 88, 89, 90, 91, 92, 93, 94, 95, 96, 97, 98, 99], \"xaxis\": \"x2\", \"y\": [\"\", 0.8515905564680665, 0.10892501786720431, \"\", \"\", \"\", 0.8065989090855928, 0.9184839741087989, \"\", \"\", 1.8507115534705072, \"\", \"\", 2.052547719099316, 0.38560402333248694, \"\", 1.2013372607172819, 0.9426189472296466, 2.1758816765271627, \"\", 0.6315303364340261, \"\", 1.9788672976152384, \"\", 0.568158785509325, 2.019621099798977, \"\", 0.7193466227419597, 1.9585801867365458, 2.3158890937181695, \"\", \"\", \"\", 0.17548409015499467, 2.426386810143224, 1.3874981261045045, 1.1357224724873993, 0.06582807600706114, \"\", \"\", 3.4396045836200235, 0.9671105844164799, \"\", 2.6649923695210713, 0.5182601105676078, 0.798277413050198, 0.16260065101855337, 1.75879876025583, 2.997582455956398, \"\", 0.0783097171597904, 0.4277485510558291, 1.523167326846814, 1.944837160411364, \"\", \"\", 0.7181007760055229, \"\", \"\", 0.3852066686036315, 2.2815335036072577, 3.1677812674902857, 0.5494666181970909, \"\", \"\", \"\", \"\", \"\", 0.8081443931275268, 2.202868631585563, \"\", \"\", 2.1274786679962876, \"\", 0.22848719233162768, \"\", 0.8353852936376576, \"\", 0.3468701513532499, 2.656805693339215, \"\", 0.5032668970741977, \"\", 1.369229380366959, \"\", 1.8711151144772034, 1.94366696091772, 0.6001612961556915, 1.7148657641125054, 1.013417627741459, 0.8066030671377671, \"\", \"\", 4.01099354208793, 2.0888219614717656, \"\", \"\", \"\", 2.612683294548824, 1.4410728548862772], \"yaxis\": \"y2\"}, {\"connectgaps\": false, \"fill\": \"tozeroy\", \"line\": {\"color\": \"red\", \"dash\": \"solid\", \"shape\": \"linear\", \"width\": 0.5}, \"mode\": \"lines\", \"name\": \"Spread\", \"showlegend\": false, \"type\": \"scatter\", \"x\": [0, 1, 2, 3, 4, 5, 6, 7, 8, 9, 10, 11, 12, 13, 14, 15, 16, 17, 18, 19, 20, 21, 22, 23, 24, 25, 26, 27, 28, 29, 30, 31, 32, 33, 34, 35, 36, 37, 38, 39, 40, 41, 42, 43, 44, 45, 46, 47, 48, 49, 50, 51, 52, 53, 54, 55, 56, 57, 58, 59, 60, 61, 62, 63, 64, 65, 66, 67, 68, 69, 70, 71, 72, 73, 74, 75, 76, 77, 78, 79, 80, 81, 82, 83, 84, 85, 86, 87, 88, 89, 90, 91, 92, 93, 94, 95, 96, 97, 98, 99], \"xaxis\": \"x2\", \"y\": [-0.6819641273327925, \"\", \"\", -1.6839534323365188, -1.4479447768501916, -0.3515732099528658, \"\", \"\", -3.008419322786935, -2.6379172747011492, \"\", -1.1832643009551471, -0.9613194719601217, \"\", \"\", -1.3811589862969122, \"\", \"\", \"\", -1.697535808395634, \"\", -0.3740236670337036, \"\", -1.5340683043115033, \"\", \"\", -0.00716724891155196, \"\", \"\", \"\", -2.55485569699705, -0.31625068600412265, -0.050723792955700175, \"\", \"\", \"\", \"\", \"\", -0.4073961222605514, -0.7258111096243058, \"\", \"\", -1.156643311884931, \"\", \"\", \"\", \"\", \"\", \"\", -0.672803242043566, \"\", \"\", \"\", \"\", -1.954132422035204, -1.90073752566239, \"\", -0.48667422691782414, -0.24133405047912238, \"\", \"\", \"\", \"\", -1.6185946301209941, -0.3312326777388044, -2.235783336920065, -3.2912802632038654, -0.08667370705173938, \"\", \"\", -0.9144192094071331, -0.936069879253786, \"\", -0.1278673495821806, \"\", -1.4767911044138735, \"\", -1.0803073090595545, \"\", \"\", -1.554438261886975, \"\", -0.04625448296575835, \"\", -2.6340097228506574, \"\", \"\", \"\", \"\", \"\", \"\", -0.28983060238661046, -0.3638532716629823, \"\", \"\", -1.1107674704716692, -0.8297998632105041, -1.2665287893473043, \"\", \"\"], \"yaxis\": \"y2\"}],                        {\"hovermode\": \"x\", \"legend\": {\"bgcolor\": \"#F5F6F9\", \"font\": {\"color\": \"#4D5663\"}}, \"paper_bgcolor\": \"#F5F6F9\", \"plot_bgcolor\": \"#F5F6F9\", \"template\": {\"data\": {\"bar\": [{\"error_x\": {\"color\": \"#2a3f5f\"}, \"error_y\": {\"color\": \"#2a3f5f\"}, \"marker\": {\"line\": {\"color\": \"#E5ECF6\", \"width\": 0.5}}, \"type\": \"bar\"}], \"barpolar\": [{\"marker\": {\"line\": {\"color\": \"#E5ECF6\", \"width\": 0.5}}, \"type\": \"barpolar\"}], \"carpet\": [{\"aaxis\": {\"endlinecolor\": \"#2a3f5f\", \"gridcolor\": \"white\", \"linecolor\": \"white\", \"minorgridcolor\": \"white\", \"startlinecolor\": \"#2a3f5f\"}, \"baxis\": {\"endlinecolor\": \"#2a3f5f\", \"gridcolor\": \"white\", \"linecolor\": \"white\", \"minorgridcolor\": \"white\", \"startlinecolor\": \"#2a3f5f\"}, \"type\": \"carpet\"}], \"choropleth\": [{\"colorbar\": {\"outlinewidth\": 0, \"ticks\": \"\"}, \"type\": \"choropleth\"}], \"contour\": [{\"colorbar\": {\"outlinewidth\": 0, \"ticks\": \"\"}, \"colorscale\": [[0.0, \"#0d0887\"], [0.1111111111111111, \"#46039f\"], [0.2222222222222222, \"#7201a8\"], [0.3333333333333333, \"#9c179e\"], [0.4444444444444444, \"#bd3786\"], [0.5555555555555556, \"#d8576b\"], [0.6666666666666666, \"#ed7953\"], [0.7777777777777778, \"#fb9f3a\"], [0.8888888888888888, \"#fdca26\"], [1.0, \"#f0f921\"]], \"type\": \"contour\"}], \"contourcarpet\": [{\"colorbar\": {\"outlinewidth\": 0, \"ticks\": \"\"}, \"type\": \"contourcarpet\"}], \"heatmap\": [{\"colorbar\": {\"outlinewidth\": 0, \"ticks\": \"\"}, \"colorscale\": [[0.0, \"#0d0887\"], [0.1111111111111111, \"#46039f\"], [0.2222222222222222, \"#7201a8\"], [0.3333333333333333, \"#9c179e\"], [0.4444444444444444, \"#bd3786\"], [0.5555555555555556, \"#d8576b\"], [0.6666666666666666, \"#ed7953\"], [0.7777777777777778, \"#fb9f3a\"], [0.8888888888888888, \"#fdca26\"], [1.0, \"#f0f921\"]], \"type\": \"heatmap\"}], \"heatmapgl\": [{\"colorbar\": {\"outlinewidth\": 0, \"ticks\": \"\"}, \"colorscale\": [[0.0, \"#0d0887\"], [0.1111111111111111, \"#46039f\"], [0.2222222222222222, \"#7201a8\"], [0.3333333333333333, \"#9c179e\"], [0.4444444444444444, \"#bd3786\"], [0.5555555555555556, \"#d8576b\"], [0.6666666666666666, \"#ed7953\"], [0.7777777777777778, \"#fb9f3a\"], [0.8888888888888888, \"#fdca26\"], [1.0, \"#f0f921\"]], \"type\": \"heatmapgl\"}], \"histogram\": [{\"marker\": {\"colorbar\": {\"outlinewidth\": 0, \"ticks\": \"\"}}, \"type\": \"histogram\"}], \"histogram2d\": [{\"colorbar\": {\"outlinewidth\": 0, \"ticks\": \"\"}, \"colorscale\": [[0.0, \"#0d0887\"], [0.1111111111111111, \"#46039f\"], [0.2222222222222222, \"#7201a8\"], [0.3333333333333333, \"#9c179e\"], [0.4444444444444444, \"#bd3786\"], [0.5555555555555556, \"#d8576b\"], [0.6666666666666666, \"#ed7953\"], [0.7777777777777778, \"#fb9f3a\"], [0.8888888888888888, \"#fdca26\"], [1.0, \"#f0f921\"]], \"type\": \"histogram2d\"}], \"histogram2dcontour\": [{\"colorbar\": {\"outlinewidth\": 0, \"ticks\": \"\"}, \"colorscale\": [[0.0, \"#0d0887\"], [0.1111111111111111, \"#46039f\"], [0.2222222222222222, \"#7201a8\"], [0.3333333333333333, \"#9c179e\"], [0.4444444444444444, \"#bd3786\"], [0.5555555555555556, \"#d8576b\"], [0.6666666666666666, \"#ed7953\"], [0.7777777777777778, \"#fb9f3a\"], [0.8888888888888888, \"#fdca26\"], [1.0, \"#f0f921\"]], \"type\": \"histogram2dcontour\"}], \"mesh3d\": [{\"colorbar\": {\"outlinewidth\": 0, \"ticks\": \"\"}, \"type\": \"mesh3d\"}], \"parcoords\": [{\"line\": {\"colorbar\": {\"outlinewidth\": 0, \"ticks\": \"\"}}, \"type\": \"parcoords\"}], \"pie\": [{\"automargin\": true, \"type\": \"pie\"}], \"scatter\": [{\"marker\": {\"colorbar\": {\"outlinewidth\": 0, \"ticks\": \"\"}}, \"type\": \"scatter\"}], \"scatter3d\": [{\"line\": {\"colorbar\": {\"outlinewidth\": 0, \"ticks\": \"\"}}, \"marker\": {\"colorbar\": {\"outlinewidth\": 0, \"ticks\": \"\"}}, \"type\": \"scatter3d\"}], \"scattercarpet\": [{\"marker\": {\"colorbar\": {\"outlinewidth\": 0, \"ticks\": \"\"}}, \"type\": \"scattercarpet\"}], \"scattergeo\": [{\"marker\": {\"colorbar\": {\"outlinewidth\": 0, \"ticks\": \"\"}}, \"type\": \"scattergeo\"}], \"scattergl\": [{\"marker\": {\"colorbar\": {\"outlinewidth\": 0, \"ticks\": \"\"}}, \"type\": \"scattergl\"}], \"scattermapbox\": [{\"marker\": {\"colorbar\": {\"outlinewidth\": 0, \"ticks\": \"\"}}, \"type\": \"scattermapbox\"}], \"scatterpolar\": [{\"marker\": {\"colorbar\": {\"outlinewidth\": 0, \"ticks\": \"\"}}, \"type\": \"scatterpolar\"}], \"scatterpolargl\": [{\"marker\": {\"colorbar\": {\"outlinewidth\": 0, \"ticks\": \"\"}}, \"type\": \"scatterpolargl\"}], \"scatterternary\": [{\"marker\": {\"colorbar\": {\"outlinewidth\": 0, \"ticks\": \"\"}}, \"type\": \"scatterternary\"}], \"surface\": [{\"colorbar\": {\"outlinewidth\": 0, \"ticks\": \"\"}, \"colorscale\": [[0.0, \"#0d0887\"], [0.1111111111111111, \"#46039f\"], [0.2222222222222222, \"#7201a8\"], [0.3333333333333333, \"#9c179e\"], [0.4444444444444444, \"#bd3786\"], [0.5555555555555556, \"#d8576b\"], [0.6666666666666666, \"#ed7953\"], [0.7777777777777778, \"#fb9f3a\"], [0.8888888888888888, \"#fdca26\"], [1.0, \"#f0f921\"]], \"type\": \"surface\"}], \"table\": [{\"cells\": {\"fill\": {\"color\": \"#EBF0F8\"}, \"line\": {\"color\": \"white\"}}, \"header\": {\"fill\": {\"color\": \"#C8D4E3\"}, \"line\": {\"color\": \"white\"}}, \"type\": \"table\"}]}, \"layout\": {\"annotationdefaults\": {\"arrowcolor\": \"#2a3f5f\", \"arrowhead\": 0, \"arrowwidth\": 1}, \"coloraxis\": {\"colorbar\": {\"outlinewidth\": 0, \"ticks\": \"\"}}, \"colorscale\": {\"diverging\": [[0, \"#8e0152\"], [0.1, \"#c51b7d\"], [0.2, \"#de77ae\"], [0.3, \"#f1b6da\"], [0.4, \"#fde0ef\"], [0.5, \"#f7f7f7\"], [0.6, \"#e6f5d0\"], [0.7, \"#b8e186\"], [0.8, \"#7fbc41\"], [0.9, \"#4d9221\"], [1, \"#276419\"]], \"sequential\": [[0.0, \"#0d0887\"], [0.1111111111111111, \"#46039f\"], [0.2222222222222222, \"#7201a8\"], [0.3333333333333333, \"#9c179e\"], [0.4444444444444444, \"#bd3786\"], [0.5555555555555556, \"#d8576b\"], [0.6666666666666666, \"#ed7953\"], [0.7777777777777778, \"#fb9f3a\"], [0.8888888888888888, \"#fdca26\"], [1.0, \"#f0f921\"]], \"sequentialminus\": [[0.0, \"#0d0887\"], [0.1111111111111111, \"#46039f\"], [0.2222222222222222, \"#7201a8\"], [0.3333333333333333, \"#9c179e\"], [0.4444444444444444, \"#bd3786\"], [0.5555555555555556, \"#d8576b\"], [0.6666666666666666, \"#ed7953\"], [0.7777777777777778, \"#fb9f3a\"], [0.8888888888888888, \"#fdca26\"], [1.0, \"#f0f921\"]]}, \"colorway\": [\"#636efa\", \"#EF553B\", \"#00cc96\", \"#ab63fa\", \"#FFA15A\", \"#19d3f3\", \"#FF6692\", \"#B6E880\", \"#FF97FF\", \"#FECB52\"], \"font\": {\"color\": \"#2a3f5f\"}, \"geo\": {\"bgcolor\": \"white\", \"lakecolor\": \"white\", \"landcolor\": \"#E5ECF6\", \"showlakes\": true, \"showland\": true, \"subunitcolor\": \"white\"}, \"hoverlabel\": {\"align\": \"left\"}, \"hovermode\": \"closest\", \"mapbox\": {\"style\": \"light\"}, \"paper_bgcolor\": \"white\", \"plot_bgcolor\": \"#E5ECF6\", \"polar\": {\"angularaxis\": {\"gridcolor\": \"white\", \"linecolor\": \"white\", \"ticks\": \"\"}, \"bgcolor\": \"#E5ECF6\", \"radialaxis\": {\"gridcolor\": \"white\", \"linecolor\": \"white\", \"ticks\": \"\"}}, \"scene\": {\"xaxis\": {\"backgroundcolor\": \"#E5ECF6\", \"gridcolor\": \"white\", \"gridwidth\": 2, \"linecolor\": \"white\", \"showbackground\": true, \"ticks\": \"\", \"zerolinecolor\": \"white\"}, \"yaxis\": {\"backgroundcolor\": \"#E5ECF6\", \"gridcolor\": \"white\", \"gridwidth\": 2, \"linecolor\": \"white\", \"showbackground\": true, \"ticks\": \"\", \"zerolinecolor\": \"white\"}, \"zaxis\": {\"backgroundcolor\": \"#E5ECF6\", \"gridcolor\": \"white\", \"gridwidth\": 2, \"linecolor\": \"white\", \"showbackground\": true, \"ticks\": \"\", \"zerolinecolor\": \"white\"}}, \"shapedefaults\": {\"line\": {\"color\": \"#2a3f5f\"}}, \"ternary\": {\"aaxis\": {\"gridcolor\": \"white\", \"linecolor\": \"white\", \"ticks\": \"\"}, \"baxis\": {\"gridcolor\": \"white\", \"linecolor\": \"white\", \"ticks\": \"\"}, \"bgcolor\": \"#E5ECF6\", \"caxis\": {\"gridcolor\": \"white\", \"linecolor\": \"white\", \"ticks\": \"\"}}, \"title\": {\"x\": 0.05}, \"xaxis\": {\"automargin\": true, \"gridcolor\": \"white\", \"linecolor\": \"white\", \"ticks\": \"\", \"title\": {\"standoff\": 15}, \"zerolinecolor\": \"white\", \"zerolinewidth\": 2}, \"yaxis\": {\"automargin\": true, \"gridcolor\": \"white\", \"linecolor\": \"white\", \"ticks\": \"\", \"title\": {\"standoff\": 15}, \"zerolinecolor\": \"white\", \"zerolinewidth\": 2}}}, \"title\": {\"font\": {\"color\": \"#4D5663\"}}, \"xaxis\": {\"gridcolor\": \"#E1E5ED\", \"showgrid\": true, \"tickfont\": {\"color\": \"#4D5663\"}, \"title\": {\"font\": {\"color\": \"#4D5663\"}, \"text\": \"\"}, \"zerolinecolor\": \"#E1E5ED\"}, \"xaxis2\": {\"anchor\": \"y2\", \"gridcolor\": \"#E1E5ED\", \"showgrid\": true, \"showticklabels\": false, \"tickfont\": {\"color\": \"#4D5663\"}, \"title\": {\"font\": {\"color\": \"#4D5663\"}, \"text\": \"\"}, \"zerolinecolor\": \"#E1E5ED\"}, \"yaxis\": {\"domain\": [0.3, 1], \"gridcolor\": \"#E1E5ED\", \"showgrid\": true, \"tickfont\": {\"color\": \"#4D5663\"}, \"title\": {\"font\": {\"color\": \"#4D5663\"}, \"text\": \"\"}, \"zerolinecolor\": \"#E1E5ED\"}, \"yaxis2\": {\"domain\": [0, 0.25], \"gridcolor\": \"#E1E5ED\", \"showgrid\": true, \"tickfont\": {\"color\": \"#4D5663\"}, \"title\": {\"font\": {\"color\": \"#4D5663\"}, \"text\": \"Spread\"}, \"zerolinecolor\": \"#E1E5ED\"}},                        {\"showLink\": true, \"linkText\": \"Export to plot.ly\", \"plotlyServerURL\": \"https://plot.ly\", \"responsive\": true}                    ).then(function(){\n",
       "                            \n",
       "var gd = document.getElementById('8937301d-f009-4e6f-97f9-cb1987ca897c');\n",
       "var x = new MutationObserver(function (mutations, observer) {{\n",
       "        var display = window.getComputedStyle(gd).display;\n",
       "        if (!display || display === 'none') {{\n",
       "            console.log([gd, 'removed!']);\n",
       "            Plotly.purge(gd);\n",
       "            observer.disconnect();\n",
       "        }}\n",
       "}});\n",
       "\n",
       "// Listen for the removal of the full notebook cells\n",
       "var notebookContainer = gd.closest('#notebook-container');\n",
       "if (notebookContainer) {{\n",
       "    x.observe(notebookContainer, {childList: true});\n",
       "}}\n",
       "\n",
       "// Listen for the clearing of the current output cell\n",
       "var outputEl = gd.closest('.output');\n",
       "if (outputEl) {{\n",
       "    x.observe(outputEl, {childList: true});\n",
       "}}\n",
       "\n",
       "                        })                };                });            </script>        </div>"
      ]
     },
     "metadata": {},
     "output_type": "display_data"
    }
   ],
   "source": [
    "df[['A','B']].iplot(kind='spread')"
   ]
  },
  {
   "cell_type": "markdown",
   "metadata": {},
   "source": [
    "## histogram"
   ]
  },
  {
   "cell_type": "code",
   "execution_count": 21,
   "metadata": {},
   "outputs": [
    {
     "data": {
      "application/vnd.plotly.v1+json": {
       "config": {
        "linkText": "Export to plot.ly",
        "plotlyServerURL": "https://plot.ly",
        "showLink": true
       },
       "data": [
        {
         "histfunc": "count",
         "histnorm": "",
         "marker": {
          "color": "rgba(255, 153, 51, 1.0)",
          "line": {
           "color": "#4D5663",
           "width": 1.3
          }
         },
         "name": "A",
         "nbinsx": 25,
         "opacity": 0.8,
         "orientation": "v",
         "type": "histogram",
         "x": [
          -1.5165215335635371,
          1.2385294899836377,
          0.18675435261297058,
          -0.49404178733345255,
          0.9638783524597756,
          -1.1032901032155455,
          0.8489612205492174,
          0.9903890863731017,
          -1.3703522449279018,
          -0.5776566150555577,
          -0.31321057904966493,
          -1.62657976260777,
          -1.006701588728278,
          1.1360103276196873,
          0.6096235839787069,
          -1.3807990089203603,
          -0.36237146775748713,
          -0.5950154460828271,
          1.3888123369070282,
          -1.3629622910143322,
          -1.1038735970945992,
          1.337348295283731,
          1.1667957765059276,
          -1.2086935425656429,
          0.24972766483940562,
          0.29999954775204385,
          1.0667440982430194,
          -0.1741452761097413,
          0.29560646351069414,
          1.2851980496441235,
          -1.5822045088416392,
          0.2332157433742438,
          -0.8216180482229304,
          0.36846289942020066,
          1.6914889255493009,
          0.05294197198387387,
          1.6522250061531598,
          0.3806122062538394,
          0.2281787015714965,
          0.13943357370996548,
          0.7737513704163842,
          1.2632113994240495,
          -2.0723185151193118,
          0.3148357541550536,
          0.9775459023887758,
          0.4890519952231019,
          0.019788575261866545,
          0.5255271325555345,
          1.6814084764377233,
          0.5767167314074976,
          0.20677363770809085,
          0.1860110033699774,
          0.21407497739434397,
          0.7365607951031639,
          -0.7857728014462609,
          0.009524836979279003,
          0.38612916910565903,
          0.1502359587507458,
          0.9892286676253292,
          0.39444327636869897,
          1.120472350623712,
          2.572635263308814,
          0.16353567449977097,
          -0.3413603098431363,
          0.11982063910290328,
          -1.3444523091154967,
          -1.0451078274259888,
          0.7804874333757548,
          -0.10032354166879094,
          1.7827722897587395,
          -1.0946905294595737,
          -0.2510276890016824,
          0.9673217921938824,
          -1.0165640371463203,
          0.0690990527382664,
          -0.8510879315244121,
          0.43904889330463176,
          -1.337878368147962,
          0.09750269879021287,
          1.1447728728037032,
          -0.39997693269254425,
          0.5229998031018618,
          -0.4292225098792032,
          0.9378316216532356,
          -0.7677501218695141,
          1.9137196189172991,
          0.5216008014414507,
          -1.0851954812245894,
          0.5878201563359909,
          0.6262055363577997,
          1.0657701838435691,
          -0.5129968730608664,
          1.2712310563424316,
          1.0526472276252596,
          2.007007712904021,
          -1.2458742116352368,
          -0.3561372960571573,
          -0.09014992621817493,
          0.7230413885756098,
          1.4489088916499433
         ]
        }
       ],
       "layout": {
        "barmode": "overlay",
        "legend": {
         "bgcolor": "#F5F6F9",
         "font": {
          "color": "#4D5663"
         }
        },
        "paper_bgcolor": "#F5F6F9",
        "plot_bgcolor": "#F5F6F9",
        "template": {
         "data": {
          "bar": [
           {
            "error_x": {
             "color": "#2a3f5f"
            },
            "error_y": {
             "color": "#2a3f5f"
            },
            "marker": {
             "line": {
              "color": "#E5ECF6",
              "width": 0.5
             }
            },
            "type": "bar"
           }
          ],
          "barpolar": [
           {
            "marker": {
             "line": {
              "color": "#E5ECF6",
              "width": 0.5
             }
            },
            "type": "barpolar"
           }
          ],
          "carpet": [
           {
            "aaxis": {
             "endlinecolor": "#2a3f5f",
             "gridcolor": "white",
             "linecolor": "white",
             "minorgridcolor": "white",
             "startlinecolor": "#2a3f5f"
            },
            "baxis": {
             "endlinecolor": "#2a3f5f",
             "gridcolor": "white",
             "linecolor": "white",
             "minorgridcolor": "white",
             "startlinecolor": "#2a3f5f"
            },
            "type": "carpet"
           }
          ],
          "choropleth": [
           {
            "colorbar": {
             "outlinewidth": 0,
             "ticks": ""
            },
            "type": "choropleth"
           }
          ],
          "contour": [
           {
            "colorbar": {
             "outlinewidth": 0,
             "ticks": ""
            },
            "colorscale": [
             [
              0,
              "#0d0887"
             ],
             [
              0.1111111111111111,
              "#46039f"
             ],
             [
              0.2222222222222222,
              "#7201a8"
             ],
             [
              0.3333333333333333,
              "#9c179e"
             ],
             [
              0.4444444444444444,
              "#bd3786"
             ],
             [
              0.5555555555555556,
              "#d8576b"
             ],
             [
              0.6666666666666666,
              "#ed7953"
             ],
             [
              0.7777777777777778,
              "#fb9f3a"
             ],
             [
              0.8888888888888888,
              "#fdca26"
             ],
             [
              1,
              "#f0f921"
             ]
            ],
            "type": "contour"
           }
          ],
          "contourcarpet": [
           {
            "colorbar": {
             "outlinewidth": 0,
             "ticks": ""
            },
            "type": "contourcarpet"
           }
          ],
          "heatmap": [
           {
            "colorbar": {
             "outlinewidth": 0,
             "ticks": ""
            },
            "colorscale": [
             [
              0,
              "#0d0887"
             ],
             [
              0.1111111111111111,
              "#46039f"
             ],
             [
              0.2222222222222222,
              "#7201a8"
             ],
             [
              0.3333333333333333,
              "#9c179e"
             ],
             [
              0.4444444444444444,
              "#bd3786"
             ],
             [
              0.5555555555555556,
              "#d8576b"
             ],
             [
              0.6666666666666666,
              "#ed7953"
             ],
             [
              0.7777777777777778,
              "#fb9f3a"
             ],
             [
              0.8888888888888888,
              "#fdca26"
             ],
             [
              1,
              "#f0f921"
             ]
            ],
            "type": "heatmap"
           }
          ],
          "heatmapgl": [
           {
            "colorbar": {
             "outlinewidth": 0,
             "ticks": ""
            },
            "colorscale": [
             [
              0,
              "#0d0887"
             ],
             [
              0.1111111111111111,
              "#46039f"
             ],
             [
              0.2222222222222222,
              "#7201a8"
             ],
             [
              0.3333333333333333,
              "#9c179e"
             ],
             [
              0.4444444444444444,
              "#bd3786"
             ],
             [
              0.5555555555555556,
              "#d8576b"
             ],
             [
              0.6666666666666666,
              "#ed7953"
             ],
             [
              0.7777777777777778,
              "#fb9f3a"
             ],
             [
              0.8888888888888888,
              "#fdca26"
             ],
             [
              1,
              "#f0f921"
             ]
            ],
            "type": "heatmapgl"
           }
          ],
          "histogram": [
           {
            "marker": {
             "colorbar": {
              "outlinewidth": 0,
              "ticks": ""
             }
            },
            "type": "histogram"
           }
          ],
          "histogram2d": [
           {
            "colorbar": {
             "outlinewidth": 0,
             "ticks": ""
            },
            "colorscale": [
             [
              0,
              "#0d0887"
             ],
             [
              0.1111111111111111,
              "#46039f"
             ],
             [
              0.2222222222222222,
              "#7201a8"
             ],
             [
              0.3333333333333333,
              "#9c179e"
             ],
             [
              0.4444444444444444,
              "#bd3786"
             ],
             [
              0.5555555555555556,
              "#d8576b"
             ],
             [
              0.6666666666666666,
              "#ed7953"
             ],
             [
              0.7777777777777778,
              "#fb9f3a"
             ],
             [
              0.8888888888888888,
              "#fdca26"
             ],
             [
              1,
              "#f0f921"
             ]
            ],
            "type": "histogram2d"
           }
          ],
          "histogram2dcontour": [
           {
            "colorbar": {
             "outlinewidth": 0,
             "ticks": ""
            },
            "colorscale": [
             [
              0,
              "#0d0887"
             ],
             [
              0.1111111111111111,
              "#46039f"
             ],
             [
              0.2222222222222222,
              "#7201a8"
             ],
             [
              0.3333333333333333,
              "#9c179e"
             ],
             [
              0.4444444444444444,
              "#bd3786"
             ],
             [
              0.5555555555555556,
              "#d8576b"
             ],
             [
              0.6666666666666666,
              "#ed7953"
             ],
             [
              0.7777777777777778,
              "#fb9f3a"
             ],
             [
              0.8888888888888888,
              "#fdca26"
             ],
             [
              1,
              "#f0f921"
             ]
            ],
            "type": "histogram2dcontour"
           }
          ],
          "mesh3d": [
           {
            "colorbar": {
             "outlinewidth": 0,
             "ticks": ""
            },
            "type": "mesh3d"
           }
          ],
          "parcoords": [
           {
            "line": {
             "colorbar": {
              "outlinewidth": 0,
              "ticks": ""
             }
            },
            "type": "parcoords"
           }
          ],
          "pie": [
           {
            "automargin": true,
            "type": "pie"
           }
          ],
          "scatter": [
           {
            "marker": {
             "colorbar": {
              "outlinewidth": 0,
              "ticks": ""
             }
            },
            "type": "scatter"
           }
          ],
          "scatter3d": [
           {
            "line": {
             "colorbar": {
              "outlinewidth": 0,
              "ticks": ""
             }
            },
            "marker": {
             "colorbar": {
              "outlinewidth": 0,
              "ticks": ""
             }
            },
            "type": "scatter3d"
           }
          ],
          "scattercarpet": [
           {
            "marker": {
             "colorbar": {
              "outlinewidth": 0,
              "ticks": ""
             }
            },
            "type": "scattercarpet"
           }
          ],
          "scattergeo": [
           {
            "marker": {
             "colorbar": {
              "outlinewidth": 0,
              "ticks": ""
             }
            },
            "type": "scattergeo"
           }
          ],
          "scattergl": [
           {
            "marker": {
             "colorbar": {
              "outlinewidth": 0,
              "ticks": ""
             }
            },
            "type": "scattergl"
           }
          ],
          "scattermapbox": [
           {
            "marker": {
             "colorbar": {
              "outlinewidth": 0,
              "ticks": ""
             }
            },
            "type": "scattermapbox"
           }
          ],
          "scatterpolar": [
           {
            "marker": {
             "colorbar": {
              "outlinewidth": 0,
              "ticks": ""
             }
            },
            "type": "scatterpolar"
           }
          ],
          "scatterpolargl": [
           {
            "marker": {
             "colorbar": {
              "outlinewidth": 0,
              "ticks": ""
             }
            },
            "type": "scatterpolargl"
           }
          ],
          "scatterternary": [
           {
            "marker": {
             "colorbar": {
              "outlinewidth": 0,
              "ticks": ""
             }
            },
            "type": "scatterternary"
           }
          ],
          "surface": [
           {
            "colorbar": {
             "outlinewidth": 0,
             "ticks": ""
            },
            "colorscale": [
             [
              0,
              "#0d0887"
             ],
             [
              0.1111111111111111,
              "#46039f"
             ],
             [
              0.2222222222222222,
              "#7201a8"
             ],
             [
              0.3333333333333333,
              "#9c179e"
             ],
             [
              0.4444444444444444,
              "#bd3786"
             ],
             [
              0.5555555555555556,
              "#d8576b"
             ],
             [
              0.6666666666666666,
              "#ed7953"
             ],
             [
              0.7777777777777778,
              "#fb9f3a"
             ],
             [
              0.8888888888888888,
              "#fdca26"
             ],
             [
              1,
              "#f0f921"
             ]
            ],
            "type": "surface"
           }
          ],
          "table": [
           {
            "cells": {
             "fill": {
              "color": "#EBF0F8"
             },
             "line": {
              "color": "white"
             }
            },
            "header": {
             "fill": {
              "color": "#C8D4E3"
             },
             "line": {
              "color": "white"
             }
            },
            "type": "table"
           }
          ]
         },
         "layout": {
          "annotationdefaults": {
           "arrowcolor": "#2a3f5f",
           "arrowhead": 0,
           "arrowwidth": 1
          },
          "coloraxis": {
           "colorbar": {
            "outlinewidth": 0,
            "ticks": ""
           }
          },
          "colorscale": {
           "diverging": [
            [
             0,
             "#8e0152"
            ],
            [
             0.1,
             "#c51b7d"
            ],
            [
             0.2,
             "#de77ae"
            ],
            [
             0.3,
             "#f1b6da"
            ],
            [
             0.4,
             "#fde0ef"
            ],
            [
             0.5,
             "#f7f7f7"
            ],
            [
             0.6,
             "#e6f5d0"
            ],
            [
             0.7,
             "#b8e186"
            ],
            [
             0.8,
             "#7fbc41"
            ],
            [
             0.9,
             "#4d9221"
            ],
            [
             1,
             "#276419"
            ]
           ],
           "sequential": [
            [
             0,
             "#0d0887"
            ],
            [
             0.1111111111111111,
             "#46039f"
            ],
            [
             0.2222222222222222,
             "#7201a8"
            ],
            [
             0.3333333333333333,
             "#9c179e"
            ],
            [
             0.4444444444444444,
             "#bd3786"
            ],
            [
             0.5555555555555556,
             "#d8576b"
            ],
            [
             0.6666666666666666,
             "#ed7953"
            ],
            [
             0.7777777777777778,
             "#fb9f3a"
            ],
            [
             0.8888888888888888,
             "#fdca26"
            ],
            [
             1,
             "#f0f921"
            ]
           ],
           "sequentialminus": [
            [
             0,
             "#0d0887"
            ],
            [
             0.1111111111111111,
             "#46039f"
            ],
            [
             0.2222222222222222,
             "#7201a8"
            ],
            [
             0.3333333333333333,
             "#9c179e"
            ],
            [
             0.4444444444444444,
             "#bd3786"
            ],
            [
             0.5555555555555556,
             "#d8576b"
            ],
            [
             0.6666666666666666,
             "#ed7953"
            ],
            [
             0.7777777777777778,
             "#fb9f3a"
            ],
            [
             0.8888888888888888,
             "#fdca26"
            ],
            [
             1,
             "#f0f921"
            ]
           ]
          },
          "colorway": [
           "#636efa",
           "#EF553B",
           "#00cc96",
           "#ab63fa",
           "#FFA15A",
           "#19d3f3",
           "#FF6692",
           "#B6E880",
           "#FF97FF",
           "#FECB52"
          ],
          "font": {
           "color": "#2a3f5f"
          },
          "geo": {
           "bgcolor": "white",
           "lakecolor": "white",
           "landcolor": "#E5ECF6",
           "showlakes": true,
           "showland": true,
           "subunitcolor": "white"
          },
          "hoverlabel": {
           "align": "left"
          },
          "hovermode": "closest",
          "mapbox": {
           "style": "light"
          },
          "paper_bgcolor": "white",
          "plot_bgcolor": "#E5ECF6",
          "polar": {
           "angularaxis": {
            "gridcolor": "white",
            "linecolor": "white",
            "ticks": ""
           },
           "bgcolor": "#E5ECF6",
           "radialaxis": {
            "gridcolor": "white",
            "linecolor": "white",
            "ticks": ""
           }
          },
          "scene": {
           "xaxis": {
            "backgroundcolor": "#E5ECF6",
            "gridcolor": "white",
            "gridwidth": 2,
            "linecolor": "white",
            "showbackground": true,
            "ticks": "",
            "zerolinecolor": "white"
           },
           "yaxis": {
            "backgroundcolor": "#E5ECF6",
            "gridcolor": "white",
            "gridwidth": 2,
            "linecolor": "white",
            "showbackground": true,
            "ticks": "",
            "zerolinecolor": "white"
           },
           "zaxis": {
            "backgroundcolor": "#E5ECF6",
            "gridcolor": "white",
            "gridwidth": 2,
            "linecolor": "white",
            "showbackground": true,
            "ticks": "",
            "zerolinecolor": "white"
           }
          },
          "shapedefaults": {
           "line": {
            "color": "#2a3f5f"
           }
          },
          "ternary": {
           "aaxis": {
            "gridcolor": "white",
            "linecolor": "white",
            "ticks": ""
           },
           "baxis": {
            "gridcolor": "white",
            "linecolor": "white",
            "ticks": ""
           },
           "bgcolor": "#E5ECF6",
           "caxis": {
            "gridcolor": "white",
            "linecolor": "white",
            "ticks": ""
           }
          },
          "title": {
           "x": 0.05
          },
          "xaxis": {
           "automargin": true,
           "gridcolor": "white",
           "linecolor": "white",
           "ticks": "",
           "title": {
            "standoff": 15
           },
           "zerolinecolor": "white",
           "zerolinewidth": 2
          },
          "yaxis": {
           "automargin": true,
           "gridcolor": "white",
           "linecolor": "white",
           "ticks": "",
           "title": {
            "standoff": 15
           },
           "zerolinecolor": "white",
           "zerolinewidth": 2
          }
         }
        },
        "title": {
         "font": {
          "color": "#4D5663"
         }
        },
        "xaxis": {
         "gridcolor": "#E1E5ED",
         "showgrid": true,
         "tickfont": {
          "color": "#4D5663"
         },
         "title": {
          "font": {
           "color": "#4D5663"
          },
          "text": ""
         },
         "zerolinecolor": "#E1E5ED"
        },
        "yaxis": {
         "gridcolor": "#E1E5ED",
         "showgrid": true,
         "tickfont": {
          "color": "#4D5663"
         },
         "title": {
          "font": {
           "color": "#4D5663"
          },
          "text": ""
         },
         "zerolinecolor": "#E1E5ED"
        }
       }
      },
      "text/html": [
       "<div>                            <div id=\"604b3d9b-51e0-4ee6-9696-742a5f03c64e\" class=\"plotly-graph-div\" style=\"height:525px; width:100%;\"></div>            <script type=\"text/javascript\">                require([\"plotly\"], function(Plotly) {                    window.PLOTLYENV=window.PLOTLYENV || {};\n",
       "                    window.PLOTLYENV.BASE_URL='https://plot.ly';                                    if (document.getElementById(\"604b3d9b-51e0-4ee6-9696-742a5f03c64e\")) {                    Plotly.newPlot(                        \"604b3d9b-51e0-4ee6-9696-742a5f03c64e\",                        [{\"histfunc\": \"count\", \"histnorm\": \"\", \"marker\": {\"color\": \"rgba(255, 153, 51, 1.0)\", \"line\": {\"color\": \"#4D5663\", \"width\": 1.3}}, \"name\": \"A\", \"nbinsx\": 25, \"opacity\": 0.8, \"orientation\": \"v\", \"type\": \"histogram\", \"x\": [-1.5165215335635371, 1.2385294899836377, 0.18675435261297058, -0.49404178733345255, 0.9638783524597756, -1.1032901032155455, 0.8489612205492174, 0.9903890863731017, -1.3703522449279018, -0.5776566150555577, -0.31321057904966493, -1.62657976260777, -1.006701588728278, 1.1360103276196873, 0.6096235839787069, -1.3807990089203603, -0.36237146775748713, -0.5950154460828271, 1.3888123369070282, -1.3629622910143322, -1.1038735970945992, 1.337348295283731, 1.1667957765059276, -1.2086935425656429, 0.24972766483940562, 0.29999954775204385, 1.0667440982430194, -0.1741452761097413, 0.29560646351069414, 1.2851980496441235, -1.5822045088416392, 0.2332157433742438, -0.8216180482229304, 0.36846289942020066, 1.6914889255493009, 0.05294197198387387, 1.6522250061531598, 0.3806122062538394, 0.2281787015714965, 0.13943357370996548, 0.7737513704163842, 1.2632113994240495, -2.0723185151193118, 0.3148357541550536, 0.9775459023887758, 0.4890519952231019, 0.019788575261866545, 0.5255271325555345, 1.6814084764377233, 0.5767167314074976, 0.20677363770809085, 0.1860110033699774, 0.21407497739434397, 0.7365607951031639, -0.7857728014462609, 0.009524836979279003, 0.38612916910565903, 0.1502359587507458, 0.9892286676253292, 0.39444327636869897, 1.120472350623712, 2.572635263308814, 0.16353567449977097, -0.3413603098431363, 0.11982063910290328, -1.3444523091154967, -1.0451078274259888, 0.7804874333757548, -0.10032354166879094, 1.7827722897587395, -1.0946905294595737, -0.2510276890016824, 0.9673217921938824, -1.0165640371463203, 0.0690990527382664, -0.8510879315244121, 0.43904889330463176, -1.337878368147962, 0.09750269879021287, 1.1447728728037032, -0.39997693269254425, 0.5229998031018618, -0.4292225098792032, 0.9378316216532356, -0.7677501218695141, 1.9137196189172991, 0.5216008014414507, -1.0851954812245894, 0.5878201563359909, 0.6262055363577997, 1.0657701838435691, -0.5129968730608664, 1.2712310563424316, 1.0526472276252596, 2.007007712904021, -1.2458742116352368, -0.3561372960571573, -0.09014992621817493, 0.7230413885756098, 1.4489088916499433]}],                        {\"barmode\": \"overlay\", \"legend\": {\"bgcolor\": \"#F5F6F9\", \"font\": {\"color\": \"#4D5663\"}}, \"paper_bgcolor\": \"#F5F6F9\", \"plot_bgcolor\": \"#F5F6F9\", \"template\": {\"data\": {\"bar\": [{\"error_x\": {\"color\": \"#2a3f5f\"}, \"error_y\": {\"color\": \"#2a3f5f\"}, \"marker\": {\"line\": {\"color\": \"#E5ECF6\", \"width\": 0.5}}, \"type\": \"bar\"}], \"barpolar\": [{\"marker\": {\"line\": {\"color\": \"#E5ECF6\", \"width\": 0.5}}, \"type\": \"barpolar\"}], \"carpet\": [{\"aaxis\": {\"endlinecolor\": \"#2a3f5f\", \"gridcolor\": \"white\", \"linecolor\": \"white\", \"minorgridcolor\": \"white\", \"startlinecolor\": \"#2a3f5f\"}, \"baxis\": {\"endlinecolor\": \"#2a3f5f\", \"gridcolor\": \"white\", \"linecolor\": \"white\", \"minorgridcolor\": \"white\", \"startlinecolor\": \"#2a3f5f\"}, \"type\": \"carpet\"}], \"choropleth\": [{\"colorbar\": {\"outlinewidth\": 0, \"ticks\": \"\"}, \"type\": \"choropleth\"}], \"contour\": [{\"colorbar\": {\"outlinewidth\": 0, \"ticks\": \"\"}, \"colorscale\": [[0.0, \"#0d0887\"], [0.1111111111111111, \"#46039f\"], [0.2222222222222222, \"#7201a8\"], [0.3333333333333333, \"#9c179e\"], [0.4444444444444444, \"#bd3786\"], [0.5555555555555556, \"#d8576b\"], [0.6666666666666666, \"#ed7953\"], [0.7777777777777778, \"#fb9f3a\"], [0.8888888888888888, \"#fdca26\"], [1.0, \"#f0f921\"]], \"type\": \"contour\"}], \"contourcarpet\": [{\"colorbar\": {\"outlinewidth\": 0, \"ticks\": \"\"}, \"type\": \"contourcarpet\"}], \"heatmap\": [{\"colorbar\": {\"outlinewidth\": 0, \"ticks\": \"\"}, \"colorscale\": [[0.0, \"#0d0887\"], [0.1111111111111111, \"#46039f\"], [0.2222222222222222, \"#7201a8\"], [0.3333333333333333, \"#9c179e\"], [0.4444444444444444, \"#bd3786\"], [0.5555555555555556, \"#d8576b\"], [0.6666666666666666, \"#ed7953\"], [0.7777777777777778, \"#fb9f3a\"], [0.8888888888888888, \"#fdca26\"], [1.0, \"#f0f921\"]], \"type\": \"heatmap\"}], \"heatmapgl\": [{\"colorbar\": {\"outlinewidth\": 0, \"ticks\": \"\"}, \"colorscale\": [[0.0, \"#0d0887\"], [0.1111111111111111, \"#46039f\"], [0.2222222222222222, \"#7201a8\"], [0.3333333333333333, \"#9c179e\"], [0.4444444444444444, \"#bd3786\"], [0.5555555555555556, \"#d8576b\"], [0.6666666666666666, \"#ed7953\"], [0.7777777777777778, \"#fb9f3a\"], [0.8888888888888888, \"#fdca26\"], [1.0, \"#f0f921\"]], \"type\": \"heatmapgl\"}], \"histogram\": [{\"marker\": {\"colorbar\": {\"outlinewidth\": 0, \"ticks\": \"\"}}, \"type\": \"histogram\"}], \"histogram2d\": [{\"colorbar\": {\"outlinewidth\": 0, \"ticks\": \"\"}, \"colorscale\": [[0.0, \"#0d0887\"], [0.1111111111111111, \"#46039f\"], [0.2222222222222222, \"#7201a8\"], [0.3333333333333333, \"#9c179e\"], [0.4444444444444444, \"#bd3786\"], [0.5555555555555556, \"#d8576b\"], [0.6666666666666666, \"#ed7953\"], [0.7777777777777778, \"#fb9f3a\"], [0.8888888888888888, \"#fdca26\"], [1.0, \"#f0f921\"]], \"type\": \"histogram2d\"}], \"histogram2dcontour\": [{\"colorbar\": {\"outlinewidth\": 0, \"ticks\": \"\"}, \"colorscale\": [[0.0, \"#0d0887\"], [0.1111111111111111, \"#46039f\"], [0.2222222222222222, \"#7201a8\"], [0.3333333333333333, \"#9c179e\"], [0.4444444444444444, \"#bd3786\"], [0.5555555555555556, \"#d8576b\"], [0.6666666666666666, \"#ed7953\"], [0.7777777777777778, \"#fb9f3a\"], [0.8888888888888888, \"#fdca26\"], [1.0, \"#f0f921\"]], \"type\": \"histogram2dcontour\"}], \"mesh3d\": [{\"colorbar\": {\"outlinewidth\": 0, \"ticks\": \"\"}, \"type\": \"mesh3d\"}], \"parcoords\": [{\"line\": {\"colorbar\": {\"outlinewidth\": 0, \"ticks\": \"\"}}, \"type\": \"parcoords\"}], \"pie\": [{\"automargin\": true, \"type\": \"pie\"}], \"scatter\": [{\"marker\": {\"colorbar\": {\"outlinewidth\": 0, \"ticks\": \"\"}}, \"type\": \"scatter\"}], \"scatter3d\": [{\"line\": {\"colorbar\": {\"outlinewidth\": 0, \"ticks\": \"\"}}, \"marker\": {\"colorbar\": {\"outlinewidth\": 0, \"ticks\": \"\"}}, \"type\": \"scatter3d\"}], \"scattercarpet\": [{\"marker\": {\"colorbar\": {\"outlinewidth\": 0, \"ticks\": \"\"}}, \"type\": \"scattercarpet\"}], \"scattergeo\": [{\"marker\": {\"colorbar\": {\"outlinewidth\": 0, \"ticks\": \"\"}}, \"type\": \"scattergeo\"}], \"scattergl\": [{\"marker\": {\"colorbar\": {\"outlinewidth\": 0, \"ticks\": \"\"}}, \"type\": \"scattergl\"}], \"scattermapbox\": [{\"marker\": {\"colorbar\": {\"outlinewidth\": 0, \"ticks\": \"\"}}, \"type\": \"scattermapbox\"}], \"scatterpolar\": [{\"marker\": {\"colorbar\": {\"outlinewidth\": 0, \"ticks\": \"\"}}, \"type\": \"scatterpolar\"}], \"scatterpolargl\": [{\"marker\": {\"colorbar\": {\"outlinewidth\": 0, \"ticks\": \"\"}}, \"type\": \"scatterpolargl\"}], \"scatterternary\": [{\"marker\": {\"colorbar\": {\"outlinewidth\": 0, \"ticks\": \"\"}}, \"type\": \"scatterternary\"}], \"surface\": [{\"colorbar\": {\"outlinewidth\": 0, \"ticks\": \"\"}, \"colorscale\": [[0.0, \"#0d0887\"], [0.1111111111111111, \"#46039f\"], [0.2222222222222222, \"#7201a8\"], [0.3333333333333333, \"#9c179e\"], [0.4444444444444444, \"#bd3786\"], [0.5555555555555556, \"#d8576b\"], [0.6666666666666666, \"#ed7953\"], [0.7777777777777778, \"#fb9f3a\"], [0.8888888888888888, \"#fdca26\"], [1.0, \"#f0f921\"]], \"type\": \"surface\"}], \"table\": [{\"cells\": {\"fill\": {\"color\": \"#EBF0F8\"}, \"line\": {\"color\": \"white\"}}, \"header\": {\"fill\": {\"color\": \"#C8D4E3\"}, \"line\": {\"color\": \"white\"}}, \"type\": \"table\"}]}, \"layout\": {\"annotationdefaults\": {\"arrowcolor\": \"#2a3f5f\", \"arrowhead\": 0, \"arrowwidth\": 1}, \"coloraxis\": {\"colorbar\": {\"outlinewidth\": 0, \"ticks\": \"\"}}, \"colorscale\": {\"diverging\": [[0, \"#8e0152\"], [0.1, \"#c51b7d\"], [0.2, \"#de77ae\"], [0.3, \"#f1b6da\"], [0.4, \"#fde0ef\"], [0.5, \"#f7f7f7\"], [0.6, \"#e6f5d0\"], [0.7, \"#b8e186\"], [0.8, \"#7fbc41\"], [0.9, \"#4d9221\"], [1, \"#276419\"]], \"sequential\": [[0.0, \"#0d0887\"], [0.1111111111111111, \"#46039f\"], [0.2222222222222222, \"#7201a8\"], [0.3333333333333333, \"#9c179e\"], [0.4444444444444444, \"#bd3786\"], [0.5555555555555556, \"#d8576b\"], [0.6666666666666666, \"#ed7953\"], [0.7777777777777778, \"#fb9f3a\"], [0.8888888888888888, \"#fdca26\"], [1.0, \"#f0f921\"]], \"sequentialminus\": [[0.0, \"#0d0887\"], [0.1111111111111111, \"#46039f\"], [0.2222222222222222, \"#7201a8\"], [0.3333333333333333, \"#9c179e\"], [0.4444444444444444, \"#bd3786\"], [0.5555555555555556, \"#d8576b\"], [0.6666666666666666, \"#ed7953\"], [0.7777777777777778, \"#fb9f3a\"], [0.8888888888888888, \"#fdca26\"], [1.0, \"#f0f921\"]]}, \"colorway\": [\"#636efa\", \"#EF553B\", \"#00cc96\", \"#ab63fa\", \"#FFA15A\", \"#19d3f3\", \"#FF6692\", \"#B6E880\", \"#FF97FF\", \"#FECB52\"], \"font\": {\"color\": \"#2a3f5f\"}, \"geo\": {\"bgcolor\": \"white\", \"lakecolor\": \"white\", \"landcolor\": \"#E5ECF6\", \"showlakes\": true, \"showland\": true, \"subunitcolor\": \"white\"}, \"hoverlabel\": {\"align\": \"left\"}, \"hovermode\": \"closest\", \"mapbox\": {\"style\": \"light\"}, \"paper_bgcolor\": \"white\", \"plot_bgcolor\": \"#E5ECF6\", \"polar\": {\"angularaxis\": {\"gridcolor\": \"white\", \"linecolor\": \"white\", \"ticks\": \"\"}, \"bgcolor\": \"#E5ECF6\", \"radialaxis\": {\"gridcolor\": \"white\", \"linecolor\": \"white\", \"ticks\": \"\"}}, \"scene\": {\"xaxis\": {\"backgroundcolor\": \"#E5ECF6\", \"gridcolor\": \"white\", \"gridwidth\": 2, \"linecolor\": \"white\", \"showbackground\": true, \"ticks\": \"\", \"zerolinecolor\": \"white\"}, \"yaxis\": {\"backgroundcolor\": \"#E5ECF6\", \"gridcolor\": \"white\", \"gridwidth\": 2, \"linecolor\": \"white\", \"showbackground\": true, \"ticks\": \"\", \"zerolinecolor\": \"white\"}, \"zaxis\": {\"backgroundcolor\": \"#E5ECF6\", \"gridcolor\": \"white\", \"gridwidth\": 2, \"linecolor\": \"white\", \"showbackground\": true, \"ticks\": \"\", \"zerolinecolor\": \"white\"}}, \"shapedefaults\": {\"line\": {\"color\": \"#2a3f5f\"}}, \"ternary\": {\"aaxis\": {\"gridcolor\": \"white\", \"linecolor\": \"white\", \"ticks\": \"\"}, \"baxis\": {\"gridcolor\": \"white\", \"linecolor\": \"white\", \"ticks\": \"\"}, \"bgcolor\": \"#E5ECF6\", \"caxis\": {\"gridcolor\": \"white\", \"linecolor\": \"white\", \"ticks\": \"\"}}, \"title\": {\"x\": 0.05}, \"xaxis\": {\"automargin\": true, \"gridcolor\": \"white\", \"linecolor\": \"white\", \"ticks\": \"\", \"title\": {\"standoff\": 15}, \"zerolinecolor\": \"white\", \"zerolinewidth\": 2}, \"yaxis\": {\"automargin\": true, \"gridcolor\": \"white\", \"linecolor\": \"white\", \"ticks\": \"\", \"title\": {\"standoff\": 15}, \"zerolinecolor\": \"white\", \"zerolinewidth\": 2}}}, \"title\": {\"font\": {\"color\": \"#4D5663\"}}, \"xaxis\": {\"gridcolor\": \"#E1E5ED\", \"showgrid\": true, \"tickfont\": {\"color\": \"#4D5663\"}, \"title\": {\"font\": {\"color\": \"#4D5663\"}, \"text\": \"\"}, \"zerolinecolor\": \"#E1E5ED\"}, \"yaxis\": {\"gridcolor\": \"#E1E5ED\", \"showgrid\": true, \"tickfont\": {\"color\": \"#4D5663\"}, \"title\": {\"font\": {\"color\": \"#4D5663\"}, \"text\": \"\"}, \"zerolinecolor\": \"#E1E5ED\"}},                        {\"showLink\": true, \"linkText\": \"Export to plot.ly\", \"plotlyServerURL\": \"https://plot.ly\", \"responsive\": true}                    ).then(function(){\n",
       "                            \n",
       "var gd = document.getElementById('604b3d9b-51e0-4ee6-9696-742a5f03c64e');\n",
       "var x = new MutationObserver(function (mutations, observer) {{\n",
       "        var display = window.getComputedStyle(gd).display;\n",
       "        if (!display || display === 'none') {{\n",
       "            console.log([gd, 'removed!']);\n",
       "            Plotly.purge(gd);\n",
       "            observer.disconnect();\n",
       "        }}\n",
       "}});\n",
       "\n",
       "// Listen for the removal of the full notebook cells\n",
       "var notebookContainer = gd.closest('#notebook-container');\n",
       "if (notebookContainer) {{\n",
       "    x.observe(notebookContainer, {childList: true});\n",
       "}}\n",
       "\n",
       "// Listen for the clearing of the current output cell\n",
       "var outputEl = gd.closest('.output');\n",
       "if (outputEl) {{\n",
       "    x.observe(outputEl, {childList: true});\n",
       "}}\n",
       "\n",
       "                        })                };                });            </script>        </div>"
      ]
     },
     "metadata": {},
     "output_type": "display_data"
    }
   ],
   "source": [
    "df['A'].iplot(kind='hist',bins=25)"
   ]
  },
  {
   "cell_type": "code",
   "execution_count": 22,
   "metadata": {},
   "outputs": [
    {
     "data": {
      "application/vnd.plotly.v1+json": {
       "config": {
        "linkText": "Export to plot.ly",
        "plotlyServerURL": "https://plot.ly",
        "showLink": true
       },
       "data": [
        {
         "marker": {
          "color": [
           "rgb(255, 153, 51)",
           "rgb(55, 128, 191)",
           "rgb(50, 171, 96)",
           "rgb(128, 0, 128)",
           "rgb(219, 64, 82)",
           "rgb(0, 128, 128)",
           "rgb(255, 255, 51)",
           "rgb(128, 128, 0)",
           "rgb(251, 128, 114)",
           "rgb(128, 177, 211)"
          ],
          "line": {
           "width": 1.3
          },
          "size": [
           66,
           32,
           79,
           65,
           49,
           25,
           64,
           61,
           45,
           16,
           98,
           25,
           32,
           30,
           22,
           53,
           53,
           57,
           20,
           62,
           13,
           82,
           50,
           50,
           59,
           33,
           58,
           55,
           78,
           48,
           54,
           80,
           13,
           34,
           49,
           52,
           31,
           28,
           48,
           46,
           60,
           59,
           41,
           82,
           49,
           53,
           57,
           63,
           63,
           20,
           46,
           49,
           66,
           75,
           68,
           31,
           42,
           60,
           54,
           54,
           28,
           36,
           63,
           54,
           48,
           70,
           51,
           47,
           49,
           40,
           62,
           12,
           79,
           68,
           112,
           23,
           46,
           96,
           71,
           61,
           17,
           87,
           37,
           48,
           52,
           29,
           47,
           55,
           41,
           69,
           61,
           47,
           72,
           55,
           72,
           60,
           59,
           40,
           64,
           51
          ],
          "symbol": "circle"
         },
         "mode": "markers",
         "text": "",
         "type": "scatter",
         "x": [
          -1.5165215335635371,
          1.2385294899836377,
          0.18675435261297058,
          -0.49404178733345255,
          0.9638783524597756,
          -1.1032901032155455,
          0.8489612205492174,
          0.9903890863731017,
          -1.3703522449279018,
          -0.5776566150555577,
          -0.31321057904966493,
          -1.62657976260777,
          -1.006701588728278,
          1.1360103276196873,
          0.6096235839787069,
          -1.3807990089203603,
          -0.36237146775748713,
          -0.5950154460828271,
          1.3888123369070282,
          -1.3629622910143322,
          -1.1038735970945992,
          1.337348295283731,
          1.1667957765059276,
          -1.2086935425656429,
          0.24972766483940562,
          0.29999954775204385,
          1.0667440982430194,
          -0.1741452761097413,
          0.29560646351069414,
          1.2851980496441235,
          -1.5822045088416392,
          0.2332157433742438,
          -0.8216180482229304,
          0.36846289942020066,
          1.6914889255493009,
          0.05294197198387387,
          1.6522250061531598,
          0.3806122062538394,
          0.2281787015714965,
          0.13943357370996548,
          0.7737513704163842,
          1.2632113994240495,
          -2.0723185151193118,
          0.3148357541550536,
          0.9775459023887758,
          0.4890519952231019,
          0.019788575261866545,
          0.5255271325555345,
          1.6814084764377233,
          0.5767167314074976,
          0.20677363770809085,
          0.1860110033699774,
          0.21407497739434397,
          0.7365607951031639,
          -0.7857728014462609,
          0.009524836979279003,
          0.38612916910565903,
          0.1502359587507458,
          0.9892286676253292,
          0.39444327636869897,
          1.120472350623712,
          2.572635263308814,
          0.16353567449977097,
          -0.3413603098431363,
          0.11982063910290328,
          -1.3444523091154967,
          -1.0451078274259888,
          0.7804874333757548,
          -0.10032354166879094,
          1.7827722897587395,
          -1.0946905294595737,
          -0.2510276890016824,
          0.9673217921938824,
          -1.0165640371463203,
          0.0690990527382664,
          -0.8510879315244121,
          0.43904889330463176,
          -1.337878368147962,
          0.09750269879021287,
          1.1447728728037032,
          -0.39997693269254425,
          0.5229998031018618,
          -0.4292225098792032,
          0.9378316216532356,
          -0.7677501218695141,
          1.9137196189172991,
          0.5216008014414507,
          -1.0851954812245894,
          0.5878201563359909,
          0.6262055363577997,
          1.0657701838435691,
          -0.5129968730608664,
          1.2712310563424316,
          1.0526472276252596,
          2.007007712904021,
          -1.2458742116352368,
          -0.3561372960571573,
          -0.09014992621817493,
          0.7230413885756098,
          1.4489088916499433
         ],
         "y": [
          -0.8345574062307446,
          0.3869389335155712,
          0.07782933474576627,
          1.1899116450030662,
          2.4118231293099672,
          -0.7517168932626798,
          0.04236231146362457,
          0.07190511226430284,
          1.6380670778590334,
          2.0602606596455915,
          -2.163922132520172,
          -0.4433154616526229,
          -0.04538211676815623,
          -0.9165373914796289,
          0.22401956064621992,
          0.0003599773765519304,
          -1.563708728474769,
          -1.5376343933124736,
          -0.7870693396201344,
          0.33457351738130175,
          -1.7354039335286253,
          1.7113719623174346,
          -0.8120715211093109,
          0.3253747617458604,
          -0.31843112066991935,
          -1.7196215520469333,
          1.0739113471545714,
          -0.893491898851701,
          -1.6629737232258517,
          -1.0306910440740462,
          0.9726511881554111,
          0.5494664293783664,
          -0.7708942552672302,
          0.192978809265206,
          -0.7348978845939232,
          -1.3345561541206306,
          0.5165025336657605,
          0.31478413024677826,
          0.6355748238320479,
          0.8652446833342713,
          -2.6658532132036394,
          0.2961008150075696,
          -0.9156752032343806,
          -2.350156615366018,
          0.459285791821168,
          -0.30922541782709606,
          -0.1428120757566868,
          -1.2332716277002955,
          -1.3161739795186747,
          1.2495199734510636,
          0.12846392054830044,
          -0.2417375476858517,
          -1.30909234945247,
          -1.2082763653082,
          1.1683596205889433,
          1.910262362641669,
          -0.3319716068998639,
          0.6369101856685699,
          1.2305627181044516,
          0.009236607765067436,
          -1.1610611529835455,
          -0.5951460041814716,
          -0.3859309436973199,
          1.2772343202778578,
          0.45105331684170763,
          0.8913310278045682,
          2.2461724357778765,
          0.8671611404274941,
          -0.9084679347963178,
          -0.42009634182682365,
          -0.18027132005244065,
          0.6850421902521037,
          -1.1601568758024055,
          -0.8886966875641397,
          -0.1593881395933613,
          0.6257031728894613,
          -0.39633640033302586,
          -0.2575710590884075,
          -0.24936745256303702,
          -1.5120328205355116,
          1.1544613291944308,
          0.01973290602766408,
          -0.38296802691344484,
          -0.4313977587137235,
          1.8662596009811432,
          0.04260450444009576,
          -1.4220661594762694,
          -1.685356777380281,
          -1.1270456077765143,
          -0.38721209138365925,
          0.259167116705802,
          -0.22316627067425593,
          1.635084328005414,
          -2.9583463144626703,
          -0.08181424856774482,
          -0.13510674116356763,
          0.47366256715334687,
          1.1763788631291294,
          -1.8896419059732144,
          0.007836036763666107
         ]
        }
       ],
       "layout": {
        "legend": {
         "bgcolor": "#F5F6F9",
         "font": {
          "color": "#4D5663"
         }
        },
        "paper_bgcolor": "#F5F6F9",
        "plot_bgcolor": "#F5F6F9",
        "template": {
         "data": {
          "bar": [
           {
            "error_x": {
             "color": "#2a3f5f"
            },
            "error_y": {
             "color": "#2a3f5f"
            },
            "marker": {
             "line": {
              "color": "#E5ECF6",
              "width": 0.5
             }
            },
            "type": "bar"
           }
          ],
          "barpolar": [
           {
            "marker": {
             "line": {
              "color": "#E5ECF6",
              "width": 0.5
             }
            },
            "type": "barpolar"
           }
          ],
          "carpet": [
           {
            "aaxis": {
             "endlinecolor": "#2a3f5f",
             "gridcolor": "white",
             "linecolor": "white",
             "minorgridcolor": "white",
             "startlinecolor": "#2a3f5f"
            },
            "baxis": {
             "endlinecolor": "#2a3f5f",
             "gridcolor": "white",
             "linecolor": "white",
             "minorgridcolor": "white",
             "startlinecolor": "#2a3f5f"
            },
            "type": "carpet"
           }
          ],
          "choropleth": [
           {
            "colorbar": {
             "outlinewidth": 0,
             "ticks": ""
            },
            "type": "choropleth"
           }
          ],
          "contour": [
           {
            "colorbar": {
             "outlinewidth": 0,
             "ticks": ""
            },
            "colorscale": [
             [
              0,
              "#0d0887"
             ],
             [
              0.1111111111111111,
              "#46039f"
             ],
             [
              0.2222222222222222,
              "#7201a8"
             ],
             [
              0.3333333333333333,
              "#9c179e"
             ],
             [
              0.4444444444444444,
              "#bd3786"
             ],
             [
              0.5555555555555556,
              "#d8576b"
             ],
             [
              0.6666666666666666,
              "#ed7953"
             ],
             [
              0.7777777777777778,
              "#fb9f3a"
             ],
             [
              0.8888888888888888,
              "#fdca26"
             ],
             [
              1,
              "#f0f921"
             ]
            ],
            "type": "contour"
           }
          ],
          "contourcarpet": [
           {
            "colorbar": {
             "outlinewidth": 0,
             "ticks": ""
            },
            "type": "contourcarpet"
           }
          ],
          "heatmap": [
           {
            "colorbar": {
             "outlinewidth": 0,
             "ticks": ""
            },
            "colorscale": [
             [
              0,
              "#0d0887"
             ],
             [
              0.1111111111111111,
              "#46039f"
             ],
             [
              0.2222222222222222,
              "#7201a8"
             ],
             [
              0.3333333333333333,
              "#9c179e"
             ],
             [
              0.4444444444444444,
              "#bd3786"
             ],
             [
              0.5555555555555556,
              "#d8576b"
             ],
             [
              0.6666666666666666,
              "#ed7953"
             ],
             [
              0.7777777777777778,
              "#fb9f3a"
             ],
             [
              0.8888888888888888,
              "#fdca26"
             ],
             [
              1,
              "#f0f921"
             ]
            ],
            "type": "heatmap"
           }
          ],
          "heatmapgl": [
           {
            "colorbar": {
             "outlinewidth": 0,
             "ticks": ""
            },
            "colorscale": [
             [
              0,
              "#0d0887"
             ],
             [
              0.1111111111111111,
              "#46039f"
             ],
             [
              0.2222222222222222,
              "#7201a8"
             ],
             [
              0.3333333333333333,
              "#9c179e"
             ],
             [
              0.4444444444444444,
              "#bd3786"
             ],
             [
              0.5555555555555556,
              "#d8576b"
             ],
             [
              0.6666666666666666,
              "#ed7953"
             ],
             [
              0.7777777777777778,
              "#fb9f3a"
             ],
             [
              0.8888888888888888,
              "#fdca26"
             ],
             [
              1,
              "#f0f921"
             ]
            ],
            "type": "heatmapgl"
           }
          ],
          "histogram": [
           {
            "marker": {
             "colorbar": {
              "outlinewidth": 0,
              "ticks": ""
             }
            },
            "type": "histogram"
           }
          ],
          "histogram2d": [
           {
            "colorbar": {
             "outlinewidth": 0,
             "ticks": ""
            },
            "colorscale": [
             [
              0,
              "#0d0887"
             ],
             [
              0.1111111111111111,
              "#46039f"
             ],
             [
              0.2222222222222222,
              "#7201a8"
             ],
             [
              0.3333333333333333,
              "#9c179e"
             ],
             [
              0.4444444444444444,
              "#bd3786"
             ],
             [
              0.5555555555555556,
              "#d8576b"
             ],
             [
              0.6666666666666666,
              "#ed7953"
             ],
             [
              0.7777777777777778,
              "#fb9f3a"
             ],
             [
              0.8888888888888888,
              "#fdca26"
             ],
             [
              1,
              "#f0f921"
             ]
            ],
            "type": "histogram2d"
           }
          ],
          "histogram2dcontour": [
           {
            "colorbar": {
             "outlinewidth": 0,
             "ticks": ""
            },
            "colorscale": [
             [
              0,
              "#0d0887"
             ],
             [
              0.1111111111111111,
              "#46039f"
             ],
             [
              0.2222222222222222,
              "#7201a8"
             ],
             [
              0.3333333333333333,
              "#9c179e"
             ],
             [
              0.4444444444444444,
              "#bd3786"
             ],
             [
              0.5555555555555556,
              "#d8576b"
             ],
             [
              0.6666666666666666,
              "#ed7953"
             ],
             [
              0.7777777777777778,
              "#fb9f3a"
             ],
             [
              0.8888888888888888,
              "#fdca26"
             ],
             [
              1,
              "#f0f921"
             ]
            ],
            "type": "histogram2dcontour"
           }
          ],
          "mesh3d": [
           {
            "colorbar": {
             "outlinewidth": 0,
             "ticks": ""
            },
            "type": "mesh3d"
           }
          ],
          "parcoords": [
           {
            "line": {
             "colorbar": {
              "outlinewidth": 0,
              "ticks": ""
             }
            },
            "type": "parcoords"
           }
          ],
          "pie": [
           {
            "automargin": true,
            "type": "pie"
           }
          ],
          "scatter": [
           {
            "marker": {
             "colorbar": {
              "outlinewidth": 0,
              "ticks": ""
             }
            },
            "type": "scatter"
           }
          ],
          "scatter3d": [
           {
            "line": {
             "colorbar": {
              "outlinewidth": 0,
              "ticks": ""
             }
            },
            "marker": {
             "colorbar": {
              "outlinewidth": 0,
              "ticks": ""
             }
            },
            "type": "scatter3d"
           }
          ],
          "scattercarpet": [
           {
            "marker": {
             "colorbar": {
              "outlinewidth": 0,
              "ticks": ""
             }
            },
            "type": "scattercarpet"
           }
          ],
          "scattergeo": [
           {
            "marker": {
             "colorbar": {
              "outlinewidth": 0,
              "ticks": ""
             }
            },
            "type": "scattergeo"
           }
          ],
          "scattergl": [
           {
            "marker": {
             "colorbar": {
              "outlinewidth": 0,
              "ticks": ""
             }
            },
            "type": "scattergl"
           }
          ],
          "scattermapbox": [
           {
            "marker": {
             "colorbar": {
              "outlinewidth": 0,
              "ticks": ""
             }
            },
            "type": "scattermapbox"
           }
          ],
          "scatterpolar": [
           {
            "marker": {
             "colorbar": {
              "outlinewidth": 0,
              "ticks": ""
             }
            },
            "type": "scatterpolar"
           }
          ],
          "scatterpolargl": [
           {
            "marker": {
             "colorbar": {
              "outlinewidth": 0,
              "ticks": ""
             }
            },
            "type": "scatterpolargl"
           }
          ],
          "scatterternary": [
           {
            "marker": {
             "colorbar": {
              "outlinewidth": 0,
              "ticks": ""
             }
            },
            "type": "scatterternary"
           }
          ],
          "surface": [
           {
            "colorbar": {
             "outlinewidth": 0,
             "ticks": ""
            },
            "colorscale": [
             [
              0,
              "#0d0887"
             ],
             [
              0.1111111111111111,
              "#46039f"
             ],
             [
              0.2222222222222222,
              "#7201a8"
             ],
             [
              0.3333333333333333,
              "#9c179e"
             ],
             [
              0.4444444444444444,
              "#bd3786"
             ],
             [
              0.5555555555555556,
              "#d8576b"
             ],
             [
              0.6666666666666666,
              "#ed7953"
             ],
             [
              0.7777777777777778,
              "#fb9f3a"
             ],
             [
              0.8888888888888888,
              "#fdca26"
             ],
             [
              1,
              "#f0f921"
             ]
            ],
            "type": "surface"
           }
          ],
          "table": [
           {
            "cells": {
             "fill": {
              "color": "#EBF0F8"
             },
             "line": {
              "color": "white"
             }
            },
            "header": {
             "fill": {
              "color": "#C8D4E3"
             },
             "line": {
              "color": "white"
             }
            },
            "type": "table"
           }
          ]
         },
         "layout": {
          "annotationdefaults": {
           "arrowcolor": "#2a3f5f",
           "arrowhead": 0,
           "arrowwidth": 1
          },
          "coloraxis": {
           "colorbar": {
            "outlinewidth": 0,
            "ticks": ""
           }
          },
          "colorscale": {
           "diverging": [
            [
             0,
             "#8e0152"
            ],
            [
             0.1,
             "#c51b7d"
            ],
            [
             0.2,
             "#de77ae"
            ],
            [
             0.3,
             "#f1b6da"
            ],
            [
             0.4,
             "#fde0ef"
            ],
            [
             0.5,
             "#f7f7f7"
            ],
            [
             0.6,
             "#e6f5d0"
            ],
            [
             0.7,
             "#b8e186"
            ],
            [
             0.8,
             "#7fbc41"
            ],
            [
             0.9,
             "#4d9221"
            ],
            [
             1,
             "#276419"
            ]
           ],
           "sequential": [
            [
             0,
             "#0d0887"
            ],
            [
             0.1111111111111111,
             "#46039f"
            ],
            [
             0.2222222222222222,
             "#7201a8"
            ],
            [
             0.3333333333333333,
             "#9c179e"
            ],
            [
             0.4444444444444444,
             "#bd3786"
            ],
            [
             0.5555555555555556,
             "#d8576b"
            ],
            [
             0.6666666666666666,
             "#ed7953"
            ],
            [
             0.7777777777777778,
             "#fb9f3a"
            ],
            [
             0.8888888888888888,
             "#fdca26"
            ],
            [
             1,
             "#f0f921"
            ]
           ],
           "sequentialminus": [
            [
             0,
             "#0d0887"
            ],
            [
             0.1111111111111111,
             "#46039f"
            ],
            [
             0.2222222222222222,
             "#7201a8"
            ],
            [
             0.3333333333333333,
             "#9c179e"
            ],
            [
             0.4444444444444444,
             "#bd3786"
            ],
            [
             0.5555555555555556,
             "#d8576b"
            ],
            [
             0.6666666666666666,
             "#ed7953"
            ],
            [
             0.7777777777777778,
             "#fb9f3a"
            ],
            [
             0.8888888888888888,
             "#fdca26"
            ],
            [
             1,
             "#f0f921"
            ]
           ]
          },
          "colorway": [
           "#636efa",
           "#EF553B",
           "#00cc96",
           "#ab63fa",
           "#FFA15A",
           "#19d3f3",
           "#FF6692",
           "#B6E880",
           "#FF97FF",
           "#FECB52"
          ],
          "font": {
           "color": "#2a3f5f"
          },
          "geo": {
           "bgcolor": "white",
           "lakecolor": "white",
           "landcolor": "#E5ECF6",
           "showlakes": true,
           "showland": true,
           "subunitcolor": "white"
          },
          "hoverlabel": {
           "align": "left"
          },
          "hovermode": "closest",
          "mapbox": {
           "style": "light"
          },
          "paper_bgcolor": "white",
          "plot_bgcolor": "#E5ECF6",
          "polar": {
           "angularaxis": {
            "gridcolor": "white",
            "linecolor": "white",
            "ticks": ""
           },
           "bgcolor": "#E5ECF6",
           "radialaxis": {
            "gridcolor": "white",
            "linecolor": "white",
            "ticks": ""
           }
          },
          "scene": {
           "xaxis": {
            "backgroundcolor": "#E5ECF6",
            "gridcolor": "white",
            "gridwidth": 2,
            "linecolor": "white",
            "showbackground": true,
            "ticks": "",
            "zerolinecolor": "white"
           },
           "yaxis": {
            "backgroundcolor": "#E5ECF6",
            "gridcolor": "white",
            "gridwidth": 2,
            "linecolor": "white",
            "showbackground": true,
            "ticks": "",
            "zerolinecolor": "white"
           },
           "zaxis": {
            "backgroundcolor": "#E5ECF6",
            "gridcolor": "white",
            "gridwidth": 2,
            "linecolor": "white",
            "showbackground": true,
            "ticks": "",
            "zerolinecolor": "white"
           }
          },
          "shapedefaults": {
           "line": {
            "color": "#2a3f5f"
           }
          },
          "ternary": {
           "aaxis": {
            "gridcolor": "white",
            "linecolor": "white",
            "ticks": ""
           },
           "baxis": {
            "gridcolor": "white",
            "linecolor": "white",
            "ticks": ""
           },
           "bgcolor": "#E5ECF6",
           "caxis": {
            "gridcolor": "white",
            "linecolor": "white",
            "ticks": ""
           }
          },
          "title": {
           "x": 0.05
          },
          "xaxis": {
           "automargin": true,
           "gridcolor": "white",
           "linecolor": "white",
           "ticks": "",
           "title": {
            "standoff": 15
           },
           "zerolinecolor": "white",
           "zerolinewidth": 2
          },
          "yaxis": {
           "automargin": true,
           "gridcolor": "white",
           "linecolor": "white",
           "ticks": "",
           "title": {
            "standoff": 15
           },
           "zerolinecolor": "white",
           "zerolinewidth": 2
          }
         }
        },
        "title": {
         "font": {
          "color": "#4D5663"
         }
        },
        "xaxis": {
         "gridcolor": "#E1E5ED",
         "showgrid": true,
         "tickfont": {
          "color": "#4D5663"
         },
         "title": {
          "font": {
           "color": "#4D5663"
          },
          "text": ""
         },
         "zerolinecolor": "#E1E5ED"
        },
        "yaxis": {
         "gridcolor": "#E1E5ED",
         "showgrid": true,
         "tickfont": {
          "color": "#4D5663"
         },
         "title": {
          "font": {
           "color": "#4D5663"
          },
          "text": ""
         },
         "zerolinecolor": "#E1E5ED"
        }
       }
      },
      "text/html": [
       "<div>                            <div id=\"f96c9ac6-2d67-458c-b18e-4db59c1a41b8\" class=\"plotly-graph-div\" style=\"height:525px; width:100%;\"></div>            <script type=\"text/javascript\">                require([\"plotly\"], function(Plotly) {                    window.PLOTLYENV=window.PLOTLYENV || {};\n",
       "                    window.PLOTLYENV.BASE_URL='https://plot.ly';                                    if (document.getElementById(\"f96c9ac6-2d67-458c-b18e-4db59c1a41b8\")) {                    Plotly.newPlot(                        \"f96c9ac6-2d67-458c-b18e-4db59c1a41b8\",                        [{\"marker\": {\"color\": [\"rgb(255, 153, 51)\", \"rgb(55, 128, 191)\", \"rgb(50, 171, 96)\", \"rgb(128, 0, 128)\", \"rgb(219, 64, 82)\", \"rgb(0, 128, 128)\", \"rgb(255, 255, 51)\", \"rgb(128, 128, 0)\", \"rgb(251, 128, 114)\", \"rgb(128, 177, 211)\"], \"line\": {\"width\": 1.3}, \"size\": [66, 32, 79, 65, 49, 25, 64, 61, 45, 16, 98, 25, 32, 30, 22, 53, 53, 57, 20, 62, 13, 82, 50, 50, 59, 33, 58, 55, 78, 48, 54, 80, 13, 34, 49, 52, 31, 28, 48, 46, 60, 59, 41, 82, 49, 53, 57, 63, 63, 20, 46, 49, 66, 75, 68, 31, 42, 60, 54, 54, 28, 36, 63, 54, 48, 70, 51, 47, 49, 40, 62, 12, 79, 68, 112, 23, 46, 96, 71, 61, 17, 87, 37, 48, 52, 29, 47, 55, 41, 69, 61, 47, 72, 55, 72, 60, 59, 40, 64, 51], \"symbol\": \"circle\"}, \"mode\": \"markers\", \"text\": \"\", \"type\": \"scatter\", \"x\": [-1.5165215335635371, 1.2385294899836377, 0.18675435261297058, -0.49404178733345255, 0.9638783524597756, -1.1032901032155455, 0.8489612205492174, 0.9903890863731017, -1.3703522449279018, -0.5776566150555577, -0.31321057904966493, -1.62657976260777, -1.006701588728278, 1.1360103276196873, 0.6096235839787069, -1.3807990089203603, -0.36237146775748713, -0.5950154460828271, 1.3888123369070282, -1.3629622910143322, -1.1038735970945992, 1.337348295283731, 1.1667957765059276, -1.2086935425656429, 0.24972766483940562, 0.29999954775204385, 1.0667440982430194, -0.1741452761097413, 0.29560646351069414, 1.2851980496441235, -1.5822045088416392, 0.2332157433742438, -0.8216180482229304, 0.36846289942020066, 1.6914889255493009, 0.05294197198387387, 1.6522250061531598, 0.3806122062538394, 0.2281787015714965, 0.13943357370996548, 0.7737513704163842, 1.2632113994240495, -2.0723185151193118, 0.3148357541550536, 0.9775459023887758, 0.4890519952231019, 0.019788575261866545, 0.5255271325555345, 1.6814084764377233, 0.5767167314074976, 0.20677363770809085, 0.1860110033699774, 0.21407497739434397, 0.7365607951031639, -0.7857728014462609, 0.009524836979279003, 0.38612916910565903, 0.1502359587507458, 0.9892286676253292, 0.39444327636869897, 1.120472350623712, 2.572635263308814, 0.16353567449977097, -0.3413603098431363, 0.11982063910290328, -1.3444523091154967, -1.0451078274259888, 0.7804874333757548, -0.10032354166879094, 1.7827722897587395, -1.0946905294595737, -0.2510276890016824, 0.9673217921938824, -1.0165640371463203, 0.0690990527382664, -0.8510879315244121, 0.43904889330463176, -1.337878368147962, 0.09750269879021287, 1.1447728728037032, -0.39997693269254425, 0.5229998031018618, -0.4292225098792032, 0.9378316216532356, -0.7677501218695141, 1.9137196189172991, 0.5216008014414507, -1.0851954812245894, 0.5878201563359909, 0.6262055363577997, 1.0657701838435691, -0.5129968730608664, 1.2712310563424316, 1.0526472276252596, 2.007007712904021, -1.2458742116352368, -0.3561372960571573, -0.09014992621817493, 0.7230413885756098, 1.4489088916499433], \"y\": [-0.8345574062307446, 0.3869389335155712, 0.07782933474576627, 1.1899116450030662, 2.4118231293099672, -0.7517168932626798, 0.04236231146362457, 0.07190511226430284, 1.6380670778590334, 2.0602606596455915, -2.163922132520172, -0.4433154616526229, -0.04538211676815623, -0.9165373914796289, 0.22401956064621992, 0.0003599773765519304, -1.563708728474769, -1.5376343933124736, -0.7870693396201344, 0.33457351738130175, -1.7354039335286253, 1.7113719623174346, -0.8120715211093109, 0.3253747617458604, -0.31843112066991935, -1.7196215520469333, 1.0739113471545714, -0.893491898851701, -1.6629737232258517, -1.0306910440740462, 0.9726511881554111, 0.5494664293783664, -0.7708942552672302, 0.192978809265206, -0.7348978845939232, -1.3345561541206306, 0.5165025336657605, 0.31478413024677826, 0.6355748238320479, 0.8652446833342713, -2.6658532132036394, 0.2961008150075696, -0.9156752032343806, -2.350156615366018, 0.459285791821168, -0.30922541782709606, -0.1428120757566868, -1.2332716277002955, -1.3161739795186747, 1.2495199734510636, 0.12846392054830044, -0.2417375476858517, -1.30909234945247, -1.2082763653082, 1.1683596205889433, 1.910262362641669, -0.3319716068998639, 0.6369101856685699, 1.2305627181044516, 0.009236607765067436, -1.1610611529835455, -0.5951460041814716, -0.3859309436973199, 1.2772343202778578, 0.45105331684170763, 0.8913310278045682, 2.2461724357778765, 0.8671611404274941, -0.9084679347963178, -0.42009634182682365, -0.18027132005244065, 0.6850421902521037, -1.1601568758024055, -0.8886966875641397, -0.1593881395933613, 0.6257031728894613, -0.39633640033302586, -0.2575710590884075, -0.24936745256303702, -1.5120328205355116, 1.1544613291944308, 0.01973290602766408, -0.38296802691344484, -0.4313977587137235, 1.8662596009811432, 0.04260450444009576, -1.4220661594762694, -1.685356777380281, -1.1270456077765143, -0.38721209138365925, 0.259167116705802, -0.22316627067425593, 1.635084328005414, -2.9583463144626703, -0.08181424856774482, -0.13510674116356763, 0.47366256715334687, 1.1763788631291294, -1.8896419059732144, 0.007836036763666107]}],                        {\"legend\": {\"bgcolor\": \"#F5F6F9\", \"font\": {\"color\": \"#4D5663\"}}, \"paper_bgcolor\": \"#F5F6F9\", \"plot_bgcolor\": \"#F5F6F9\", \"template\": {\"data\": {\"bar\": [{\"error_x\": {\"color\": \"#2a3f5f\"}, \"error_y\": {\"color\": \"#2a3f5f\"}, \"marker\": {\"line\": {\"color\": \"#E5ECF6\", \"width\": 0.5}}, \"type\": \"bar\"}], \"barpolar\": [{\"marker\": {\"line\": {\"color\": \"#E5ECF6\", \"width\": 0.5}}, \"type\": \"barpolar\"}], \"carpet\": [{\"aaxis\": {\"endlinecolor\": \"#2a3f5f\", \"gridcolor\": \"white\", \"linecolor\": \"white\", \"minorgridcolor\": \"white\", \"startlinecolor\": \"#2a3f5f\"}, \"baxis\": {\"endlinecolor\": \"#2a3f5f\", \"gridcolor\": \"white\", \"linecolor\": \"white\", \"minorgridcolor\": \"white\", \"startlinecolor\": \"#2a3f5f\"}, \"type\": \"carpet\"}], \"choropleth\": [{\"colorbar\": {\"outlinewidth\": 0, \"ticks\": \"\"}, \"type\": \"choropleth\"}], \"contour\": [{\"colorbar\": {\"outlinewidth\": 0, \"ticks\": \"\"}, \"colorscale\": [[0.0, \"#0d0887\"], [0.1111111111111111, \"#46039f\"], [0.2222222222222222, \"#7201a8\"], [0.3333333333333333, \"#9c179e\"], [0.4444444444444444, \"#bd3786\"], [0.5555555555555556, \"#d8576b\"], [0.6666666666666666, \"#ed7953\"], [0.7777777777777778, \"#fb9f3a\"], [0.8888888888888888, \"#fdca26\"], [1.0, \"#f0f921\"]], \"type\": \"contour\"}], \"contourcarpet\": [{\"colorbar\": {\"outlinewidth\": 0, \"ticks\": \"\"}, \"type\": \"contourcarpet\"}], \"heatmap\": [{\"colorbar\": {\"outlinewidth\": 0, \"ticks\": \"\"}, \"colorscale\": [[0.0, \"#0d0887\"], [0.1111111111111111, \"#46039f\"], [0.2222222222222222, \"#7201a8\"], [0.3333333333333333, \"#9c179e\"], [0.4444444444444444, \"#bd3786\"], [0.5555555555555556, \"#d8576b\"], [0.6666666666666666, \"#ed7953\"], [0.7777777777777778, \"#fb9f3a\"], [0.8888888888888888, \"#fdca26\"], [1.0, \"#f0f921\"]], \"type\": \"heatmap\"}], \"heatmapgl\": [{\"colorbar\": {\"outlinewidth\": 0, \"ticks\": \"\"}, \"colorscale\": [[0.0, \"#0d0887\"], [0.1111111111111111, \"#46039f\"], [0.2222222222222222, \"#7201a8\"], [0.3333333333333333, \"#9c179e\"], [0.4444444444444444, \"#bd3786\"], [0.5555555555555556, \"#d8576b\"], [0.6666666666666666, \"#ed7953\"], [0.7777777777777778, \"#fb9f3a\"], [0.8888888888888888, \"#fdca26\"], [1.0, \"#f0f921\"]], \"type\": \"heatmapgl\"}], \"histogram\": [{\"marker\": {\"colorbar\": {\"outlinewidth\": 0, \"ticks\": \"\"}}, \"type\": \"histogram\"}], \"histogram2d\": [{\"colorbar\": {\"outlinewidth\": 0, \"ticks\": \"\"}, \"colorscale\": [[0.0, \"#0d0887\"], [0.1111111111111111, \"#46039f\"], [0.2222222222222222, \"#7201a8\"], [0.3333333333333333, \"#9c179e\"], [0.4444444444444444, \"#bd3786\"], [0.5555555555555556, \"#d8576b\"], [0.6666666666666666, \"#ed7953\"], [0.7777777777777778, \"#fb9f3a\"], [0.8888888888888888, \"#fdca26\"], [1.0, \"#f0f921\"]], \"type\": \"histogram2d\"}], \"histogram2dcontour\": [{\"colorbar\": {\"outlinewidth\": 0, \"ticks\": \"\"}, \"colorscale\": [[0.0, \"#0d0887\"], [0.1111111111111111, \"#46039f\"], [0.2222222222222222, \"#7201a8\"], [0.3333333333333333, \"#9c179e\"], [0.4444444444444444, \"#bd3786\"], [0.5555555555555556, \"#d8576b\"], [0.6666666666666666, \"#ed7953\"], [0.7777777777777778, \"#fb9f3a\"], [0.8888888888888888, \"#fdca26\"], [1.0, \"#f0f921\"]], \"type\": \"histogram2dcontour\"}], \"mesh3d\": [{\"colorbar\": {\"outlinewidth\": 0, \"ticks\": \"\"}, \"type\": \"mesh3d\"}], \"parcoords\": [{\"line\": {\"colorbar\": {\"outlinewidth\": 0, \"ticks\": \"\"}}, \"type\": \"parcoords\"}], \"pie\": [{\"automargin\": true, \"type\": \"pie\"}], \"scatter\": [{\"marker\": {\"colorbar\": {\"outlinewidth\": 0, \"ticks\": \"\"}}, \"type\": \"scatter\"}], \"scatter3d\": [{\"line\": {\"colorbar\": {\"outlinewidth\": 0, \"ticks\": \"\"}}, \"marker\": {\"colorbar\": {\"outlinewidth\": 0, \"ticks\": \"\"}}, \"type\": \"scatter3d\"}], \"scattercarpet\": [{\"marker\": {\"colorbar\": {\"outlinewidth\": 0, \"ticks\": \"\"}}, \"type\": \"scattercarpet\"}], \"scattergeo\": [{\"marker\": {\"colorbar\": {\"outlinewidth\": 0, \"ticks\": \"\"}}, \"type\": \"scattergeo\"}], \"scattergl\": [{\"marker\": {\"colorbar\": {\"outlinewidth\": 0, \"ticks\": \"\"}}, \"type\": \"scattergl\"}], \"scattermapbox\": [{\"marker\": {\"colorbar\": {\"outlinewidth\": 0, \"ticks\": \"\"}}, \"type\": \"scattermapbox\"}], \"scatterpolar\": [{\"marker\": {\"colorbar\": {\"outlinewidth\": 0, \"ticks\": \"\"}}, \"type\": \"scatterpolar\"}], \"scatterpolargl\": [{\"marker\": {\"colorbar\": {\"outlinewidth\": 0, \"ticks\": \"\"}}, \"type\": \"scatterpolargl\"}], \"scatterternary\": [{\"marker\": {\"colorbar\": {\"outlinewidth\": 0, \"ticks\": \"\"}}, \"type\": \"scatterternary\"}], \"surface\": [{\"colorbar\": {\"outlinewidth\": 0, \"ticks\": \"\"}, \"colorscale\": [[0.0, \"#0d0887\"], [0.1111111111111111, \"#46039f\"], [0.2222222222222222, \"#7201a8\"], [0.3333333333333333, \"#9c179e\"], [0.4444444444444444, \"#bd3786\"], [0.5555555555555556, \"#d8576b\"], [0.6666666666666666, \"#ed7953\"], [0.7777777777777778, \"#fb9f3a\"], [0.8888888888888888, \"#fdca26\"], [1.0, \"#f0f921\"]], \"type\": \"surface\"}], \"table\": [{\"cells\": {\"fill\": {\"color\": \"#EBF0F8\"}, \"line\": {\"color\": \"white\"}}, \"header\": {\"fill\": {\"color\": \"#C8D4E3\"}, \"line\": {\"color\": \"white\"}}, \"type\": \"table\"}]}, \"layout\": {\"annotationdefaults\": {\"arrowcolor\": \"#2a3f5f\", \"arrowhead\": 0, \"arrowwidth\": 1}, \"coloraxis\": {\"colorbar\": {\"outlinewidth\": 0, \"ticks\": \"\"}}, \"colorscale\": {\"diverging\": [[0, \"#8e0152\"], [0.1, \"#c51b7d\"], [0.2, \"#de77ae\"], [0.3, \"#f1b6da\"], [0.4, \"#fde0ef\"], [0.5, \"#f7f7f7\"], [0.6, \"#e6f5d0\"], [0.7, \"#b8e186\"], [0.8, \"#7fbc41\"], [0.9, \"#4d9221\"], [1, \"#276419\"]], \"sequential\": [[0.0, \"#0d0887\"], [0.1111111111111111, \"#46039f\"], [0.2222222222222222, \"#7201a8\"], [0.3333333333333333, \"#9c179e\"], [0.4444444444444444, \"#bd3786\"], [0.5555555555555556, \"#d8576b\"], [0.6666666666666666, \"#ed7953\"], [0.7777777777777778, \"#fb9f3a\"], [0.8888888888888888, \"#fdca26\"], [1.0, \"#f0f921\"]], \"sequentialminus\": [[0.0, \"#0d0887\"], [0.1111111111111111, \"#46039f\"], [0.2222222222222222, \"#7201a8\"], [0.3333333333333333, \"#9c179e\"], [0.4444444444444444, \"#bd3786\"], [0.5555555555555556, \"#d8576b\"], [0.6666666666666666, \"#ed7953\"], [0.7777777777777778, \"#fb9f3a\"], [0.8888888888888888, \"#fdca26\"], [1.0, \"#f0f921\"]]}, \"colorway\": [\"#636efa\", \"#EF553B\", \"#00cc96\", \"#ab63fa\", \"#FFA15A\", \"#19d3f3\", \"#FF6692\", \"#B6E880\", \"#FF97FF\", \"#FECB52\"], \"font\": {\"color\": \"#2a3f5f\"}, \"geo\": {\"bgcolor\": \"white\", \"lakecolor\": \"white\", \"landcolor\": \"#E5ECF6\", \"showlakes\": true, \"showland\": true, \"subunitcolor\": \"white\"}, \"hoverlabel\": {\"align\": \"left\"}, \"hovermode\": \"closest\", \"mapbox\": {\"style\": \"light\"}, \"paper_bgcolor\": \"white\", \"plot_bgcolor\": \"#E5ECF6\", \"polar\": {\"angularaxis\": {\"gridcolor\": \"white\", \"linecolor\": \"white\", \"ticks\": \"\"}, \"bgcolor\": \"#E5ECF6\", \"radialaxis\": {\"gridcolor\": \"white\", \"linecolor\": \"white\", \"ticks\": \"\"}}, \"scene\": {\"xaxis\": {\"backgroundcolor\": \"#E5ECF6\", \"gridcolor\": \"white\", \"gridwidth\": 2, \"linecolor\": \"white\", \"showbackground\": true, \"ticks\": \"\", \"zerolinecolor\": \"white\"}, \"yaxis\": {\"backgroundcolor\": \"#E5ECF6\", \"gridcolor\": \"white\", \"gridwidth\": 2, \"linecolor\": \"white\", \"showbackground\": true, \"ticks\": \"\", \"zerolinecolor\": \"white\"}, \"zaxis\": {\"backgroundcolor\": \"#E5ECF6\", \"gridcolor\": \"white\", \"gridwidth\": 2, \"linecolor\": \"white\", \"showbackground\": true, \"ticks\": \"\", \"zerolinecolor\": \"white\"}}, \"shapedefaults\": {\"line\": {\"color\": \"#2a3f5f\"}}, \"ternary\": {\"aaxis\": {\"gridcolor\": \"white\", \"linecolor\": \"white\", \"ticks\": \"\"}, \"baxis\": {\"gridcolor\": \"white\", \"linecolor\": \"white\", \"ticks\": \"\"}, \"bgcolor\": \"#E5ECF6\", \"caxis\": {\"gridcolor\": \"white\", \"linecolor\": \"white\", \"ticks\": \"\"}}, \"title\": {\"x\": 0.05}, \"xaxis\": {\"automargin\": true, \"gridcolor\": \"white\", \"linecolor\": \"white\", \"ticks\": \"\", \"title\": {\"standoff\": 15}, \"zerolinecolor\": \"white\", \"zerolinewidth\": 2}, \"yaxis\": {\"automargin\": true, \"gridcolor\": \"white\", \"linecolor\": \"white\", \"ticks\": \"\", \"title\": {\"standoff\": 15}, \"zerolinecolor\": \"white\", \"zerolinewidth\": 2}}}, \"title\": {\"font\": {\"color\": \"#4D5663\"}}, \"xaxis\": {\"gridcolor\": \"#E1E5ED\", \"showgrid\": true, \"tickfont\": {\"color\": \"#4D5663\"}, \"title\": {\"font\": {\"color\": \"#4D5663\"}, \"text\": \"\"}, \"zerolinecolor\": \"#E1E5ED\"}, \"yaxis\": {\"gridcolor\": \"#E1E5ED\", \"showgrid\": true, \"tickfont\": {\"color\": \"#4D5663\"}, \"title\": {\"font\": {\"color\": \"#4D5663\"}, \"text\": \"\"}, \"zerolinecolor\": \"#E1E5ED\"}},                        {\"showLink\": true, \"linkText\": \"Export to plot.ly\", \"plotlyServerURL\": \"https://plot.ly\", \"responsive\": true}                    ).then(function(){\n",
       "                            \n",
       "var gd = document.getElementById('f96c9ac6-2d67-458c-b18e-4db59c1a41b8');\n",
       "var x = new MutationObserver(function (mutations, observer) {{\n",
       "        var display = window.getComputedStyle(gd).display;\n",
       "        if (!display || display === 'none') {{\n",
       "            console.log([gd, 'removed!']);\n",
       "            Plotly.purge(gd);\n",
       "            observer.disconnect();\n",
       "        }}\n",
       "}});\n",
       "\n",
       "// Listen for the removal of the full notebook cells\n",
       "var notebookContainer = gd.closest('#notebook-container');\n",
       "if (notebookContainer) {{\n",
       "    x.observe(notebookContainer, {childList: true});\n",
       "}}\n",
       "\n",
       "// Listen for the clearing of the current output cell\n",
       "var outputEl = gd.closest('.output');\n",
       "if (outputEl) {{\n",
       "    x.observe(outputEl, {childList: true});\n",
       "}}\n",
       "\n",
       "                        })                };                });            </script>        </div>"
      ]
     },
     "metadata": {},
     "output_type": "display_data"
    }
   ],
   "source": [
    "df.iplot(kind='bubble',x='A',y='B',size='C')"
   ]
  },
  {
   "cell_type": "markdown",
   "metadata": {},
   "source": [
    "## scatter_matrix()\n",
    "\n",
    "Similar to sns.pairplot()"
   ]
  },
  {
   "cell_type": "code",
   "execution_count": 23,
   "metadata": {},
   "outputs": [
    {
     "data": {
      "application/vnd.plotly.v1+json": {
       "config": {
        "linkText": "Export to plot.ly",
        "plotlyServerURL": "https://plot.ly",
        "showLink": true
       },
       "data": [
        {
         "histfunc": "count",
         "histnorm": "",
         "marker": {
          "color": "rgba(255, 153, 51, 1.0)",
          "line": {
           "color": "#4D5663",
           "width": 1.3
          }
         },
         "name": "A",
         "nbinsx": 10,
         "opacity": 0.8,
         "orientation": "v",
         "type": "histogram",
         "x": [
          -1.5165215335635371,
          1.2385294899836377,
          0.18675435261297058,
          -0.49404178733345255,
          0.9638783524597756,
          -1.1032901032155455,
          0.8489612205492174,
          0.9903890863731017,
          -1.3703522449279018,
          -0.5776566150555577,
          -0.31321057904966493,
          -1.62657976260777,
          -1.006701588728278,
          1.1360103276196873,
          0.6096235839787069,
          -1.3807990089203603,
          -0.36237146775748713,
          -0.5950154460828271,
          1.3888123369070282,
          -1.3629622910143322,
          -1.1038735970945992,
          1.337348295283731,
          1.1667957765059276,
          -1.2086935425656429,
          0.24972766483940562,
          0.29999954775204385,
          1.0667440982430194,
          -0.1741452761097413,
          0.29560646351069414,
          1.2851980496441235,
          -1.5822045088416392,
          0.2332157433742438,
          -0.8216180482229304,
          0.36846289942020066,
          1.6914889255493009,
          0.05294197198387387,
          1.6522250061531598,
          0.3806122062538394,
          0.2281787015714965,
          0.13943357370996548,
          0.7737513704163842,
          1.2632113994240495,
          -2.0723185151193118,
          0.3148357541550536,
          0.9775459023887758,
          0.4890519952231019,
          0.019788575261866545,
          0.5255271325555345,
          1.6814084764377233,
          0.5767167314074976,
          0.20677363770809085,
          0.1860110033699774,
          0.21407497739434397,
          0.7365607951031639,
          -0.7857728014462609,
          0.009524836979279003,
          0.38612916910565903,
          0.1502359587507458,
          0.9892286676253292,
          0.39444327636869897,
          1.120472350623712,
          2.572635263308814,
          0.16353567449977097,
          -0.3413603098431363,
          0.11982063910290328,
          -1.3444523091154967,
          -1.0451078274259888,
          0.7804874333757548,
          -0.10032354166879094,
          1.7827722897587395,
          -1.0946905294595737,
          -0.2510276890016824,
          0.9673217921938824,
          -1.0165640371463203,
          0.0690990527382664,
          -0.8510879315244121,
          0.43904889330463176,
          -1.337878368147962,
          0.09750269879021287,
          1.1447728728037032,
          -0.39997693269254425,
          0.5229998031018618,
          -0.4292225098792032,
          0.9378316216532356,
          -0.7677501218695141,
          1.9137196189172991,
          0.5216008014414507,
          -1.0851954812245894,
          0.5878201563359909,
          0.6262055363577997,
          1.0657701838435691,
          -0.5129968730608664,
          1.2712310563424316,
          1.0526472276252596,
          2.007007712904021,
          -1.2458742116352368,
          -0.3561372960571573,
          -0.09014992621817493,
          0.7230413885756098,
          1.4489088916499433
         ],
         "xaxis": "x",
         "yaxis": "y"
        },
        {
         "line": {
          "color": "rgba(128, 128, 128, 1.0)",
          "dash": "solid",
          "shape": "linear",
          "width": 1.3
         },
         "marker": {
          "size": 2,
          "symbol": "circle"
         },
         "mode": "markers",
         "name": "A",
         "text": "",
         "type": "scatter",
         "x": [
          -0.8345574062307446,
          0.3869389335155712,
          0.07782933474576627,
          1.1899116450030662,
          2.4118231293099672,
          -0.7517168932626798,
          0.04236231146362457,
          0.07190511226430284,
          1.6380670778590334,
          2.0602606596455915,
          -2.163922132520172,
          -0.4433154616526229,
          -0.04538211676815623,
          -0.9165373914796289,
          0.22401956064621992,
          0.0003599773765519304,
          -1.563708728474769,
          -1.5376343933124736,
          -0.7870693396201344,
          0.33457351738130175,
          -1.7354039335286253,
          1.7113719623174346,
          -0.8120715211093109,
          0.3253747617458604,
          -0.31843112066991935,
          -1.7196215520469333,
          1.0739113471545714,
          -0.893491898851701,
          -1.6629737232258517,
          -1.0306910440740462,
          0.9726511881554111,
          0.5494664293783664,
          -0.7708942552672302,
          0.192978809265206,
          -0.7348978845939232,
          -1.3345561541206306,
          0.5165025336657605,
          0.31478413024677826,
          0.6355748238320479,
          0.8652446833342713,
          -2.6658532132036394,
          0.2961008150075696,
          -0.9156752032343806,
          -2.350156615366018,
          0.459285791821168,
          -0.30922541782709606,
          -0.1428120757566868,
          -1.2332716277002955,
          -1.3161739795186747,
          1.2495199734510636,
          0.12846392054830044,
          -0.2417375476858517,
          -1.30909234945247,
          -1.2082763653082,
          1.1683596205889433,
          1.910262362641669,
          -0.3319716068998639,
          0.6369101856685699,
          1.2305627181044516,
          0.009236607765067436,
          -1.1610611529835455,
          -0.5951460041814716,
          -0.3859309436973199,
          1.2772343202778578,
          0.45105331684170763,
          0.8913310278045682,
          2.2461724357778765,
          0.8671611404274941,
          -0.9084679347963178,
          -0.42009634182682365,
          -0.18027132005244065,
          0.6850421902521037,
          -1.1601568758024055,
          -0.8886966875641397,
          -0.1593881395933613,
          0.6257031728894613,
          -0.39633640033302586,
          -0.2575710590884075,
          -0.24936745256303702,
          -1.5120328205355116,
          1.1544613291944308,
          0.01973290602766408,
          -0.38296802691344484,
          -0.4313977587137235,
          1.8662596009811432,
          0.04260450444009576,
          -1.4220661594762694,
          -1.685356777380281,
          -1.1270456077765143,
          -0.38721209138365925,
          0.259167116705802,
          -0.22316627067425593,
          1.635084328005414,
          -2.9583463144626703,
          -0.08181424856774482,
          -0.13510674116356763,
          0.47366256715334687,
          1.1763788631291294,
          -1.8896419059732144,
          0.007836036763666107
         ],
         "xaxis": "x2",
         "y": [
          -1.5165215335635371,
          1.2385294899836377,
          0.18675435261297058,
          -0.49404178733345255,
          0.9638783524597756,
          -1.1032901032155455,
          0.8489612205492174,
          0.9903890863731017,
          -1.3703522449279018,
          -0.5776566150555577,
          -0.31321057904966493,
          -1.62657976260777,
          -1.006701588728278,
          1.1360103276196873,
          0.6096235839787069,
          -1.3807990089203603,
          -0.36237146775748713,
          -0.5950154460828271,
          1.3888123369070282,
          -1.3629622910143322,
          -1.1038735970945992,
          1.337348295283731,
          1.1667957765059276,
          -1.2086935425656429,
          0.24972766483940562,
          0.29999954775204385,
          1.0667440982430194,
          -0.1741452761097413,
          0.29560646351069414,
          1.2851980496441235,
          -1.5822045088416392,
          0.2332157433742438,
          -0.8216180482229304,
          0.36846289942020066,
          1.6914889255493009,
          0.05294197198387387,
          1.6522250061531598,
          0.3806122062538394,
          0.2281787015714965,
          0.13943357370996548,
          0.7737513704163842,
          1.2632113994240495,
          -2.0723185151193118,
          0.3148357541550536,
          0.9775459023887758,
          0.4890519952231019,
          0.019788575261866545,
          0.5255271325555345,
          1.6814084764377233,
          0.5767167314074976,
          0.20677363770809085,
          0.1860110033699774,
          0.21407497739434397,
          0.7365607951031639,
          -0.7857728014462609,
          0.009524836979279003,
          0.38612916910565903,
          0.1502359587507458,
          0.9892286676253292,
          0.39444327636869897,
          1.120472350623712,
          2.572635263308814,
          0.16353567449977097,
          -0.3413603098431363,
          0.11982063910290328,
          -1.3444523091154967,
          -1.0451078274259888,
          0.7804874333757548,
          -0.10032354166879094,
          1.7827722897587395,
          -1.0946905294595737,
          -0.2510276890016824,
          0.9673217921938824,
          -1.0165640371463203,
          0.0690990527382664,
          -0.8510879315244121,
          0.43904889330463176,
          -1.337878368147962,
          0.09750269879021287,
          1.1447728728037032,
          -0.39997693269254425,
          0.5229998031018618,
          -0.4292225098792032,
          0.9378316216532356,
          -0.7677501218695141,
          1.9137196189172991,
          0.5216008014414507,
          -1.0851954812245894,
          0.5878201563359909,
          0.6262055363577997,
          1.0657701838435691,
          -0.5129968730608664,
          1.2712310563424316,
          1.0526472276252596,
          2.007007712904021,
          -1.2458742116352368,
          -0.3561372960571573,
          -0.09014992621817493,
          0.7230413885756098,
          1.4489088916499433
         ],
         "yaxis": "y2"
        },
        {
         "line": {
          "color": "rgba(128, 128, 128, 1.0)",
          "dash": "solid",
          "shape": "linear",
          "width": 1.3
         },
         "marker": {
          "size": 2,
          "symbol": "circle"
         },
         "mode": "markers",
         "name": "A",
         "text": "",
         "type": "scatter",
         "x": [
          0.7377730997892236,
          -1.1030389755810621,
          1.4751934706448089,
          0.7163275619637027,
          -0.18793525120198784,
          -1.4997967427083236,
          0.643213345466464,
          0.4590111364898649,
          -0.3876229520803771,
          -2.008667912157602,
          2.4928627609459486,
          -1.4915146072251595,
          -1.1028249832333714,
          -1.2547247840156839,
          -1.6785726427538314,
          0.03217466686038357,
          0.05036130726282296,
          0.2596466248117348,
          -1.814687929743969,
          0.5153464780970352,
          -2.1666080715199993,
          1.630244539502402,
          -0.1612007848411608,
          -0.11392318675798929,
          0.34446317037597357,
          -1.063371139362935,
          0.31784010331748386,
          0.11860842949055822,
          1.3990597162703728,
          -0.25048174514563804,
          0.07513845049261468,
          1.5219563568056442,
          -2.2030050233156366,
          -0.9911515249358269,
          -0.17553956076957108,
          -0.04382189649560705,
          -1.2098215569998902,
          -1.341748163306357,
          -0.2595630627563207,
          -0.3503010741389833,
          0.407951880298061,
          0.3390248071247096,
          -0.6261417668668742,
          1.6209870553879406,
          -0.17161704150407456,
          0.008862371510253677,
          0.24925974657341216,
          0.6080072287109711,
          0.5810554218657719,
          -1.7991335230987364,
          -0.3287127561472726,
          -0.20414439596547482,
          0.7305614525329794,
          1.272257988636262,
          0.8633204035946619,
          -1.2099485393543716,
          -0.5970212029687801,
          0.4017280631868525,
          0.08571053438085445,
          0.07089128319306941,
          -1.3627492377874084,
          -0.8911780630223399,
          0.6025850094962208,
          0.08348750474826173,
          -0.2513264135468494,
          0.99682265966032,
          -0.09930818865435492,
          -0.27703039314660394,
          -0.2168179142136428,
          -0.6889586903897957,
          0.5263546730665744,
          -2.2600965640460946,
          1.470983069768726,
          0.8482779806112714,
          3.2619614212857986,
          -1.6077629407846308,
          -0.3649678611594507,
          2.4142432860941048,
          1.0489469514815788,
          0.45525480188951034,
          -1.9538860414383217,
          1.906228745837376,
          -0.8354406474978622,
          -0.22095779069381277,
          -0.03591642328322162,
          -1.2787264886778482,
          -0.3083233741363021,
          0.1406733845624421,
          -0.625636475384371,
          0.9276252520133468,
          0.47980324803296176,
          -0.28072587382542963,
          1.0652684103421062,
          0.11599013791717781,
          1.0798778479236106,
          0.40815372563331564,
          0.3557210647833699,
          -0.6956036311657349,
          0.6181513355759167,
          -0.09854092176707027
         ],
         "xaxis": "x3",
         "y": [
          -1.5165215335635371,
          1.2385294899836377,
          0.18675435261297058,
          -0.49404178733345255,
          0.9638783524597756,
          -1.1032901032155455,
          0.8489612205492174,
          0.9903890863731017,
          -1.3703522449279018,
          -0.5776566150555577,
          -0.31321057904966493,
          -1.62657976260777,
          -1.006701588728278,
          1.1360103276196873,
          0.6096235839787069,
          -1.3807990089203603,
          -0.36237146775748713,
          -0.5950154460828271,
          1.3888123369070282,
          -1.3629622910143322,
          -1.1038735970945992,
          1.337348295283731,
          1.1667957765059276,
          -1.2086935425656429,
          0.24972766483940562,
          0.29999954775204385,
          1.0667440982430194,
          -0.1741452761097413,
          0.29560646351069414,
          1.2851980496441235,
          -1.5822045088416392,
          0.2332157433742438,
          -0.8216180482229304,
          0.36846289942020066,
          1.6914889255493009,
          0.05294197198387387,
          1.6522250061531598,
          0.3806122062538394,
          0.2281787015714965,
          0.13943357370996548,
          0.7737513704163842,
          1.2632113994240495,
          -2.0723185151193118,
          0.3148357541550536,
          0.9775459023887758,
          0.4890519952231019,
          0.019788575261866545,
          0.5255271325555345,
          1.6814084764377233,
          0.5767167314074976,
          0.20677363770809085,
          0.1860110033699774,
          0.21407497739434397,
          0.7365607951031639,
          -0.7857728014462609,
          0.009524836979279003,
          0.38612916910565903,
          0.1502359587507458,
          0.9892286676253292,
          0.39444327636869897,
          1.120472350623712,
          2.572635263308814,
          0.16353567449977097,
          -0.3413603098431363,
          0.11982063910290328,
          -1.3444523091154967,
          -1.0451078274259888,
          0.7804874333757548,
          -0.10032354166879094,
          1.7827722897587395,
          -1.0946905294595737,
          -0.2510276890016824,
          0.9673217921938824,
          -1.0165640371463203,
          0.0690990527382664,
          -0.8510879315244121,
          0.43904889330463176,
          -1.337878368147962,
          0.09750269879021287,
          1.1447728728037032,
          -0.39997693269254425,
          0.5229998031018618,
          -0.4292225098792032,
          0.9378316216532356,
          -0.7677501218695141,
          1.9137196189172991,
          0.5216008014414507,
          -1.0851954812245894,
          0.5878201563359909,
          0.6262055363577997,
          1.0657701838435691,
          -0.5129968730608664,
          1.2712310563424316,
          1.0526472276252596,
          2.007007712904021,
          -1.2458742116352368,
          -0.3561372960571573,
          -0.09014992621817493,
          0.7230413885756098,
          1.4489088916499433
         ],
         "yaxis": "y3"
        },
        {
         "line": {
          "color": "rgba(128, 128, 128, 1.0)",
          "dash": "solid",
          "shape": "linear",
          "width": 1.3
         },
         "marker": {
          "size": 2,
          "symbol": "circle"
         },
         "mode": "markers",
         "name": "A",
         "text": "",
         "type": "scatter",
         "x": [
          -1.780823585893734,
          0.4602590665960138,
          -0.77095243558765,
          -0.12133778922148662,
          0.5902120373652472,
          -0.06893916024692084,
          0.8022773173288474,
          0.8567752152124382,
          -0.9634836880251109,
          -1.0990253199089686,
          0.3010123021386761,
          0.043982641960648355,
          -1.2917884399797137,
          -0.410665850962858,
          0.0946327403643174,
          -0.6482741891994594,
          0.19693767482224722,
          0.6727106219128671,
          0.7814650694890092,
          0.8809369869589234,
          0.5782063413384737,
          -1.1185788706639035,
          1.1550425047984576,
          0.3813117052456318,
          0.5391018445096615,
          0.5217574869263621,
          0.9712112555342638,
          1.4071875147931563,
          0.02836636694116585,
          0.051999588742775285,
          -0.7052848255502274,
          0.19733377644932545,
          0.16441137193235716,
          -0.29381742499736274,
          -0.8268556215966905,
          0.7710939137149534,
          -2.258699431529325,
          -0.362294605271354,
          1.7602514238640574,
          0.7653869242534327,
          -0.4602441867070608,
          0.7555683442100604,
          -0.4561133529338688,
          0.591662526569171,
          0.5308178302398793,
          0.6187338202390603,
          -0.2040626925383586,
          -0.4089840413211076,
          1.0831728485896257,
          1.5064092259126123,
          0.9641259886821941,
          1.2066283492306435,
          -0.16401071310732646,
          -0.9463803276410513,
          0.32013971318654694,
          1.2415326199787506,
          1.468983238419462,
          1.8600040959785045,
          0.7899542506236222,
          -0.5621331574428683,
          0.2544760248206638,
          0.553016773474252,
          -0.8421887668967111,
          -1.4892089647285351,
          -1.0461533048831086,
          -0.3428360821472914,
          1.0385436120242335,
          0.7656414008311992,
          0.7006530694208158,
          -1.3051778143441768,
          0.4652099162555333,
          -1.0345875195220526,
          0.761275797132033,
          -0.9734716524681017,
          -1.326237858417124,
          -0.8177095520548644,
          -1.1900159679196343,
          0.12062767232963065,
          0.43761474959033686,
          0.7057035106724329,
          -1.1638197213072254,
          -0.06146991414586665,
          -0.17954182149817657,
          0.04035176209259629,
          -1.4250431449648164,
          -0.7369965848641916,
          0.048018797888884246,
          -2.047899071207024,
          1.3436966143343252,
          -1.7320219009712923,
          -0.40452740082826294,
          1.3937288534544126,
          1.2286193347039958,
          0.4371853919515951,
          1.2635854050534387,
          -0.7805805442269789,
          -0.9153993534558481,
          -0.0887845209495477,
          0.039705362735055726,
          -0.8163686286010027
         ],
         "xaxis": "x4",
         "y": [
          -1.5165215335635371,
          1.2385294899836377,
          0.18675435261297058,
          -0.49404178733345255,
          0.9638783524597756,
          -1.1032901032155455,
          0.8489612205492174,
          0.9903890863731017,
          -1.3703522449279018,
          -0.5776566150555577,
          -0.31321057904966493,
          -1.62657976260777,
          -1.006701588728278,
          1.1360103276196873,
          0.6096235839787069,
          -1.3807990089203603,
          -0.36237146775748713,
          -0.5950154460828271,
          1.3888123369070282,
          -1.3629622910143322,
          -1.1038735970945992,
          1.337348295283731,
          1.1667957765059276,
          -1.2086935425656429,
          0.24972766483940562,
          0.29999954775204385,
          1.0667440982430194,
          -0.1741452761097413,
          0.29560646351069414,
          1.2851980496441235,
          -1.5822045088416392,
          0.2332157433742438,
          -0.8216180482229304,
          0.36846289942020066,
          1.6914889255493009,
          0.05294197198387387,
          1.6522250061531598,
          0.3806122062538394,
          0.2281787015714965,
          0.13943357370996548,
          0.7737513704163842,
          1.2632113994240495,
          -2.0723185151193118,
          0.3148357541550536,
          0.9775459023887758,
          0.4890519952231019,
          0.019788575261866545,
          0.5255271325555345,
          1.6814084764377233,
          0.5767167314074976,
          0.20677363770809085,
          0.1860110033699774,
          0.21407497739434397,
          0.7365607951031639,
          -0.7857728014462609,
          0.009524836979279003,
          0.38612916910565903,
          0.1502359587507458,
          0.9892286676253292,
          0.39444327636869897,
          1.120472350623712,
          2.572635263308814,
          0.16353567449977097,
          -0.3413603098431363,
          0.11982063910290328,
          -1.3444523091154967,
          -1.0451078274259888,
          0.7804874333757548,
          -0.10032354166879094,
          1.7827722897587395,
          -1.0946905294595737,
          -0.2510276890016824,
          0.9673217921938824,
          -1.0165640371463203,
          0.0690990527382664,
          -0.8510879315244121,
          0.43904889330463176,
          -1.337878368147962,
          0.09750269879021287,
          1.1447728728037032,
          -0.39997693269254425,
          0.5229998031018618,
          -0.4292225098792032,
          0.9378316216532356,
          -0.7677501218695141,
          1.9137196189172991,
          0.5216008014414507,
          -1.0851954812245894,
          0.5878201563359909,
          0.6262055363577997,
          1.0657701838435691,
          -0.5129968730608664,
          1.2712310563424316,
          1.0526472276252596,
          2.007007712904021,
          -1.2458742116352368,
          -0.3561372960571573,
          -0.09014992621817493,
          0.7230413885756098,
          1.4489088916499433
         ],
         "yaxis": "y4"
        },
        {
         "line": {
          "color": "rgba(128, 128, 128, 1.0)",
          "dash": "solid",
          "shape": "linear",
          "width": 1.3
         },
         "marker": {
          "size": 2,
          "symbol": "circle"
         },
         "mode": "markers",
         "name": "B",
         "text": "",
         "type": "scatter",
         "x": [
          -1.5165215335635371,
          1.2385294899836377,
          0.18675435261297058,
          -0.49404178733345255,
          0.9638783524597756,
          -1.1032901032155455,
          0.8489612205492174,
          0.9903890863731017,
          -1.3703522449279018,
          -0.5776566150555577,
          -0.31321057904966493,
          -1.62657976260777,
          -1.006701588728278,
          1.1360103276196873,
          0.6096235839787069,
          -1.3807990089203603,
          -0.36237146775748713,
          -0.5950154460828271,
          1.3888123369070282,
          -1.3629622910143322,
          -1.1038735970945992,
          1.337348295283731,
          1.1667957765059276,
          -1.2086935425656429,
          0.24972766483940562,
          0.29999954775204385,
          1.0667440982430194,
          -0.1741452761097413,
          0.29560646351069414,
          1.2851980496441235,
          -1.5822045088416392,
          0.2332157433742438,
          -0.8216180482229304,
          0.36846289942020066,
          1.6914889255493009,
          0.05294197198387387,
          1.6522250061531598,
          0.3806122062538394,
          0.2281787015714965,
          0.13943357370996548,
          0.7737513704163842,
          1.2632113994240495,
          -2.0723185151193118,
          0.3148357541550536,
          0.9775459023887758,
          0.4890519952231019,
          0.019788575261866545,
          0.5255271325555345,
          1.6814084764377233,
          0.5767167314074976,
          0.20677363770809085,
          0.1860110033699774,
          0.21407497739434397,
          0.7365607951031639,
          -0.7857728014462609,
          0.009524836979279003,
          0.38612916910565903,
          0.1502359587507458,
          0.9892286676253292,
          0.39444327636869897,
          1.120472350623712,
          2.572635263308814,
          0.16353567449977097,
          -0.3413603098431363,
          0.11982063910290328,
          -1.3444523091154967,
          -1.0451078274259888,
          0.7804874333757548,
          -0.10032354166879094,
          1.7827722897587395,
          -1.0946905294595737,
          -0.2510276890016824,
          0.9673217921938824,
          -1.0165640371463203,
          0.0690990527382664,
          -0.8510879315244121,
          0.43904889330463176,
          -1.337878368147962,
          0.09750269879021287,
          1.1447728728037032,
          -0.39997693269254425,
          0.5229998031018618,
          -0.4292225098792032,
          0.9378316216532356,
          -0.7677501218695141,
          1.9137196189172991,
          0.5216008014414507,
          -1.0851954812245894,
          0.5878201563359909,
          0.6262055363577997,
          1.0657701838435691,
          -0.5129968730608664,
          1.2712310563424316,
          1.0526472276252596,
          2.007007712904021,
          -1.2458742116352368,
          -0.3561372960571573,
          -0.09014992621817493,
          0.7230413885756098,
          1.4489088916499433
         ],
         "xaxis": "x5",
         "y": [
          -0.8345574062307446,
          0.3869389335155712,
          0.07782933474576627,
          1.1899116450030662,
          2.4118231293099672,
          -0.7517168932626798,
          0.04236231146362457,
          0.07190511226430284,
          1.6380670778590334,
          2.0602606596455915,
          -2.163922132520172,
          -0.4433154616526229,
          -0.04538211676815623,
          -0.9165373914796289,
          0.22401956064621992,
          0.0003599773765519304,
          -1.563708728474769,
          -1.5376343933124736,
          -0.7870693396201344,
          0.33457351738130175,
          -1.7354039335286253,
          1.7113719623174346,
          -0.8120715211093109,
          0.3253747617458604,
          -0.31843112066991935,
          -1.7196215520469333,
          1.0739113471545714,
          -0.893491898851701,
          -1.6629737232258517,
          -1.0306910440740462,
          0.9726511881554111,
          0.5494664293783664,
          -0.7708942552672302,
          0.192978809265206,
          -0.7348978845939232,
          -1.3345561541206306,
          0.5165025336657605,
          0.31478413024677826,
          0.6355748238320479,
          0.8652446833342713,
          -2.6658532132036394,
          0.2961008150075696,
          -0.9156752032343806,
          -2.350156615366018,
          0.459285791821168,
          -0.30922541782709606,
          -0.1428120757566868,
          -1.2332716277002955,
          -1.3161739795186747,
          1.2495199734510636,
          0.12846392054830044,
          -0.2417375476858517,
          -1.30909234945247,
          -1.2082763653082,
          1.1683596205889433,
          1.910262362641669,
          -0.3319716068998639,
          0.6369101856685699,
          1.2305627181044516,
          0.009236607765067436,
          -1.1610611529835455,
          -0.5951460041814716,
          -0.3859309436973199,
          1.2772343202778578,
          0.45105331684170763,
          0.8913310278045682,
          2.2461724357778765,
          0.8671611404274941,
          -0.9084679347963178,
          -0.42009634182682365,
          -0.18027132005244065,
          0.6850421902521037,
          -1.1601568758024055,
          -0.8886966875641397,
          -0.1593881395933613,
          0.6257031728894613,
          -0.39633640033302586,
          -0.2575710590884075,
          -0.24936745256303702,
          -1.5120328205355116,
          1.1544613291944308,
          0.01973290602766408,
          -0.38296802691344484,
          -0.4313977587137235,
          1.8662596009811432,
          0.04260450444009576,
          -1.4220661594762694,
          -1.685356777380281,
          -1.1270456077765143,
          -0.38721209138365925,
          0.259167116705802,
          -0.22316627067425593,
          1.635084328005414,
          -2.9583463144626703,
          -0.08181424856774482,
          -0.13510674116356763,
          0.47366256715334687,
          1.1763788631291294,
          -1.8896419059732144,
          0.007836036763666107
         ],
         "yaxis": "y5"
        },
        {
         "histfunc": "count",
         "histnorm": "",
         "marker": {
          "color": "rgba(55, 128, 191, 1.0)",
          "line": {
           "color": "#4D5663",
           "width": 1.3
          }
         },
         "name": "B",
         "nbinsx": 10,
         "opacity": 0.8,
         "orientation": "v",
         "type": "histogram",
         "x": [
          -0.8345574062307446,
          0.3869389335155712,
          0.07782933474576627,
          1.1899116450030662,
          2.4118231293099672,
          -0.7517168932626798,
          0.04236231146362457,
          0.07190511226430284,
          1.6380670778590334,
          2.0602606596455915,
          -2.163922132520172,
          -0.4433154616526229,
          -0.04538211676815623,
          -0.9165373914796289,
          0.22401956064621992,
          0.0003599773765519304,
          -1.563708728474769,
          -1.5376343933124736,
          -0.7870693396201344,
          0.33457351738130175,
          -1.7354039335286253,
          1.7113719623174346,
          -0.8120715211093109,
          0.3253747617458604,
          -0.31843112066991935,
          -1.7196215520469333,
          1.0739113471545714,
          -0.893491898851701,
          -1.6629737232258517,
          -1.0306910440740462,
          0.9726511881554111,
          0.5494664293783664,
          -0.7708942552672302,
          0.192978809265206,
          -0.7348978845939232,
          -1.3345561541206306,
          0.5165025336657605,
          0.31478413024677826,
          0.6355748238320479,
          0.8652446833342713,
          -2.6658532132036394,
          0.2961008150075696,
          -0.9156752032343806,
          -2.350156615366018,
          0.459285791821168,
          -0.30922541782709606,
          -0.1428120757566868,
          -1.2332716277002955,
          -1.3161739795186747,
          1.2495199734510636,
          0.12846392054830044,
          -0.2417375476858517,
          -1.30909234945247,
          -1.2082763653082,
          1.1683596205889433,
          1.910262362641669,
          -0.3319716068998639,
          0.6369101856685699,
          1.2305627181044516,
          0.009236607765067436,
          -1.1610611529835455,
          -0.5951460041814716,
          -0.3859309436973199,
          1.2772343202778578,
          0.45105331684170763,
          0.8913310278045682,
          2.2461724357778765,
          0.8671611404274941,
          -0.9084679347963178,
          -0.42009634182682365,
          -0.18027132005244065,
          0.6850421902521037,
          -1.1601568758024055,
          -0.8886966875641397,
          -0.1593881395933613,
          0.6257031728894613,
          -0.39633640033302586,
          -0.2575710590884075,
          -0.24936745256303702,
          -1.5120328205355116,
          1.1544613291944308,
          0.01973290602766408,
          -0.38296802691344484,
          -0.4313977587137235,
          1.8662596009811432,
          0.04260450444009576,
          -1.4220661594762694,
          -1.685356777380281,
          -1.1270456077765143,
          -0.38721209138365925,
          0.259167116705802,
          -0.22316627067425593,
          1.635084328005414,
          -2.9583463144626703,
          -0.08181424856774482,
          -0.13510674116356763,
          0.47366256715334687,
          1.1763788631291294,
          -1.8896419059732144,
          0.007836036763666107
         ],
         "xaxis": "x6",
         "yaxis": "y6"
        },
        {
         "line": {
          "color": "rgba(128, 128, 128, 1.0)",
          "dash": "solid",
          "shape": "linear",
          "width": 1.3
         },
         "marker": {
          "size": 2,
          "symbol": "circle"
         },
         "mode": "markers",
         "name": "B",
         "text": "",
         "type": "scatter",
         "x": [
          0.7377730997892236,
          -1.1030389755810621,
          1.4751934706448089,
          0.7163275619637027,
          -0.18793525120198784,
          -1.4997967427083236,
          0.643213345466464,
          0.4590111364898649,
          -0.3876229520803771,
          -2.008667912157602,
          2.4928627609459486,
          -1.4915146072251595,
          -1.1028249832333714,
          -1.2547247840156839,
          -1.6785726427538314,
          0.03217466686038357,
          0.05036130726282296,
          0.2596466248117348,
          -1.814687929743969,
          0.5153464780970352,
          -2.1666080715199993,
          1.630244539502402,
          -0.1612007848411608,
          -0.11392318675798929,
          0.34446317037597357,
          -1.063371139362935,
          0.31784010331748386,
          0.11860842949055822,
          1.3990597162703728,
          -0.25048174514563804,
          0.07513845049261468,
          1.5219563568056442,
          -2.2030050233156366,
          -0.9911515249358269,
          -0.17553956076957108,
          -0.04382189649560705,
          -1.2098215569998902,
          -1.341748163306357,
          -0.2595630627563207,
          -0.3503010741389833,
          0.407951880298061,
          0.3390248071247096,
          -0.6261417668668742,
          1.6209870553879406,
          -0.17161704150407456,
          0.008862371510253677,
          0.24925974657341216,
          0.6080072287109711,
          0.5810554218657719,
          -1.7991335230987364,
          -0.3287127561472726,
          -0.20414439596547482,
          0.7305614525329794,
          1.272257988636262,
          0.8633204035946619,
          -1.2099485393543716,
          -0.5970212029687801,
          0.4017280631868525,
          0.08571053438085445,
          0.07089128319306941,
          -1.3627492377874084,
          -0.8911780630223399,
          0.6025850094962208,
          0.08348750474826173,
          -0.2513264135468494,
          0.99682265966032,
          -0.09930818865435492,
          -0.27703039314660394,
          -0.2168179142136428,
          -0.6889586903897957,
          0.5263546730665744,
          -2.2600965640460946,
          1.470983069768726,
          0.8482779806112714,
          3.2619614212857986,
          -1.6077629407846308,
          -0.3649678611594507,
          2.4142432860941048,
          1.0489469514815788,
          0.45525480188951034,
          -1.9538860414383217,
          1.906228745837376,
          -0.8354406474978622,
          -0.22095779069381277,
          -0.03591642328322162,
          -1.2787264886778482,
          -0.3083233741363021,
          0.1406733845624421,
          -0.625636475384371,
          0.9276252520133468,
          0.47980324803296176,
          -0.28072587382542963,
          1.0652684103421062,
          0.11599013791717781,
          1.0798778479236106,
          0.40815372563331564,
          0.3557210647833699,
          -0.6956036311657349,
          0.6181513355759167,
          -0.09854092176707027
         ],
         "xaxis": "x7",
         "y": [
          -0.8345574062307446,
          0.3869389335155712,
          0.07782933474576627,
          1.1899116450030662,
          2.4118231293099672,
          -0.7517168932626798,
          0.04236231146362457,
          0.07190511226430284,
          1.6380670778590334,
          2.0602606596455915,
          -2.163922132520172,
          -0.4433154616526229,
          -0.04538211676815623,
          -0.9165373914796289,
          0.22401956064621992,
          0.0003599773765519304,
          -1.563708728474769,
          -1.5376343933124736,
          -0.7870693396201344,
          0.33457351738130175,
          -1.7354039335286253,
          1.7113719623174346,
          -0.8120715211093109,
          0.3253747617458604,
          -0.31843112066991935,
          -1.7196215520469333,
          1.0739113471545714,
          -0.893491898851701,
          -1.6629737232258517,
          -1.0306910440740462,
          0.9726511881554111,
          0.5494664293783664,
          -0.7708942552672302,
          0.192978809265206,
          -0.7348978845939232,
          -1.3345561541206306,
          0.5165025336657605,
          0.31478413024677826,
          0.6355748238320479,
          0.8652446833342713,
          -2.6658532132036394,
          0.2961008150075696,
          -0.9156752032343806,
          -2.350156615366018,
          0.459285791821168,
          -0.30922541782709606,
          -0.1428120757566868,
          -1.2332716277002955,
          -1.3161739795186747,
          1.2495199734510636,
          0.12846392054830044,
          -0.2417375476858517,
          -1.30909234945247,
          -1.2082763653082,
          1.1683596205889433,
          1.910262362641669,
          -0.3319716068998639,
          0.6369101856685699,
          1.2305627181044516,
          0.009236607765067436,
          -1.1610611529835455,
          -0.5951460041814716,
          -0.3859309436973199,
          1.2772343202778578,
          0.45105331684170763,
          0.8913310278045682,
          2.2461724357778765,
          0.8671611404274941,
          -0.9084679347963178,
          -0.42009634182682365,
          -0.18027132005244065,
          0.6850421902521037,
          -1.1601568758024055,
          -0.8886966875641397,
          -0.1593881395933613,
          0.6257031728894613,
          -0.39633640033302586,
          -0.2575710590884075,
          -0.24936745256303702,
          -1.5120328205355116,
          1.1544613291944308,
          0.01973290602766408,
          -0.38296802691344484,
          -0.4313977587137235,
          1.8662596009811432,
          0.04260450444009576,
          -1.4220661594762694,
          -1.685356777380281,
          -1.1270456077765143,
          -0.38721209138365925,
          0.259167116705802,
          -0.22316627067425593,
          1.635084328005414,
          -2.9583463144626703,
          -0.08181424856774482,
          -0.13510674116356763,
          0.47366256715334687,
          1.1763788631291294,
          -1.8896419059732144,
          0.007836036763666107
         ],
         "yaxis": "y7"
        },
        {
         "line": {
          "color": "rgba(128, 128, 128, 1.0)",
          "dash": "solid",
          "shape": "linear",
          "width": 1.3
         },
         "marker": {
          "size": 2,
          "symbol": "circle"
         },
         "mode": "markers",
         "name": "B",
         "text": "",
         "type": "scatter",
         "x": [
          -1.780823585893734,
          0.4602590665960138,
          -0.77095243558765,
          -0.12133778922148662,
          0.5902120373652472,
          -0.06893916024692084,
          0.8022773173288474,
          0.8567752152124382,
          -0.9634836880251109,
          -1.0990253199089686,
          0.3010123021386761,
          0.043982641960648355,
          -1.2917884399797137,
          -0.410665850962858,
          0.0946327403643174,
          -0.6482741891994594,
          0.19693767482224722,
          0.6727106219128671,
          0.7814650694890092,
          0.8809369869589234,
          0.5782063413384737,
          -1.1185788706639035,
          1.1550425047984576,
          0.3813117052456318,
          0.5391018445096615,
          0.5217574869263621,
          0.9712112555342638,
          1.4071875147931563,
          0.02836636694116585,
          0.051999588742775285,
          -0.7052848255502274,
          0.19733377644932545,
          0.16441137193235716,
          -0.29381742499736274,
          -0.8268556215966905,
          0.7710939137149534,
          -2.258699431529325,
          -0.362294605271354,
          1.7602514238640574,
          0.7653869242534327,
          -0.4602441867070608,
          0.7555683442100604,
          -0.4561133529338688,
          0.591662526569171,
          0.5308178302398793,
          0.6187338202390603,
          -0.2040626925383586,
          -0.4089840413211076,
          1.0831728485896257,
          1.5064092259126123,
          0.9641259886821941,
          1.2066283492306435,
          -0.16401071310732646,
          -0.9463803276410513,
          0.32013971318654694,
          1.2415326199787506,
          1.468983238419462,
          1.8600040959785045,
          0.7899542506236222,
          -0.5621331574428683,
          0.2544760248206638,
          0.553016773474252,
          -0.8421887668967111,
          -1.4892089647285351,
          -1.0461533048831086,
          -0.3428360821472914,
          1.0385436120242335,
          0.7656414008311992,
          0.7006530694208158,
          -1.3051778143441768,
          0.4652099162555333,
          -1.0345875195220526,
          0.761275797132033,
          -0.9734716524681017,
          -1.326237858417124,
          -0.8177095520548644,
          -1.1900159679196343,
          0.12062767232963065,
          0.43761474959033686,
          0.7057035106724329,
          -1.1638197213072254,
          -0.06146991414586665,
          -0.17954182149817657,
          0.04035176209259629,
          -1.4250431449648164,
          -0.7369965848641916,
          0.048018797888884246,
          -2.047899071207024,
          1.3436966143343252,
          -1.7320219009712923,
          -0.40452740082826294,
          1.3937288534544126,
          1.2286193347039958,
          0.4371853919515951,
          1.2635854050534387,
          -0.7805805442269789,
          -0.9153993534558481,
          -0.0887845209495477,
          0.039705362735055726,
          -0.8163686286010027
         ],
         "xaxis": "x8",
         "y": [
          -0.8345574062307446,
          0.3869389335155712,
          0.07782933474576627,
          1.1899116450030662,
          2.4118231293099672,
          -0.7517168932626798,
          0.04236231146362457,
          0.07190511226430284,
          1.6380670778590334,
          2.0602606596455915,
          -2.163922132520172,
          -0.4433154616526229,
          -0.04538211676815623,
          -0.9165373914796289,
          0.22401956064621992,
          0.0003599773765519304,
          -1.563708728474769,
          -1.5376343933124736,
          -0.7870693396201344,
          0.33457351738130175,
          -1.7354039335286253,
          1.7113719623174346,
          -0.8120715211093109,
          0.3253747617458604,
          -0.31843112066991935,
          -1.7196215520469333,
          1.0739113471545714,
          -0.893491898851701,
          -1.6629737232258517,
          -1.0306910440740462,
          0.9726511881554111,
          0.5494664293783664,
          -0.7708942552672302,
          0.192978809265206,
          -0.7348978845939232,
          -1.3345561541206306,
          0.5165025336657605,
          0.31478413024677826,
          0.6355748238320479,
          0.8652446833342713,
          -2.6658532132036394,
          0.2961008150075696,
          -0.9156752032343806,
          -2.350156615366018,
          0.459285791821168,
          -0.30922541782709606,
          -0.1428120757566868,
          -1.2332716277002955,
          -1.3161739795186747,
          1.2495199734510636,
          0.12846392054830044,
          -0.2417375476858517,
          -1.30909234945247,
          -1.2082763653082,
          1.1683596205889433,
          1.910262362641669,
          -0.3319716068998639,
          0.6369101856685699,
          1.2305627181044516,
          0.009236607765067436,
          -1.1610611529835455,
          -0.5951460041814716,
          -0.3859309436973199,
          1.2772343202778578,
          0.45105331684170763,
          0.8913310278045682,
          2.2461724357778765,
          0.8671611404274941,
          -0.9084679347963178,
          -0.42009634182682365,
          -0.18027132005244065,
          0.6850421902521037,
          -1.1601568758024055,
          -0.8886966875641397,
          -0.1593881395933613,
          0.6257031728894613,
          -0.39633640033302586,
          -0.2575710590884075,
          -0.24936745256303702,
          -1.5120328205355116,
          1.1544613291944308,
          0.01973290602766408,
          -0.38296802691344484,
          -0.4313977587137235,
          1.8662596009811432,
          0.04260450444009576,
          -1.4220661594762694,
          -1.685356777380281,
          -1.1270456077765143,
          -0.38721209138365925,
          0.259167116705802,
          -0.22316627067425593,
          1.635084328005414,
          -2.9583463144626703,
          -0.08181424856774482,
          -0.13510674116356763,
          0.47366256715334687,
          1.1763788631291294,
          -1.8896419059732144,
          0.007836036763666107
         ],
         "yaxis": "y8"
        },
        {
         "line": {
          "color": "rgba(128, 128, 128, 1.0)",
          "dash": "solid",
          "shape": "linear",
          "width": 1.3
         },
         "marker": {
          "size": 2,
          "symbol": "circle"
         },
         "mode": "markers",
         "name": "C",
         "text": "",
         "type": "scatter",
         "x": [
          -1.5165215335635371,
          1.2385294899836377,
          0.18675435261297058,
          -0.49404178733345255,
          0.9638783524597756,
          -1.1032901032155455,
          0.8489612205492174,
          0.9903890863731017,
          -1.3703522449279018,
          -0.5776566150555577,
          -0.31321057904966493,
          -1.62657976260777,
          -1.006701588728278,
          1.1360103276196873,
          0.6096235839787069,
          -1.3807990089203603,
          -0.36237146775748713,
          -0.5950154460828271,
          1.3888123369070282,
          -1.3629622910143322,
          -1.1038735970945992,
          1.337348295283731,
          1.1667957765059276,
          -1.2086935425656429,
          0.24972766483940562,
          0.29999954775204385,
          1.0667440982430194,
          -0.1741452761097413,
          0.29560646351069414,
          1.2851980496441235,
          -1.5822045088416392,
          0.2332157433742438,
          -0.8216180482229304,
          0.36846289942020066,
          1.6914889255493009,
          0.05294197198387387,
          1.6522250061531598,
          0.3806122062538394,
          0.2281787015714965,
          0.13943357370996548,
          0.7737513704163842,
          1.2632113994240495,
          -2.0723185151193118,
          0.3148357541550536,
          0.9775459023887758,
          0.4890519952231019,
          0.019788575261866545,
          0.5255271325555345,
          1.6814084764377233,
          0.5767167314074976,
          0.20677363770809085,
          0.1860110033699774,
          0.21407497739434397,
          0.7365607951031639,
          -0.7857728014462609,
          0.009524836979279003,
          0.38612916910565903,
          0.1502359587507458,
          0.9892286676253292,
          0.39444327636869897,
          1.120472350623712,
          2.572635263308814,
          0.16353567449977097,
          -0.3413603098431363,
          0.11982063910290328,
          -1.3444523091154967,
          -1.0451078274259888,
          0.7804874333757548,
          -0.10032354166879094,
          1.7827722897587395,
          -1.0946905294595737,
          -0.2510276890016824,
          0.9673217921938824,
          -1.0165640371463203,
          0.0690990527382664,
          -0.8510879315244121,
          0.43904889330463176,
          -1.337878368147962,
          0.09750269879021287,
          1.1447728728037032,
          -0.39997693269254425,
          0.5229998031018618,
          -0.4292225098792032,
          0.9378316216532356,
          -0.7677501218695141,
          1.9137196189172991,
          0.5216008014414507,
          -1.0851954812245894,
          0.5878201563359909,
          0.6262055363577997,
          1.0657701838435691,
          -0.5129968730608664,
          1.2712310563424316,
          1.0526472276252596,
          2.007007712904021,
          -1.2458742116352368,
          -0.3561372960571573,
          -0.09014992621817493,
          0.7230413885756098,
          1.4489088916499433
         ],
         "xaxis": "x9",
         "y": [
          0.7377730997892236,
          -1.1030389755810621,
          1.4751934706448089,
          0.7163275619637027,
          -0.18793525120198784,
          -1.4997967427083236,
          0.643213345466464,
          0.4590111364898649,
          -0.3876229520803771,
          -2.008667912157602,
          2.4928627609459486,
          -1.4915146072251595,
          -1.1028249832333714,
          -1.2547247840156839,
          -1.6785726427538314,
          0.03217466686038357,
          0.05036130726282296,
          0.2596466248117348,
          -1.814687929743969,
          0.5153464780970352,
          -2.1666080715199993,
          1.630244539502402,
          -0.1612007848411608,
          -0.11392318675798929,
          0.34446317037597357,
          -1.063371139362935,
          0.31784010331748386,
          0.11860842949055822,
          1.3990597162703728,
          -0.25048174514563804,
          0.07513845049261468,
          1.5219563568056442,
          -2.2030050233156366,
          -0.9911515249358269,
          -0.17553956076957108,
          -0.04382189649560705,
          -1.2098215569998902,
          -1.341748163306357,
          -0.2595630627563207,
          -0.3503010741389833,
          0.407951880298061,
          0.3390248071247096,
          -0.6261417668668742,
          1.6209870553879406,
          -0.17161704150407456,
          0.008862371510253677,
          0.24925974657341216,
          0.6080072287109711,
          0.5810554218657719,
          -1.7991335230987364,
          -0.3287127561472726,
          -0.20414439596547482,
          0.7305614525329794,
          1.272257988636262,
          0.8633204035946619,
          -1.2099485393543716,
          -0.5970212029687801,
          0.4017280631868525,
          0.08571053438085445,
          0.07089128319306941,
          -1.3627492377874084,
          -0.8911780630223399,
          0.6025850094962208,
          0.08348750474826173,
          -0.2513264135468494,
          0.99682265966032,
          -0.09930818865435492,
          -0.27703039314660394,
          -0.2168179142136428,
          -0.6889586903897957,
          0.5263546730665744,
          -2.2600965640460946,
          1.470983069768726,
          0.8482779806112714,
          3.2619614212857986,
          -1.6077629407846308,
          -0.3649678611594507,
          2.4142432860941048,
          1.0489469514815788,
          0.45525480188951034,
          -1.9538860414383217,
          1.906228745837376,
          -0.8354406474978622,
          -0.22095779069381277,
          -0.03591642328322162,
          -1.2787264886778482,
          -0.3083233741363021,
          0.1406733845624421,
          -0.625636475384371,
          0.9276252520133468,
          0.47980324803296176,
          -0.28072587382542963,
          1.0652684103421062,
          0.11599013791717781,
          1.0798778479236106,
          0.40815372563331564,
          0.3557210647833699,
          -0.6956036311657349,
          0.6181513355759167,
          -0.09854092176707027
         ],
         "yaxis": "y9"
        },
        {
         "line": {
          "color": "rgba(128, 128, 128, 1.0)",
          "dash": "solid",
          "shape": "linear",
          "width": 1.3
         },
         "marker": {
          "size": 2,
          "symbol": "circle"
         },
         "mode": "markers",
         "name": "C",
         "text": "",
         "type": "scatter",
         "x": [
          -0.8345574062307446,
          0.3869389335155712,
          0.07782933474576627,
          1.1899116450030662,
          2.4118231293099672,
          -0.7517168932626798,
          0.04236231146362457,
          0.07190511226430284,
          1.6380670778590334,
          2.0602606596455915,
          -2.163922132520172,
          -0.4433154616526229,
          -0.04538211676815623,
          -0.9165373914796289,
          0.22401956064621992,
          0.0003599773765519304,
          -1.563708728474769,
          -1.5376343933124736,
          -0.7870693396201344,
          0.33457351738130175,
          -1.7354039335286253,
          1.7113719623174346,
          -0.8120715211093109,
          0.3253747617458604,
          -0.31843112066991935,
          -1.7196215520469333,
          1.0739113471545714,
          -0.893491898851701,
          -1.6629737232258517,
          -1.0306910440740462,
          0.9726511881554111,
          0.5494664293783664,
          -0.7708942552672302,
          0.192978809265206,
          -0.7348978845939232,
          -1.3345561541206306,
          0.5165025336657605,
          0.31478413024677826,
          0.6355748238320479,
          0.8652446833342713,
          -2.6658532132036394,
          0.2961008150075696,
          -0.9156752032343806,
          -2.350156615366018,
          0.459285791821168,
          -0.30922541782709606,
          -0.1428120757566868,
          -1.2332716277002955,
          -1.3161739795186747,
          1.2495199734510636,
          0.12846392054830044,
          -0.2417375476858517,
          -1.30909234945247,
          -1.2082763653082,
          1.1683596205889433,
          1.910262362641669,
          -0.3319716068998639,
          0.6369101856685699,
          1.2305627181044516,
          0.009236607765067436,
          -1.1610611529835455,
          -0.5951460041814716,
          -0.3859309436973199,
          1.2772343202778578,
          0.45105331684170763,
          0.8913310278045682,
          2.2461724357778765,
          0.8671611404274941,
          -0.9084679347963178,
          -0.42009634182682365,
          -0.18027132005244065,
          0.6850421902521037,
          -1.1601568758024055,
          -0.8886966875641397,
          -0.1593881395933613,
          0.6257031728894613,
          -0.39633640033302586,
          -0.2575710590884075,
          -0.24936745256303702,
          -1.5120328205355116,
          1.1544613291944308,
          0.01973290602766408,
          -0.38296802691344484,
          -0.4313977587137235,
          1.8662596009811432,
          0.04260450444009576,
          -1.4220661594762694,
          -1.685356777380281,
          -1.1270456077765143,
          -0.38721209138365925,
          0.259167116705802,
          -0.22316627067425593,
          1.635084328005414,
          -2.9583463144626703,
          -0.08181424856774482,
          -0.13510674116356763,
          0.47366256715334687,
          1.1763788631291294,
          -1.8896419059732144,
          0.007836036763666107
         ],
         "xaxis": "x10",
         "y": [
          0.7377730997892236,
          -1.1030389755810621,
          1.4751934706448089,
          0.7163275619637027,
          -0.18793525120198784,
          -1.4997967427083236,
          0.643213345466464,
          0.4590111364898649,
          -0.3876229520803771,
          -2.008667912157602,
          2.4928627609459486,
          -1.4915146072251595,
          -1.1028249832333714,
          -1.2547247840156839,
          -1.6785726427538314,
          0.03217466686038357,
          0.05036130726282296,
          0.2596466248117348,
          -1.814687929743969,
          0.5153464780970352,
          -2.1666080715199993,
          1.630244539502402,
          -0.1612007848411608,
          -0.11392318675798929,
          0.34446317037597357,
          -1.063371139362935,
          0.31784010331748386,
          0.11860842949055822,
          1.3990597162703728,
          -0.25048174514563804,
          0.07513845049261468,
          1.5219563568056442,
          -2.2030050233156366,
          -0.9911515249358269,
          -0.17553956076957108,
          -0.04382189649560705,
          -1.2098215569998902,
          -1.341748163306357,
          -0.2595630627563207,
          -0.3503010741389833,
          0.407951880298061,
          0.3390248071247096,
          -0.6261417668668742,
          1.6209870553879406,
          -0.17161704150407456,
          0.008862371510253677,
          0.24925974657341216,
          0.6080072287109711,
          0.5810554218657719,
          -1.7991335230987364,
          -0.3287127561472726,
          -0.20414439596547482,
          0.7305614525329794,
          1.272257988636262,
          0.8633204035946619,
          -1.2099485393543716,
          -0.5970212029687801,
          0.4017280631868525,
          0.08571053438085445,
          0.07089128319306941,
          -1.3627492377874084,
          -0.8911780630223399,
          0.6025850094962208,
          0.08348750474826173,
          -0.2513264135468494,
          0.99682265966032,
          -0.09930818865435492,
          -0.27703039314660394,
          -0.2168179142136428,
          -0.6889586903897957,
          0.5263546730665744,
          -2.2600965640460946,
          1.470983069768726,
          0.8482779806112714,
          3.2619614212857986,
          -1.6077629407846308,
          -0.3649678611594507,
          2.4142432860941048,
          1.0489469514815788,
          0.45525480188951034,
          -1.9538860414383217,
          1.906228745837376,
          -0.8354406474978622,
          -0.22095779069381277,
          -0.03591642328322162,
          -1.2787264886778482,
          -0.3083233741363021,
          0.1406733845624421,
          -0.625636475384371,
          0.9276252520133468,
          0.47980324803296176,
          -0.28072587382542963,
          1.0652684103421062,
          0.11599013791717781,
          1.0798778479236106,
          0.40815372563331564,
          0.3557210647833699,
          -0.6956036311657349,
          0.6181513355759167,
          -0.09854092176707027
         ],
         "yaxis": "y10"
        },
        {
         "histfunc": "count",
         "histnorm": "",
         "marker": {
          "color": "rgba(50, 171, 96, 1.0)",
          "line": {
           "color": "#4D5663",
           "width": 1.3
          }
         },
         "name": "C",
         "nbinsx": 10,
         "opacity": 0.8,
         "orientation": "v",
         "type": "histogram",
         "x": [
          0.7377730997892236,
          -1.1030389755810621,
          1.4751934706448089,
          0.7163275619637027,
          -0.18793525120198784,
          -1.4997967427083236,
          0.643213345466464,
          0.4590111364898649,
          -0.3876229520803771,
          -2.008667912157602,
          2.4928627609459486,
          -1.4915146072251595,
          -1.1028249832333714,
          -1.2547247840156839,
          -1.6785726427538314,
          0.03217466686038357,
          0.05036130726282296,
          0.2596466248117348,
          -1.814687929743969,
          0.5153464780970352,
          -2.1666080715199993,
          1.630244539502402,
          -0.1612007848411608,
          -0.11392318675798929,
          0.34446317037597357,
          -1.063371139362935,
          0.31784010331748386,
          0.11860842949055822,
          1.3990597162703728,
          -0.25048174514563804,
          0.07513845049261468,
          1.5219563568056442,
          -2.2030050233156366,
          -0.9911515249358269,
          -0.17553956076957108,
          -0.04382189649560705,
          -1.2098215569998902,
          -1.341748163306357,
          -0.2595630627563207,
          -0.3503010741389833,
          0.407951880298061,
          0.3390248071247096,
          -0.6261417668668742,
          1.6209870553879406,
          -0.17161704150407456,
          0.008862371510253677,
          0.24925974657341216,
          0.6080072287109711,
          0.5810554218657719,
          -1.7991335230987364,
          -0.3287127561472726,
          -0.20414439596547482,
          0.7305614525329794,
          1.272257988636262,
          0.8633204035946619,
          -1.2099485393543716,
          -0.5970212029687801,
          0.4017280631868525,
          0.08571053438085445,
          0.07089128319306941,
          -1.3627492377874084,
          -0.8911780630223399,
          0.6025850094962208,
          0.08348750474826173,
          -0.2513264135468494,
          0.99682265966032,
          -0.09930818865435492,
          -0.27703039314660394,
          -0.2168179142136428,
          -0.6889586903897957,
          0.5263546730665744,
          -2.2600965640460946,
          1.470983069768726,
          0.8482779806112714,
          3.2619614212857986,
          -1.6077629407846308,
          -0.3649678611594507,
          2.4142432860941048,
          1.0489469514815788,
          0.45525480188951034,
          -1.9538860414383217,
          1.906228745837376,
          -0.8354406474978622,
          -0.22095779069381277,
          -0.03591642328322162,
          -1.2787264886778482,
          -0.3083233741363021,
          0.1406733845624421,
          -0.625636475384371,
          0.9276252520133468,
          0.47980324803296176,
          -0.28072587382542963,
          1.0652684103421062,
          0.11599013791717781,
          1.0798778479236106,
          0.40815372563331564,
          0.3557210647833699,
          -0.6956036311657349,
          0.6181513355759167,
          -0.09854092176707027
         ],
         "xaxis": "x11",
         "yaxis": "y11"
        },
        {
         "line": {
          "color": "rgba(128, 128, 128, 1.0)",
          "dash": "solid",
          "shape": "linear",
          "width": 1.3
         },
         "marker": {
          "size": 2,
          "symbol": "circle"
         },
         "mode": "markers",
         "name": "C",
         "text": "",
         "type": "scatter",
         "x": [
          -1.780823585893734,
          0.4602590665960138,
          -0.77095243558765,
          -0.12133778922148662,
          0.5902120373652472,
          -0.06893916024692084,
          0.8022773173288474,
          0.8567752152124382,
          -0.9634836880251109,
          -1.0990253199089686,
          0.3010123021386761,
          0.043982641960648355,
          -1.2917884399797137,
          -0.410665850962858,
          0.0946327403643174,
          -0.6482741891994594,
          0.19693767482224722,
          0.6727106219128671,
          0.7814650694890092,
          0.8809369869589234,
          0.5782063413384737,
          -1.1185788706639035,
          1.1550425047984576,
          0.3813117052456318,
          0.5391018445096615,
          0.5217574869263621,
          0.9712112555342638,
          1.4071875147931563,
          0.02836636694116585,
          0.051999588742775285,
          -0.7052848255502274,
          0.19733377644932545,
          0.16441137193235716,
          -0.29381742499736274,
          -0.8268556215966905,
          0.7710939137149534,
          -2.258699431529325,
          -0.362294605271354,
          1.7602514238640574,
          0.7653869242534327,
          -0.4602441867070608,
          0.7555683442100604,
          -0.4561133529338688,
          0.591662526569171,
          0.5308178302398793,
          0.6187338202390603,
          -0.2040626925383586,
          -0.4089840413211076,
          1.0831728485896257,
          1.5064092259126123,
          0.9641259886821941,
          1.2066283492306435,
          -0.16401071310732646,
          -0.9463803276410513,
          0.32013971318654694,
          1.2415326199787506,
          1.468983238419462,
          1.8600040959785045,
          0.7899542506236222,
          -0.5621331574428683,
          0.2544760248206638,
          0.553016773474252,
          -0.8421887668967111,
          -1.4892089647285351,
          -1.0461533048831086,
          -0.3428360821472914,
          1.0385436120242335,
          0.7656414008311992,
          0.7006530694208158,
          -1.3051778143441768,
          0.4652099162555333,
          -1.0345875195220526,
          0.761275797132033,
          -0.9734716524681017,
          -1.326237858417124,
          -0.8177095520548644,
          -1.1900159679196343,
          0.12062767232963065,
          0.43761474959033686,
          0.7057035106724329,
          -1.1638197213072254,
          -0.06146991414586665,
          -0.17954182149817657,
          0.04035176209259629,
          -1.4250431449648164,
          -0.7369965848641916,
          0.048018797888884246,
          -2.047899071207024,
          1.3436966143343252,
          -1.7320219009712923,
          -0.40452740082826294,
          1.3937288534544126,
          1.2286193347039958,
          0.4371853919515951,
          1.2635854050534387,
          -0.7805805442269789,
          -0.9153993534558481,
          -0.0887845209495477,
          0.039705362735055726,
          -0.8163686286010027
         ],
         "xaxis": "x12",
         "y": [
          0.7377730997892236,
          -1.1030389755810621,
          1.4751934706448089,
          0.7163275619637027,
          -0.18793525120198784,
          -1.4997967427083236,
          0.643213345466464,
          0.4590111364898649,
          -0.3876229520803771,
          -2.008667912157602,
          2.4928627609459486,
          -1.4915146072251595,
          -1.1028249832333714,
          -1.2547247840156839,
          -1.6785726427538314,
          0.03217466686038357,
          0.05036130726282296,
          0.2596466248117348,
          -1.814687929743969,
          0.5153464780970352,
          -2.1666080715199993,
          1.630244539502402,
          -0.1612007848411608,
          -0.11392318675798929,
          0.34446317037597357,
          -1.063371139362935,
          0.31784010331748386,
          0.11860842949055822,
          1.3990597162703728,
          -0.25048174514563804,
          0.07513845049261468,
          1.5219563568056442,
          -2.2030050233156366,
          -0.9911515249358269,
          -0.17553956076957108,
          -0.04382189649560705,
          -1.2098215569998902,
          -1.341748163306357,
          -0.2595630627563207,
          -0.3503010741389833,
          0.407951880298061,
          0.3390248071247096,
          -0.6261417668668742,
          1.6209870553879406,
          -0.17161704150407456,
          0.008862371510253677,
          0.24925974657341216,
          0.6080072287109711,
          0.5810554218657719,
          -1.7991335230987364,
          -0.3287127561472726,
          -0.20414439596547482,
          0.7305614525329794,
          1.272257988636262,
          0.8633204035946619,
          -1.2099485393543716,
          -0.5970212029687801,
          0.4017280631868525,
          0.08571053438085445,
          0.07089128319306941,
          -1.3627492377874084,
          -0.8911780630223399,
          0.6025850094962208,
          0.08348750474826173,
          -0.2513264135468494,
          0.99682265966032,
          -0.09930818865435492,
          -0.27703039314660394,
          -0.2168179142136428,
          -0.6889586903897957,
          0.5263546730665744,
          -2.2600965640460946,
          1.470983069768726,
          0.8482779806112714,
          3.2619614212857986,
          -1.6077629407846308,
          -0.3649678611594507,
          2.4142432860941048,
          1.0489469514815788,
          0.45525480188951034,
          -1.9538860414383217,
          1.906228745837376,
          -0.8354406474978622,
          -0.22095779069381277,
          -0.03591642328322162,
          -1.2787264886778482,
          -0.3083233741363021,
          0.1406733845624421,
          -0.625636475384371,
          0.9276252520133468,
          0.47980324803296176,
          -0.28072587382542963,
          1.0652684103421062,
          0.11599013791717781,
          1.0798778479236106,
          0.40815372563331564,
          0.3557210647833699,
          -0.6956036311657349,
          0.6181513355759167,
          -0.09854092176707027
         ],
         "yaxis": "y12"
        },
        {
         "line": {
          "color": "rgba(128, 128, 128, 1.0)",
          "dash": "solid",
          "shape": "linear",
          "width": 1.3
         },
         "marker": {
          "size": 2,
          "symbol": "circle"
         },
         "mode": "markers",
         "name": "D",
         "text": "",
         "type": "scatter",
         "x": [
          -1.5165215335635371,
          1.2385294899836377,
          0.18675435261297058,
          -0.49404178733345255,
          0.9638783524597756,
          -1.1032901032155455,
          0.8489612205492174,
          0.9903890863731017,
          -1.3703522449279018,
          -0.5776566150555577,
          -0.31321057904966493,
          -1.62657976260777,
          -1.006701588728278,
          1.1360103276196873,
          0.6096235839787069,
          -1.3807990089203603,
          -0.36237146775748713,
          -0.5950154460828271,
          1.3888123369070282,
          -1.3629622910143322,
          -1.1038735970945992,
          1.337348295283731,
          1.1667957765059276,
          -1.2086935425656429,
          0.24972766483940562,
          0.29999954775204385,
          1.0667440982430194,
          -0.1741452761097413,
          0.29560646351069414,
          1.2851980496441235,
          -1.5822045088416392,
          0.2332157433742438,
          -0.8216180482229304,
          0.36846289942020066,
          1.6914889255493009,
          0.05294197198387387,
          1.6522250061531598,
          0.3806122062538394,
          0.2281787015714965,
          0.13943357370996548,
          0.7737513704163842,
          1.2632113994240495,
          -2.0723185151193118,
          0.3148357541550536,
          0.9775459023887758,
          0.4890519952231019,
          0.019788575261866545,
          0.5255271325555345,
          1.6814084764377233,
          0.5767167314074976,
          0.20677363770809085,
          0.1860110033699774,
          0.21407497739434397,
          0.7365607951031639,
          -0.7857728014462609,
          0.009524836979279003,
          0.38612916910565903,
          0.1502359587507458,
          0.9892286676253292,
          0.39444327636869897,
          1.120472350623712,
          2.572635263308814,
          0.16353567449977097,
          -0.3413603098431363,
          0.11982063910290328,
          -1.3444523091154967,
          -1.0451078274259888,
          0.7804874333757548,
          -0.10032354166879094,
          1.7827722897587395,
          -1.0946905294595737,
          -0.2510276890016824,
          0.9673217921938824,
          -1.0165640371463203,
          0.0690990527382664,
          -0.8510879315244121,
          0.43904889330463176,
          -1.337878368147962,
          0.09750269879021287,
          1.1447728728037032,
          -0.39997693269254425,
          0.5229998031018618,
          -0.4292225098792032,
          0.9378316216532356,
          -0.7677501218695141,
          1.9137196189172991,
          0.5216008014414507,
          -1.0851954812245894,
          0.5878201563359909,
          0.6262055363577997,
          1.0657701838435691,
          -0.5129968730608664,
          1.2712310563424316,
          1.0526472276252596,
          2.007007712904021,
          -1.2458742116352368,
          -0.3561372960571573,
          -0.09014992621817493,
          0.7230413885756098,
          1.4489088916499433
         ],
         "xaxis": "x13",
         "y": [
          -1.780823585893734,
          0.4602590665960138,
          -0.77095243558765,
          -0.12133778922148662,
          0.5902120373652472,
          -0.06893916024692084,
          0.8022773173288474,
          0.8567752152124382,
          -0.9634836880251109,
          -1.0990253199089686,
          0.3010123021386761,
          0.043982641960648355,
          -1.2917884399797137,
          -0.410665850962858,
          0.0946327403643174,
          -0.6482741891994594,
          0.19693767482224722,
          0.6727106219128671,
          0.7814650694890092,
          0.8809369869589234,
          0.5782063413384737,
          -1.1185788706639035,
          1.1550425047984576,
          0.3813117052456318,
          0.5391018445096615,
          0.5217574869263621,
          0.9712112555342638,
          1.4071875147931563,
          0.02836636694116585,
          0.051999588742775285,
          -0.7052848255502274,
          0.19733377644932545,
          0.16441137193235716,
          -0.29381742499736274,
          -0.8268556215966905,
          0.7710939137149534,
          -2.258699431529325,
          -0.362294605271354,
          1.7602514238640574,
          0.7653869242534327,
          -0.4602441867070608,
          0.7555683442100604,
          -0.4561133529338688,
          0.591662526569171,
          0.5308178302398793,
          0.6187338202390603,
          -0.2040626925383586,
          -0.4089840413211076,
          1.0831728485896257,
          1.5064092259126123,
          0.9641259886821941,
          1.2066283492306435,
          -0.16401071310732646,
          -0.9463803276410513,
          0.32013971318654694,
          1.2415326199787506,
          1.468983238419462,
          1.8600040959785045,
          0.7899542506236222,
          -0.5621331574428683,
          0.2544760248206638,
          0.553016773474252,
          -0.8421887668967111,
          -1.4892089647285351,
          -1.0461533048831086,
          -0.3428360821472914,
          1.0385436120242335,
          0.7656414008311992,
          0.7006530694208158,
          -1.3051778143441768,
          0.4652099162555333,
          -1.0345875195220526,
          0.761275797132033,
          -0.9734716524681017,
          -1.326237858417124,
          -0.8177095520548644,
          -1.1900159679196343,
          0.12062767232963065,
          0.43761474959033686,
          0.7057035106724329,
          -1.1638197213072254,
          -0.06146991414586665,
          -0.17954182149817657,
          0.04035176209259629,
          -1.4250431449648164,
          -0.7369965848641916,
          0.048018797888884246,
          -2.047899071207024,
          1.3436966143343252,
          -1.7320219009712923,
          -0.40452740082826294,
          1.3937288534544126,
          1.2286193347039958,
          0.4371853919515951,
          1.2635854050534387,
          -0.7805805442269789,
          -0.9153993534558481,
          -0.0887845209495477,
          0.039705362735055726,
          -0.8163686286010027
         ],
         "yaxis": "y13"
        },
        {
         "line": {
          "color": "rgba(128, 128, 128, 1.0)",
          "dash": "solid",
          "shape": "linear",
          "width": 1.3
         },
         "marker": {
          "size": 2,
          "symbol": "circle"
         },
         "mode": "markers",
         "name": "D",
         "text": "",
         "type": "scatter",
         "x": [
          -0.8345574062307446,
          0.3869389335155712,
          0.07782933474576627,
          1.1899116450030662,
          2.4118231293099672,
          -0.7517168932626798,
          0.04236231146362457,
          0.07190511226430284,
          1.6380670778590334,
          2.0602606596455915,
          -2.163922132520172,
          -0.4433154616526229,
          -0.04538211676815623,
          -0.9165373914796289,
          0.22401956064621992,
          0.0003599773765519304,
          -1.563708728474769,
          -1.5376343933124736,
          -0.7870693396201344,
          0.33457351738130175,
          -1.7354039335286253,
          1.7113719623174346,
          -0.8120715211093109,
          0.3253747617458604,
          -0.31843112066991935,
          -1.7196215520469333,
          1.0739113471545714,
          -0.893491898851701,
          -1.6629737232258517,
          -1.0306910440740462,
          0.9726511881554111,
          0.5494664293783664,
          -0.7708942552672302,
          0.192978809265206,
          -0.7348978845939232,
          -1.3345561541206306,
          0.5165025336657605,
          0.31478413024677826,
          0.6355748238320479,
          0.8652446833342713,
          -2.6658532132036394,
          0.2961008150075696,
          -0.9156752032343806,
          -2.350156615366018,
          0.459285791821168,
          -0.30922541782709606,
          -0.1428120757566868,
          -1.2332716277002955,
          -1.3161739795186747,
          1.2495199734510636,
          0.12846392054830044,
          -0.2417375476858517,
          -1.30909234945247,
          -1.2082763653082,
          1.1683596205889433,
          1.910262362641669,
          -0.3319716068998639,
          0.6369101856685699,
          1.2305627181044516,
          0.009236607765067436,
          -1.1610611529835455,
          -0.5951460041814716,
          -0.3859309436973199,
          1.2772343202778578,
          0.45105331684170763,
          0.8913310278045682,
          2.2461724357778765,
          0.8671611404274941,
          -0.9084679347963178,
          -0.42009634182682365,
          -0.18027132005244065,
          0.6850421902521037,
          -1.1601568758024055,
          -0.8886966875641397,
          -0.1593881395933613,
          0.6257031728894613,
          -0.39633640033302586,
          -0.2575710590884075,
          -0.24936745256303702,
          -1.5120328205355116,
          1.1544613291944308,
          0.01973290602766408,
          -0.38296802691344484,
          -0.4313977587137235,
          1.8662596009811432,
          0.04260450444009576,
          -1.4220661594762694,
          -1.685356777380281,
          -1.1270456077765143,
          -0.38721209138365925,
          0.259167116705802,
          -0.22316627067425593,
          1.635084328005414,
          -2.9583463144626703,
          -0.08181424856774482,
          -0.13510674116356763,
          0.47366256715334687,
          1.1763788631291294,
          -1.8896419059732144,
          0.007836036763666107
         ],
         "xaxis": "x14",
         "y": [
          -1.780823585893734,
          0.4602590665960138,
          -0.77095243558765,
          -0.12133778922148662,
          0.5902120373652472,
          -0.06893916024692084,
          0.8022773173288474,
          0.8567752152124382,
          -0.9634836880251109,
          -1.0990253199089686,
          0.3010123021386761,
          0.043982641960648355,
          -1.2917884399797137,
          -0.410665850962858,
          0.0946327403643174,
          -0.6482741891994594,
          0.19693767482224722,
          0.6727106219128671,
          0.7814650694890092,
          0.8809369869589234,
          0.5782063413384737,
          -1.1185788706639035,
          1.1550425047984576,
          0.3813117052456318,
          0.5391018445096615,
          0.5217574869263621,
          0.9712112555342638,
          1.4071875147931563,
          0.02836636694116585,
          0.051999588742775285,
          -0.7052848255502274,
          0.19733377644932545,
          0.16441137193235716,
          -0.29381742499736274,
          -0.8268556215966905,
          0.7710939137149534,
          -2.258699431529325,
          -0.362294605271354,
          1.7602514238640574,
          0.7653869242534327,
          -0.4602441867070608,
          0.7555683442100604,
          -0.4561133529338688,
          0.591662526569171,
          0.5308178302398793,
          0.6187338202390603,
          -0.2040626925383586,
          -0.4089840413211076,
          1.0831728485896257,
          1.5064092259126123,
          0.9641259886821941,
          1.2066283492306435,
          -0.16401071310732646,
          -0.9463803276410513,
          0.32013971318654694,
          1.2415326199787506,
          1.468983238419462,
          1.8600040959785045,
          0.7899542506236222,
          -0.5621331574428683,
          0.2544760248206638,
          0.553016773474252,
          -0.8421887668967111,
          -1.4892089647285351,
          -1.0461533048831086,
          -0.3428360821472914,
          1.0385436120242335,
          0.7656414008311992,
          0.7006530694208158,
          -1.3051778143441768,
          0.4652099162555333,
          -1.0345875195220526,
          0.761275797132033,
          -0.9734716524681017,
          -1.326237858417124,
          -0.8177095520548644,
          -1.1900159679196343,
          0.12062767232963065,
          0.43761474959033686,
          0.7057035106724329,
          -1.1638197213072254,
          -0.06146991414586665,
          -0.17954182149817657,
          0.04035176209259629,
          -1.4250431449648164,
          -0.7369965848641916,
          0.048018797888884246,
          -2.047899071207024,
          1.3436966143343252,
          -1.7320219009712923,
          -0.40452740082826294,
          1.3937288534544126,
          1.2286193347039958,
          0.4371853919515951,
          1.2635854050534387,
          -0.7805805442269789,
          -0.9153993534558481,
          -0.0887845209495477,
          0.039705362735055726,
          -0.8163686286010027
         ],
         "yaxis": "y14"
        },
        {
         "line": {
          "color": "rgba(128, 128, 128, 1.0)",
          "dash": "solid",
          "shape": "linear",
          "width": 1.3
         },
         "marker": {
          "size": 2,
          "symbol": "circle"
         },
         "mode": "markers",
         "name": "D",
         "text": "",
         "type": "scatter",
         "x": [
          0.7377730997892236,
          -1.1030389755810621,
          1.4751934706448089,
          0.7163275619637027,
          -0.18793525120198784,
          -1.4997967427083236,
          0.643213345466464,
          0.4590111364898649,
          -0.3876229520803771,
          -2.008667912157602,
          2.4928627609459486,
          -1.4915146072251595,
          -1.1028249832333714,
          -1.2547247840156839,
          -1.6785726427538314,
          0.03217466686038357,
          0.05036130726282296,
          0.2596466248117348,
          -1.814687929743969,
          0.5153464780970352,
          -2.1666080715199993,
          1.630244539502402,
          -0.1612007848411608,
          -0.11392318675798929,
          0.34446317037597357,
          -1.063371139362935,
          0.31784010331748386,
          0.11860842949055822,
          1.3990597162703728,
          -0.25048174514563804,
          0.07513845049261468,
          1.5219563568056442,
          -2.2030050233156366,
          -0.9911515249358269,
          -0.17553956076957108,
          -0.04382189649560705,
          -1.2098215569998902,
          -1.341748163306357,
          -0.2595630627563207,
          -0.3503010741389833,
          0.407951880298061,
          0.3390248071247096,
          -0.6261417668668742,
          1.6209870553879406,
          -0.17161704150407456,
          0.008862371510253677,
          0.24925974657341216,
          0.6080072287109711,
          0.5810554218657719,
          -1.7991335230987364,
          -0.3287127561472726,
          -0.20414439596547482,
          0.7305614525329794,
          1.272257988636262,
          0.8633204035946619,
          -1.2099485393543716,
          -0.5970212029687801,
          0.4017280631868525,
          0.08571053438085445,
          0.07089128319306941,
          -1.3627492377874084,
          -0.8911780630223399,
          0.6025850094962208,
          0.08348750474826173,
          -0.2513264135468494,
          0.99682265966032,
          -0.09930818865435492,
          -0.27703039314660394,
          -0.2168179142136428,
          -0.6889586903897957,
          0.5263546730665744,
          -2.2600965640460946,
          1.470983069768726,
          0.8482779806112714,
          3.2619614212857986,
          -1.6077629407846308,
          -0.3649678611594507,
          2.4142432860941048,
          1.0489469514815788,
          0.45525480188951034,
          -1.9538860414383217,
          1.906228745837376,
          -0.8354406474978622,
          -0.22095779069381277,
          -0.03591642328322162,
          -1.2787264886778482,
          -0.3083233741363021,
          0.1406733845624421,
          -0.625636475384371,
          0.9276252520133468,
          0.47980324803296176,
          -0.28072587382542963,
          1.0652684103421062,
          0.11599013791717781,
          1.0798778479236106,
          0.40815372563331564,
          0.3557210647833699,
          -0.6956036311657349,
          0.6181513355759167,
          -0.09854092176707027
         ],
         "xaxis": "x15",
         "y": [
          -1.780823585893734,
          0.4602590665960138,
          -0.77095243558765,
          -0.12133778922148662,
          0.5902120373652472,
          -0.06893916024692084,
          0.8022773173288474,
          0.8567752152124382,
          -0.9634836880251109,
          -1.0990253199089686,
          0.3010123021386761,
          0.043982641960648355,
          -1.2917884399797137,
          -0.410665850962858,
          0.0946327403643174,
          -0.6482741891994594,
          0.19693767482224722,
          0.6727106219128671,
          0.7814650694890092,
          0.8809369869589234,
          0.5782063413384737,
          -1.1185788706639035,
          1.1550425047984576,
          0.3813117052456318,
          0.5391018445096615,
          0.5217574869263621,
          0.9712112555342638,
          1.4071875147931563,
          0.02836636694116585,
          0.051999588742775285,
          -0.7052848255502274,
          0.19733377644932545,
          0.16441137193235716,
          -0.29381742499736274,
          -0.8268556215966905,
          0.7710939137149534,
          -2.258699431529325,
          -0.362294605271354,
          1.7602514238640574,
          0.7653869242534327,
          -0.4602441867070608,
          0.7555683442100604,
          -0.4561133529338688,
          0.591662526569171,
          0.5308178302398793,
          0.6187338202390603,
          -0.2040626925383586,
          -0.4089840413211076,
          1.0831728485896257,
          1.5064092259126123,
          0.9641259886821941,
          1.2066283492306435,
          -0.16401071310732646,
          -0.9463803276410513,
          0.32013971318654694,
          1.2415326199787506,
          1.468983238419462,
          1.8600040959785045,
          0.7899542506236222,
          -0.5621331574428683,
          0.2544760248206638,
          0.553016773474252,
          -0.8421887668967111,
          -1.4892089647285351,
          -1.0461533048831086,
          -0.3428360821472914,
          1.0385436120242335,
          0.7656414008311992,
          0.7006530694208158,
          -1.3051778143441768,
          0.4652099162555333,
          -1.0345875195220526,
          0.761275797132033,
          -0.9734716524681017,
          -1.326237858417124,
          -0.8177095520548644,
          -1.1900159679196343,
          0.12062767232963065,
          0.43761474959033686,
          0.7057035106724329,
          -1.1638197213072254,
          -0.06146991414586665,
          -0.17954182149817657,
          0.04035176209259629,
          -1.4250431449648164,
          -0.7369965848641916,
          0.048018797888884246,
          -2.047899071207024,
          1.3436966143343252,
          -1.7320219009712923,
          -0.40452740082826294,
          1.3937288534544126,
          1.2286193347039958,
          0.4371853919515951,
          1.2635854050534387,
          -0.7805805442269789,
          -0.9153993534558481,
          -0.0887845209495477,
          0.039705362735055726,
          -0.8163686286010027
         ],
         "yaxis": "y15"
        },
        {
         "histfunc": "count",
         "histnorm": "",
         "marker": {
          "color": "rgba(128, 0, 128, 1.0)",
          "line": {
           "color": "#4D5663",
           "width": 1.3
          }
         },
         "name": "D",
         "nbinsx": 10,
         "opacity": 0.8,
         "orientation": "v",
         "type": "histogram",
         "x": [
          -1.780823585893734,
          0.4602590665960138,
          -0.77095243558765,
          -0.12133778922148662,
          0.5902120373652472,
          -0.06893916024692084,
          0.8022773173288474,
          0.8567752152124382,
          -0.9634836880251109,
          -1.0990253199089686,
          0.3010123021386761,
          0.043982641960648355,
          -1.2917884399797137,
          -0.410665850962858,
          0.0946327403643174,
          -0.6482741891994594,
          0.19693767482224722,
          0.6727106219128671,
          0.7814650694890092,
          0.8809369869589234,
          0.5782063413384737,
          -1.1185788706639035,
          1.1550425047984576,
          0.3813117052456318,
          0.5391018445096615,
          0.5217574869263621,
          0.9712112555342638,
          1.4071875147931563,
          0.02836636694116585,
          0.051999588742775285,
          -0.7052848255502274,
          0.19733377644932545,
          0.16441137193235716,
          -0.29381742499736274,
          -0.8268556215966905,
          0.7710939137149534,
          -2.258699431529325,
          -0.362294605271354,
          1.7602514238640574,
          0.7653869242534327,
          -0.4602441867070608,
          0.7555683442100604,
          -0.4561133529338688,
          0.591662526569171,
          0.5308178302398793,
          0.6187338202390603,
          -0.2040626925383586,
          -0.4089840413211076,
          1.0831728485896257,
          1.5064092259126123,
          0.9641259886821941,
          1.2066283492306435,
          -0.16401071310732646,
          -0.9463803276410513,
          0.32013971318654694,
          1.2415326199787506,
          1.468983238419462,
          1.8600040959785045,
          0.7899542506236222,
          -0.5621331574428683,
          0.2544760248206638,
          0.553016773474252,
          -0.8421887668967111,
          -1.4892089647285351,
          -1.0461533048831086,
          -0.3428360821472914,
          1.0385436120242335,
          0.7656414008311992,
          0.7006530694208158,
          -1.3051778143441768,
          0.4652099162555333,
          -1.0345875195220526,
          0.761275797132033,
          -0.9734716524681017,
          -1.326237858417124,
          -0.8177095520548644,
          -1.1900159679196343,
          0.12062767232963065,
          0.43761474959033686,
          0.7057035106724329,
          -1.1638197213072254,
          -0.06146991414586665,
          -0.17954182149817657,
          0.04035176209259629,
          -1.4250431449648164,
          -0.7369965848641916,
          0.048018797888884246,
          -2.047899071207024,
          1.3436966143343252,
          -1.7320219009712923,
          -0.40452740082826294,
          1.3937288534544126,
          1.2286193347039958,
          0.4371853919515951,
          1.2635854050534387,
          -0.7805805442269789,
          -0.9153993534558481,
          -0.0887845209495477,
          0.039705362735055726,
          -0.8163686286010027
         ],
         "xaxis": "x16",
         "yaxis": "y16"
        }
       ],
       "layout": {
        "bargap": 0.02,
        "legend": {
         "bgcolor": "#F5F6F9",
         "font": {
          "color": "#4D5663"
         }
        },
        "paper_bgcolor": "#F5F6F9",
        "plot_bgcolor": "#F5F6F9",
        "showlegend": false,
        "template": {
         "data": {
          "bar": [
           {
            "error_x": {
             "color": "#2a3f5f"
            },
            "error_y": {
             "color": "#2a3f5f"
            },
            "marker": {
             "line": {
              "color": "#E5ECF6",
              "width": 0.5
             }
            },
            "type": "bar"
           }
          ],
          "barpolar": [
           {
            "marker": {
             "line": {
              "color": "#E5ECF6",
              "width": 0.5
             }
            },
            "type": "barpolar"
           }
          ],
          "carpet": [
           {
            "aaxis": {
             "endlinecolor": "#2a3f5f",
             "gridcolor": "white",
             "linecolor": "white",
             "minorgridcolor": "white",
             "startlinecolor": "#2a3f5f"
            },
            "baxis": {
             "endlinecolor": "#2a3f5f",
             "gridcolor": "white",
             "linecolor": "white",
             "minorgridcolor": "white",
             "startlinecolor": "#2a3f5f"
            },
            "type": "carpet"
           }
          ],
          "choropleth": [
           {
            "colorbar": {
             "outlinewidth": 0,
             "ticks": ""
            },
            "type": "choropleth"
           }
          ],
          "contour": [
           {
            "colorbar": {
             "outlinewidth": 0,
             "ticks": ""
            },
            "colorscale": [
             [
              0,
              "#0d0887"
             ],
             [
              0.1111111111111111,
              "#46039f"
             ],
             [
              0.2222222222222222,
              "#7201a8"
             ],
             [
              0.3333333333333333,
              "#9c179e"
             ],
             [
              0.4444444444444444,
              "#bd3786"
             ],
             [
              0.5555555555555556,
              "#d8576b"
             ],
             [
              0.6666666666666666,
              "#ed7953"
             ],
             [
              0.7777777777777778,
              "#fb9f3a"
             ],
             [
              0.8888888888888888,
              "#fdca26"
             ],
             [
              1,
              "#f0f921"
             ]
            ],
            "type": "contour"
           }
          ],
          "contourcarpet": [
           {
            "colorbar": {
             "outlinewidth": 0,
             "ticks": ""
            },
            "type": "contourcarpet"
           }
          ],
          "heatmap": [
           {
            "colorbar": {
             "outlinewidth": 0,
             "ticks": ""
            },
            "colorscale": [
             [
              0,
              "#0d0887"
             ],
             [
              0.1111111111111111,
              "#46039f"
             ],
             [
              0.2222222222222222,
              "#7201a8"
             ],
             [
              0.3333333333333333,
              "#9c179e"
             ],
             [
              0.4444444444444444,
              "#bd3786"
             ],
             [
              0.5555555555555556,
              "#d8576b"
             ],
             [
              0.6666666666666666,
              "#ed7953"
             ],
             [
              0.7777777777777778,
              "#fb9f3a"
             ],
             [
              0.8888888888888888,
              "#fdca26"
             ],
             [
              1,
              "#f0f921"
             ]
            ],
            "type": "heatmap"
           }
          ],
          "heatmapgl": [
           {
            "colorbar": {
             "outlinewidth": 0,
             "ticks": ""
            },
            "colorscale": [
             [
              0,
              "#0d0887"
             ],
             [
              0.1111111111111111,
              "#46039f"
             ],
             [
              0.2222222222222222,
              "#7201a8"
             ],
             [
              0.3333333333333333,
              "#9c179e"
             ],
             [
              0.4444444444444444,
              "#bd3786"
             ],
             [
              0.5555555555555556,
              "#d8576b"
             ],
             [
              0.6666666666666666,
              "#ed7953"
             ],
             [
              0.7777777777777778,
              "#fb9f3a"
             ],
             [
              0.8888888888888888,
              "#fdca26"
             ],
             [
              1,
              "#f0f921"
             ]
            ],
            "type": "heatmapgl"
           }
          ],
          "histogram": [
           {
            "marker": {
             "colorbar": {
              "outlinewidth": 0,
              "ticks": ""
             }
            },
            "type": "histogram"
           }
          ],
          "histogram2d": [
           {
            "colorbar": {
             "outlinewidth": 0,
             "ticks": ""
            },
            "colorscale": [
             [
              0,
              "#0d0887"
             ],
             [
              0.1111111111111111,
              "#46039f"
             ],
             [
              0.2222222222222222,
              "#7201a8"
             ],
             [
              0.3333333333333333,
              "#9c179e"
             ],
             [
              0.4444444444444444,
              "#bd3786"
             ],
             [
              0.5555555555555556,
              "#d8576b"
             ],
             [
              0.6666666666666666,
              "#ed7953"
             ],
             [
              0.7777777777777778,
              "#fb9f3a"
             ],
             [
              0.8888888888888888,
              "#fdca26"
             ],
             [
              1,
              "#f0f921"
             ]
            ],
            "type": "histogram2d"
           }
          ],
          "histogram2dcontour": [
           {
            "colorbar": {
             "outlinewidth": 0,
             "ticks": ""
            },
            "colorscale": [
             [
              0,
              "#0d0887"
             ],
             [
              0.1111111111111111,
              "#46039f"
             ],
             [
              0.2222222222222222,
              "#7201a8"
             ],
             [
              0.3333333333333333,
              "#9c179e"
             ],
             [
              0.4444444444444444,
              "#bd3786"
             ],
             [
              0.5555555555555556,
              "#d8576b"
             ],
             [
              0.6666666666666666,
              "#ed7953"
             ],
             [
              0.7777777777777778,
              "#fb9f3a"
             ],
             [
              0.8888888888888888,
              "#fdca26"
             ],
             [
              1,
              "#f0f921"
             ]
            ],
            "type": "histogram2dcontour"
           }
          ],
          "mesh3d": [
           {
            "colorbar": {
             "outlinewidth": 0,
             "ticks": ""
            },
            "type": "mesh3d"
           }
          ],
          "parcoords": [
           {
            "line": {
             "colorbar": {
              "outlinewidth": 0,
              "ticks": ""
             }
            },
            "type": "parcoords"
           }
          ],
          "pie": [
           {
            "automargin": true,
            "type": "pie"
           }
          ],
          "scatter": [
           {
            "marker": {
             "colorbar": {
              "outlinewidth": 0,
              "ticks": ""
             }
            },
            "type": "scatter"
           }
          ],
          "scatter3d": [
           {
            "line": {
             "colorbar": {
              "outlinewidth": 0,
              "ticks": ""
             }
            },
            "marker": {
             "colorbar": {
              "outlinewidth": 0,
              "ticks": ""
             }
            },
            "type": "scatter3d"
           }
          ],
          "scattercarpet": [
           {
            "marker": {
             "colorbar": {
              "outlinewidth": 0,
              "ticks": ""
             }
            },
            "type": "scattercarpet"
           }
          ],
          "scattergeo": [
           {
            "marker": {
             "colorbar": {
              "outlinewidth": 0,
              "ticks": ""
             }
            },
            "type": "scattergeo"
           }
          ],
          "scattergl": [
           {
            "marker": {
             "colorbar": {
              "outlinewidth": 0,
              "ticks": ""
             }
            },
            "type": "scattergl"
           }
          ],
          "scattermapbox": [
           {
            "marker": {
             "colorbar": {
              "outlinewidth": 0,
              "ticks": ""
             }
            },
            "type": "scattermapbox"
           }
          ],
          "scatterpolar": [
           {
            "marker": {
             "colorbar": {
              "outlinewidth": 0,
              "ticks": ""
             }
            },
            "type": "scatterpolar"
           }
          ],
          "scatterpolargl": [
           {
            "marker": {
             "colorbar": {
              "outlinewidth": 0,
              "ticks": ""
             }
            },
            "type": "scatterpolargl"
           }
          ],
          "scatterternary": [
           {
            "marker": {
             "colorbar": {
              "outlinewidth": 0,
              "ticks": ""
             }
            },
            "type": "scatterternary"
           }
          ],
          "surface": [
           {
            "colorbar": {
             "outlinewidth": 0,
             "ticks": ""
            },
            "colorscale": [
             [
              0,
              "#0d0887"
             ],
             [
              0.1111111111111111,
              "#46039f"
             ],
             [
              0.2222222222222222,
              "#7201a8"
             ],
             [
              0.3333333333333333,
              "#9c179e"
             ],
             [
              0.4444444444444444,
              "#bd3786"
             ],
             [
              0.5555555555555556,
              "#d8576b"
             ],
             [
              0.6666666666666666,
              "#ed7953"
             ],
             [
              0.7777777777777778,
              "#fb9f3a"
             ],
             [
              0.8888888888888888,
              "#fdca26"
             ],
             [
              1,
              "#f0f921"
             ]
            ],
            "type": "surface"
           }
          ],
          "table": [
           {
            "cells": {
             "fill": {
              "color": "#EBF0F8"
             },
             "line": {
              "color": "white"
             }
            },
            "header": {
             "fill": {
              "color": "#C8D4E3"
             },
             "line": {
              "color": "white"
             }
            },
            "type": "table"
           }
          ]
         },
         "layout": {
          "annotationdefaults": {
           "arrowcolor": "#2a3f5f",
           "arrowhead": 0,
           "arrowwidth": 1
          },
          "coloraxis": {
           "colorbar": {
            "outlinewidth": 0,
            "ticks": ""
           }
          },
          "colorscale": {
           "diverging": [
            [
             0,
             "#8e0152"
            ],
            [
             0.1,
             "#c51b7d"
            ],
            [
             0.2,
             "#de77ae"
            ],
            [
             0.3,
             "#f1b6da"
            ],
            [
             0.4,
             "#fde0ef"
            ],
            [
             0.5,
             "#f7f7f7"
            ],
            [
             0.6,
             "#e6f5d0"
            ],
            [
             0.7,
             "#b8e186"
            ],
            [
             0.8,
             "#7fbc41"
            ],
            [
             0.9,
             "#4d9221"
            ],
            [
             1,
             "#276419"
            ]
           ],
           "sequential": [
            [
             0,
             "#0d0887"
            ],
            [
             0.1111111111111111,
             "#46039f"
            ],
            [
             0.2222222222222222,
             "#7201a8"
            ],
            [
             0.3333333333333333,
             "#9c179e"
            ],
            [
             0.4444444444444444,
             "#bd3786"
            ],
            [
             0.5555555555555556,
             "#d8576b"
            ],
            [
             0.6666666666666666,
             "#ed7953"
            ],
            [
             0.7777777777777778,
             "#fb9f3a"
            ],
            [
             0.8888888888888888,
             "#fdca26"
            ],
            [
             1,
             "#f0f921"
            ]
           ],
           "sequentialminus": [
            [
             0,
             "#0d0887"
            ],
            [
             0.1111111111111111,
             "#46039f"
            ],
            [
             0.2222222222222222,
             "#7201a8"
            ],
            [
             0.3333333333333333,
             "#9c179e"
            ],
            [
             0.4444444444444444,
             "#bd3786"
            ],
            [
             0.5555555555555556,
             "#d8576b"
            ],
            [
             0.6666666666666666,
             "#ed7953"
            ],
            [
             0.7777777777777778,
             "#fb9f3a"
            ],
            [
             0.8888888888888888,
             "#fdca26"
            ],
            [
             1,
             "#f0f921"
            ]
           ]
          },
          "colorway": [
           "#636efa",
           "#EF553B",
           "#00cc96",
           "#ab63fa",
           "#FFA15A",
           "#19d3f3",
           "#FF6692",
           "#B6E880",
           "#FF97FF",
           "#FECB52"
          ],
          "font": {
           "color": "#2a3f5f"
          },
          "geo": {
           "bgcolor": "white",
           "lakecolor": "white",
           "landcolor": "#E5ECF6",
           "showlakes": true,
           "showland": true,
           "subunitcolor": "white"
          },
          "hoverlabel": {
           "align": "left"
          },
          "hovermode": "closest",
          "mapbox": {
           "style": "light"
          },
          "paper_bgcolor": "white",
          "plot_bgcolor": "#E5ECF6",
          "polar": {
           "angularaxis": {
            "gridcolor": "white",
            "linecolor": "white",
            "ticks": ""
           },
           "bgcolor": "#E5ECF6",
           "radialaxis": {
            "gridcolor": "white",
            "linecolor": "white",
            "ticks": ""
           }
          },
          "scene": {
           "xaxis": {
            "backgroundcolor": "#E5ECF6",
            "gridcolor": "white",
            "gridwidth": 2,
            "linecolor": "white",
            "showbackground": true,
            "ticks": "",
            "zerolinecolor": "white"
           },
           "yaxis": {
            "backgroundcolor": "#E5ECF6",
            "gridcolor": "white",
            "gridwidth": 2,
            "linecolor": "white",
            "showbackground": true,
            "ticks": "",
            "zerolinecolor": "white"
           },
           "zaxis": {
            "backgroundcolor": "#E5ECF6",
            "gridcolor": "white",
            "gridwidth": 2,
            "linecolor": "white",
            "showbackground": true,
            "ticks": "",
            "zerolinecolor": "white"
           }
          },
          "shapedefaults": {
           "line": {
            "color": "#2a3f5f"
           }
          },
          "ternary": {
           "aaxis": {
            "gridcolor": "white",
            "linecolor": "white",
            "ticks": ""
           },
           "baxis": {
            "gridcolor": "white",
            "linecolor": "white",
            "ticks": ""
           },
           "bgcolor": "#E5ECF6",
           "caxis": {
            "gridcolor": "white",
            "linecolor": "white",
            "ticks": ""
           }
          },
          "title": {
           "x": 0.05
          },
          "xaxis": {
           "automargin": true,
           "gridcolor": "white",
           "linecolor": "white",
           "ticks": "",
           "title": {
            "standoff": 15
           },
           "zerolinecolor": "white",
           "zerolinewidth": 2
          },
          "yaxis": {
           "automargin": true,
           "gridcolor": "white",
           "linecolor": "white",
           "ticks": "",
           "title": {
            "standoff": 15
           },
           "zerolinecolor": "white",
           "zerolinewidth": 2
          }
         }
        },
        "title": {
         "font": {
          "color": "#4D5663"
         }
        },
        "xaxis": {
         "anchor": "y",
         "domain": [
          0,
          0.2125
         ],
         "gridcolor": "#E1E5ED",
         "showgrid": false,
         "tickfont": {
          "color": "#4D5663"
         },
         "title": {
          "font": {
           "color": "#4D5663"
          },
          "text": ""
         },
         "zerolinecolor": "#E1E5ED"
        },
        "xaxis10": {
         "anchor": "y10",
         "domain": [
          0.2625,
          0.475
         ],
         "gridcolor": "#E1E5ED",
         "showgrid": false,
         "tickfont": {
          "color": "#4D5663"
         },
         "title": {
          "font": {
           "color": "#4D5663"
          },
          "text": ""
         },
         "zerolinecolor": "#E1E5ED"
        },
        "xaxis11": {
         "anchor": "y11",
         "domain": [
          0.525,
          0.7375
         ],
         "gridcolor": "#E1E5ED",
         "showgrid": false,
         "tickfont": {
          "color": "#4D5663"
         },
         "title": {
          "font": {
           "color": "#4D5663"
          },
          "text": ""
         },
         "zerolinecolor": "#E1E5ED"
        },
        "xaxis12": {
         "anchor": "y12",
         "domain": [
          0.7875,
          1
         ],
         "gridcolor": "#E1E5ED",
         "showgrid": false,
         "tickfont": {
          "color": "#4D5663"
         },
         "title": {
          "font": {
           "color": "#4D5663"
          },
          "text": ""
         },
         "zerolinecolor": "#E1E5ED"
        },
        "xaxis13": {
         "anchor": "y13",
         "domain": [
          0,
          0.2125
         ],
         "gridcolor": "#E1E5ED",
         "showgrid": false,
         "tickfont": {
          "color": "#4D5663"
         },
         "title": {
          "font": {
           "color": "#4D5663"
          },
          "text": ""
         },
         "zerolinecolor": "#E1E5ED"
        },
        "xaxis14": {
         "anchor": "y14",
         "domain": [
          0.2625,
          0.475
         ],
         "gridcolor": "#E1E5ED",
         "showgrid": false,
         "tickfont": {
          "color": "#4D5663"
         },
         "title": {
          "font": {
           "color": "#4D5663"
          },
          "text": ""
         },
         "zerolinecolor": "#E1E5ED"
        },
        "xaxis15": {
         "anchor": "y15",
         "domain": [
          0.525,
          0.7375
         ],
         "gridcolor": "#E1E5ED",
         "showgrid": false,
         "tickfont": {
          "color": "#4D5663"
         },
         "title": {
          "font": {
           "color": "#4D5663"
          },
          "text": ""
         },
         "zerolinecolor": "#E1E5ED"
        },
        "xaxis16": {
         "anchor": "y16",
         "domain": [
          0.7875,
          1
         ],
         "gridcolor": "#E1E5ED",
         "showgrid": false,
         "tickfont": {
          "color": "#4D5663"
         },
         "title": {
          "font": {
           "color": "#4D5663"
          },
          "text": ""
         },
         "zerolinecolor": "#E1E5ED"
        },
        "xaxis2": {
         "anchor": "y2",
         "domain": [
          0.2625,
          0.475
         ],
         "gridcolor": "#E1E5ED",
         "showgrid": false,
         "tickfont": {
          "color": "#4D5663"
         },
         "title": {
          "font": {
           "color": "#4D5663"
          },
          "text": ""
         },
         "zerolinecolor": "#E1E5ED"
        },
        "xaxis3": {
         "anchor": "y3",
         "domain": [
          0.525,
          0.7375
         ],
         "gridcolor": "#E1E5ED",
         "showgrid": false,
         "tickfont": {
          "color": "#4D5663"
         },
         "title": {
          "font": {
           "color": "#4D5663"
          },
          "text": ""
         },
         "zerolinecolor": "#E1E5ED"
        },
        "xaxis4": {
         "anchor": "y4",
         "domain": [
          0.7875,
          1
         ],
         "gridcolor": "#E1E5ED",
         "showgrid": false,
         "tickfont": {
          "color": "#4D5663"
         },
         "title": {
          "font": {
           "color": "#4D5663"
          },
          "text": ""
         },
         "zerolinecolor": "#E1E5ED"
        },
        "xaxis5": {
         "anchor": "y5",
         "domain": [
          0,
          0.2125
         ],
         "gridcolor": "#E1E5ED",
         "showgrid": false,
         "tickfont": {
          "color": "#4D5663"
         },
         "title": {
          "font": {
           "color": "#4D5663"
          },
          "text": ""
         },
         "zerolinecolor": "#E1E5ED"
        },
        "xaxis6": {
         "anchor": "y6",
         "domain": [
          0.2625,
          0.475
         ],
         "gridcolor": "#E1E5ED",
         "showgrid": false,
         "tickfont": {
          "color": "#4D5663"
         },
         "title": {
          "font": {
           "color": "#4D5663"
          },
          "text": ""
         },
         "zerolinecolor": "#E1E5ED"
        },
        "xaxis7": {
         "anchor": "y7",
         "domain": [
          0.525,
          0.7375
         ],
         "gridcolor": "#E1E5ED",
         "showgrid": false,
         "tickfont": {
          "color": "#4D5663"
         },
         "title": {
          "font": {
           "color": "#4D5663"
          },
          "text": ""
         },
         "zerolinecolor": "#E1E5ED"
        },
        "xaxis8": {
         "anchor": "y8",
         "domain": [
          0.7875,
          1
         ],
         "gridcolor": "#E1E5ED",
         "showgrid": false,
         "tickfont": {
          "color": "#4D5663"
         },
         "title": {
          "font": {
           "color": "#4D5663"
          },
          "text": ""
         },
         "zerolinecolor": "#E1E5ED"
        },
        "xaxis9": {
         "anchor": "y9",
         "domain": [
          0,
          0.2125
         ],
         "gridcolor": "#E1E5ED",
         "showgrid": false,
         "tickfont": {
          "color": "#4D5663"
         },
         "title": {
          "font": {
           "color": "#4D5663"
          },
          "text": ""
         },
         "zerolinecolor": "#E1E5ED"
        },
        "yaxis": {
         "anchor": "x",
         "domain": [
          0.8025,
          1
         ],
         "gridcolor": "#E1E5ED",
         "showgrid": false,
         "tickfont": {
          "color": "#4D5663"
         },
         "title": {
          "font": {
           "color": "#4D5663"
          },
          "text": ""
         },
         "zerolinecolor": "#E1E5ED"
        },
        "yaxis10": {
         "anchor": "x10",
         "domain": [
          0.2675,
          0.465
         ],
         "gridcolor": "#E1E5ED",
         "showgrid": false,
         "tickfont": {
          "color": "#4D5663"
         },
         "title": {
          "font": {
           "color": "#4D5663"
          },
          "text": ""
         },
         "zerolinecolor": "#E1E5ED"
        },
        "yaxis11": {
         "anchor": "x11",
         "domain": [
          0.2675,
          0.465
         ],
         "gridcolor": "#E1E5ED",
         "showgrid": false,
         "tickfont": {
          "color": "#4D5663"
         },
         "title": {
          "font": {
           "color": "#4D5663"
          },
          "text": ""
         },
         "zerolinecolor": "#E1E5ED"
        },
        "yaxis12": {
         "anchor": "x12",
         "domain": [
          0.2675,
          0.465
         ],
         "gridcolor": "#E1E5ED",
         "showgrid": false,
         "tickfont": {
          "color": "#4D5663"
         },
         "title": {
          "font": {
           "color": "#4D5663"
          },
          "text": ""
         },
         "zerolinecolor": "#E1E5ED"
        },
        "yaxis13": {
         "anchor": "x13",
         "domain": [
          0,
          0.1975
         ],
         "gridcolor": "#E1E5ED",
         "showgrid": false,
         "tickfont": {
          "color": "#4D5663"
         },
         "title": {
          "font": {
           "color": "#4D5663"
          },
          "text": ""
         },
         "zerolinecolor": "#E1E5ED"
        },
        "yaxis14": {
         "anchor": "x14",
         "domain": [
          0,
          0.1975
         ],
         "gridcolor": "#E1E5ED",
         "showgrid": false,
         "tickfont": {
          "color": "#4D5663"
         },
         "title": {
          "font": {
           "color": "#4D5663"
          },
          "text": ""
         },
         "zerolinecolor": "#E1E5ED"
        },
        "yaxis15": {
         "anchor": "x15",
         "domain": [
          0,
          0.1975
         ],
         "gridcolor": "#E1E5ED",
         "showgrid": false,
         "tickfont": {
          "color": "#4D5663"
         },
         "title": {
          "font": {
           "color": "#4D5663"
          },
          "text": ""
         },
         "zerolinecolor": "#E1E5ED"
        },
        "yaxis16": {
         "anchor": "x16",
         "domain": [
          0,
          0.1975
         ],
         "gridcolor": "#E1E5ED",
         "showgrid": false,
         "tickfont": {
          "color": "#4D5663"
         },
         "title": {
          "font": {
           "color": "#4D5663"
          },
          "text": ""
         },
         "zerolinecolor": "#E1E5ED"
        },
        "yaxis2": {
         "anchor": "x2",
         "domain": [
          0.8025,
          1
         ],
         "gridcolor": "#E1E5ED",
         "showgrid": false,
         "tickfont": {
          "color": "#4D5663"
         },
         "title": {
          "font": {
           "color": "#4D5663"
          },
          "text": ""
         },
         "zerolinecolor": "#E1E5ED"
        },
        "yaxis3": {
         "anchor": "x3",
         "domain": [
          0.8025,
          1
         ],
         "gridcolor": "#E1E5ED",
         "showgrid": false,
         "tickfont": {
          "color": "#4D5663"
         },
         "title": {
          "font": {
           "color": "#4D5663"
          },
          "text": ""
         },
         "zerolinecolor": "#E1E5ED"
        },
        "yaxis4": {
         "anchor": "x4",
         "domain": [
          0.8025,
          1
         ],
         "gridcolor": "#E1E5ED",
         "showgrid": false,
         "tickfont": {
          "color": "#4D5663"
         },
         "title": {
          "font": {
           "color": "#4D5663"
          },
          "text": ""
         },
         "zerolinecolor": "#E1E5ED"
        },
        "yaxis5": {
         "anchor": "x5",
         "domain": [
          0.535,
          0.7325
         ],
         "gridcolor": "#E1E5ED",
         "showgrid": false,
         "tickfont": {
          "color": "#4D5663"
         },
         "title": {
          "font": {
           "color": "#4D5663"
          },
          "text": ""
         },
         "zerolinecolor": "#E1E5ED"
        },
        "yaxis6": {
         "anchor": "x6",
         "domain": [
          0.535,
          0.7325
         ],
         "gridcolor": "#E1E5ED",
         "showgrid": false,
         "tickfont": {
          "color": "#4D5663"
         },
         "title": {
          "font": {
           "color": "#4D5663"
          },
          "text": ""
         },
         "zerolinecolor": "#E1E5ED"
        },
        "yaxis7": {
         "anchor": "x7",
         "domain": [
          0.535,
          0.7325
         ],
         "gridcolor": "#E1E5ED",
         "showgrid": false,
         "tickfont": {
          "color": "#4D5663"
         },
         "title": {
          "font": {
           "color": "#4D5663"
          },
          "text": ""
         },
         "zerolinecolor": "#E1E5ED"
        },
        "yaxis8": {
         "anchor": "x8",
         "domain": [
          0.535,
          0.7325
         ],
         "gridcolor": "#E1E5ED",
         "showgrid": false,
         "tickfont": {
          "color": "#4D5663"
         },
         "title": {
          "font": {
           "color": "#4D5663"
          },
          "text": ""
         },
         "zerolinecolor": "#E1E5ED"
        },
        "yaxis9": {
         "anchor": "x9",
         "domain": [
          0.2675,
          0.465
         ],
         "gridcolor": "#E1E5ED",
         "showgrid": false,
         "tickfont": {
          "color": "#4D5663"
         },
         "title": {
          "font": {
           "color": "#4D5663"
          },
          "text": ""
         },
         "zerolinecolor": "#E1E5ED"
        }
       }
      },
      "text/html": [
       "<div>                            <div id=\"d582642e-1dee-4033-a673-cebacf946a1d\" class=\"plotly-graph-div\" style=\"height:525px; width:100%;\"></div>            <script type=\"text/javascript\">                require([\"plotly\"], function(Plotly) {                    window.PLOTLYENV=window.PLOTLYENV || {};\n",
       "                    window.PLOTLYENV.BASE_URL='https://plot.ly';                                    if (document.getElementById(\"d582642e-1dee-4033-a673-cebacf946a1d\")) {                    Plotly.newPlot(                        \"d582642e-1dee-4033-a673-cebacf946a1d\",                        [{\"histfunc\": \"count\", \"histnorm\": \"\", \"marker\": {\"color\": \"rgba(255, 153, 51, 1.0)\", \"line\": {\"color\": \"#4D5663\", \"width\": 1.3}}, \"name\": \"A\", \"nbinsx\": 10, \"opacity\": 0.8, \"orientation\": \"v\", \"type\": \"histogram\", \"x\": [-1.5165215335635371, 1.2385294899836377, 0.18675435261297058, -0.49404178733345255, 0.9638783524597756, -1.1032901032155455, 0.8489612205492174, 0.9903890863731017, -1.3703522449279018, -0.5776566150555577, -0.31321057904966493, -1.62657976260777, -1.006701588728278, 1.1360103276196873, 0.6096235839787069, -1.3807990089203603, -0.36237146775748713, -0.5950154460828271, 1.3888123369070282, -1.3629622910143322, -1.1038735970945992, 1.337348295283731, 1.1667957765059276, -1.2086935425656429, 0.24972766483940562, 0.29999954775204385, 1.0667440982430194, -0.1741452761097413, 0.29560646351069414, 1.2851980496441235, -1.5822045088416392, 0.2332157433742438, -0.8216180482229304, 0.36846289942020066, 1.6914889255493009, 0.05294197198387387, 1.6522250061531598, 0.3806122062538394, 0.2281787015714965, 0.13943357370996548, 0.7737513704163842, 1.2632113994240495, -2.0723185151193118, 0.3148357541550536, 0.9775459023887758, 0.4890519952231019, 0.019788575261866545, 0.5255271325555345, 1.6814084764377233, 0.5767167314074976, 0.20677363770809085, 0.1860110033699774, 0.21407497739434397, 0.7365607951031639, -0.7857728014462609, 0.009524836979279003, 0.38612916910565903, 0.1502359587507458, 0.9892286676253292, 0.39444327636869897, 1.120472350623712, 2.572635263308814, 0.16353567449977097, -0.3413603098431363, 0.11982063910290328, -1.3444523091154967, -1.0451078274259888, 0.7804874333757548, -0.10032354166879094, 1.7827722897587395, -1.0946905294595737, -0.2510276890016824, 0.9673217921938824, -1.0165640371463203, 0.0690990527382664, -0.8510879315244121, 0.43904889330463176, -1.337878368147962, 0.09750269879021287, 1.1447728728037032, -0.39997693269254425, 0.5229998031018618, -0.4292225098792032, 0.9378316216532356, -0.7677501218695141, 1.9137196189172991, 0.5216008014414507, -1.0851954812245894, 0.5878201563359909, 0.6262055363577997, 1.0657701838435691, -0.5129968730608664, 1.2712310563424316, 1.0526472276252596, 2.007007712904021, -1.2458742116352368, -0.3561372960571573, -0.09014992621817493, 0.7230413885756098, 1.4489088916499433], \"xaxis\": \"x\", \"yaxis\": \"y\"}, {\"line\": {\"color\": \"rgba(128, 128, 128, 1.0)\", \"dash\": \"solid\", \"shape\": \"linear\", \"width\": 1.3}, \"marker\": {\"size\": 2, \"symbol\": \"circle\"}, \"mode\": \"markers\", \"name\": \"A\", \"text\": \"\", \"type\": \"scatter\", \"x\": [-0.8345574062307446, 0.3869389335155712, 0.07782933474576627, 1.1899116450030662, 2.4118231293099672, -0.7517168932626798, 0.04236231146362457, 0.07190511226430284, 1.6380670778590334, 2.0602606596455915, -2.163922132520172, -0.4433154616526229, -0.04538211676815623, -0.9165373914796289, 0.22401956064621992, 0.0003599773765519304, -1.563708728474769, -1.5376343933124736, -0.7870693396201344, 0.33457351738130175, -1.7354039335286253, 1.7113719623174346, -0.8120715211093109, 0.3253747617458604, -0.31843112066991935, -1.7196215520469333, 1.0739113471545714, -0.893491898851701, -1.6629737232258517, -1.0306910440740462, 0.9726511881554111, 0.5494664293783664, -0.7708942552672302, 0.192978809265206, -0.7348978845939232, -1.3345561541206306, 0.5165025336657605, 0.31478413024677826, 0.6355748238320479, 0.8652446833342713, -2.6658532132036394, 0.2961008150075696, -0.9156752032343806, -2.350156615366018, 0.459285791821168, -0.30922541782709606, -0.1428120757566868, -1.2332716277002955, -1.3161739795186747, 1.2495199734510636, 0.12846392054830044, -0.2417375476858517, -1.30909234945247, -1.2082763653082, 1.1683596205889433, 1.910262362641669, -0.3319716068998639, 0.6369101856685699, 1.2305627181044516, 0.009236607765067436, -1.1610611529835455, -0.5951460041814716, -0.3859309436973199, 1.2772343202778578, 0.45105331684170763, 0.8913310278045682, 2.2461724357778765, 0.8671611404274941, -0.9084679347963178, -0.42009634182682365, -0.18027132005244065, 0.6850421902521037, -1.1601568758024055, -0.8886966875641397, -0.1593881395933613, 0.6257031728894613, -0.39633640033302586, -0.2575710590884075, -0.24936745256303702, -1.5120328205355116, 1.1544613291944308, 0.01973290602766408, -0.38296802691344484, -0.4313977587137235, 1.8662596009811432, 0.04260450444009576, -1.4220661594762694, -1.685356777380281, -1.1270456077765143, -0.38721209138365925, 0.259167116705802, -0.22316627067425593, 1.635084328005414, -2.9583463144626703, -0.08181424856774482, -0.13510674116356763, 0.47366256715334687, 1.1763788631291294, -1.8896419059732144, 0.007836036763666107], \"xaxis\": \"x2\", \"y\": [-1.5165215335635371, 1.2385294899836377, 0.18675435261297058, -0.49404178733345255, 0.9638783524597756, -1.1032901032155455, 0.8489612205492174, 0.9903890863731017, -1.3703522449279018, -0.5776566150555577, -0.31321057904966493, -1.62657976260777, -1.006701588728278, 1.1360103276196873, 0.6096235839787069, -1.3807990089203603, -0.36237146775748713, -0.5950154460828271, 1.3888123369070282, -1.3629622910143322, -1.1038735970945992, 1.337348295283731, 1.1667957765059276, -1.2086935425656429, 0.24972766483940562, 0.29999954775204385, 1.0667440982430194, -0.1741452761097413, 0.29560646351069414, 1.2851980496441235, -1.5822045088416392, 0.2332157433742438, -0.8216180482229304, 0.36846289942020066, 1.6914889255493009, 0.05294197198387387, 1.6522250061531598, 0.3806122062538394, 0.2281787015714965, 0.13943357370996548, 0.7737513704163842, 1.2632113994240495, -2.0723185151193118, 0.3148357541550536, 0.9775459023887758, 0.4890519952231019, 0.019788575261866545, 0.5255271325555345, 1.6814084764377233, 0.5767167314074976, 0.20677363770809085, 0.1860110033699774, 0.21407497739434397, 0.7365607951031639, -0.7857728014462609, 0.009524836979279003, 0.38612916910565903, 0.1502359587507458, 0.9892286676253292, 0.39444327636869897, 1.120472350623712, 2.572635263308814, 0.16353567449977097, -0.3413603098431363, 0.11982063910290328, -1.3444523091154967, -1.0451078274259888, 0.7804874333757548, -0.10032354166879094, 1.7827722897587395, -1.0946905294595737, -0.2510276890016824, 0.9673217921938824, -1.0165640371463203, 0.0690990527382664, -0.8510879315244121, 0.43904889330463176, -1.337878368147962, 0.09750269879021287, 1.1447728728037032, -0.39997693269254425, 0.5229998031018618, -0.4292225098792032, 0.9378316216532356, -0.7677501218695141, 1.9137196189172991, 0.5216008014414507, -1.0851954812245894, 0.5878201563359909, 0.6262055363577997, 1.0657701838435691, -0.5129968730608664, 1.2712310563424316, 1.0526472276252596, 2.007007712904021, -1.2458742116352368, -0.3561372960571573, -0.09014992621817493, 0.7230413885756098, 1.4489088916499433], \"yaxis\": \"y2\"}, {\"line\": {\"color\": \"rgba(128, 128, 128, 1.0)\", \"dash\": \"solid\", \"shape\": \"linear\", \"width\": 1.3}, \"marker\": {\"size\": 2, \"symbol\": \"circle\"}, \"mode\": \"markers\", \"name\": \"A\", \"text\": \"\", \"type\": \"scatter\", \"x\": [0.7377730997892236, -1.1030389755810621, 1.4751934706448089, 0.7163275619637027, -0.18793525120198784, -1.4997967427083236, 0.643213345466464, 0.4590111364898649, -0.3876229520803771, -2.008667912157602, 2.4928627609459486, -1.4915146072251595, -1.1028249832333714, -1.2547247840156839, -1.6785726427538314, 0.03217466686038357, 0.05036130726282296, 0.2596466248117348, -1.814687929743969, 0.5153464780970352, -2.1666080715199993, 1.630244539502402, -0.1612007848411608, -0.11392318675798929, 0.34446317037597357, -1.063371139362935, 0.31784010331748386, 0.11860842949055822, 1.3990597162703728, -0.25048174514563804, 0.07513845049261468, 1.5219563568056442, -2.2030050233156366, -0.9911515249358269, -0.17553956076957108, -0.04382189649560705, -1.2098215569998902, -1.341748163306357, -0.2595630627563207, -0.3503010741389833, 0.407951880298061, 0.3390248071247096, -0.6261417668668742, 1.6209870553879406, -0.17161704150407456, 0.008862371510253677, 0.24925974657341216, 0.6080072287109711, 0.5810554218657719, -1.7991335230987364, -0.3287127561472726, -0.20414439596547482, 0.7305614525329794, 1.272257988636262, 0.8633204035946619, -1.2099485393543716, -0.5970212029687801, 0.4017280631868525, 0.08571053438085445, 0.07089128319306941, -1.3627492377874084, -0.8911780630223399, 0.6025850094962208, 0.08348750474826173, -0.2513264135468494, 0.99682265966032, -0.09930818865435492, -0.27703039314660394, -0.2168179142136428, -0.6889586903897957, 0.5263546730665744, -2.2600965640460946, 1.470983069768726, 0.8482779806112714, 3.2619614212857986, -1.6077629407846308, -0.3649678611594507, 2.4142432860941048, 1.0489469514815788, 0.45525480188951034, -1.9538860414383217, 1.906228745837376, -0.8354406474978622, -0.22095779069381277, -0.03591642328322162, -1.2787264886778482, -0.3083233741363021, 0.1406733845624421, -0.625636475384371, 0.9276252520133468, 0.47980324803296176, -0.28072587382542963, 1.0652684103421062, 0.11599013791717781, 1.0798778479236106, 0.40815372563331564, 0.3557210647833699, -0.6956036311657349, 0.6181513355759167, -0.09854092176707027], \"xaxis\": \"x3\", \"y\": [-1.5165215335635371, 1.2385294899836377, 0.18675435261297058, -0.49404178733345255, 0.9638783524597756, -1.1032901032155455, 0.8489612205492174, 0.9903890863731017, -1.3703522449279018, -0.5776566150555577, -0.31321057904966493, -1.62657976260777, -1.006701588728278, 1.1360103276196873, 0.6096235839787069, -1.3807990089203603, -0.36237146775748713, -0.5950154460828271, 1.3888123369070282, -1.3629622910143322, -1.1038735970945992, 1.337348295283731, 1.1667957765059276, -1.2086935425656429, 0.24972766483940562, 0.29999954775204385, 1.0667440982430194, -0.1741452761097413, 0.29560646351069414, 1.2851980496441235, -1.5822045088416392, 0.2332157433742438, -0.8216180482229304, 0.36846289942020066, 1.6914889255493009, 0.05294197198387387, 1.6522250061531598, 0.3806122062538394, 0.2281787015714965, 0.13943357370996548, 0.7737513704163842, 1.2632113994240495, -2.0723185151193118, 0.3148357541550536, 0.9775459023887758, 0.4890519952231019, 0.019788575261866545, 0.5255271325555345, 1.6814084764377233, 0.5767167314074976, 0.20677363770809085, 0.1860110033699774, 0.21407497739434397, 0.7365607951031639, -0.7857728014462609, 0.009524836979279003, 0.38612916910565903, 0.1502359587507458, 0.9892286676253292, 0.39444327636869897, 1.120472350623712, 2.572635263308814, 0.16353567449977097, -0.3413603098431363, 0.11982063910290328, -1.3444523091154967, -1.0451078274259888, 0.7804874333757548, -0.10032354166879094, 1.7827722897587395, -1.0946905294595737, -0.2510276890016824, 0.9673217921938824, -1.0165640371463203, 0.0690990527382664, -0.8510879315244121, 0.43904889330463176, -1.337878368147962, 0.09750269879021287, 1.1447728728037032, -0.39997693269254425, 0.5229998031018618, -0.4292225098792032, 0.9378316216532356, -0.7677501218695141, 1.9137196189172991, 0.5216008014414507, -1.0851954812245894, 0.5878201563359909, 0.6262055363577997, 1.0657701838435691, -0.5129968730608664, 1.2712310563424316, 1.0526472276252596, 2.007007712904021, -1.2458742116352368, -0.3561372960571573, -0.09014992621817493, 0.7230413885756098, 1.4489088916499433], \"yaxis\": \"y3\"}, {\"line\": {\"color\": \"rgba(128, 128, 128, 1.0)\", \"dash\": \"solid\", \"shape\": \"linear\", \"width\": 1.3}, \"marker\": {\"size\": 2, \"symbol\": \"circle\"}, \"mode\": \"markers\", \"name\": \"A\", \"text\": \"\", \"type\": \"scatter\", \"x\": [-1.780823585893734, 0.4602590665960138, -0.77095243558765, -0.12133778922148662, 0.5902120373652472, -0.06893916024692084, 0.8022773173288474, 0.8567752152124382, -0.9634836880251109, -1.0990253199089686, 0.3010123021386761, 0.043982641960648355, -1.2917884399797137, -0.410665850962858, 0.0946327403643174, -0.6482741891994594, 0.19693767482224722, 0.6727106219128671, 0.7814650694890092, 0.8809369869589234, 0.5782063413384737, -1.1185788706639035, 1.1550425047984576, 0.3813117052456318, 0.5391018445096615, 0.5217574869263621, 0.9712112555342638, 1.4071875147931563, 0.02836636694116585, 0.051999588742775285, -0.7052848255502274, 0.19733377644932545, 0.16441137193235716, -0.29381742499736274, -0.8268556215966905, 0.7710939137149534, -2.258699431529325, -0.362294605271354, 1.7602514238640574, 0.7653869242534327, -0.4602441867070608, 0.7555683442100604, -0.4561133529338688, 0.591662526569171, 0.5308178302398793, 0.6187338202390603, -0.2040626925383586, -0.4089840413211076, 1.0831728485896257, 1.5064092259126123, 0.9641259886821941, 1.2066283492306435, -0.16401071310732646, -0.9463803276410513, 0.32013971318654694, 1.2415326199787506, 1.468983238419462, 1.8600040959785045, 0.7899542506236222, -0.5621331574428683, 0.2544760248206638, 0.553016773474252, -0.8421887668967111, -1.4892089647285351, -1.0461533048831086, -0.3428360821472914, 1.0385436120242335, 0.7656414008311992, 0.7006530694208158, -1.3051778143441768, 0.4652099162555333, -1.0345875195220526, 0.761275797132033, -0.9734716524681017, -1.326237858417124, -0.8177095520548644, -1.1900159679196343, 0.12062767232963065, 0.43761474959033686, 0.7057035106724329, -1.1638197213072254, -0.06146991414586665, -0.17954182149817657, 0.04035176209259629, -1.4250431449648164, -0.7369965848641916, 0.048018797888884246, -2.047899071207024, 1.3436966143343252, -1.7320219009712923, -0.40452740082826294, 1.3937288534544126, 1.2286193347039958, 0.4371853919515951, 1.2635854050534387, -0.7805805442269789, -0.9153993534558481, -0.0887845209495477, 0.039705362735055726, -0.8163686286010027], \"xaxis\": \"x4\", \"y\": [-1.5165215335635371, 1.2385294899836377, 0.18675435261297058, -0.49404178733345255, 0.9638783524597756, -1.1032901032155455, 0.8489612205492174, 0.9903890863731017, -1.3703522449279018, -0.5776566150555577, -0.31321057904966493, -1.62657976260777, -1.006701588728278, 1.1360103276196873, 0.6096235839787069, -1.3807990089203603, -0.36237146775748713, -0.5950154460828271, 1.3888123369070282, -1.3629622910143322, -1.1038735970945992, 1.337348295283731, 1.1667957765059276, -1.2086935425656429, 0.24972766483940562, 0.29999954775204385, 1.0667440982430194, -0.1741452761097413, 0.29560646351069414, 1.2851980496441235, -1.5822045088416392, 0.2332157433742438, -0.8216180482229304, 0.36846289942020066, 1.6914889255493009, 0.05294197198387387, 1.6522250061531598, 0.3806122062538394, 0.2281787015714965, 0.13943357370996548, 0.7737513704163842, 1.2632113994240495, -2.0723185151193118, 0.3148357541550536, 0.9775459023887758, 0.4890519952231019, 0.019788575261866545, 0.5255271325555345, 1.6814084764377233, 0.5767167314074976, 0.20677363770809085, 0.1860110033699774, 0.21407497739434397, 0.7365607951031639, -0.7857728014462609, 0.009524836979279003, 0.38612916910565903, 0.1502359587507458, 0.9892286676253292, 0.39444327636869897, 1.120472350623712, 2.572635263308814, 0.16353567449977097, -0.3413603098431363, 0.11982063910290328, -1.3444523091154967, -1.0451078274259888, 0.7804874333757548, -0.10032354166879094, 1.7827722897587395, -1.0946905294595737, -0.2510276890016824, 0.9673217921938824, -1.0165640371463203, 0.0690990527382664, -0.8510879315244121, 0.43904889330463176, -1.337878368147962, 0.09750269879021287, 1.1447728728037032, -0.39997693269254425, 0.5229998031018618, -0.4292225098792032, 0.9378316216532356, -0.7677501218695141, 1.9137196189172991, 0.5216008014414507, -1.0851954812245894, 0.5878201563359909, 0.6262055363577997, 1.0657701838435691, -0.5129968730608664, 1.2712310563424316, 1.0526472276252596, 2.007007712904021, -1.2458742116352368, -0.3561372960571573, -0.09014992621817493, 0.7230413885756098, 1.4489088916499433], \"yaxis\": \"y4\"}, {\"line\": {\"color\": \"rgba(128, 128, 128, 1.0)\", \"dash\": \"solid\", \"shape\": \"linear\", \"width\": 1.3}, \"marker\": {\"size\": 2, \"symbol\": \"circle\"}, \"mode\": \"markers\", \"name\": \"B\", \"text\": \"\", \"type\": \"scatter\", \"x\": [-1.5165215335635371, 1.2385294899836377, 0.18675435261297058, -0.49404178733345255, 0.9638783524597756, -1.1032901032155455, 0.8489612205492174, 0.9903890863731017, -1.3703522449279018, -0.5776566150555577, -0.31321057904966493, -1.62657976260777, -1.006701588728278, 1.1360103276196873, 0.6096235839787069, -1.3807990089203603, -0.36237146775748713, -0.5950154460828271, 1.3888123369070282, -1.3629622910143322, -1.1038735970945992, 1.337348295283731, 1.1667957765059276, -1.2086935425656429, 0.24972766483940562, 0.29999954775204385, 1.0667440982430194, -0.1741452761097413, 0.29560646351069414, 1.2851980496441235, -1.5822045088416392, 0.2332157433742438, -0.8216180482229304, 0.36846289942020066, 1.6914889255493009, 0.05294197198387387, 1.6522250061531598, 0.3806122062538394, 0.2281787015714965, 0.13943357370996548, 0.7737513704163842, 1.2632113994240495, -2.0723185151193118, 0.3148357541550536, 0.9775459023887758, 0.4890519952231019, 0.019788575261866545, 0.5255271325555345, 1.6814084764377233, 0.5767167314074976, 0.20677363770809085, 0.1860110033699774, 0.21407497739434397, 0.7365607951031639, -0.7857728014462609, 0.009524836979279003, 0.38612916910565903, 0.1502359587507458, 0.9892286676253292, 0.39444327636869897, 1.120472350623712, 2.572635263308814, 0.16353567449977097, -0.3413603098431363, 0.11982063910290328, -1.3444523091154967, -1.0451078274259888, 0.7804874333757548, -0.10032354166879094, 1.7827722897587395, -1.0946905294595737, -0.2510276890016824, 0.9673217921938824, -1.0165640371463203, 0.0690990527382664, -0.8510879315244121, 0.43904889330463176, -1.337878368147962, 0.09750269879021287, 1.1447728728037032, -0.39997693269254425, 0.5229998031018618, -0.4292225098792032, 0.9378316216532356, -0.7677501218695141, 1.9137196189172991, 0.5216008014414507, -1.0851954812245894, 0.5878201563359909, 0.6262055363577997, 1.0657701838435691, -0.5129968730608664, 1.2712310563424316, 1.0526472276252596, 2.007007712904021, -1.2458742116352368, -0.3561372960571573, -0.09014992621817493, 0.7230413885756098, 1.4489088916499433], \"xaxis\": \"x5\", \"y\": [-0.8345574062307446, 0.3869389335155712, 0.07782933474576627, 1.1899116450030662, 2.4118231293099672, -0.7517168932626798, 0.04236231146362457, 0.07190511226430284, 1.6380670778590334, 2.0602606596455915, -2.163922132520172, -0.4433154616526229, -0.04538211676815623, -0.9165373914796289, 0.22401956064621992, 0.0003599773765519304, -1.563708728474769, -1.5376343933124736, -0.7870693396201344, 0.33457351738130175, -1.7354039335286253, 1.7113719623174346, -0.8120715211093109, 0.3253747617458604, -0.31843112066991935, -1.7196215520469333, 1.0739113471545714, -0.893491898851701, -1.6629737232258517, -1.0306910440740462, 0.9726511881554111, 0.5494664293783664, -0.7708942552672302, 0.192978809265206, -0.7348978845939232, -1.3345561541206306, 0.5165025336657605, 0.31478413024677826, 0.6355748238320479, 0.8652446833342713, -2.6658532132036394, 0.2961008150075696, -0.9156752032343806, -2.350156615366018, 0.459285791821168, -0.30922541782709606, -0.1428120757566868, -1.2332716277002955, -1.3161739795186747, 1.2495199734510636, 0.12846392054830044, -0.2417375476858517, -1.30909234945247, -1.2082763653082, 1.1683596205889433, 1.910262362641669, -0.3319716068998639, 0.6369101856685699, 1.2305627181044516, 0.009236607765067436, -1.1610611529835455, -0.5951460041814716, -0.3859309436973199, 1.2772343202778578, 0.45105331684170763, 0.8913310278045682, 2.2461724357778765, 0.8671611404274941, -0.9084679347963178, -0.42009634182682365, -0.18027132005244065, 0.6850421902521037, -1.1601568758024055, -0.8886966875641397, -0.1593881395933613, 0.6257031728894613, -0.39633640033302586, -0.2575710590884075, -0.24936745256303702, -1.5120328205355116, 1.1544613291944308, 0.01973290602766408, -0.38296802691344484, -0.4313977587137235, 1.8662596009811432, 0.04260450444009576, -1.4220661594762694, -1.685356777380281, -1.1270456077765143, -0.38721209138365925, 0.259167116705802, -0.22316627067425593, 1.635084328005414, -2.9583463144626703, -0.08181424856774482, -0.13510674116356763, 0.47366256715334687, 1.1763788631291294, -1.8896419059732144, 0.007836036763666107], \"yaxis\": \"y5\"}, {\"histfunc\": \"count\", \"histnorm\": \"\", \"marker\": {\"color\": \"rgba(55, 128, 191, 1.0)\", \"line\": {\"color\": \"#4D5663\", \"width\": 1.3}}, \"name\": \"B\", \"nbinsx\": 10, \"opacity\": 0.8, \"orientation\": \"v\", \"type\": \"histogram\", \"x\": [-0.8345574062307446, 0.3869389335155712, 0.07782933474576627, 1.1899116450030662, 2.4118231293099672, -0.7517168932626798, 0.04236231146362457, 0.07190511226430284, 1.6380670778590334, 2.0602606596455915, -2.163922132520172, -0.4433154616526229, -0.04538211676815623, -0.9165373914796289, 0.22401956064621992, 0.0003599773765519304, -1.563708728474769, -1.5376343933124736, -0.7870693396201344, 0.33457351738130175, -1.7354039335286253, 1.7113719623174346, -0.8120715211093109, 0.3253747617458604, -0.31843112066991935, -1.7196215520469333, 1.0739113471545714, -0.893491898851701, -1.6629737232258517, -1.0306910440740462, 0.9726511881554111, 0.5494664293783664, -0.7708942552672302, 0.192978809265206, -0.7348978845939232, -1.3345561541206306, 0.5165025336657605, 0.31478413024677826, 0.6355748238320479, 0.8652446833342713, -2.6658532132036394, 0.2961008150075696, -0.9156752032343806, -2.350156615366018, 0.459285791821168, -0.30922541782709606, -0.1428120757566868, -1.2332716277002955, -1.3161739795186747, 1.2495199734510636, 0.12846392054830044, -0.2417375476858517, -1.30909234945247, -1.2082763653082, 1.1683596205889433, 1.910262362641669, -0.3319716068998639, 0.6369101856685699, 1.2305627181044516, 0.009236607765067436, -1.1610611529835455, -0.5951460041814716, -0.3859309436973199, 1.2772343202778578, 0.45105331684170763, 0.8913310278045682, 2.2461724357778765, 0.8671611404274941, -0.9084679347963178, -0.42009634182682365, -0.18027132005244065, 0.6850421902521037, -1.1601568758024055, -0.8886966875641397, -0.1593881395933613, 0.6257031728894613, -0.39633640033302586, -0.2575710590884075, -0.24936745256303702, -1.5120328205355116, 1.1544613291944308, 0.01973290602766408, -0.38296802691344484, -0.4313977587137235, 1.8662596009811432, 0.04260450444009576, -1.4220661594762694, -1.685356777380281, -1.1270456077765143, -0.38721209138365925, 0.259167116705802, -0.22316627067425593, 1.635084328005414, -2.9583463144626703, -0.08181424856774482, -0.13510674116356763, 0.47366256715334687, 1.1763788631291294, -1.8896419059732144, 0.007836036763666107], \"xaxis\": \"x6\", \"yaxis\": \"y6\"}, {\"line\": {\"color\": \"rgba(128, 128, 128, 1.0)\", \"dash\": \"solid\", \"shape\": \"linear\", \"width\": 1.3}, \"marker\": {\"size\": 2, \"symbol\": \"circle\"}, \"mode\": \"markers\", \"name\": \"B\", \"text\": \"\", \"type\": \"scatter\", \"x\": [0.7377730997892236, -1.1030389755810621, 1.4751934706448089, 0.7163275619637027, -0.18793525120198784, -1.4997967427083236, 0.643213345466464, 0.4590111364898649, -0.3876229520803771, -2.008667912157602, 2.4928627609459486, -1.4915146072251595, -1.1028249832333714, -1.2547247840156839, -1.6785726427538314, 0.03217466686038357, 0.05036130726282296, 0.2596466248117348, -1.814687929743969, 0.5153464780970352, -2.1666080715199993, 1.630244539502402, -0.1612007848411608, -0.11392318675798929, 0.34446317037597357, -1.063371139362935, 0.31784010331748386, 0.11860842949055822, 1.3990597162703728, -0.25048174514563804, 0.07513845049261468, 1.5219563568056442, -2.2030050233156366, -0.9911515249358269, -0.17553956076957108, -0.04382189649560705, -1.2098215569998902, -1.341748163306357, -0.2595630627563207, -0.3503010741389833, 0.407951880298061, 0.3390248071247096, -0.6261417668668742, 1.6209870553879406, -0.17161704150407456, 0.008862371510253677, 0.24925974657341216, 0.6080072287109711, 0.5810554218657719, -1.7991335230987364, -0.3287127561472726, -0.20414439596547482, 0.7305614525329794, 1.272257988636262, 0.8633204035946619, -1.2099485393543716, -0.5970212029687801, 0.4017280631868525, 0.08571053438085445, 0.07089128319306941, -1.3627492377874084, -0.8911780630223399, 0.6025850094962208, 0.08348750474826173, -0.2513264135468494, 0.99682265966032, -0.09930818865435492, -0.27703039314660394, -0.2168179142136428, -0.6889586903897957, 0.5263546730665744, -2.2600965640460946, 1.470983069768726, 0.8482779806112714, 3.2619614212857986, -1.6077629407846308, -0.3649678611594507, 2.4142432860941048, 1.0489469514815788, 0.45525480188951034, -1.9538860414383217, 1.906228745837376, -0.8354406474978622, -0.22095779069381277, -0.03591642328322162, -1.2787264886778482, -0.3083233741363021, 0.1406733845624421, -0.625636475384371, 0.9276252520133468, 0.47980324803296176, -0.28072587382542963, 1.0652684103421062, 0.11599013791717781, 1.0798778479236106, 0.40815372563331564, 0.3557210647833699, -0.6956036311657349, 0.6181513355759167, -0.09854092176707027], \"xaxis\": \"x7\", \"y\": [-0.8345574062307446, 0.3869389335155712, 0.07782933474576627, 1.1899116450030662, 2.4118231293099672, -0.7517168932626798, 0.04236231146362457, 0.07190511226430284, 1.6380670778590334, 2.0602606596455915, -2.163922132520172, -0.4433154616526229, -0.04538211676815623, -0.9165373914796289, 0.22401956064621992, 0.0003599773765519304, -1.563708728474769, -1.5376343933124736, -0.7870693396201344, 0.33457351738130175, -1.7354039335286253, 1.7113719623174346, -0.8120715211093109, 0.3253747617458604, -0.31843112066991935, -1.7196215520469333, 1.0739113471545714, -0.893491898851701, -1.6629737232258517, -1.0306910440740462, 0.9726511881554111, 0.5494664293783664, -0.7708942552672302, 0.192978809265206, -0.7348978845939232, -1.3345561541206306, 0.5165025336657605, 0.31478413024677826, 0.6355748238320479, 0.8652446833342713, -2.6658532132036394, 0.2961008150075696, -0.9156752032343806, -2.350156615366018, 0.459285791821168, -0.30922541782709606, -0.1428120757566868, -1.2332716277002955, -1.3161739795186747, 1.2495199734510636, 0.12846392054830044, -0.2417375476858517, -1.30909234945247, -1.2082763653082, 1.1683596205889433, 1.910262362641669, -0.3319716068998639, 0.6369101856685699, 1.2305627181044516, 0.009236607765067436, -1.1610611529835455, -0.5951460041814716, -0.3859309436973199, 1.2772343202778578, 0.45105331684170763, 0.8913310278045682, 2.2461724357778765, 0.8671611404274941, -0.9084679347963178, -0.42009634182682365, -0.18027132005244065, 0.6850421902521037, -1.1601568758024055, -0.8886966875641397, -0.1593881395933613, 0.6257031728894613, -0.39633640033302586, -0.2575710590884075, -0.24936745256303702, -1.5120328205355116, 1.1544613291944308, 0.01973290602766408, -0.38296802691344484, -0.4313977587137235, 1.8662596009811432, 0.04260450444009576, -1.4220661594762694, -1.685356777380281, -1.1270456077765143, -0.38721209138365925, 0.259167116705802, -0.22316627067425593, 1.635084328005414, -2.9583463144626703, -0.08181424856774482, -0.13510674116356763, 0.47366256715334687, 1.1763788631291294, -1.8896419059732144, 0.007836036763666107], \"yaxis\": \"y7\"}, {\"line\": {\"color\": \"rgba(128, 128, 128, 1.0)\", \"dash\": \"solid\", \"shape\": \"linear\", \"width\": 1.3}, \"marker\": {\"size\": 2, \"symbol\": \"circle\"}, \"mode\": \"markers\", \"name\": \"B\", \"text\": \"\", \"type\": \"scatter\", \"x\": [-1.780823585893734, 0.4602590665960138, -0.77095243558765, -0.12133778922148662, 0.5902120373652472, -0.06893916024692084, 0.8022773173288474, 0.8567752152124382, -0.9634836880251109, -1.0990253199089686, 0.3010123021386761, 0.043982641960648355, -1.2917884399797137, -0.410665850962858, 0.0946327403643174, -0.6482741891994594, 0.19693767482224722, 0.6727106219128671, 0.7814650694890092, 0.8809369869589234, 0.5782063413384737, -1.1185788706639035, 1.1550425047984576, 0.3813117052456318, 0.5391018445096615, 0.5217574869263621, 0.9712112555342638, 1.4071875147931563, 0.02836636694116585, 0.051999588742775285, -0.7052848255502274, 0.19733377644932545, 0.16441137193235716, -0.29381742499736274, -0.8268556215966905, 0.7710939137149534, -2.258699431529325, -0.362294605271354, 1.7602514238640574, 0.7653869242534327, -0.4602441867070608, 0.7555683442100604, -0.4561133529338688, 0.591662526569171, 0.5308178302398793, 0.6187338202390603, -0.2040626925383586, -0.4089840413211076, 1.0831728485896257, 1.5064092259126123, 0.9641259886821941, 1.2066283492306435, -0.16401071310732646, -0.9463803276410513, 0.32013971318654694, 1.2415326199787506, 1.468983238419462, 1.8600040959785045, 0.7899542506236222, -0.5621331574428683, 0.2544760248206638, 0.553016773474252, -0.8421887668967111, -1.4892089647285351, -1.0461533048831086, -0.3428360821472914, 1.0385436120242335, 0.7656414008311992, 0.7006530694208158, -1.3051778143441768, 0.4652099162555333, -1.0345875195220526, 0.761275797132033, -0.9734716524681017, -1.326237858417124, -0.8177095520548644, -1.1900159679196343, 0.12062767232963065, 0.43761474959033686, 0.7057035106724329, -1.1638197213072254, -0.06146991414586665, -0.17954182149817657, 0.04035176209259629, -1.4250431449648164, -0.7369965848641916, 0.048018797888884246, -2.047899071207024, 1.3436966143343252, -1.7320219009712923, -0.40452740082826294, 1.3937288534544126, 1.2286193347039958, 0.4371853919515951, 1.2635854050534387, -0.7805805442269789, -0.9153993534558481, -0.0887845209495477, 0.039705362735055726, -0.8163686286010027], \"xaxis\": \"x8\", \"y\": [-0.8345574062307446, 0.3869389335155712, 0.07782933474576627, 1.1899116450030662, 2.4118231293099672, -0.7517168932626798, 0.04236231146362457, 0.07190511226430284, 1.6380670778590334, 2.0602606596455915, -2.163922132520172, -0.4433154616526229, -0.04538211676815623, -0.9165373914796289, 0.22401956064621992, 0.0003599773765519304, -1.563708728474769, -1.5376343933124736, -0.7870693396201344, 0.33457351738130175, -1.7354039335286253, 1.7113719623174346, -0.8120715211093109, 0.3253747617458604, -0.31843112066991935, -1.7196215520469333, 1.0739113471545714, -0.893491898851701, -1.6629737232258517, -1.0306910440740462, 0.9726511881554111, 0.5494664293783664, -0.7708942552672302, 0.192978809265206, -0.7348978845939232, -1.3345561541206306, 0.5165025336657605, 0.31478413024677826, 0.6355748238320479, 0.8652446833342713, -2.6658532132036394, 0.2961008150075696, -0.9156752032343806, -2.350156615366018, 0.459285791821168, -0.30922541782709606, -0.1428120757566868, -1.2332716277002955, -1.3161739795186747, 1.2495199734510636, 0.12846392054830044, -0.2417375476858517, -1.30909234945247, -1.2082763653082, 1.1683596205889433, 1.910262362641669, -0.3319716068998639, 0.6369101856685699, 1.2305627181044516, 0.009236607765067436, -1.1610611529835455, -0.5951460041814716, -0.3859309436973199, 1.2772343202778578, 0.45105331684170763, 0.8913310278045682, 2.2461724357778765, 0.8671611404274941, -0.9084679347963178, -0.42009634182682365, -0.18027132005244065, 0.6850421902521037, -1.1601568758024055, -0.8886966875641397, -0.1593881395933613, 0.6257031728894613, -0.39633640033302586, -0.2575710590884075, -0.24936745256303702, -1.5120328205355116, 1.1544613291944308, 0.01973290602766408, -0.38296802691344484, -0.4313977587137235, 1.8662596009811432, 0.04260450444009576, -1.4220661594762694, -1.685356777380281, -1.1270456077765143, -0.38721209138365925, 0.259167116705802, -0.22316627067425593, 1.635084328005414, -2.9583463144626703, -0.08181424856774482, -0.13510674116356763, 0.47366256715334687, 1.1763788631291294, -1.8896419059732144, 0.007836036763666107], \"yaxis\": \"y8\"}, {\"line\": {\"color\": \"rgba(128, 128, 128, 1.0)\", \"dash\": \"solid\", \"shape\": \"linear\", \"width\": 1.3}, \"marker\": {\"size\": 2, \"symbol\": \"circle\"}, \"mode\": \"markers\", \"name\": \"C\", \"text\": \"\", \"type\": \"scatter\", \"x\": [-1.5165215335635371, 1.2385294899836377, 0.18675435261297058, -0.49404178733345255, 0.9638783524597756, -1.1032901032155455, 0.8489612205492174, 0.9903890863731017, -1.3703522449279018, -0.5776566150555577, -0.31321057904966493, -1.62657976260777, -1.006701588728278, 1.1360103276196873, 0.6096235839787069, -1.3807990089203603, -0.36237146775748713, -0.5950154460828271, 1.3888123369070282, -1.3629622910143322, -1.1038735970945992, 1.337348295283731, 1.1667957765059276, -1.2086935425656429, 0.24972766483940562, 0.29999954775204385, 1.0667440982430194, -0.1741452761097413, 0.29560646351069414, 1.2851980496441235, -1.5822045088416392, 0.2332157433742438, -0.8216180482229304, 0.36846289942020066, 1.6914889255493009, 0.05294197198387387, 1.6522250061531598, 0.3806122062538394, 0.2281787015714965, 0.13943357370996548, 0.7737513704163842, 1.2632113994240495, -2.0723185151193118, 0.3148357541550536, 0.9775459023887758, 0.4890519952231019, 0.019788575261866545, 0.5255271325555345, 1.6814084764377233, 0.5767167314074976, 0.20677363770809085, 0.1860110033699774, 0.21407497739434397, 0.7365607951031639, -0.7857728014462609, 0.009524836979279003, 0.38612916910565903, 0.1502359587507458, 0.9892286676253292, 0.39444327636869897, 1.120472350623712, 2.572635263308814, 0.16353567449977097, -0.3413603098431363, 0.11982063910290328, -1.3444523091154967, -1.0451078274259888, 0.7804874333757548, -0.10032354166879094, 1.7827722897587395, -1.0946905294595737, -0.2510276890016824, 0.9673217921938824, -1.0165640371463203, 0.0690990527382664, -0.8510879315244121, 0.43904889330463176, -1.337878368147962, 0.09750269879021287, 1.1447728728037032, -0.39997693269254425, 0.5229998031018618, -0.4292225098792032, 0.9378316216532356, -0.7677501218695141, 1.9137196189172991, 0.5216008014414507, -1.0851954812245894, 0.5878201563359909, 0.6262055363577997, 1.0657701838435691, -0.5129968730608664, 1.2712310563424316, 1.0526472276252596, 2.007007712904021, -1.2458742116352368, -0.3561372960571573, -0.09014992621817493, 0.7230413885756098, 1.4489088916499433], \"xaxis\": \"x9\", \"y\": [0.7377730997892236, -1.1030389755810621, 1.4751934706448089, 0.7163275619637027, -0.18793525120198784, -1.4997967427083236, 0.643213345466464, 0.4590111364898649, -0.3876229520803771, -2.008667912157602, 2.4928627609459486, -1.4915146072251595, -1.1028249832333714, -1.2547247840156839, -1.6785726427538314, 0.03217466686038357, 0.05036130726282296, 0.2596466248117348, -1.814687929743969, 0.5153464780970352, -2.1666080715199993, 1.630244539502402, -0.1612007848411608, -0.11392318675798929, 0.34446317037597357, -1.063371139362935, 0.31784010331748386, 0.11860842949055822, 1.3990597162703728, -0.25048174514563804, 0.07513845049261468, 1.5219563568056442, -2.2030050233156366, -0.9911515249358269, -0.17553956076957108, -0.04382189649560705, -1.2098215569998902, -1.341748163306357, -0.2595630627563207, -0.3503010741389833, 0.407951880298061, 0.3390248071247096, -0.6261417668668742, 1.6209870553879406, -0.17161704150407456, 0.008862371510253677, 0.24925974657341216, 0.6080072287109711, 0.5810554218657719, -1.7991335230987364, -0.3287127561472726, -0.20414439596547482, 0.7305614525329794, 1.272257988636262, 0.8633204035946619, -1.2099485393543716, -0.5970212029687801, 0.4017280631868525, 0.08571053438085445, 0.07089128319306941, -1.3627492377874084, -0.8911780630223399, 0.6025850094962208, 0.08348750474826173, -0.2513264135468494, 0.99682265966032, -0.09930818865435492, -0.27703039314660394, -0.2168179142136428, -0.6889586903897957, 0.5263546730665744, -2.2600965640460946, 1.470983069768726, 0.8482779806112714, 3.2619614212857986, -1.6077629407846308, -0.3649678611594507, 2.4142432860941048, 1.0489469514815788, 0.45525480188951034, -1.9538860414383217, 1.906228745837376, -0.8354406474978622, -0.22095779069381277, -0.03591642328322162, -1.2787264886778482, -0.3083233741363021, 0.1406733845624421, -0.625636475384371, 0.9276252520133468, 0.47980324803296176, -0.28072587382542963, 1.0652684103421062, 0.11599013791717781, 1.0798778479236106, 0.40815372563331564, 0.3557210647833699, -0.6956036311657349, 0.6181513355759167, -0.09854092176707027], \"yaxis\": \"y9\"}, {\"line\": {\"color\": \"rgba(128, 128, 128, 1.0)\", \"dash\": \"solid\", \"shape\": \"linear\", \"width\": 1.3}, \"marker\": {\"size\": 2, \"symbol\": \"circle\"}, \"mode\": \"markers\", \"name\": \"C\", \"text\": \"\", \"type\": \"scatter\", \"x\": [-0.8345574062307446, 0.3869389335155712, 0.07782933474576627, 1.1899116450030662, 2.4118231293099672, -0.7517168932626798, 0.04236231146362457, 0.07190511226430284, 1.6380670778590334, 2.0602606596455915, -2.163922132520172, -0.4433154616526229, -0.04538211676815623, -0.9165373914796289, 0.22401956064621992, 0.0003599773765519304, -1.563708728474769, -1.5376343933124736, -0.7870693396201344, 0.33457351738130175, -1.7354039335286253, 1.7113719623174346, -0.8120715211093109, 0.3253747617458604, -0.31843112066991935, -1.7196215520469333, 1.0739113471545714, -0.893491898851701, -1.6629737232258517, -1.0306910440740462, 0.9726511881554111, 0.5494664293783664, -0.7708942552672302, 0.192978809265206, -0.7348978845939232, -1.3345561541206306, 0.5165025336657605, 0.31478413024677826, 0.6355748238320479, 0.8652446833342713, -2.6658532132036394, 0.2961008150075696, -0.9156752032343806, -2.350156615366018, 0.459285791821168, -0.30922541782709606, -0.1428120757566868, -1.2332716277002955, -1.3161739795186747, 1.2495199734510636, 0.12846392054830044, -0.2417375476858517, -1.30909234945247, -1.2082763653082, 1.1683596205889433, 1.910262362641669, -0.3319716068998639, 0.6369101856685699, 1.2305627181044516, 0.009236607765067436, -1.1610611529835455, -0.5951460041814716, -0.3859309436973199, 1.2772343202778578, 0.45105331684170763, 0.8913310278045682, 2.2461724357778765, 0.8671611404274941, -0.9084679347963178, -0.42009634182682365, -0.18027132005244065, 0.6850421902521037, -1.1601568758024055, -0.8886966875641397, -0.1593881395933613, 0.6257031728894613, -0.39633640033302586, -0.2575710590884075, -0.24936745256303702, -1.5120328205355116, 1.1544613291944308, 0.01973290602766408, -0.38296802691344484, -0.4313977587137235, 1.8662596009811432, 0.04260450444009576, -1.4220661594762694, -1.685356777380281, -1.1270456077765143, -0.38721209138365925, 0.259167116705802, -0.22316627067425593, 1.635084328005414, -2.9583463144626703, -0.08181424856774482, -0.13510674116356763, 0.47366256715334687, 1.1763788631291294, -1.8896419059732144, 0.007836036763666107], \"xaxis\": \"x10\", \"y\": [0.7377730997892236, -1.1030389755810621, 1.4751934706448089, 0.7163275619637027, -0.18793525120198784, -1.4997967427083236, 0.643213345466464, 0.4590111364898649, -0.3876229520803771, -2.008667912157602, 2.4928627609459486, -1.4915146072251595, -1.1028249832333714, -1.2547247840156839, -1.6785726427538314, 0.03217466686038357, 0.05036130726282296, 0.2596466248117348, -1.814687929743969, 0.5153464780970352, -2.1666080715199993, 1.630244539502402, -0.1612007848411608, -0.11392318675798929, 0.34446317037597357, -1.063371139362935, 0.31784010331748386, 0.11860842949055822, 1.3990597162703728, -0.25048174514563804, 0.07513845049261468, 1.5219563568056442, -2.2030050233156366, -0.9911515249358269, -0.17553956076957108, -0.04382189649560705, -1.2098215569998902, -1.341748163306357, -0.2595630627563207, -0.3503010741389833, 0.407951880298061, 0.3390248071247096, -0.6261417668668742, 1.6209870553879406, -0.17161704150407456, 0.008862371510253677, 0.24925974657341216, 0.6080072287109711, 0.5810554218657719, -1.7991335230987364, -0.3287127561472726, -0.20414439596547482, 0.7305614525329794, 1.272257988636262, 0.8633204035946619, -1.2099485393543716, -0.5970212029687801, 0.4017280631868525, 0.08571053438085445, 0.07089128319306941, -1.3627492377874084, -0.8911780630223399, 0.6025850094962208, 0.08348750474826173, -0.2513264135468494, 0.99682265966032, -0.09930818865435492, -0.27703039314660394, -0.2168179142136428, -0.6889586903897957, 0.5263546730665744, -2.2600965640460946, 1.470983069768726, 0.8482779806112714, 3.2619614212857986, -1.6077629407846308, -0.3649678611594507, 2.4142432860941048, 1.0489469514815788, 0.45525480188951034, -1.9538860414383217, 1.906228745837376, -0.8354406474978622, -0.22095779069381277, -0.03591642328322162, -1.2787264886778482, -0.3083233741363021, 0.1406733845624421, -0.625636475384371, 0.9276252520133468, 0.47980324803296176, -0.28072587382542963, 1.0652684103421062, 0.11599013791717781, 1.0798778479236106, 0.40815372563331564, 0.3557210647833699, -0.6956036311657349, 0.6181513355759167, -0.09854092176707027], \"yaxis\": \"y10\"}, {\"histfunc\": \"count\", \"histnorm\": \"\", \"marker\": {\"color\": \"rgba(50, 171, 96, 1.0)\", \"line\": {\"color\": \"#4D5663\", \"width\": 1.3}}, \"name\": \"C\", \"nbinsx\": 10, \"opacity\": 0.8, \"orientation\": \"v\", \"type\": \"histogram\", \"x\": [0.7377730997892236, -1.1030389755810621, 1.4751934706448089, 0.7163275619637027, -0.18793525120198784, -1.4997967427083236, 0.643213345466464, 0.4590111364898649, -0.3876229520803771, -2.008667912157602, 2.4928627609459486, -1.4915146072251595, -1.1028249832333714, -1.2547247840156839, -1.6785726427538314, 0.03217466686038357, 0.05036130726282296, 0.2596466248117348, -1.814687929743969, 0.5153464780970352, -2.1666080715199993, 1.630244539502402, -0.1612007848411608, -0.11392318675798929, 0.34446317037597357, -1.063371139362935, 0.31784010331748386, 0.11860842949055822, 1.3990597162703728, -0.25048174514563804, 0.07513845049261468, 1.5219563568056442, -2.2030050233156366, -0.9911515249358269, -0.17553956076957108, -0.04382189649560705, -1.2098215569998902, -1.341748163306357, -0.2595630627563207, -0.3503010741389833, 0.407951880298061, 0.3390248071247096, -0.6261417668668742, 1.6209870553879406, -0.17161704150407456, 0.008862371510253677, 0.24925974657341216, 0.6080072287109711, 0.5810554218657719, -1.7991335230987364, -0.3287127561472726, -0.20414439596547482, 0.7305614525329794, 1.272257988636262, 0.8633204035946619, -1.2099485393543716, -0.5970212029687801, 0.4017280631868525, 0.08571053438085445, 0.07089128319306941, -1.3627492377874084, -0.8911780630223399, 0.6025850094962208, 0.08348750474826173, -0.2513264135468494, 0.99682265966032, -0.09930818865435492, -0.27703039314660394, -0.2168179142136428, -0.6889586903897957, 0.5263546730665744, -2.2600965640460946, 1.470983069768726, 0.8482779806112714, 3.2619614212857986, -1.6077629407846308, -0.3649678611594507, 2.4142432860941048, 1.0489469514815788, 0.45525480188951034, -1.9538860414383217, 1.906228745837376, -0.8354406474978622, -0.22095779069381277, -0.03591642328322162, -1.2787264886778482, -0.3083233741363021, 0.1406733845624421, -0.625636475384371, 0.9276252520133468, 0.47980324803296176, -0.28072587382542963, 1.0652684103421062, 0.11599013791717781, 1.0798778479236106, 0.40815372563331564, 0.3557210647833699, -0.6956036311657349, 0.6181513355759167, -0.09854092176707027], \"xaxis\": \"x11\", \"yaxis\": \"y11\"}, {\"line\": {\"color\": \"rgba(128, 128, 128, 1.0)\", \"dash\": \"solid\", \"shape\": \"linear\", \"width\": 1.3}, \"marker\": {\"size\": 2, \"symbol\": \"circle\"}, \"mode\": \"markers\", \"name\": \"C\", \"text\": \"\", \"type\": \"scatter\", \"x\": [-1.780823585893734, 0.4602590665960138, -0.77095243558765, -0.12133778922148662, 0.5902120373652472, -0.06893916024692084, 0.8022773173288474, 0.8567752152124382, -0.9634836880251109, -1.0990253199089686, 0.3010123021386761, 0.043982641960648355, -1.2917884399797137, -0.410665850962858, 0.0946327403643174, -0.6482741891994594, 0.19693767482224722, 0.6727106219128671, 0.7814650694890092, 0.8809369869589234, 0.5782063413384737, -1.1185788706639035, 1.1550425047984576, 0.3813117052456318, 0.5391018445096615, 0.5217574869263621, 0.9712112555342638, 1.4071875147931563, 0.02836636694116585, 0.051999588742775285, -0.7052848255502274, 0.19733377644932545, 0.16441137193235716, -0.29381742499736274, -0.8268556215966905, 0.7710939137149534, -2.258699431529325, -0.362294605271354, 1.7602514238640574, 0.7653869242534327, -0.4602441867070608, 0.7555683442100604, -0.4561133529338688, 0.591662526569171, 0.5308178302398793, 0.6187338202390603, -0.2040626925383586, -0.4089840413211076, 1.0831728485896257, 1.5064092259126123, 0.9641259886821941, 1.2066283492306435, -0.16401071310732646, -0.9463803276410513, 0.32013971318654694, 1.2415326199787506, 1.468983238419462, 1.8600040959785045, 0.7899542506236222, -0.5621331574428683, 0.2544760248206638, 0.553016773474252, -0.8421887668967111, -1.4892089647285351, -1.0461533048831086, -0.3428360821472914, 1.0385436120242335, 0.7656414008311992, 0.7006530694208158, -1.3051778143441768, 0.4652099162555333, -1.0345875195220526, 0.761275797132033, -0.9734716524681017, -1.326237858417124, -0.8177095520548644, -1.1900159679196343, 0.12062767232963065, 0.43761474959033686, 0.7057035106724329, -1.1638197213072254, -0.06146991414586665, -0.17954182149817657, 0.04035176209259629, -1.4250431449648164, -0.7369965848641916, 0.048018797888884246, -2.047899071207024, 1.3436966143343252, -1.7320219009712923, -0.40452740082826294, 1.3937288534544126, 1.2286193347039958, 0.4371853919515951, 1.2635854050534387, -0.7805805442269789, -0.9153993534558481, -0.0887845209495477, 0.039705362735055726, -0.8163686286010027], \"xaxis\": \"x12\", \"y\": [0.7377730997892236, -1.1030389755810621, 1.4751934706448089, 0.7163275619637027, -0.18793525120198784, -1.4997967427083236, 0.643213345466464, 0.4590111364898649, -0.3876229520803771, -2.008667912157602, 2.4928627609459486, -1.4915146072251595, -1.1028249832333714, -1.2547247840156839, -1.6785726427538314, 0.03217466686038357, 0.05036130726282296, 0.2596466248117348, -1.814687929743969, 0.5153464780970352, -2.1666080715199993, 1.630244539502402, -0.1612007848411608, -0.11392318675798929, 0.34446317037597357, -1.063371139362935, 0.31784010331748386, 0.11860842949055822, 1.3990597162703728, -0.25048174514563804, 0.07513845049261468, 1.5219563568056442, -2.2030050233156366, -0.9911515249358269, -0.17553956076957108, -0.04382189649560705, -1.2098215569998902, -1.341748163306357, -0.2595630627563207, -0.3503010741389833, 0.407951880298061, 0.3390248071247096, -0.6261417668668742, 1.6209870553879406, -0.17161704150407456, 0.008862371510253677, 0.24925974657341216, 0.6080072287109711, 0.5810554218657719, -1.7991335230987364, -0.3287127561472726, -0.20414439596547482, 0.7305614525329794, 1.272257988636262, 0.8633204035946619, -1.2099485393543716, -0.5970212029687801, 0.4017280631868525, 0.08571053438085445, 0.07089128319306941, -1.3627492377874084, -0.8911780630223399, 0.6025850094962208, 0.08348750474826173, -0.2513264135468494, 0.99682265966032, -0.09930818865435492, -0.27703039314660394, -0.2168179142136428, -0.6889586903897957, 0.5263546730665744, -2.2600965640460946, 1.470983069768726, 0.8482779806112714, 3.2619614212857986, -1.6077629407846308, -0.3649678611594507, 2.4142432860941048, 1.0489469514815788, 0.45525480188951034, -1.9538860414383217, 1.906228745837376, -0.8354406474978622, -0.22095779069381277, -0.03591642328322162, -1.2787264886778482, -0.3083233741363021, 0.1406733845624421, -0.625636475384371, 0.9276252520133468, 0.47980324803296176, -0.28072587382542963, 1.0652684103421062, 0.11599013791717781, 1.0798778479236106, 0.40815372563331564, 0.3557210647833699, -0.6956036311657349, 0.6181513355759167, -0.09854092176707027], \"yaxis\": \"y12\"}, {\"line\": {\"color\": \"rgba(128, 128, 128, 1.0)\", \"dash\": \"solid\", \"shape\": \"linear\", \"width\": 1.3}, \"marker\": {\"size\": 2, \"symbol\": \"circle\"}, \"mode\": \"markers\", \"name\": \"D\", \"text\": \"\", \"type\": \"scatter\", \"x\": [-1.5165215335635371, 1.2385294899836377, 0.18675435261297058, -0.49404178733345255, 0.9638783524597756, -1.1032901032155455, 0.8489612205492174, 0.9903890863731017, -1.3703522449279018, -0.5776566150555577, -0.31321057904966493, -1.62657976260777, -1.006701588728278, 1.1360103276196873, 0.6096235839787069, -1.3807990089203603, -0.36237146775748713, -0.5950154460828271, 1.3888123369070282, -1.3629622910143322, -1.1038735970945992, 1.337348295283731, 1.1667957765059276, -1.2086935425656429, 0.24972766483940562, 0.29999954775204385, 1.0667440982430194, -0.1741452761097413, 0.29560646351069414, 1.2851980496441235, -1.5822045088416392, 0.2332157433742438, -0.8216180482229304, 0.36846289942020066, 1.6914889255493009, 0.05294197198387387, 1.6522250061531598, 0.3806122062538394, 0.2281787015714965, 0.13943357370996548, 0.7737513704163842, 1.2632113994240495, -2.0723185151193118, 0.3148357541550536, 0.9775459023887758, 0.4890519952231019, 0.019788575261866545, 0.5255271325555345, 1.6814084764377233, 0.5767167314074976, 0.20677363770809085, 0.1860110033699774, 0.21407497739434397, 0.7365607951031639, -0.7857728014462609, 0.009524836979279003, 0.38612916910565903, 0.1502359587507458, 0.9892286676253292, 0.39444327636869897, 1.120472350623712, 2.572635263308814, 0.16353567449977097, -0.3413603098431363, 0.11982063910290328, -1.3444523091154967, -1.0451078274259888, 0.7804874333757548, -0.10032354166879094, 1.7827722897587395, -1.0946905294595737, -0.2510276890016824, 0.9673217921938824, -1.0165640371463203, 0.0690990527382664, -0.8510879315244121, 0.43904889330463176, -1.337878368147962, 0.09750269879021287, 1.1447728728037032, -0.39997693269254425, 0.5229998031018618, -0.4292225098792032, 0.9378316216532356, -0.7677501218695141, 1.9137196189172991, 0.5216008014414507, -1.0851954812245894, 0.5878201563359909, 0.6262055363577997, 1.0657701838435691, -0.5129968730608664, 1.2712310563424316, 1.0526472276252596, 2.007007712904021, -1.2458742116352368, -0.3561372960571573, -0.09014992621817493, 0.7230413885756098, 1.4489088916499433], \"xaxis\": \"x13\", \"y\": [-1.780823585893734, 0.4602590665960138, -0.77095243558765, -0.12133778922148662, 0.5902120373652472, -0.06893916024692084, 0.8022773173288474, 0.8567752152124382, -0.9634836880251109, -1.0990253199089686, 0.3010123021386761, 0.043982641960648355, -1.2917884399797137, -0.410665850962858, 0.0946327403643174, -0.6482741891994594, 0.19693767482224722, 0.6727106219128671, 0.7814650694890092, 0.8809369869589234, 0.5782063413384737, -1.1185788706639035, 1.1550425047984576, 0.3813117052456318, 0.5391018445096615, 0.5217574869263621, 0.9712112555342638, 1.4071875147931563, 0.02836636694116585, 0.051999588742775285, -0.7052848255502274, 0.19733377644932545, 0.16441137193235716, -0.29381742499736274, -0.8268556215966905, 0.7710939137149534, -2.258699431529325, -0.362294605271354, 1.7602514238640574, 0.7653869242534327, -0.4602441867070608, 0.7555683442100604, -0.4561133529338688, 0.591662526569171, 0.5308178302398793, 0.6187338202390603, -0.2040626925383586, -0.4089840413211076, 1.0831728485896257, 1.5064092259126123, 0.9641259886821941, 1.2066283492306435, -0.16401071310732646, -0.9463803276410513, 0.32013971318654694, 1.2415326199787506, 1.468983238419462, 1.8600040959785045, 0.7899542506236222, -0.5621331574428683, 0.2544760248206638, 0.553016773474252, -0.8421887668967111, -1.4892089647285351, -1.0461533048831086, -0.3428360821472914, 1.0385436120242335, 0.7656414008311992, 0.7006530694208158, -1.3051778143441768, 0.4652099162555333, -1.0345875195220526, 0.761275797132033, -0.9734716524681017, -1.326237858417124, -0.8177095520548644, -1.1900159679196343, 0.12062767232963065, 0.43761474959033686, 0.7057035106724329, -1.1638197213072254, -0.06146991414586665, -0.17954182149817657, 0.04035176209259629, -1.4250431449648164, -0.7369965848641916, 0.048018797888884246, -2.047899071207024, 1.3436966143343252, -1.7320219009712923, -0.40452740082826294, 1.3937288534544126, 1.2286193347039958, 0.4371853919515951, 1.2635854050534387, -0.7805805442269789, -0.9153993534558481, -0.0887845209495477, 0.039705362735055726, -0.8163686286010027], \"yaxis\": \"y13\"}, {\"line\": {\"color\": \"rgba(128, 128, 128, 1.0)\", \"dash\": \"solid\", \"shape\": \"linear\", \"width\": 1.3}, \"marker\": {\"size\": 2, \"symbol\": \"circle\"}, \"mode\": \"markers\", \"name\": \"D\", \"text\": \"\", \"type\": \"scatter\", \"x\": [-0.8345574062307446, 0.3869389335155712, 0.07782933474576627, 1.1899116450030662, 2.4118231293099672, -0.7517168932626798, 0.04236231146362457, 0.07190511226430284, 1.6380670778590334, 2.0602606596455915, -2.163922132520172, -0.4433154616526229, -0.04538211676815623, -0.9165373914796289, 0.22401956064621992, 0.0003599773765519304, -1.563708728474769, -1.5376343933124736, -0.7870693396201344, 0.33457351738130175, -1.7354039335286253, 1.7113719623174346, -0.8120715211093109, 0.3253747617458604, -0.31843112066991935, -1.7196215520469333, 1.0739113471545714, -0.893491898851701, -1.6629737232258517, -1.0306910440740462, 0.9726511881554111, 0.5494664293783664, -0.7708942552672302, 0.192978809265206, -0.7348978845939232, -1.3345561541206306, 0.5165025336657605, 0.31478413024677826, 0.6355748238320479, 0.8652446833342713, -2.6658532132036394, 0.2961008150075696, -0.9156752032343806, -2.350156615366018, 0.459285791821168, -0.30922541782709606, -0.1428120757566868, -1.2332716277002955, -1.3161739795186747, 1.2495199734510636, 0.12846392054830044, -0.2417375476858517, -1.30909234945247, -1.2082763653082, 1.1683596205889433, 1.910262362641669, -0.3319716068998639, 0.6369101856685699, 1.2305627181044516, 0.009236607765067436, -1.1610611529835455, -0.5951460041814716, -0.3859309436973199, 1.2772343202778578, 0.45105331684170763, 0.8913310278045682, 2.2461724357778765, 0.8671611404274941, -0.9084679347963178, -0.42009634182682365, -0.18027132005244065, 0.6850421902521037, -1.1601568758024055, -0.8886966875641397, -0.1593881395933613, 0.6257031728894613, -0.39633640033302586, -0.2575710590884075, -0.24936745256303702, -1.5120328205355116, 1.1544613291944308, 0.01973290602766408, -0.38296802691344484, -0.4313977587137235, 1.8662596009811432, 0.04260450444009576, -1.4220661594762694, -1.685356777380281, -1.1270456077765143, -0.38721209138365925, 0.259167116705802, -0.22316627067425593, 1.635084328005414, -2.9583463144626703, -0.08181424856774482, -0.13510674116356763, 0.47366256715334687, 1.1763788631291294, -1.8896419059732144, 0.007836036763666107], \"xaxis\": \"x14\", \"y\": [-1.780823585893734, 0.4602590665960138, -0.77095243558765, -0.12133778922148662, 0.5902120373652472, -0.06893916024692084, 0.8022773173288474, 0.8567752152124382, -0.9634836880251109, -1.0990253199089686, 0.3010123021386761, 0.043982641960648355, -1.2917884399797137, -0.410665850962858, 0.0946327403643174, -0.6482741891994594, 0.19693767482224722, 0.6727106219128671, 0.7814650694890092, 0.8809369869589234, 0.5782063413384737, -1.1185788706639035, 1.1550425047984576, 0.3813117052456318, 0.5391018445096615, 0.5217574869263621, 0.9712112555342638, 1.4071875147931563, 0.02836636694116585, 0.051999588742775285, -0.7052848255502274, 0.19733377644932545, 0.16441137193235716, -0.29381742499736274, -0.8268556215966905, 0.7710939137149534, -2.258699431529325, -0.362294605271354, 1.7602514238640574, 0.7653869242534327, -0.4602441867070608, 0.7555683442100604, -0.4561133529338688, 0.591662526569171, 0.5308178302398793, 0.6187338202390603, -0.2040626925383586, -0.4089840413211076, 1.0831728485896257, 1.5064092259126123, 0.9641259886821941, 1.2066283492306435, -0.16401071310732646, -0.9463803276410513, 0.32013971318654694, 1.2415326199787506, 1.468983238419462, 1.8600040959785045, 0.7899542506236222, -0.5621331574428683, 0.2544760248206638, 0.553016773474252, -0.8421887668967111, -1.4892089647285351, -1.0461533048831086, -0.3428360821472914, 1.0385436120242335, 0.7656414008311992, 0.7006530694208158, -1.3051778143441768, 0.4652099162555333, -1.0345875195220526, 0.761275797132033, -0.9734716524681017, -1.326237858417124, -0.8177095520548644, -1.1900159679196343, 0.12062767232963065, 0.43761474959033686, 0.7057035106724329, -1.1638197213072254, -0.06146991414586665, -0.17954182149817657, 0.04035176209259629, -1.4250431449648164, -0.7369965848641916, 0.048018797888884246, -2.047899071207024, 1.3436966143343252, -1.7320219009712923, -0.40452740082826294, 1.3937288534544126, 1.2286193347039958, 0.4371853919515951, 1.2635854050534387, -0.7805805442269789, -0.9153993534558481, -0.0887845209495477, 0.039705362735055726, -0.8163686286010027], \"yaxis\": \"y14\"}, {\"line\": {\"color\": \"rgba(128, 128, 128, 1.0)\", \"dash\": \"solid\", \"shape\": \"linear\", \"width\": 1.3}, \"marker\": {\"size\": 2, \"symbol\": \"circle\"}, \"mode\": \"markers\", \"name\": \"D\", \"text\": \"\", \"type\": \"scatter\", \"x\": [0.7377730997892236, -1.1030389755810621, 1.4751934706448089, 0.7163275619637027, -0.18793525120198784, -1.4997967427083236, 0.643213345466464, 0.4590111364898649, -0.3876229520803771, -2.008667912157602, 2.4928627609459486, -1.4915146072251595, -1.1028249832333714, -1.2547247840156839, -1.6785726427538314, 0.03217466686038357, 0.05036130726282296, 0.2596466248117348, -1.814687929743969, 0.5153464780970352, -2.1666080715199993, 1.630244539502402, -0.1612007848411608, -0.11392318675798929, 0.34446317037597357, -1.063371139362935, 0.31784010331748386, 0.11860842949055822, 1.3990597162703728, -0.25048174514563804, 0.07513845049261468, 1.5219563568056442, -2.2030050233156366, -0.9911515249358269, -0.17553956076957108, -0.04382189649560705, -1.2098215569998902, -1.341748163306357, -0.2595630627563207, -0.3503010741389833, 0.407951880298061, 0.3390248071247096, -0.6261417668668742, 1.6209870553879406, -0.17161704150407456, 0.008862371510253677, 0.24925974657341216, 0.6080072287109711, 0.5810554218657719, -1.7991335230987364, -0.3287127561472726, -0.20414439596547482, 0.7305614525329794, 1.272257988636262, 0.8633204035946619, -1.2099485393543716, -0.5970212029687801, 0.4017280631868525, 0.08571053438085445, 0.07089128319306941, -1.3627492377874084, -0.8911780630223399, 0.6025850094962208, 0.08348750474826173, -0.2513264135468494, 0.99682265966032, -0.09930818865435492, -0.27703039314660394, -0.2168179142136428, -0.6889586903897957, 0.5263546730665744, -2.2600965640460946, 1.470983069768726, 0.8482779806112714, 3.2619614212857986, -1.6077629407846308, -0.3649678611594507, 2.4142432860941048, 1.0489469514815788, 0.45525480188951034, -1.9538860414383217, 1.906228745837376, -0.8354406474978622, -0.22095779069381277, -0.03591642328322162, -1.2787264886778482, -0.3083233741363021, 0.1406733845624421, -0.625636475384371, 0.9276252520133468, 0.47980324803296176, -0.28072587382542963, 1.0652684103421062, 0.11599013791717781, 1.0798778479236106, 0.40815372563331564, 0.3557210647833699, -0.6956036311657349, 0.6181513355759167, -0.09854092176707027], \"xaxis\": \"x15\", \"y\": [-1.780823585893734, 0.4602590665960138, -0.77095243558765, -0.12133778922148662, 0.5902120373652472, -0.06893916024692084, 0.8022773173288474, 0.8567752152124382, -0.9634836880251109, -1.0990253199089686, 0.3010123021386761, 0.043982641960648355, -1.2917884399797137, -0.410665850962858, 0.0946327403643174, -0.6482741891994594, 0.19693767482224722, 0.6727106219128671, 0.7814650694890092, 0.8809369869589234, 0.5782063413384737, -1.1185788706639035, 1.1550425047984576, 0.3813117052456318, 0.5391018445096615, 0.5217574869263621, 0.9712112555342638, 1.4071875147931563, 0.02836636694116585, 0.051999588742775285, -0.7052848255502274, 0.19733377644932545, 0.16441137193235716, -0.29381742499736274, -0.8268556215966905, 0.7710939137149534, -2.258699431529325, -0.362294605271354, 1.7602514238640574, 0.7653869242534327, -0.4602441867070608, 0.7555683442100604, -0.4561133529338688, 0.591662526569171, 0.5308178302398793, 0.6187338202390603, -0.2040626925383586, -0.4089840413211076, 1.0831728485896257, 1.5064092259126123, 0.9641259886821941, 1.2066283492306435, -0.16401071310732646, -0.9463803276410513, 0.32013971318654694, 1.2415326199787506, 1.468983238419462, 1.8600040959785045, 0.7899542506236222, -0.5621331574428683, 0.2544760248206638, 0.553016773474252, -0.8421887668967111, -1.4892089647285351, -1.0461533048831086, -0.3428360821472914, 1.0385436120242335, 0.7656414008311992, 0.7006530694208158, -1.3051778143441768, 0.4652099162555333, -1.0345875195220526, 0.761275797132033, -0.9734716524681017, -1.326237858417124, -0.8177095520548644, -1.1900159679196343, 0.12062767232963065, 0.43761474959033686, 0.7057035106724329, -1.1638197213072254, -0.06146991414586665, -0.17954182149817657, 0.04035176209259629, -1.4250431449648164, -0.7369965848641916, 0.048018797888884246, -2.047899071207024, 1.3436966143343252, -1.7320219009712923, -0.40452740082826294, 1.3937288534544126, 1.2286193347039958, 0.4371853919515951, 1.2635854050534387, -0.7805805442269789, -0.9153993534558481, -0.0887845209495477, 0.039705362735055726, -0.8163686286010027], \"yaxis\": \"y15\"}, {\"histfunc\": \"count\", \"histnorm\": \"\", \"marker\": {\"color\": \"rgba(128, 0, 128, 1.0)\", \"line\": {\"color\": \"#4D5663\", \"width\": 1.3}}, \"name\": \"D\", \"nbinsx\": 10, \"opacity\": 0.8, \"orientation\": \"v\", \"type\": \"histogram\", \"x\": [-1.780823585893734, 0.4602590665960138, -0.77095243558765, -0.12133778922148662, 0.5902120373652472, -0.06893916024692084, 0.8022773173288474, 0.8567752152124382, -0.9634836880251109, -1.0990253199089686, 0.3010123021386761, 0.043982641960648355, -1.2917884399797137, -0.410665850962858, 0.0946327403643174, -0.6482741891994594, 0.19693767482224722, 0.6727106219128671, 0.7814650694890092, 0.8809369869589234, 0.5782063413384737, -1.1185788706639035, 1.1550425047984576, 0.3813117052456318, 0.5391018445096615, 0.5217574869263621, 0.9712112555342638, 1.4071875147931563, 0.02836636694116585, 0.051999588742775285, -0.7052848255502274, 0.19733377644932545, 0.16441137193235716, -0.29381742499736274, -0.8268556215966905, 0.7710939137149534, -2.258699431529325, -0.362294605271354, 1.7602514238640574, 0.7653869242534327, -0.4602441867070608, 0.7555683442100604, -0.4561133529338688, 0.591662526569171, 0.5308178302398793, 0.6187338202390603, -0.2040626925383586, -0.4089840413211076, 1.0831728485896257, 1.5064092259126123, 0.9641259886821941, 1.2066283492306435, -0.16401071310732646, -0.9463803276410513, 0.32013971318654694, 1.2415326199787506, 1.468983238419462, 1.8600040959785045, 0.7899542506236222, -0.5621331574428683, 0.2544760248206638, 0.553016773474252, -0.8421887668967111, -1.4892089647285351, -1.0461533048831086, -0.3428360821472914, 1.0385436120242335, 0.7656414008311992, 0.7006530694208158, -1.3051778143441768, 0.4652099162555333, -1.0345875195220526, 0.761275797132033, -0.9734716524681017, -1.326237858417124, -0.8177095520548644, -1.1900159679196343, 0.12062767232963065, 0.43761474959033686, 0.7057035106724329, -1.1638197213072254, -0.06146991414586665, -0.17954182149817657, 0.04035176209259629, -1.4250431449648164, -0.7369965848641916, 0.048018797888884246, -2.047899071207024, 1.3436966143343252, -1.7320219009712923, -0.40452740082826294, 1.3937288534544126, 1.2286193347039958, 0.4371853919515951, 1.2635854050534387, -0.7805805442269789, -0.9153993534558481, -0.0887845209495477, 0.039705362735055726, -0.8163686286010027], \"xaxis\": \"x16\", \"yaxis\": \"y16\"}],                        {\"bargap\": 0.02, \"legend\": {\"bgcolor\": \"#F5F6F9\", \"font\": {\"color\": \"#4D5663\"}}, \"paper_bgcolor\": \"#F5F6F9\", \"plot_bgcolor\": \"#F5F6F9\", \"showlegend\": false, \"template\": {\"data\": {\"bar\": [{\"error_x\": {\"color\": \"#2a3f5f\"}, \"error_y\": {\"color\": \"#2a3f5f\"}, \"marker\": {\"line\": {\"color\": \"#E5ECF6\", \"width\": 0.5}}, \"type\": \"bar\"}], \"barpolar\": [{\"marker\": {\"line\": {\"color\": \"#E5ECF6\", \"width\": 0.5}}, \"type\": \"barpolar\"}], \"carpet\": [{\"aaxis\": {\"endlinecolor\": \"#2a3f5f\", \"gridcolor\": \"white\", \"linecolor\": \"white\", \"minorgridcolor\": \"white\", \"startlinecolor\": \"#2a3f5f\"}, \"baxis\": {\"endlinecolor\": \"#2a3f5f\", \"gridcolor\": \"white\", \"linecolor\": \"white\", \"minorgridcolor\": \"white\", \"startlinecolor\": \"#2a3f5f\"}, \"type\": \"carpet\"}], \"choropleth\": [{\"colorbar\": {\"outlinewidth\": 0, \"ticks\": \"\"}, \"type\": \"choropleth\"}], \"contour\": [{\"colorbar\": {\"outlinewidth\": 0, \"ticks\": \"\"}, \"colorscale\": [[0.0, \"#0d0887\"], [0.1111111111111111, \"#46039f\"], [0.2222222222222222, \"#7201a8\"], [0.3333333333333333, \"#9c179e\"], [0.4444444444444444, \"#bd3786\"], [0.5555555555555556, \"#d8576b\"], [0.6666666666666666, \"#ed7953\"], [0.7777777777777778, \"#fb9f3a\"], [0.8888888888888888, \"#fdca26\"], [1.0, \"#f0f921\"]], \"type\": \"contour\"}], \"contourcarpet\": [{\"colorbar\": {\"outlinewidth\": 0, \"ticks\": \"\"}, \"type\": \"contourcarpet\"}], \"heatmap\": [{\"colorbar\": {\"outlinewidth\": 0, \"ticks\": \"\"}, \"colorscale\": [[0.0, \"#0d0887\"], [0.1111111111111111, \"#46039f\"], [0.2222222222222222, \"#7201a8\"], [0.3333333333333333, \"#9c179e\"], [0.4444444444444444, \"#bd3786\"], [0.5555555555555556, \"#d8576b\"], [0.6666666666666666, \"#ed7953\"], [0.7777777777777778, \"#fb9f3a\"], [0.8888888888888888, \"#fdca26\"], [1.0, \"#f0f921\"]], \"type\": \"heatmap\"}], \"heatmapgl\": [{\"colorbar\": {\"outlinewidth\": 0, \"ticks\": \"\"}, \"colorscale\": [[0.0, \"#0d0887\"], [0.1111111111111111, \"#46039f\"], [0.2222222222222222, \"#7201a8\"], [0.3333333333333333, \"#9c179e\"], [0.4444444444444444, \"#bd3786\"], [0.5555555555555556, \"#d8576b\"], [0.6666666666666666, \"#ed7953\"], [0.7777777777777778, \"#fb9f3a\"], [0.8888888888888888, \"#fdca26\"], [1.0, \"#f0f921\"]], \"type\": \"heatmapgl\"}], \"histogram\": [{\"marker\": {\"colorbar\": {\"outlinewidth\": 0, \"ticks\": \"\"}}, \"type\": \"histogram\"}], \"histogram2d\": [{\"colorbar\": {\"outlinewidth\": 0, \"ticks\": \"\"}, \"colorscale\": [[0.0, \"#0d0887\"], [0.1111111111111111, \"#46039f\"], [0.2222222222222222, \"#7201a8\"], [0.3333333333333333, \"#9c179e\"], [0.4444444444444444, \"#bd3786\"], [0.5555555555555556, \"#d8576b\"], [0.6666666666666666, \"#ed7953\"], [0.7777777777777778, \"#fb9f3a\"], [0.8888888888888888, \"#fdca26\"], [1.0, \"#f0f921\"]], \"type\": \"histogram2d\"}], \"histogram2dcontour\": [{\"colorbar\": {\"outlinewidth\": 0, \"ticks\": \"\"}, \"colorscale\": [[0.0, \"#0d0887\"], [0.1111111111111111, \"#46039f\"], [0.2222222222222222, \"#7201a8\"], [0.3333333333333333, \"#9c179e\"], [0.4444444444444444, \"#bd3786\"], [0.5555555555555556, \"#d8576b\"], [0.6666666666666666, \"#ed7953\"], [0.7777777777777778, \"#fb9f3a\"], [0.8888888888888888, \"#fdca26\"], [1.0, \"#f0f921\"]], \"type\": \"histogram2dcontour\"}], \"mesh3d\": [{\"colorbar\": {\"outlinewidth\": 0, \"ticks\": \"\"}, \"type\": \"mesh3d\"}], \"parcoords\": [{\"line\": {\"colorbar\": {\"outlinewidth\": 0, \"ticks\": \"\"}}, \"type\": \"parcoords\"}], \"pie\": [{\"automargin\": true, \"type\": \"pie\"}], \"scatter\": [{\"marker\": {\"colorbar\": {\"outlinewidth\": 0, \"ticks\": \"\"}}, \"type\": \"scatter\"}], \"scatter3d\": [{\"line\": {\"colorbar\": {\"outlinewidth\": 0, \"ticks\": \"\"}}, \"marker\": {\"colorbar\": {\"outlinewidth\": 0, \"ticks\": \"\"}}, \"type\": \"scatter3d\"}], \"scattercarpet\": [{\"marker\": {\"colorbar\": {\"outlinewidth\": 0, \"ticks\": \"\"}}, \"type\": \"scattercarpet\"}], \"scattergeo\": [{\"marker\": {\"colorbar\": {\"outlinewidth\": 0, \"ticks\": \"\"}}, \"type\": \"scattergeo\"}], \"scattergl\": [{\"marker\": {\"colorbar\": {\"outlinewidth\": 0, \"ticks\": \"\"}}, \"type\": \"scattergl\"}], \"scattermapbox\": [{\"marker\": {\"colorbar\": {\"outlinewidth\": 0, \"ticks\": \"\"}}, \"type\": \"scattermapbox\"}], \"scatterpolar\": [{\"marker\": {\"colorbar\": {\"outlinewidth\": 0, \"ticks\": \"\"}}, \"type\": \"scatterpolar\"}], \"scatterpolargl\": [{\"marker\": {\"colorbar\": {\"outlinewidth\": 0, \"ticks\": \"\"}}, \"type\": \"scatterpolargl\"}], \"scatterternary\": [{\"marker\": {\"colorbar\": {\"outlinewidth\": 0, \"ticks\": \"\"}}, \"type\": \"scatterternary\"}], \"surface\": [{\"colorbar\": {\"outlinewidth\": 0, \"ticks\": \"\"}, \"colorscale\": [[0.0, \"#0d0887\"], [0.1111111111111111, \"#46039f\"], [0.2222222222222222, \"#7201a8\"], [0.3333333333333333, \"#9c179e\"], [0.4444444444444444, \"#bd3786\"], [0.5555555555555556, \"#d8576b\"], [0.6666666666666666, \"#ed7953\"], [0.7777777777777778, \"#fb9f3a\"], [0.8888888888888888, \"#fdca26\"], [1.0, \"#f0f921\"]], \"type\": \"surface\"}], \"table\": [{\"cells\": {\"fill\": {\"color\": \"#EBF0F8\"}, \"line\": {\"color\": \"white\"}}, \"header\": {\"fill\": {\"color\": \"#C8D4E3\"}, \"line\": {\"color\": \"white\"}}, \"type\": \"table\"}]}, \"layout\": {\"annotationdefaults\": {\"arrowcolor\": \"#2a3f5f\", \"arrowhead\": 0, \"arrowwidth\": 1}, \"coloraxis\": {\"colorbar\": {\"outlinewidth\": 0, \"ticks\": \"\"}}, \"colorscale\": {\"diverging\": [[0, \"#8e0152\"], [0.1, \"#c51b7d\"], [0.2, \"#de77ae\"], [0.3, \"#f1b6da\"], [0.4, \"#fde0ef\"], [0.5, \"#f7f7f7\"], [0.6, \"#e6f5d0\"], [0.7, \"#b8e186\"], [0.8, \"#7fbc41\"], [0.9, \"#4d9221\"], [1, \"#276419\"]], \"sequential\": [[0.0, \"#0d0887\"], [0.1111111111111111, \"#46039f\"], [0.2222222222222222, \"#7201a8\"], [0.3333333333333333, \"#9c179e\"], [0.4444444444444444, \"#bd3786\"], [0.5555555555555556, \"#d8576b\"], [0.6666666666666666, \"#ed7953\"], [0.7777777777777778, \"#fb9f3a\"], [0.8888888888888888, \"#fdca26\"], [1.0, \"#f0f921\"]], \"sequentialminus\": [[0.0, \"#0d0887\"], [0.1111111111111111, \"#46039f\"], [0.2222222222222222, \"#7201a8\"], [0.3333333333333333, \"#9c179e\"], [0.4444444444444444, \"#bd3786\"], [0.5555555555555556, \"#d8576b\"], [0.6666666666666666, \"#ed7953\"], [0.7777777777777778, \"#fb9f3a\"], [0.8888888888888888, \"#fdca26\"], [1.0, \"#f0f921\"]]}, \"colorway\": [\"#636efa\", \"#EF553B\", \"#00cc96\", \"#ab63fa\", \"#FFA15A\", \"#19d3f3\", \"#FF6692\", \"#B6E880\", \"#FF97FF\", \"#FECB52\"], \"font\": {\"color\": \"#2a3f5f\"}, \"geo\": {\"bgcolor\": \"white\", \"lakecolor\": \"white\", \"landcolor\": \"#E5ECF6\", \"showlakes\": true, \"showland\": true, \"subunitcolor\": \"white\"}, \"hoverlabel\": {\"align\": \"left\"}, \"hovermode\": \"closest\", \"mapbox\": {\"style\": \"light\"}, \"paper_bgcolor\": \"white\", \"plot_bgcolor\": \"#E5ECF6\", \"polar\": {\"angularaxis\": {\"gridcolor\": \"white\", \"linecolor\": \"white\", \"ticks\": \"\"}, \"bgcolor\": \"#E5ECF6\", \"radialaxis\": {\"gridcolor\": \"white\", \"linecolor\": \"white\", \"ticks\": \"\"}}, \"scene\": {\"xaxis\": {\"backgroundcolor\": \"#E5ECF6\", \"gridcolor\": \"white\", \"gridwidth\": 2, \"linecolor\": \"white\", \"showbackground\": true, \"ticks\": \"\", \"zerolinecolor\": \"white\"}, \"yaxis\": {\"backgroundcolor\": \"#E5ECF6\", \"gridcolor\": \"white\", \"gridwidth\": 2, \"linecolor\": \"white\", \"showbackground\": true, \"ticks\": \"\", \"zerolinecolor\": \"white\"}, \"zaxis\": {\"backgroundcolor\": \"#E5ECF6\", \"gridcolor\": \"white\", \"gridwidth\": 2, \"linecolor\": \"white\", \"showbackground\": true, \"ticks\": \"\", \"zerolinecolor\": \"white\"}}, \"shapedefaults\": {\"line\": {\"color\": \"#2a3f5f\"}}, \"ternary\": {\"aaxis\": {\"gridcolor\": \"white\", \"linecolor\": \"white\", \"ticks\": \"\"}, \"baxis\": {\"gridcolor\": \"white\", \"linecolor\": \"white\", \"ticks\": \"\"}, \"bgcolor\": \"#E5ECF6\", \"caxis\": {\"gridcolor\": \"white\", \"linecolor\": \"white\", \"ticks\": \"\"}}, \"title\": {\"x\": 0.05}, \"xaxis\": {\"automargin\": true, \"gridcolor\": \"white\", \"linecolor\": \"white\", \"ticks\": \"\", \"title\": {\"standoff\": 15}, \"zerolinecolor\": \"white\", \"zerolinewidth\": 2}, \"yaxis\": {\"automargin\": true, \"gridcolor\": \"white\", \"linecolor\": \"white\", \"ticks\": \"\", \"title\": {\"standoff\": 15}, \"zerolinecolor\": \"white\", \"zerolinewidth\": 2}}}, \"title\": {\"font\": {\"color\": \"#4D5663\"}}, \"xaxis\": {\"anchor\": \"y\", \"domain\": [0.0, 0.2125], \"gridcolor\": \"#E1E5ED\", \"showgrid\": false, \"tickfont\": {\"color\": \"#4D5663\"}, \"title\": {\"font\": {\"color\": \"#4D5663\"}, \"text\": \"\"}, \"zerolinecolor\": \"#E1E5ED\"}, \"xaxis10\": {\"anchor\": \"y10\", \"domain\": [0.2625, 0.475], \"gridcolor\": \"#E1E5ED\", \"showgrid\": false, \"tickfont\": {\"color\": \"#4D5663\"}, \"title\": {\"font\": {\"color\": \"#4D5663\"}, \"text\": \"\"}, \"zerolinecolor\": \"#E1E5ED\"}, \"xaxis11\": {\"anchor\": \"y11\", \"domain\": [0.525, 0.7375], \"gridcolor\": \"#E1E5ED\", \"showgrid\": false, \"tickfont\": {\"color\": \"#4D5663\"}, \"title\": {\"font\": {\"color\": \"#4D5663\"}, \"text\": \"\"}, \"zerolinecolor\": \"#E1E5ED\"}, \"xaxis12\": {\"anchor\": \"y12\", \"domain\": [0.7875, 1.0], \"gridcolor\": \"#E1E5ED\", \"showgrid\": false, \"tickfont\": {\"color\": \"#4D5663\"}, \"title\": {\"font\": {\"color\": \"#4D5663\"}, \"text\": \"\"}, \"zerolinecolor\": \"#E1E5ED\"}, \"xaxis13\": {\"anchor\": \"y13\", \"domain\": [0.0, 0.2125], \"gridcolor\": \"#E1E5ED\", \"showgrid\": false, \"tickfont\": {\"color\": \"#4D5663\"}, \"title\": {\"font\": {\"color\": \"#4D5663\"}, \"text\": \"\"}, \"zerolinecolor\": \"#E1E5ED\"}, \"xaxis14\": {\"anchor\": \"y14\", \"domain\": [0.2625, 0.475], \"gridcolor\": \"#E1E5ED\", \"showgrid\": false, \"tickfont\": {\"color\": \"#4D5663\"}, \"title\": {\"font\": {\"color\": \"#4D5663\"}, \"text\": \"\"}, \"zerolinecolor\": \"#E1E5ED\"}, \"xaxis15\": {\"anchor\": \"y15\", \"domain\": [0.525, 0.7375], \"gridcolor\": \"#E1E5ED\", \"showgrid\": false, \"tickfont\": {\"color\": \"#4D5663\"}, \"title\": {\"font\": {\"color\": \"#4D5663\"}, \"text\": \"\"}, \"zerolinecolor\": \"#E1E5ED\"}, \"xaxis16\": {\"anchor\": \"y16\", \"domain\": [0.7875, 1.0], \"gridcolor\": \"#E1E5ED\", \"showgrid\": false, \"tickfont\": {\"color\": \"#4D5663\"}, \"title\": {\"font\": {\"color\": \"#4D5663\"}, \"text\": \"\"}, \"zerolinecolor\": \"#E1E5ED\"}, \"xaxis2\": {\"anchor\": \"y2\", \"domain\": [0.2625, 0.475], \"gridcolor\": \"#E1E5ED\", \"showgrid\": false, \"tickfont\": {\"color\": \"#4D5663\"}, \"title\": {\"font\": {\"color\": \"#4D5663\"}, \"text\": \"\"}, \"zerolinecolor\": \"#E1E5ED\"}, \"xaxis3\": {\"anchor\": \"y3\", \"domain\": [0.525, 0.7375], \"gridcolor\": \"#E1E5ED\", \"showgrid\": false, \"tickfont\": {\"color\": \"#4D5663\"}, \"title\": {\"font\": {\"color\": \"#4D5663\"}, \"text\": \"\"}, \"zerolinecolor\": \"#E1E5ED\"}, \"xaxis4\": {\"anchor\": \"y4\", \"domain\": [0.7875, 1.0], \"gridcolor\": \"#E1E5ED\", \"showgrid\": false, \"tickfont\": {\"color\": \"#4D5663\"}, \"title\": {\"font\": {\"color\": \"#4D5663\"}, \"text\": \"\"}, \"zerolinecolor\": \"#E1E5ED\"}, \"xaxis5\": {\"anchor\": \"y5\", \"domain\": [0.0, 0.2125], \"gridcolor\": \"#E1E5ED\", \"showgrid\": false, \"tickfont\": {\"color\": \"#4D5663\"}, \"title\": {\"font\": {\"color\": \"#4D5663\"}, \"text\": \"\"}, \"zerolinecolor\": \"#E1E5ED\"}, \"xaxis6\": {\"anchor\": \"y6\", \"domain\": [0.2625, 0.475], \"gridcolor\": \"#E1E5ED\", \"showgrid\": false, \"tickfont\": {\"color\": \"#4D5663\"}, \"title\": {\"font\": {\"color\": \"#4D5663\"}, \"text\": \"\"}, \"zerolinecolor\": \"#E1E5ED\"}, \"xaxis7\": {\"anchor\": \"y7\", \"domain\": [0.525, 0.7375], \"gridcolor\": \"#E1E5ED\", \"showgrid\": false, \"tickfont\": {\"color\": \"#4D5663\"}, \"title\": {\"font\": {\"color\": \"#4D5663\"}, \"text\": \"\"}, \"zerolinecolor\": \"#E1E5ED\"}, \"xaxis8\": {\"anchor\": \"y8\", \"domain\": [0.7875, 1.0], \"gridcolor\": \"#E1E5ED\", \"showgrid\": false, \"tickfont\": {\"color\": \"#4D5663\"}, \"title\": {\"font\": {\"color\": \"#4D5663\"}, \"text\": \"\"}, \"zerolinecolor\": \"#E1E5ED\"}, \"xaxis9\": {\"anchor\": \"y9\", \"domain\": [0.0, 0.2125], \"gridcolor\": \"#E1E5ED\", \"showgrid\": false, \"tickfont\": {\"color\": \"#4D5663\"}, \"title\": {\"font\": {\"color\": \"#4D5663\"}, \"text\": \"\"}, \"zerolinecolor\": \"#E1E5ED\"}, \"yaxis\": {\"anchor\": \"x\", \"domain\": [0.8025, 1.0], \"gridcolor\": \"#E1E5ED\", \"showgrid\": false, \"tickfont\": {\"color\": \"#4D5663\"}, \"title\": {\"font\": {\"color\": \"#4D5663\"}, \"text\": \"\"}, \"zerolinecolor\": \"#E1E5ED\"}, \"yaxis10\": {\"anchor\": \"x10\", \"domain\": [0.2675, 0.465], \"gridcolor\": \"#E1E5ED\", \"showgrid\": false, \"tickfont\": {\"color\": \"#4D5663\"}, \"title\": {\"font\": {\"color\": \"#4D5663\"}, \"text\": \"\"}, \"zerolinecolor\": \"#E1E5ED\"}, \"yaxis11\": {\"anchor\": \"x11\", \"domain\": [0.2675, 0.465], \"gridcolor\": \"#E1E5ED\", \"showgrid\": false, \"tickfont\": {\"color\": \"#4D5663\"}, \"title\": {\"font\": {\"color\": \"#4D5663\"}, \"text\": \"\"}, \"zerolinecolor\": \"#E1E5ED\"}, \"yaxis12\": {\"anchor\": \"x12\", \"domain\": [0.2675, 0.465], \"gridcolor\": \"#E1E5ED\", \"showgrid\": false, \"tickfont\": {\"color\": \"#4D5663\"}, \"title\": {\"font\": {\"color\": \"#4D5663\"}, \"text\": \"\"}, \"zerolinecolor\": \"#E1E5ED\"}, \"yaxis13\": {\"anchor\": \"x13\", \"domain\": [0.0, 0.1975], \"gridcolor\": \"#E1E5ED\", \"showgrid\": false, \"tickfont\": {\"color\": \"#4D5663\"}, \"title\": {\"font\": {\"color\": \"#4D5663\"}, \"text\": \"\"}, \"zerolinecolor\": \"#E1E5ED\"}, \"yaxis14\": {\"anchor\": \"x14\", \"domain\": [0.0, 0.1975], \"gridcolor\": \"#E1E5ED\", \"showgrid\": false, \"tickfont\": {\"color\": \"#4D5663\"}, \"title\": {\"font\": {\"color\": \"#4D5663\"}, \"text\": \"\"}, \"zerolinecolor\": \"#E1E5ED\"}, \"yaxis15\": {\"anchor\": \"x15\", \"domain\": [0.0, 0.1975], \"gridcolor\": \"#E1E5ED\", \"showgrid\": false, \"tickfont\": {\"color\": \"#4D5663\"}, \"title\": {\"font\": {\"color\": \"#4D5663\"}, \"text\": \"\"}, \"zerolinecolor\": \"#E1E5ED\"}, \"yaxis16\": {\"anchor\": \"x16\", \"domain\": [0.0, 0.1975], \"gridcolor\": \"#E1E5ED\", \"showgrid\": false, \"tickfont\": {\"color\": \"#4D5663\"}, \"title\": {\"font\": {\"color\": \"#4D5663\"}, \"text\": \"\"}, \"zerolinecolor\": \"#E1E5ED\"}, \"yaxis2\": {\"anchor\": \"x2\", \"domain\": [0.8025, 1.0], \"gridcolor\": \"#E1E5ED\", \"showgrid\": false, \"tickfont\": {\"color\": \"#4D5663\"}, \"title\": {\"font\": {\"color\": \"#4D5663\"}, \"text\": \"\"}, \"zerolinecolor\": \"#E1E5ED\"}, \"yaxis3\": {\"anchor\": \"x3\", \"domain\": [0.8025, 1.0], \"gridcolor\": \"#E1E5ED\", \"showgrid\": false, \"tickfont\": {\"color\": \"#4D5663\"}, \"title\": {\"font\": {\"color\": \"#4D5663\"}, \"text\": \"\"}, \"zerolinecolor\": \"#E1E5ED\"}, \"yaxis4\": {\"anchor\": \"x4\", \"domain\": [0.8025, 1.0], \"gridcolor\": \"#E1E5ED\", \"showgrid\": false, \"tickfont\": {\"color\": \"#4D5663\"}, \"title\": {\"font\": {\"color\": \"#4D5663\"}, \"text\": \"\"}, \"zerolinecolor\": \"#E1E5ED\"}, \"yaxis5\": {\"anchor\": \"x5\", \"domain\": [0.535, 0.7325], \"gridcolor\": \"#E1E5ED\", \"showgrid\": false, \"tickfont\": {\"color\": \"#4D5663\"}, \"title\": {\"font\": {\"color\": \"#4D5663\"}, \"text\": \"\"}, \"zerolinecolor\": \"#E1E5ED\"}, \"yaxis6\": {\"anchor\": \"x6\", \"domain\": [0.535, 0.7325], \"gridcolor\": \"#E1E5ED\", \"showgrid\": false, \"tickfont\": {\"color\": \"#4D5663\"}, \"title\": {\"font\": {\"color\": \"#4D5663\"}, \"text\": \"\"}, \"zerolinecolor\": \"#E1E5ED\"}, \"yaxis7\": {\"anchor\": \"x7\", \"domain\": [0.535, 0.7325], \"gridcolor\": \"#E1E5ED\", \"showgrid\": false, \"tickfont\": {\"color\": \"#4D5663\"}, \"title\": {\"font\": {\"color\": \"#4D5663\"}, \"text\": \"\"}, \"zerolinecolor\": \"#E1E5ED\"}, \"yaxis8\": {\"anchor\": \"x8\", \"domain\": [0.535, 0.7325], \"gridcolor\": \"#E1E5ED\", \"showgrid\": false, \"tickfont\": {\"color\": \"#4D5663\"}, \"title\": {\"font\": {\"color\": \"#4D5663\"}, \"text\": \"\"}, \"zerolinecolor\": \"#E1E5ED\"}, \"yaxis9\": {\"anchor\": \"x9\", \"domain\": [0.2675, 0.465], \"gridcolor\": \"#E1E5ED\", \"showgrid\": false, \"tickfont\": {\"color\": \"#4D5663\"}, \"title\": {\"font\": {\"color\": \"#4D5663\"}, \"text\": \"\"}, \"zerolinecolor\": \"#E1E5ED\"}},                        {\"showLink\": true, \"linkText\": \"Export to plot.ly\", \"plotlyServerURL\": \"https://plot.ly\", \"responsive\": true}                    ).then(function(){\n",
       "                            \n",
       "var gd = document.getElementById('d582642e-1dee-4033-a673-cebacf946a1d');\n",
       "var x = new MutationObserver(function (mutations, observer) {{\n",
       "        var display = window.getComputedStyle(gd).display;\n",
       "        if (!display || display === 'none') {{\n",
       "            console.log([gd, 'removed!']);\n",
       "            Plotly.purge(gd);\n",
       "            observer.disconnect();\n",
       "        }}\n",
       "}});\n",
       "\n",
       "// Listen for the removal of the full notebook cells\n",
       "var notebookContainer = gd.closest('#notebook-container');\n",
       "if (notebookContainer) {{\n",
       "    x.observe(notebookContainer, {childList: true});\n",
       "}}\n",
       "\n",
       "// Listen for the clearing of the current output cell\n",
       "var outputEl = gd.closest('.output');\n",
       "if (outputEl) {{\n",
       "    x.observe(outputEl, {childList: true});\n",
       "}}\n",
       "\n",
       "                        })                };                });            </script>        </div>"
      ]
     },
     "metadata": {},
     "output_type": "display_data"
    }
   ],
   "source": [
    "df.scatter_matrix()"
   ]
  },
  {
   "cell_type": "markdown",
   "metadata": {
    "collapsed": true
   },
   "source": [
    "# Great Job!"
   ]
  }
 ],
 "metadata": {
  "kernelspec": {
   "display_name": "Python 3",
   "language": "python",
   "name": "python3"
  },
  "language_info": {
   "codemirror_mode": {
    "name": "ipython",
    "version": 3
   },
   "file_extension": ".py",
   "mimetype": "text/x-python",
   "name": "python",
   "nbconvert_exporter": "python",
   "pygments_lexer": "ipython3",
   "version": "3.7.4"
  }
 },
 "nbformat": 4,
 "nbformat_minor": 1
}
